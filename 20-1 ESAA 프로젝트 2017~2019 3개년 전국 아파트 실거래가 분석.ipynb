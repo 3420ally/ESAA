{
 "cells": [
  {
   "cell_type": "markdown",
   "metadata": {},
   "source": [
    "# 20-1 ESAA 프로젝트: 2017~2019 3개년 전국 아파트 실거래가 분석"
   ]
  },
  {
   "cell_type": "markdown",
   "metadata": {},
   "source": [
    "# 1. 개요"
   ]
  },
  {
   "cell_type": "code",
   "execution_count": null,
   "metadata": {},
   "outputs": [],
   "source": [
    "본 데이터는 한국감정원 아파트 거래현황 자료의 2017.10.01 ~ 2019.12.31 데이터입니다. \n",
    "전반적인 데이터를 전처리 및 시각화 한 후\n",
    "Random Forest 모델을 적용해 지역별(구 기준), ?별 제곱미터당 거래가격을 예측해보는 회귀모델을 생성 해보았습니다. "
   ]
  },
  {
   "cell_type": "code",
   "execution_count": null,
   "metadata": {},
   "outputs": [],
   "source": [
    "검색조건 계약일자 : 20170101 ~ 20191231 \n",
    "실거래구분 : 아파트(매매) \n",
    "주소구분 : 지번주소 \n",
    "시도 : 전체\n",
    "시군구 : 전체 \n",
    "읍면동 : 전체 \n",
    "면적 : 전체 \n",
    "금액선택 : 전체"
   ]
  },
  {
   "cell_type": "markdown",
   "metadata": {},
   "source": [
    "# 2. 탐색적 자료분석 (EDA)"
   ]
  },
  {
   "cell_type": "markdown",
   "metadata": {},
   "source": [
    "1. 필요한 패키지"
   ]
  },
  {
   "cell_type": "code",
   "execution_count": 1,
   "metadata": {},
   "outputs": [],
   "source": [
    "import pandas as pd\n",
    "import numpy as np\n",
    "import matplotlib.pyplot as plt\n",
    "import seaborn as sns\n",
    "import csv\n",
    "import matplotlib.font_manager as fm\n",
    "from sklearn.ensemble import RandomForestRegressor\n",
    "import sklearn as sk\n",
    "import sklearn.datasets as skd\n",
    "import sklearn.ensemble as ske\n",
    "from sklearn.model_selection import train_test_split\n",
    "%matplotlib inline"
   ]
  },
  {
   "cell_type": "markdown",
   "metadata": {},
   "source": [
    "2. 데이터 불러오기 및 데이터 파악"
   ]
  },
  {
   "cell_type": "code",
   "execution_count": 2,
   "metadata": {},
   "outputs": [
    {
     "name": "stderr",
     "output_type": "stream",
     "text": [
      "C:\\ProgramData\\Anaconda3\\lib\\site-packages\\IPython\\core\\interactiveshell.py:3063: DtypeWarning: Columns (2) have mixed types.Specify dtype option on import or set low_memory=False.\n",
      "  interactivity=interactivity, compiler=compiler, result=result)\n"
     ]
    }
   ],
   "source": [
    "# 데이터 불러오기\n",
    "apt2017_1 = pd.read_csv('C:/Users/이현주/Desktop/대학교/ESAA/2020-1 부동산 가격예측 프로젝트/TeamProject/2017-1_apt.csv', thousands = ',') # thousands = ',' : 천 단위 자리 구분 기호 없애고 가져오기\n",
    "apt2017_2 = pd.read_csv('C:/Users/이현주/Desktop/대학교/ESAA/2020-1 부동산 가격예측 프로젝트/TeamProject/2017-2_apt.csv', thousands = ',')\n",
    "apt2017_3 = pd.read_csv('C:/Users/이현주/Desktop/대학교/ESAA/2020-1 부동산 가격예측 프로젝트/TeamProject/2017-3_apt.csv', thousands = ',')\n",
    "apt2017_4 = pd.read_csv('C:/Users/이현주/Desktop/대학교/ESAA/2020-1 부동산 가격예측 프로젝트/TeamProject/2017-4_apt.csv', thousands = ',')\n",
    "apt2017_5 = pd.read_csv('C:/Users/이현주/Desktop/대학교/ESAA/2020-1 부동산 가격예측 프로젝트/TeamProject/2017-5_apt.csv', thousands = ',')\n",
    "apt2017_6 = pd.read_csv('C:/Users/이현주/Desktop/대학교/ESAA/2020-1 부동산 가격예측 프로젝트/TeamProject/2017-6_apt.csv', thousands = ',')\n",
    "apt2017_7 = pd.read_csv('C:/Users/이현주/Desktop/대학교/ESAA/2020-1 부동산 가격예측 프로젝트/TeamProject/2017-7_apt.csv', thousands = ',')\n",
    "apt2017_8 = pd.read_csv('C:/Users/이현주/Desktop/대학교/ESAA/2020-1 부동산 가격예측 프로젝트/TeamProject/2017-8_apt.csv', thousands = ',')\n",
    "apt2017_9 = pd.read_csv('C:/Users/이현주/Desktop/대학교/ESAA/2020-1 부동산 가격예측 프로젝트/TeamProject/2017-9_apt.csv', thousands = ',')\n",
    "apt2017_10 = pd.read_csv('C:/Users/이현주/Desktop/대학교/ESAA/2020-1 부동산 가격예측 프로젝트/TeamProject/2017-10_apt.csv', thousands = ',')\n",
    "apt2017_11 = pd.read_csv('C:/Users/이현주/Desktop/대학교/ESAA/2020-1 부동산 가격예측 프로젝트/TeamProject/2017-11_apt.csv', thousands = ',')\n",
    "apt2017_12 = pd.read_csv('C:/Users/이현주/Desktop/대학교/ESAA/2020-1 부동산 가격예측 프로젝트/TeamProject/2017-12_apt.csv', thousands = ',')\n",
    "\n",
    "apt2018_1 = pd.read_csv('C:/Users/이현주/Desktop/대학교/ESAA/2020-1 부동산 가격예측 프로젝트/TeamProject/2018-1_apt.csv', thousands = ',')\n",
    "apt2018_2 = pd.read_csv('C:/Users/이현주/Desktop/대학교/ESAA/2020-1 부동산 가격예측 프로젝트/TeamProject/2018-2_apt.csv', thousands = ',')\n",
    "apt2018_3 = pd.read_csv('C:/Users/이현주/Desktop/대학교/ESAA/2020-1 부동산 가격예측 프로젝트/TeamProject/2018-3_apt.csv', thousands = ',')\n",
    "apt2018_4 = pd.read_csv('C:/Users/이현주/Desktop/대학교/ESAA/2020-1 부동산 가격예측 프로젝트/TeamProject/2018-4_apt.csv', thousands = ',')\n",
    "apt2018_5 = pd.read_csv('C:/Users/이현주/Desktop/대학교/ESAA/2020-1 부동산 가격예측 프로젝트/TeamProject/2018-5_apt.csv', thousands = ',')\n",
    "apt2018_6 = pd.read_csv('C:/Users/이현주/Desktop/대학교/ESAA/2020-1 부동산 가격예측 프로젝트/TeamProject/2018-6_apt.csv', thousands = ',')\n",
    "apt2018_7 = pd.read_csv('C:/Users/이현주/Desktop/대학교/ESAA/2020-1 부동산 가격예측 프로젝트/TeamProject/2018-7_apt.csv', thousands = ',')\n",
    "apt2018_8 = pd.read_csv('C:/Users/이현주/Desktop/대학교/ESAA/2020-1 부동산 가격예측 프로젝트/TeamProject/2018-8_apt.csv', thousands = ',')\n",
    "apt2018_9 = pd.read_csv('C:/Users/이현주/Desktop/대학교/ESAA/2020-1 부동산 가격예측 프로젝트/TeamProject/2018-9_apt.csv', thousands = ',')\n",
    "apt2018_10 = pd.read_csv('C:/Users/이현주/Desktop/대학교/ESAA/2020-1 부동산 가격예측 프로젝트/TeamProject/2018-10_apt.csv', thousands = ',')\n",
    "apt2018_11 = pd.read_csv('C:/Users/이현주/Desktop/대학교/ESAA/2020-1 부동산 가격예측 프로젝트/TeamProject/2018-11_apt.csv', thousands = ',')\n",
    "apt2018_12 = pd.read_csv('C:/Users/이현주/Desktop/대학교/ESAA/2020-1 부동산 가격예측 프로젝트/TeamProject/2018-12_apt.csv', thousands = ',')\n",
    "\n",
    "apt2019_1 = pd.read_csv('C:/Users/이현주/Desktop/대학교/ESAA/2020-1 부동산 가격예측 프로젝트/TeamProject/2019-1_apt.csv', thousands = ',')\n",
    "apt2019_2 = pd.read_csv('C:/Users/이현주/Desktop/대학교/ESAA/2020-1 부동산 가격예측 프로젝트/TeamProject/2019-2_apt.csv', thousands = ',')\n",
    "apt2019_3 = pd.read_csv('C:/Users/이현주/Desktop/대학교/ESAA/2020-1 부동산 가격예측 프로젝트/TeamProject/2019-3_apt.csv', thousands = ',')\n",
    "apt2019_4 = pd.read_csv('C:/Users/이현주/Desktop/대학교/ESAA/2020-1 부동산 가격예측 프로젝트/TeamProject/2019-4_apt.csv', thousands = ',')\n",
    "apt2019_5 = pd.read_csv('C:/Users/이현주/Desktop/대학교/ESAA/2020-1 부동산 가격예측 프로젝트/TeamProject/2019-5_apt.csv', thousands = ',')\n",
    "apt2019_6 = pd.read_csv('C:/Users/이현주/Desktop/대학교/ESAA/2020-1 부동산 가격예측 프로젝트/TeamProject/2019-6_apt.csv', thousands = ',')\n",
    "apt2019_7 = pd.read_csv('C:/Users/이현주/Desktop/대학교/ESAA/2020-1 부동산 가격예측 프로젝트/TeamProject/2019-7_apt.csv', thousands = ',')\n",
    "apt2019_8 = pd.read_csv('C:/Users/이현주/Desktop/대학교/ESAA/2020-1 부동산 가격예측 프로젝트/TeamProject/2019-8_apt.csv', thousands = ',')\n",
    "apt2019_9 = pd.read_csv('C:/Users/이현주/Desktop/대학교/ESAA/2020-1 부동산 가격예측 프로젝트/TeamProject/2019-9_apt.csv', thousands = ',')\n",
    "apt2019_10 = pd.read_csv('C:/Users/이현주/Desktop/대학교/ESAA/2020-1 부동산 가격예측 프로젝트/TeamProject/2019-10_apt.csv', thousands = ',')\n",
    "apt2019_11 = pd.read_csv('C:/Users/이현주/Desktop/대학교/ESAA/2020-1 부동산 가격예측 프로젝트/TeamProject/2019-11_apt.csv', thousands = ',')\n",
    "apt2019_12 = pd.read_csv('C:/Users/이현주/Desktop/대학교/ESAA/2020-1 부동산 가격예측 프로젝트/TeamProject/2019-12_apt.csv', thousands = ',')"
   ]
  },
  {
   "cell_type": "code",
   "execution_count": 3,
   "metadata": {},
   "outputs": [],
   "source": [
    "# 연도별로 데이터 합치기\n",
    "apt2017 = pd.concat([apt2017_1, apt2017_2, apt2017_3, apt2017_4, apt2017_5, apt2017_6, apt2017_7, apt2017_8, apt2017_9, apt2017_10, apt2017_11, apt2017_12])\n",
    "apt2018 = pd.concat([apt2018_1, apt2018_2, apt2018_3, apt2018_4, apt2018_5, apt2018_6, apt2018_7, apt2018_8, apt2018_9, apt2018_10, apt2018_11, apt2018_12])\n",
    "apt2019 = pd.concat([apt2019_1, apt2019_2, apt2019_3, apt2019_4, apt2019_5, apt2019_6, apt2019_7, apt2019_8, apt2019_9, apt2019_10, apt2019_11, apt2019_12])"
   ]
  },
  {
   "cell_type": "code",
   "execution_count": 7,
   "metadata": {},
   "outputs": [
    {
     "data": {
      "text/html": [
       "<div>\n",
       "<style scoped>\n",
       "    .dataframe tbody tr th:only-of-type {\n",
       "        vertical-align: middle;\n",
       "    }\n",
       "\n",
       "    .dataframe tbody tr th {\n",
       "        vertical-align: top;\n",
       "    }\n",
       "\n",
       "    .dataframe thead th {\n",
       "        text-align: right;\n",
       "    }\n",
       "</style>\n",
       "<table border=\"1\" class=\"dataframe\">\n",
       "  <thead>\n",
       "    <tr style=\"text-align: right;\">\n",
       "      <th></th>\n",
       "      <th>시군구</th>\n",
       "      <th>번지</th>\n",
       "      <th>본번</th>\n",
       "      <th>부번</th>\n",
       "      <th>단지명</th>\n",
       "      <th>전용면적(㎡)</th>\n",
       "      <th>계약년월</th>\n",
       "      <th>계약일</th>\n",
       "      <th>거래금액(만원)</th>\n",
       "      <th>층</th>\n",
       "      <th>건축년도</th>\n",
       "      <th>도로명</th>\n",
       "    </tr>\n",
       "  </thead>\n",
       "  <tbody>\n",
       "    <tr>\n",
       "      <th>0</th>\n",
       "      <td>강원도 강릉시 견소동</td>\n",
       "      <td>202</td>\n",
       "      <td>202</td>\n",
       "      <td>0</td>\n",
       "      <td>송정한신</td>\n",
       "      <td>59.8000</td>\n",
       "      <td>201701</td>\n",
       "      <td>10</td>\n",
       "      <td>12400</td>\n",
       "      <td>8</td>\n",
       "      <td>1997</td>\n",
       "      <td>경강로2539번길 8</td>\n",
       "    </tr>\n",
       "    <tr>\n",
       "      <th>1</th>\n",
       "      <td>강원도 강릉시 견소동</td>\n",
       "      <td>289</td>\n",
       "      <td>289</td>\n",
       "      <td>0</td>\n",
       "      <td>송정해변신도브래뉴아파트</td>\n",
       "      <td>84.9900</td>\n",
       "      <td>201701</td>\n",
       "      <td>3</td>\n",
       "      <td>23000</td>\n",
       "      <td>13</td>\n",
       "      <td>2005</td>\n",
       "      <td>경강로2539번길 22</td>\n",
       "    </tr>\n",
       "    <tr>\n",
       "      <th>2</th>\n",
       "      <td>강원도 강릉시 견소동</td>\n",
       "      <td>289</td>\n",
       "      <td>289</td>\n",
       "      <td>0</td>\n",
       "      <td>송정해변신도브래뉴아파트</td>\n",
       "      <td>59.9900</td>\n",
       "      <td>201701</td>\n",
       "      <td>4</td>\n",
       "      <td>15800</td>\n",
       "      <td>9</td>\n",
       "      <td>2005</td>\n",
       "      <td>경강로2539번길 22</td>\n",
       "    </tr>\n",
       "    <tr>\n",
       "      <th>3</th>\n",
       "      <td>강원도 강릉시 견소동</td>\n",
       "      <td>289</td>\n",
       "      <td>289</td>\n",
       "      <td>0</td>\n",
       "      <td>송정해변신도브래뉴아파트</td>\n",
       "      <td>59.9900</td>\n",
       "      <td>201701</td>\n",
       "      <td>21</td>\n",
       "      <td>14000</td>\n",
       "      <td>1</td>\n",
       "      <td>2005</td>\n",
       "      <td>경강로2539번길 22</td>\n",
       "    </tr>\n",
       "    <tr>\n",
       "      <th>4</th>\n",
       "      <td>강원도 강릉시 교동</td>\n",
       "      <td>1983</td>\n",
       "      <td>1983</td>\n",
       "      <td>0</td>\n",
       "      <td>강릉교동롯데캐슬2단지</td>\n",
       "      <td>84.9855</td>\n",
       "      <td>201701</td>\n",
       "      <td>5</td>\n",
       "      <td>27250</td>\n",
       "      <td>11</td>\n",
       "      <td>2009</td>\n",
       "      <td>화부산로111번길 24</td>\n",
       "    </tr>\n",
       "  </tbody>\n",
       "</table>\n",
       "</div>"
      ],
      "text/plain": [
       "           시군구    번지    본번  부번           단지명  전용면적(㎡)    계약년월  계약일  거래금액(만원)  \\\n",
       "0  강원도 강릉시 견소동   202   202   0          송정한신  59.8000  201701   10     12400   \n",
       "1  강원도 강릉시 견소동   289   289   0  송정해변신도브래뉴아파트  84.9900  201701    3     23000   \n",
       "2  강원도 강릉시 견소동   289   289   0  송정해변신도브래뉴아파트  59.9900  201701    4     15800   \n",
       "3  강원도 강릉시 견소동   289   289   0  송정해변신도브래뉴아파트  59.9900  201701   21     14000   \n",
       "4   강원도 강릉시 교동  1983  1983   0   강릉교동롯데캐슬2단지  84.9855  201701    5     27250   \n",
       "\n",
       "    층  건축년도           도로명  \n",
       "0   8  1997   경강로2539번길 8  \n",
       "1  13  2005  경강로2539번길 22  \n",
       "2   9  2005  경강로2539번길 22  \n",
       "3   1  2005  경강로2539번길 22  \n",
       "4  11  2009  화부산로111번길 24  "
      ]
     },
     "execution_count": 7,
     "metadata": {},
     "output_type": "execute_result"
    }
   ],
   "source": [
    "apt2017.head()"
   ]
  },
  {
   "cell_type": "code",
   "execution_count": 8,
   "metadata": {},
   "outputs": [
    {
     "name": "stdout",
     "output_type": "stream",
     "text": [
      "<class 'pandas.core.frame.DataFrame'>\n",
      "Int64Index: 570324 entries, 0 to 40192\n",
      "Data columns (total 12 columns):\n",
      " #   Column    Non-Null Count   Dtype  \n",
      "---  ------    --------------   -----  \n",
      " 0   시군구       570324 non-null  object \n",
      " 1   번지        570232 non-null  object \n",
      " 2   본번        570324 non-null  object \n",
      " 3   부번        570324 non-null  int64  \n",
      " 4   단지명       570324 non-null  object \n",
      " 5   전용면적(㎡)   570324 non-null  float64\n",
      " 6   계약년월      570324 non-null  int64  \n",
      " 7   계약일       570324 non-null  int64  \n",
      " 8   거래금액(만원)  570324 non-null  int64  \n",
      " 9   층         570324 non-null  int64  \n",
      " 10  건축년도      570324 non-null  int64  \n",
      " 11  도로명       570324 non-null  object \n",
      "dtypes: float64(1), int64(6), object(5)\n",
      "memory usage: 56.6+ MB\n"
     ]
    }
   ],
   "source": [
    "apt2017.info()"
   ]
  },
  {
   "cell_type": "code",
   "execution_count": 4,
   "metadata": {},
   "outputs": [
    {
     "data": {
      "text/plain": [
       "시군구          0\n",
       "번지          92\n",
       "본번           0\n",
       "부번           0\n",
       "단지명          0\n",
       "전용면적(㎡)      0\n",
       "계약년월         0\n",
       "계약일          0\n",
       "거래금액(만원)     0\n",
       "층            0\n",
       "건축년도         0\n",
       "도로명          0\n",
       "dtype: int64"
      ]
     },
     "execution_count": 4,
     "metadata": {},
     "output_type": "execute_result"
    }
   ],
   "source": [
    "# 2017년도 데이터 결측치 개수 확인\n",
    "apt2017.isnull().sum()"
   ]
  },
  {
   "cell_type": "code",
   "execution_count": 5,
   "metadata": {},
   "outputs": [
    {
     "data": {
      "text/plain": [
       "시군구          0\n",
       "번지          43\n",
       "본번           0\n",
       "부번           0\n",
       "단지명          0\n",
       "전용면적(㎡)      0\n",
       "계약년월         0\n",
       "계약일          0\n",
       "거래금액(만원)     0\n",
       "층            0\n",
       "건축년도         0\n",
       "도로명          0\n",
       "dtype: int64"
      ]
     },
     "execution_count": 5,
     "metadata": {},
     "output_type": "execute_result"
    }
   ],
   "source": [
    "# 2018년도 데이터 결측치 개수 확인\n",
    "apt2018.isnull().sum()"
   ]
  },
  {
   "cell_type": "code",
   "execution_count": 6,
   "metadata": {},
   "outputs": [
    {
     "data": {
      "text/plain": [
       "시군구          0\n",
       "번지          52\n",
       "본번           0\n",
       "부번           0\n",
       "단지명          0\n",
       "전용면적(㎡)      0\n",
       "계약년월         0\n",
       "계약일          0\n",
       "거래금액(만원)     0\n",
       "층            0\n",
       "건축년도         0\n",
       "도로명          0\n",
       "dtype: int64"
      ]
     },
     "execution_count": 6,
     "metadata": {},
     "output_type": "execute_result"
    }
   ],
   "source": [
    "# 2019년도 데이터 결측치 개수 확인\n",
    "apt2019.isnull().sum()"
   ]
  },
  {
   "cell_type": "markdown",
   "metadata": {},
   "source": [
    "3. 데이터 처리"
   ]
  },
  {
   "cell_type": "markdown",
   "metadata": {},
   "source": [
    "(1) 3개년 데이터 합치기"
   ]
  },
  {
   "cell_type": "code",
   "execution_count": 11,
   "metadata": {},
   "outputs": [],
   "source": [
    "apt171819 = pd.concat([apt2017, apt2018, apt2019]) "
   ]
  },
  {
   "cell_type": "markdown",
   "metadata": {},
   "source": [
    "(2) 시군구 변수를 시-군-구로 분리"
   ]
  },
  {
   "cell_type": "code",
   "execution_count": 12,
   "metadata": {},
   "outputs": [
    {
     "data": {
      "text/plain": [
       "0        견소동\n",
       "1        견소동\n",
       "2        견소동\n",
       "3        견소동\n",
       "4         교동\n",
       "        ... \n",
       "70396    호암동\n",
       "70397    호암동\n",
       "70398    호암동\n",
       "70399    호암동\n",
       "70400    호암동\n",
       "Name: 동, Length: 1610485, dtype: object"
      ]
     },
     "execution_count": 12,
     "metadata": {},
     "output_type": "execute_result"
    }
   ],
   "source": [
    "apt171819['도'] = apt171819['시군구'].str.split(' ').str[0]\n",
    "apt171819['시/구'] = apt171819['시군구'].str.split(' ').str[1]\n",
    "apt171819['동'] = apt171819['시군구'].str.split(' ').str[2]\n",
    "apt171819['동']"
   ]
  },
  {
   "cell_type": "markdown",
   "metadata": {},
   "source": [
    "(3) 계약년월을 계약연도-계약월로 분리"
   ]
  },
  {
   "cell_type": "code",
   "execution_count": 13,
   "metadata": {},
   "outputs": [
    {
     "data": {
      "text/plain": [
       "0        01\n",
       "1        01\n",
       "2        01\n",
       "3        01\n",
       "4        01\n",
       "         ..\n",
       "70396    12\n",
       "70397    12\n",
       "70398    12\n",
       "70399    12\n",
       "70400    12\n",
       "Name: 계약월, Length: 1610485, dtype: object"
      ]
     },
     "execution_count": 13,
     "metadata": {},
     "output_type": "execute_result"
    }
   ],
   "source": [
    "apt171819['계약년월1'] = apt171819['계약년월'].astype(str)\n",
    "apt171819['계약연도'] = apt171819['계약년월1'].str[0:4]\n",
    "apt171819['계약월'] = apt171819['계약년월1'].str[4:]\n",
    "apt171819['계약월']"
   ]
  },
  {
   "cell_type": "markdown",
   "metadata": {},
   "source": [
    "4. 데이터 시각화"
   ]
  },
  {
   "cell_type": "markdown",
   "metadata": {},
   "source": [
    "데이터 시각화에서는 다음과 같이 데이터를 시각화 해보았습니다.\n",
    "\n",
    "- 연도별 거래금액의 평균 / 연도별 거래량 많은 시,도\n",
    "- 월별 거래량 / 평균 거래금액\n",
    "- 구별 거래량 / 평균 거래금액 / ㎡당 금액\n",
    "- 건축연도별 거래량 / 평균 거래금액 / ㎡당 금액\n",
    "- 층별 거래량 / 평균 거래금액\n",
    "- 전용면적별(평수별) 거래량"
   ]
  },
  {
   "cell_type": "markdown",
   "metadata": {},
   "source": [
    "- 수도권 / 비수도권 간 전반적 비교\n",
    "- 서울 / 경기 지역 간 비교\n",
    "- 건축연도 2000년 전후로 거래금액 비교"
   ]
  },
  {
   "cell_type": "markdown",
   "metadata": {},
   "source": [
    "(1) 연도별 거래금액 평균 / 연도별 거래량 많은 시,도"
   ]
  },
  {
   "cell_type": "code",
   "execution_count": null,
   "metadata": {},
   "outputs": [],
   "source": []
  },
  {
   "cell_type": "code",
   "execution_count": null,
   "metadata": {},
   "outputs": [],
   "source": []
  },
  {
   "cell_type": "code",
   "execution_count": null,
   "metadata": {},
   "outputs": [],
   "source": []
  }
 ],
 "metadata": {
  "kernelspec": {
   "display_name": "Python 3",
   "language": "python",
   "name": "python3"
  },
  "language_info": {
   "codemirror_mode": {
    "name": "ipython",
    "version": 3
   },
   "file_extension": ".py",
   "mimetype": "text/x-python",
   "name": "python",
   "nbconvert_exporter": "python",
   "pygments_lexer": "ipython3",
   "version": "3.7.6"
  }
 },
 "nbformat": 4,
 "nbformat_minor": 4
}
