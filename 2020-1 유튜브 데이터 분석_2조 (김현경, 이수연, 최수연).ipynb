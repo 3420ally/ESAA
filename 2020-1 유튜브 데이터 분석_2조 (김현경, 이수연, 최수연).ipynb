{
 "cells": [
  {
   "cell_type": "markdown",
   "metadata": {},
   "source": [
    "# 유튜브 데이터 분석 - 2조 (김현경, 이수연, 최수연)"
   ]
  },
  {
   "cell_type": "markdown",
   "metadata": {},
   "source": [
    "유튜브 인기 동영상(Trending-Videos) 데이터 ( https://www.kaggle.com/datasnaek/youtube-new ) 중 KR, US 데이터 활용 <br>\n",
    "\n",
    "“To determine the year’s top-trending videos, YouTube uses a combination of factors including measuring users interactions (number of views, shares, comments and likes). Note that they’re not the most-viewed videos overall for the calendar year\"\n",
    "\n",
    "** 궁금한 것\n",
    "1. 인기 동영상의 기준 (한국, 미국 데이터 통합하여 알아보기) <br>\n",
    "(1) views, likes 통계값 <br>\n",
    "(2) 인기동영상 진입에 걸리는 일수 <br>\n",
    "(3) 업로드 월별 비교 <br>\n",
    "<br>\n",
    "2. 한국, 미국 인기 동영상의 전반적 상황 (한국, 미국 데이터 비교하기) <br>\n",
    "(1) 비호감 영상 (싫어요 중심 비교) <br>\n",
    "(2) 인기 채널 <br>\n",
    "(3) 인기 카테고리"
   ]
  },
  {
   "cell_type": "markdown",
   "metadata": {},
   "source": [
    "# 데이터 확인 및 전처리"
   ]
  },
  {
   "cell_type": "code",
   "execution_count": 1,
   "metadata": {},
   "outputs": [],
   "source": [
    "from pandas import *\n",
    "import pandas as pd\n",
    "import numpy as np\n",
    "import matplotlib.pyplot as plt\n",
    "import matplotlib.font_manager as fm"
   ]
  },
  {
   "cell_type": "code",
   "execution_count": 2,
   "metadata": {},
   "outputs": [],
   "source": [
    "#한국 데이터 불러오기\n",
    "input_fd = open('./youtube-new/KRvideos.csv',errors = 'backslashreplace',encoding='utf-8')\n",
    "KRvideos = pd.read_csv(input_fd)\n",
    "KR = pd.DataFrame(KRvideos)\n",
    "\n",
    "#미국 데이터 불러오기\n",
    "USvideos = pd.read_csv('./youtube-new/USvideos.csv')\n",
    "US = pd.DataFrame(USvideos)"
   ]
  },
  {
   "cell_type": "code",
   "execution_count": 3,
   "metadata": {},
   "outputs": [
    {
     "data": {
      "text/html": [
       "<div>\n",
       "<style scoped>\n",
       "    .dataframe tbody tr th:only-of-type {\n",
       "        vertical-align: middle;\n",
       "    }\n",
       "\n",
       "    .dataframe tbody tr th {\n",
       "        vertical-align: top;\n",
       "    }\n",
       "\n",
       "    .dataframe thead th {\n",
       "        text-align: right;\n",
       "    }\n",
       "</style>\n",
       "<table border=\"1\" class=\"dataframe\">\n",
       "  <thead>\n",
       "    <tr style=\"text-align: right;\">\n",
       "      <th></th>\n",
       "      <th>video_id</th>\n",
       "      <th>trending_date</th>\n",
       "      <th>title</th>\n",
       "      <th>channel_title</th>\n",
       "      <th>category_id</th>\n",
       "      <th>publish_time</th>\n",
       "      <th>tags</th>\n",
       "      <th>views</th>\n",
       "      <th>likes</th>\n",
       "      <th>dislikes</th>\n",
       "      <th>comment_count</th>\n",
       "      <th>thumbnail_link</th>\n",
       "      <th>comments_disabled</th>\n",
       "      <th>ratings_disabled</th>\n",
       "      <th>video_error_or_removed</th>\n",
       "      <th>description</th>\n",
       "    </tr>\n",
       "  </thead>\n",
       "  <tbody>\n",
       "    <tr>\n",
       "      <th>0</th>\n",
       "      <td>RxGQe4EeEpA</td>\n",
       "      <td>17.14.11</td>\n",
       "      <td>좋아 by 민서_윤종신_좋니 답가</td>\n",
       "      <td>라푸마코리아</td>\n",
       "      <td>22</td>\n",
       "      <td>2017-11-13T07:07:36.000Z</td>\n",
       "      <td>라푸마|\"윤종신\"|\"좋니\"|\"좋아\"|\"샬레\"|\"민서\"</td>\n",
       "      <td>156130</td>\n",
       "      <td>1422</td>\n",
       "      <td>40</td>\n",
       "      <td>272</td>\n",
       "      <td>https://i.ytimg.com/vi/RxGQe4EeEpA/default.jpg</td>\n",
       "      <td>False</td>\n",
       "      <td>False</td>\n",
       "      <td>False</td>\n",
       "      <td>윤종신 '좋니'의 답가 '좋아' 최초 공개!\\n그 여자의 이야기를 지금 만나보세요....</td>\n",
       "    </tr>\n",
       "    <tr>\n",
       "      <th>1</th>\n",
       "      <td>hH7wVE8OlQ0</td>\n",
       "      <td>17.14.11</td>\n",
       "      <td>JSA 귀순 북한군 총격 부상</td>\n",
       "      <td>Edward</td>\n",
       "      <td>25</td>\n",
       "      <td>2017-11-13T10:59:16.000Z</td>\n",
       "      <td>JSA|\"귀순\"|\"북한군\"|\"총격\"|\"부상\"|\"JSA 귀순 북한군 총격 부상\"</td>\n",
       "      <td>76533</td>\n",
       "      <td>211</td>\n",
       "      <td>28</td>\n",
       "      <td>113</td>\n",
       "      <td>https://i.ytimg.com/vi/hH7wVE8OlQ0/default.jpg</td>\n",
       "      <td>False</td>\n",
       "      <td>False</td>\n",
       "      <td>False</td>\n",
       "      <td>[채널A단독]北 병사 현재 '의식불명'… 혈압 떨어지는 중 \\n[채널A단독]우리측 ...</td>\n",
       "    </tr>\n",
       "    <tr>\n",
       "      <th>2</th>\n",
       "      <td>9V8bnWUmE9U</td>\n",
       "      <td>17.14.11</td>\n",
       "      <td>나몰라패밀리 운동화 영상 2탄 (빼빼로데이버젼)</td>\n",
       "      <td>나몰라패밀리 핫쇼</td>\n",
       "      <td>22</td>\n",
       "      <td>2017-11-11T07:16:08.000Z</td>\n",
       "      <td>아디다스|\"빼빼로\"|\"핫쇼\"|\"나몰라패밀리\"|\"대학로\"|\"공연\"</td>\n",
       "      <td>421409</td>\n",
       "      <td>5112</td>\n",
       "      <td>166</td>\n",
       "      <td>459</td>\n",
       "      <td>https://i.ytimg.com/vi/9V8bnWUmE9U/default.jpg</td>\n",
       "      <td>False</td>\n",
       "      <td>False</td>\n",
       "      <td>False</td>\n",
       "      <td>퍼가실때 꼭 출처 부탁드려요</td>\n",
       "    </tr>\n",
       "    <tr>\n",
       "      <th>3</th>\n",
       "      <td>0_8py-t5R80</td>\n",
       "      <td>17.14.11</td>\n",
       "      <td>이명박 출국 현장, 놓치면 안되는 장면</td>\n",
       "      <td>미디어몽구</td>\n",
       "      <td>25</td>\n",
       "      <td>2017-11-12T11:19:52.000Z</td>\n",
       "      <td>이명박|\"이명박 출국금지\"|\"이명박 출국현장\"|\"이명박 바레인\"|\"이명박 대통령\"|...</td>\n",
       "      <td>222850</td>\n",
       "      <td>2093</td>\n",
       "      <td>173</td>\n",
       "      <td>1219</td>\n",
       "      <td>https://i.ytimg.com/vi/0_8py-t5R80/default.jpg</td>\n",
       "      <td>False</td>\n",
       "      <td>False</td>\n",
       "      <td>False</td>\n",
       "      <td>다스는 누구겁니까 듣고 난 후 표정</td>\n",
       "    </tr>\n",
       "    <tr>\n",
       "      <th>4</th>\n",
       "      <td>bk55RbxiQdI</td>\n",
       "      <td>17.14.11</td>\n",
       "      <td>김장겸은 물러갔다 MBC 노조 환호와 눈물</td>\n",
       "      <td>NocutV</td>\n",
       "      <td>25</td>\n",
       "      <td>2017-11-13T11:08:59.000Z</td>\n",
       "      <td>nocutV|\"노컷V\"|\"CBS\"|\"mbc\"|\"김장겸\"|\"해임\"|\"허일후\"</td>\n",
       "      <td>84466</td>\n",
       "      <td>1094</td>\n",
       "      <td>109</td>\n",
       "      <td>450</td>\n",
       "      <td>https://i.ytimg.com/vi/bk55RbxiQdI/default.jpg</td>\n",
       "      <td>False</td>\n",
       "      <td>False</td>\n",
       "      <td>False</td>\n",
       "      <td>김장겸 MBC 사장이 결국 해임됐다.\\n\\nMBC 대주주인 방송문화진흥회는 13일 ...</td>\n",
       "    </tr>\n",
       "  </tbody>\n",
       "</table>\n",
       "</div>"
      ],
      "text/plain": [
       "      video_id trending_date                       title channel_title  \\\n",
       "0  RxGQe4EeEpA      17.14.11          좋아 by 민서_윤종신_좋니 답가        라푸마코리아   \n",
       "1  hH7wVE8OlQ0      17.14.11            JSA 귀순 북한군 총격 부상        Edward   \n",
       "2  9V8bnWUmE9U      17.14.11  나몰라패밀리 운동화 영상 2탄 (빼빼로데이버젼)     나몰라패밀리 핫쇼   \n",
       "3  0_8py-t5R80      17.14.11  이명박 출국 현장, 놓치면 안되는 장면         미디어몽구   \n",
       "4  bk55RbxiQdI      17.14.11     김장겸은 물러갔다 MBC 노조 환호와 눈물        NocutV   \n",
       "\n",
       "   category_id              publish_time  \\\n",
       "0           22  2017-11-13T07:07:36.000Z   \n",
       "1           25  2017-11-13T10:59:16.000Z   \n",
       "2           22  2017-11-11T07:16:08.000Z   \n",
       "3           25  2017-11-12T11:19:52.000Z   \n",
       "4           25  2017-11-13T11:08:59.000Z   \n",
       "\n",
       "                                                tags   views  likes  dislikes  \\\n",
       "0                      라푸마|\"윤종신\"|\"좋니\"|\"좋아\"|\"샬레\"|\"민서\"  156130   1422        40   \n",
       "1        JSA|\"귀순\"|\"북한군\"|\"총격\"|\"부상\"|\"JSA 귀순 북한군 총격 부상\"   76533    211        28   \n",
       "2                아디다스|\"빼빼로\"|\"핫쇼\"|\"나몰라패밀리\"|\"대학로\"|\"공연\"  421409   5112       166   \n",
       "3  이명박|\"이명박 출국금지\"|\"이명박 출국현장\"|\"이명박 바레인\"|\"이명박 대통령\"|...  222850   2093       173   \n",
       "4          nocutV|\"노컷V\"|\"CBS\"|\"mbc\"|\"김장겸\"|\"해임\"|\"허일후\"   84466   1094       109   \n",
       "\n",
       "   comment_count                                  thumbnail_link  \\\n",
       "0            272  https://i.ytimg.com/vi/RxGQe4EeEpA/default.jpg   \n",
       "1            113  https://i.ytimg.com/vi/hH7wVE8OlQ0/default.jpg   \n",
       "2            459  https://i.ytimg.com/vi/9V8bnWUmE9U/default.jpg   \n",
       "3           1219  https://i.ytimg.com/vi/0_8py-t5R80/default.jpg   \n",
       "4            450  https://i.ytimg.com/vi/bk55RbxiQdI/default.jpg   \n",
       "\n",
       "   comments_disabled  ratings_disabled  video_error_or_removed  \\\n",
       "0              False             False                   False   \n",
       "1              False             False                   False   \n",
       "2              False             False                   False   \n",
       "3              False             False                   False   \n",
       "4              False             False                   False   \n",
       "\n",
       "                                         description  \n",
       "0  윤종신 '좋니'의 답가 '좋아' 최초 공개!\\n그 여자의 이야기를 지금 만나보세요....  \n",
       "1  [채널A단독]北 병사 현재 '의식불명'… 혈압 떨어지는 중 \\n[채널A단독]우리측 ...  \n",
       "2                                    퍼가실때 꼭 출처 부탁드려요  \n",
       "3                                다스는 누구겁니까 듣고 난 후 표정  \n",
       "4  김장겸 MBC 사장이 결국 해임됐다.\\n\\nMBC 대주주인 방송문화진흥회는 13일 ...  "
      ]
     },
     "execution_count": 3,
     "metadata": {},
     "output_type": "execute_result"
    }
   ],
   "source": [
    "#한국 데이터 확인\n",
    "KR.head()"
   ]
  },
  {
   "cell_type": "code",
   "execution_count": 4,
   "metadata": {},
   "outputs": [
    {
     "data": {
      "text/html": [
       "<div>\n",
       "<style scoped>\n",
       "    .dataframe tbody tr th:only-of-type {\n",
       "        vertical-align: middle;\n",
       "    }\n",
       "\n",
       "    .dataframe tbody tr th {\n",
       "        vertical-align: top;\n",
       "    }\n",
       "\n",
       "    .dataframe thead th {\n",
       "        text-align: right;\n",
       "    }\n",
       "</style>\n",
       "<table border=\"1\" class=\"dataframe\">\n",
       "  <thead>\n",
       "    <tr style=\"text-align: right;\">\n",
       "      <th></th>\n",
       "      <th>video_id</th>\n",
       "      <th>trending_date</th>\n",
       "      <th>title</th>\n",
       "      <th>channel_title</th>\n",
       "      <th>category_id</th>\n",
       "      <th>publish_time</th>\n",
       "      <th>tags</th>\n",
       "      <th>views</th>\n",
       "      <th>likes</th>\n",
       "      <th>dislikes</th>\n",
       "      <th>comment_count</th>\n",
       "      <th>thumbnail_link</th>\n",
       "      <th>comments_disabled</th>\n",
       "      <th>ratings_disabled</th>\n",
       "      <th>video_error_or_removed</th>\n",
       "      <th>description</th>\n",
       "    </tr>\n",
       "  </thead>\n",
       "  <tbody>\n",
       "    <tr>\n",
       "      <th>0</th>\n",
       "      <td>2kyS6SvSYSE</td>\n",
       "      <td>17.14.11</td>\n",
       "      <td>WE WANT TO TALK ABOUT OUR MARRIAGE</td>\n",
       "      <td>CaseyNeistat</td>\n",
       "      <td>22</td>\n",
       "      <td>2017-11-13T17:13:01.000Z</td>\n",
       "      <td>SHANtell martin</td>\n",
       "      <td>748374</td>\n",
       "      <td>57527</td>\n",
       "      <td>2966</td>\n",
       "      <td>15954</td>\n",
       "      <td>https://i.ytimg.com/vi/2kyS6SvSYSE/default.jpg</td>\n",
       "      <td>False</td>\n",
       "      <td>False</td>\n",
       "      <td>False</td>\n",
       "      <td>SHANTELL'S CHANNEL - https://www.youtube.com/s...</td>\n",
       "    </tr>\n",
       "    <tr>\n",
       "      <th>1</th>\n",
       "      <td>1ZAPwfrtAFY</td>\n",
       "      <td>17.14.11</td>\n",
       "      <td>The Trump Presidency: Last Week Tonight with J...</td>\n",
       "      <td>LastWeekTonight</td>\n",
       "      <td>24</td>\n",
       "      <td>2017-11-13T07:30:00.000Z</td>\n",
       "      <td>last week tonight trump presidency|\"last week ...</td>\n",
       "      <td>2418783</td>\n",
       "      <td>97185</td>\n",
       "      <td>6146</td>\n",
       "      <td>12703</td>\n",
       "      <td>https://i.ytimg.com/vi/1ZAPwfrtAFY/default.jpg</td>\n",
       "      <td>False</td>\n",
       "      <td>False</td>\n",
       "      <td>False</td>\n",
       "      <td>One year after the presidential election, John...</td>\n",
       "    </tr>\n",
       "    <tr>\n",
       "      <th>2</th>\n",
       "      <td>5qpjK5DgCt4</td>\n",
       "      <td>17.14.11</td>\n",
       "      <td>Racist Superman | Rudy Mancuso, King Bach &amp; Le...</td>\n",
       "      <td>Rudy Mancuso</td>\n",
       "      <td>23</td>\n",
       "      <td>2017-11-12T19:05:24.000Z</td>\n",
       "      <td>racist superman|\"rudy\"|\"mancuso\"|\"king\"|\"bach\"...</td>\n",
       "      <td>3191434</td>\n",
       "      <td>146033</td>\n",
       "      <td>5339</td>\n",
       "      <td>8181</td>\n",
       "      <td>https://i.ytimg.com/vi/5qpjK5DgCt4/default.jpg</td>\n",
       "      <td>False</td>\n",
       "      <td>False</td>\n",
       "      <td>False</td>\n",
       "      <td>WATCH MY PREVIOUS VIDEO ▶ \\n\\nSUBSCRIBE ► http...</td>\n",
       "    </tr>\n",
       "    <tr>\n",
       "      <th>3</th>\n",
       "      <td>puqaWrEC7tY</td>\n",
       "      <td>17.14.11</td>\n",
       "      <td>Nickelback Lyrics: Real or Fake?</td>\n",
       "      <td>Good Mythical Morning</td>\n",
       "      <td>24</td>\n",
       "      <td>2017-11-13T11:00:04.000Z</td>\n",
       "      <td>rhett and link|\"gmm\"|\"good mythical morning\"|\"...</td>\n",
       "      <td>343168</td>\n",
       "      <td>10172</td>\n",
       "      <td>666</td>\n",
       "      <td>2146</td>\n",
       "      <td>https://i.ytimg.com/vi/puqaWrEC7tY/default.jpg</td>\n",
       "      <td>False</td>\n",
       "      <td>False</td>\n",
       "      <td>False</td>\n",
       "      <td>Today we find out if Link is a Nickelback amat...</td>\n",
       "    </tr>\n",
       "    <tr>\n",
       "      <th>4</th>\n",
       "      <td>d380meD0W0M</td>\n",
       "      <td>17.14.11</td>\n",
       "      <td>I Dare You: GOING BALD!?</td>\n",
       "      <td>nigahiga</td>\n",
       "      <td>24</td>\n",
       "      <td>2017-11-12T18:01:41.000Z</td>\n",
       "      <td>ryan|\"higa\"|\"higatv\"|\"nigahiga\"|\"i dare you\"|\"...</td>\n",
       "      <td>2095731</td>\n",
       "      <td>132235</td>\n",
       "      <td>1989</td>\n",
       "      <td>17518</td>\n",
       "      <td>https://i.ytimg.com/vi/d380meD0W0M/default.jpg</td>\n",
       "      <td>False</td>\n",
       "      <td>False</td>\n",
       "      <td>False</td>\n",
       "      <td>I know it's been a while since we did this sho...</td>\n",
       "    </tr>\n",
       "  </tbody>\n",
       "</table>\n",
       "</div>"
      ],
      "text/plain": [
       "      video_id trending_date  \\\n",
       "0  2kyS6SvSYSE      17.14.11   \n",
       "1  1ZAPwfrtAFY      17.14.11   \n",
       "2  5qpjK5DgCt4      17.14.11   \n",
       "3  puqaWrEC7tY      17.14.11   \n",
       "4  d380meD0W0M      17.14.11   \n",
       "\n",
       "                                               title          channel_title  \\\n",
       "0                 WE WANT TO TALK ABOUT OUR MARRIAGE           CaseyNeistat   \n",
       "1  The Trump Presidency: Last Week Tonight with J...        LastWeekTonight   \n",
       "2  Racist Superman | Rudy Mancuso, King Bach & Le...           Rudy Mancuso   \n",
       "3                   Nickelback Lyrics: Real or Fake?  Good Mythical Morning   \n",
       "4                           I Dare You: GOING BALD!?               nigahiga   \n",
       "\n",
       "   category_id              publish_time  \\\n",
       "0           22  2017-11-13T17:13:01.000Z   \n",
       "1           24  2017-11-13T07:30:00.000Z   \n",
       "2           23  2017-11-12T19:05:24.000Z   \n",
       "3           24  2017-11-13T11:00:04.000Z   \n",
       "4           24  2017-11-12T18:01:41.000Z   \n",
       "\n",
       "                                                tags    views   likes  \\\n",
       "0                                    SHANtell martin   748374   57527   \n",
       "1  last week tonight trump presidency|\"last week ...  2418783   97185   \n",
       "2  racist superman|\"rudy\"|\"mancuso\"|\"king\"|\"bach\"...  3191434  146033   \n",
       "3  rhett and link|\"gmm\"|\"good mythical morning\"|\"...   343168   10172   \n",
       "4  ryan|\"higa\"|\"higatv\"|\"nigahiga\"|\"i dare you\"|\"...  2095731  132235   \n",
       "\n",
       "   dislikes  comment_count                                  thumbnail_link  \\\n",
       "0      2966          15954  https://i.ytimg.com/vi/2kyS6SvSYSE/default.jpg   \n",
       "1      6146          12703  https://i.ytimg.com/vi/1ZAPwfrtAFY/default.jpg   \n",
       "2      5339           8181  https://i.ytimg.com/vi/5qpjK5DgCt4/default.jpg   \n",
       "3       666           2146  https://i.ytimg.com/vi/puqaWrEC7tY/default.jpg   \n",
       "4      1989          17518  https://i.ytimg.com/vi/d380meD0W0M/default.jpg   \n",
       "\n",
       "   comments_disabled  ratings_disabled  video_error_or_removed  \\\n",
       "0              False             False                   False   \n",
       "1              False             False                   False   \n",
       "2              False             False                   False   \n",
       "3              False             False                   False   \n",
       "4              False             False                   False   \n",
       "\n",
       "                                         description  \n",
       "0  SHANTELL'S CHANNEL - https://www.youtube.com/s...  \n",
       "1  One year after the presidential election, John...  \n",
       "2  WATCH MY PREVIOUS VIDEO ▶ \\n\\nSUBSCRIBE ► http...  \n",
       "3  Today we find out if Link is a Nickelback amat...  \n",
       "4  I know it's been a while since we did this sho...  "
      ]
     },
     "execution_count": 4,
     "metadata": {},
     "output_type": "execute_result"
    }
   ],
   "source": [
    "#미국 데이터 확인\n",
    "US.head()"
   ]
  },
  {
   "cell_type": "code",
   "execution_count": 5,
   "metadata": {},
   "outputs": [],
   "source": [
    "KR[\"description\"] = KR[\"description\"].fillna(value=\"\") #null한 자료 없애기\n",
    "US[\"description\"] = US[\"description\"].fillna(value=\"\") #null한 자료 없애기"
   ]
  },
  {
   "cell_type": "code",
   "execution_count": 6,
   "metadata": {
    "scrolled": true
   },
   "outputs": [
    {
     "name": "stdout",
     "output_type": "stream",
     "text": [
      "video_id                  object\n",
      "trending_date             object\n",
      "title                     object\n",
      "channel_title             object\n",
      "category_id                int64\n",
      "publish_time              object\n",
      "tags                      object\n",
      "views                      int64\n",
      "likes                      int64\n",
      "dislikes                   int64\n",
      "comment_count              int64\n",
      "thumbnail_link            object\n",
      "comments_disabled           bool\n",
      "ratings_disabled            bool\n",
      "video_error_or_removed      bool\n",
      "description               object\n",
      "dtype: object\n"
     ]
    }
   ],
   "source": [
    "print(KR.dtypes)"
   ]
  },
  {
   "cell_type": "code",
   "execution_count": 7,
   "metadata": {},
   "outputs": [],
   "source": [
    "#나라 변수 생성\n",
    "KR[\"country\"] = \"KR\"\n",
    "US[\"country\"] = \"US\""
   ]
  },
  {
   "cell_type": "code",
   "execution_count": 8,
   "metadata": {},
   "outputs": [],
   "source": [
    "KRUS = pd.concat([KR, US]) # 한국, 미국 데이터 합치기"
   ]
  },
  {
   "cell_type": "markdown",
   "metadata": {},
   "source": [
    "# 1. 인기 동영상이 되는 기준은 무엇일까?"
   ]
  },
  {
   "cell_type": "markdown",
   "metadata": {},
   "source": [
    "<b> <font size=3.5> (1) 인기 동영상의 통계값 </font> </b>"
   ]
  },
  {
   "cell_type": "code",
   "execution_count": 9,
   "metadata": {},
   "outputs": [
    {
     "data": {
      "text/html": [
       "<div>\n",
       "<style scoped>\n",
       "    .dataframe tbody tr th:only-of-type {\n",
       "        vertical-align: middle;\n",
       "    }\n",
       "\n",
       "    .dataframe tbody tr th {\n",
       "        vertical-align: top;\n",
       "    }\n",
       "\n",
       "    .dataframe thead th {\n",
       "        text-align: right;\n",
       "    }\n",
       "</style>\n",
       "<table border=\"1\" class=\"dataframe\">\n",
       "  <thead>\n",
       "    <tr style=\"text-align: right;\">\n",
       "      <th></th>\n",
       "      <th>category_id</th>\n",
       "      <th>views</th>\n",
       "      <th>likes</th>\n",
       "      <th>dislikes</th>\n",
       "      <th>comment_count</th>\n",
       "    </tr>\n",
       "  </thead>\n",
       "  <tbody>\n",
       "    <tr>\n",
       "      <th>count</th>\n",
       "      <td>75516.000000</td>\n",
       "      <td>7.551600e+04</td>\n",
       "      <td>7.551600e+04</td>\n",
       "      <td>7.551600e+04</td>\n",
       "      <td>7.551600e+04</td>\n",
       "    </tr>\n",
       "    <tr>\n",
       "      <th>mean</th>\n",
       "      <td>20.505813</td>\n",
       "      <td>1.474667e+06</td>\n",
       "      <td>4.584982e+04</td>\n",
       "      <td>2.259298e+03</td>\n",
       "      <td>5.507436e+03</td>\n",
       "    </tr>\n",
       "    <tr>\n",
       "      <th>std</th>\n",
       "      <td>7.196833</td>\n",
       "      <td>5.768958e+06</td>\n",
       "      <td>1.887748e+05</td>\n",
       "      <td>2.335561e+04</td>\n",
       "      <td>3.133164e+04</td>\n",
       "    </tr>\n",
       "    <tr>\n",
       "      <th>min</th>\n",
       "      <td>1.000000</td>\n",
       "      <td>5.490000e+02</td>\n",
       "      <td>0.000000e+00</td>\n",
       "      <td>0.000000e+00</td>\n",
       "      <td>0.000000e+00</td>\n",
       "    </tr>\n",
       "    <tr>\n",
       "      <th>25%</th>\n",
       "      <td>20.000000</td>\n",
       "      <td>8.422525e+04</td>\n",
       "      <td>1.034000e+03</td>\n",
       "      <td>5.200000e+01</td>\n",
       "      <td>2.250000e+02</td>\n",
       "    </tr>\n",
       "    <tr>\n",
       "      <th>50%</th>\n",
       "      <td>24.000000</td>\n",
       "      <td>2.848595e+05</td>\n",
       "      <td>4.987000e+03</td>\n",
       "      <td>2.120000e+02</td>\n",
       "      <td>8.280000e+02</td>\n",
       "    </tr>\n",
       "    <tr>\n",
       "      <th>75%</th>\n",
       "      <td>25.000000</td>\n",
       "      <td>9.750578e+05</td>\n",
       "      <td>2.405450e+04</td>\n",
       "      <td>8.872500e+02</td>\n",
       "      <td>2.883000e+03</td>\n",
       "    </tr>\n",
       "    <tr>\n",
       "      <th>max</th>\n",
       "      <td>44.000000</td>\n",
       "      <td>2.252119e+08</td>\n",
       "      <td>5.613827e+06</td>\n",
       "      <td>1.674420e+06</td>\n",
       "      <td>1.361580e+06</td>\n",
       "    </tr>\n",
       "  </tbody>\n",
       "</table>\n",
       "</div>"
      ],
      "text/plain": [
       "        category_id         views         likes      dislikes  comment_count\n",
       "count  75516.000000  7.551600e+04  7.551600e+04  7.551600e+04   7.551600e+04\n",
       "mean      20.505813  1.474667e+06  4.584982e+04  2.259298e+03   5.507436e+03\n",
       "std        7.196833  5.768958e+06  1.887748e+05  2.335561e+04   3.133164e+04\n",
       "min        1.000000  5.490000e+02  0.000000e+00  0.000000e+00   0.000000e+00\n",
       "25%       20.000000  8.422525e+04  1.034000e+03  5.200000e+01   2.250000e+02\n",
       "50%       24.000000  2.848595e+05  4.987000e+03  2.120000e+02   8.280000e+02\n",
       "75%       25.000000  9.750578e+05  2.405450e+04  8.872500e+02   2.883000e+03\n",
       "max       44.000000  2.252119e+08  5.613827e+06  1.674420e+06   1.361580e+06"
      ]
     },
     "execution_count": 9,
     "metadata": {},
     "output_type": "execute_result"
    }
   ],
   "source": [
    "KRUS.describe()"
   ]
  },
  {
   "cell_type": "code",
   "execution_count": 10,
   "metadata": {},
   "outputs": [
    {
     "name": "stdout",
     "output_type": "stream",
     "text": [
      "views\n",
      "평균       1,474,667\n",
      "최소             549\n",
      "중앙         284,860\n",
      "최대     225,211,923\n",
      "likes\n",
      "평균          45,850\n",
      "최소               0\n",
      "중앙           4,987\n",
      "최대       5,613,827\n",
      "dislikes\n",
      "평균           2,259\n",
      "최소               0\n",
      "중앙             212\n",
      "최대       1,674,420\n",
      "comment_count\n",
      "평균           5,507\n",
      "최소               0\n",
      "중앙             828\n",
      "최대       1,361,580\n"
     ]
    }
   ],
   "source": [
    "#깔끔하게 정리하면\n",
    "def summary_numeric(col):  \n",
    "    print(col)\n",
    "    print(\"평균 {:>15}\".format(format(KRUS[col].mean(), \",.0f\")))\n",
    "    print(\"최소 {:>15}\".format(format(KRUS[col].min(), \",.0f\")))\n",
    "    print(\"중앙 {:>15}\".format(format(KRUS[col].median(), \",.0f\")))\n",
    "    print(\"최대 {:>15}\".format(format(KRUS[col].max(), \",.0f\")))\n",
    "\n",
    "summary_numeric(\"views\") \n",
    "summary_numeric(\"likes\")\n",
    "summary_numeric(\"dislikes\")\n",
    "summary_numeric(\"comment_count\")"
   ]
  },
  {
   "cell_type": "markdown",
   "metadata": {},
   "source": [
    "<font size=3.8>* 즉, 인기 영상은 평균 1500만 조회수, 평균 4만 5천 좋아요, 평균 5500 개의 댓글 수를 기록한 영상이다. </font>"
   ]
  },
  {
   "cell_type": "markdown",
   "metadata": {},
   "source": [
    "<b> <font size=3.5> (2) 인기 동영상 진입에 걸리는 일수 </font> </b>"
   ]
  },
  {
   "cell_type": "code",
   "execution_count": 11,
   "metadata": {},
   "outputs": [],
   "source": [
    "import datetime"
   ]
  },
  {
   "cell_type": "code",
   "execution_count": 12,
   "metadata": {},
   "outputs": [
    {
     "data": {
      "text/plain": [
       "0       2017-11-13\n",
       "1       2017-11-13\n",
       "2       2017-11-11\n",
       "3       2017-11-12\n",
       "4       2017-11-13\n",
       "           ...    \n",
       "40944   2018-05-18\n",
       "40945   2018-05-18\n",
       "40946   2018-05-18\n",
       "40947   2018-05-17\n",
       "40948   2018-05-17\n",
       "Name: publish_time, Length: 75516, dtype: datetime64[ns]"
      ]
     },
     "execution_count": 12,
     "metadata": {},
     "output_type": "execute_result"
    }
   ],
   "source": [
    "# 영상 업로드 일자(publish_time) YYYY-MM-DD 형식으로 바꾸기\n",
    "KRUS['publish_time'] =  pd.to_datetime(KRUS['publish_time'])\n",
    "KRUS[\"publish_time\"] = KRUS[\"publish_time\"].apply(lambda x : x.date()) #시간은 제거하고 YYYY-MM-DD 형식으로 표시\n",
    "KRUS[\"publish_time\"] = pd.to_datetime(KRUS[\"publish_time\"])\n",
    "KRUS['publish_time']"
   ]
  },
  {
   "cell_type": "code",
   "execution_count": 13,
   "metadata": {},
   "outputs": [
    {
     "data": {
      "text/plain": [
       "0       2017-11-14\n",
       "1       2017-11-14\n",
       "2       2017-11-14\n",
       "3       2017-11-14\n",
       "4       2017-11-14\n",
       "           ...    \n",
       "40944   2018-06-14\n",
       "40945   2018-06-14\n",
       "40946   2018-06-14\n",
       "40947   2018-06-14\n",
       "40948   2018-06-14\n",
       "Name: trending_date, Length: 75516, dtype: datetime64[ns]"
      ]
     },
     "execution_count": 13,
     "metadata": {},
     "output_type": "execute_result"
    }
   ],
   "source": [
    "# 인기 영상 진입 일자(trending_date) YYYY-MM-DD 형식으로 바꾸기\n",
    "KRUS[\"trending_date\"] = pd.to_datetime(KRUS[\"trending_date\"], format = \"%y.%d.%m\")\n",
    "KRUS[\"trending_date\"]"
   ]
  },
  {
   "cell_type": "code",
   "execution_count": 14,
   "metadata": {},
   "outputs": [
    {
     "data": {
      "text/plain": [
       "0   1 days\n",
       "1   1 days\n",
       "2   3 days\n",
       "3   2 days\n",
       "4   1 days\n",
       "5   2 days\n",
       "6   2 days\n",
       "7   2 days\n",
       "8   2 days\n",
       "9   1 days\n",
       "Name: trending-publish, dtype: timedelta64[ns]"
      ]
     },
     "execution_count": 14,
     "metadata": {},
     "output_type": "execute_result"
    }
   ],
   "source": [
    "# 동영상 게시 후 인기영상이 되는 데까지 걸리는 기간 구하기\n",
    "KRUS[\"trending-publish\"] = KRUS[\"trending_date\"] - KRUS[\"publish_time\"]\n",
    "KRUS[\"trending-publish\"].head(10)"
   ]
  },
  {
   "cell_type": "code",
   "execution_count": 15,
   "metadata": {},
   "outputs": [
    {
     "data": {
      "text/plain": [
       "count                       75516\n",
       "mean      10 days 07:52:21.204512\n",
       "std      109 days 07:26:40.495109\n",
       "min               0 days 00:00:00\n",
       "25%               2 days 00:00:00\n",
       "50%               3 days 00:00:00\n",
       "75%               6 days 00:00:00\n",
       "max            4215 days 00:00:00\n",
       "Name: trending-publish, dtype: object"
      ]
     },
     "execution_count": 15,
     "metadata": {},
     "output_type": "execute_result"
    }
   ],
   "source": [
    "KRUS[\"trending-publish\"].describe()"
   ]
  },
  {
   "cell_type": "markdown",
   "metadata": {},
   "source": [
    "<font size=3.8> * 역주행하는 영상 등 일부 이상치를 제외하면 인기 영상이 되는 결정적인 기간은 2일에서 6일이라고 볼 수 있다. 즉, 인기 영상은 대부분 2~6일 안에 화제가 된 영상들이다. </font>"
   ]
  },
  {
   "cell_type": "markdown",
   "metadata": {},
   "source": [
    "<b> <font size=3.5> (3) 업로드 월별 비교 </font> </b>"
   ]
  },
  {
   "cell_type": "code",
   "execution_count": 16,
   "metadata": {},
   "outputs": [
    {
     "data": {
      "text/plain": [
       "0        2017\n",
       "1        2017\n",
       "2        2017\n",
       "3        2017\n",
       "4        2017\n",
       "         ... \n",
       "40944    2018\n",
       "40945    2018\n",
       "40946    2018\n",
       "40947    2018\n",
       "40948    2018\n",
       "Name: publish_year, Length: 75516, dtype: int64"
      ]
     },
     "execution_count": 16,
     "metadata": {},
     "output_type": "execute_result"
    }
   ],
   "source": [
    "# publish_time에서 year만 추출하기\n",
    "KRUS['publish_year'] = KRUS['publish_time'].dt.year\n",
    "KRUS['publish_year']"
   ]
  },
  {
   "cell_type": "code",
   "execution_count": 17,
   "metadata": {},
   "outputs": [
    {
     "data": {
      "text/plain": [
       "0        11\n",
       "1        11\n",
       "2        11\n",
       "3        11\n",
       "4        11\n",
       "         ..\n",
       "40944     5\n",
       "40945     5\n",
       "40946     5\n",
       "40947     5\n",
       "40948     5\n",
       "Name: publish_month, Length: 75516, dtype: int64"
      ]
     },
     "execution_count": 17,
     "metadata": {},
     "output_type": "execute_result"
    }
   ],
   "source": [
    "# publish_time에서 month만 추출하기\n",
    "KRUS['publish_month'] = KRUS['publish_time'].dt.month\n",
    "KRUS['publish_month']"
   ]
  },
  {
   "cell_type": "code",
   "execution_count": 18,
   "metadata": {},
   "outputs": [
    {
     "data": {
      "text/plain": [
       "publish_year\n",
       "2006         258506\n",
       "2008         627600\n",
       "2009         342566\n",
       "2010        1006586\n",
       "2011        1385668\n",
       "2012        1630184\n",
       "2013        1198995\n",
       "2014        2814324\n",
       "2015        3344903\n",
       "2016        5330334\n",
       "2017    17666324052\n",
       "2018    93676658747\n",
       "Name: views, dtype: int64"
      ]
     },
     "execution_count": 18,
     "metadata": {},
     "output_type": "execute_result"
    }
   ],
   "source": [
    "# 연도별 인기 영상의 총 조회수\n",
    "year_viewsum = KRUS.groupby(['publish_year']).views.sum()\n",
    "year_viewsum"
   ]
  },
  {
   "cell_type": "markdown",
   "metadata": {},
   "source": [
    "<font size=3.8> * 2006년부터 2018년까지 데이터가 있으며 시간이 갈수록 조회수가 증가하는 추세를 보인다. 특히 2017년부터 조회수가 폭증한다. 하지만 오래 전일수록 missing data가 많다는 점도 고려해야한다.</font>"
   ]
  },
  {
   "cell_type": "code",
   "execution_count": 19,
   "metadata": {},
   "outputs": [
    {
     "name": "stdout",
     "output_type": "stream",
     "text": [
      "publish_year  publish_month\n",
      "2006          7                2.585060e+05\n",
      "2008          4                5.006425e+04\n",
      "              6                8.683025e+04\n",
      "              8                2.667400e+04\n",
      "2009          3                1.542900e+04\n",
      "                                   ...     \n",
      "2018          2                1.001543e+06\n",
      "              3                1.297452e+06\n",
      "              4                2.380266e+06\n",
      "              5                2.966923e+06\n",
      "              6                1.119022e+06\n",
      "Name: views, Length: 67, dtype: float64\n"
     ]
    }
   ],
   "source": [
    "# 월별 평균 조회수\n",
    "meanview_of_yearmonth=KRUS.groupby(['publish_year','publish_month']).views.mean()\n",
    "print(meanview_of_yearmonth)"
   ]
  },
  {
   "cell_type": "code",
   "execution_count": 20,
   "metadata": {},
   "outputs": [
    {
     "data": {
      "text/plain": [
       "publish_year  publish_month\n",
       "2018          5                2.966923e+06\n",
       "              4                2.380266e+06\n",
       "              3                1.297452e+06\n",
       "              6                1.119022e+06\n",
       "              2                1.001543e+06\n",
       "2017          11               9.753666e+05\n",
       "              12               9.109745e+05\n",
       "2016          2                8.092263e+05\n",
       "2018          1                7.818322e+05\n",
       "2017          9                5.565971e+05\n",
       "Name: views, dtype: float64"
      ]
     },
     "execution_count": 20,
     "metadata": {},
     "output_type": "execute_result"
    }
   ],
   "source": [
    "# 인기 영상의 평균 조회수가 가장 많은 달\n",
    "meanview_of_yearmonth.nlargest(10)"
   ]
  },
  {
   "cell_type": "code",
   "execution_count": 21,
   "metadata": {},
   "outputs": [
    {
     "name": "stdout",
     "output_type": "stream",
     "text": [
      "publish_year  publish_month\n",
      "2006          7                  459.000000\n",
      "2008          4                   46.000000\n",
      "              6                  469.000000\n",
      "              8                   78.333333\n",
      "2009          3                   33.500000\n",
      "                                   ...     \n",
      "2018          2                27014.854184\n",
      "              3                42494.448515\n",
      "              4                65989.207551\n",
      "              5                89349.594710\n",
      "              6                44864.217781\n",
      "Name: likes, Length: 67, dtype: float64\n"
     ]
    }
   ],
   "source": [
    "# 월별 평균 좋아요 수\n",
    "meanlike_of_yearmonth=KRUS.groupby(['publish_year','publish_month']).likes.mean()\n",
    "print(meanlike_of_yearmonth)"
   ]
  },
  {
   "cell_type": "code",
   "execution_count": 22,
   "metadata": {},
   "outputs": [
    {
     "data": {
      "text/plain": [
       "publish_year  publish_month\n",
       "2018          5                89349.594710\n",
       "              4                65989.207551\n",
       "              6                44864.217781\n",
       "              3                42494.448515\n",
       "2017          11               34798.215432\n",
       "              12               30242.630983\n",
       "2018          1                28416.924627\n",
       "              2                27014.854184\n",
       "2017          9                14371.533333\n",
       "2015          10                6857.625000\n",
       "Name: likes, dtype: float64"
      ]
     },
     "execution_count": 22,
     "metadata": {},
     "output_type": "execute_result"
    }
   ],
   "source": [
    "#인기 영상의 평균 좋아요 수가 가장 많은 달\n",
    "meanlike_of_yearmonth.nlargest(10)"
   ]
  },
  {
   "cell_type": "markdown",
   "metadata": {},
   "source": [
    "# 2. 한국, 미국 인기 동영상의 전반적 상황 (한국, 미국 데이터 비교)"
   ]
  },
  {
   "cell_type": "markdown",
   "metadata": {},
   "source": [
    "<b> <font size=3.5> (1) 한국, 미국의 비호감 영상 </font> </b>"
   ]
  },
  {
   "cell_type": "markdown",
   "metadata": {},
   "source": [
    "1-1. 한국"
   ]
  },
  {
   "cell_type": "code",
   "execution_count": 23,
   "metadata": {},
   "outputs": [],
   "source": [
    "# 싫어요수 / 조회수 변수 생성\n",
    "KR[\"dislikes_views_rate\"] = KR[\"dislikes\"] / KR[\"views\"]"
   ]
  },
  {
   "cell_type": "code",
   "execution_count": 24,
   "metadata": {},
   "outputs": [],
   "source": [
    "# 싫어요/조회수 rate 내림차순으로 정렬\n",
    "KR_rate_sort = KR.sort_values([\"dislikes_views_rate\"], ascending=[False])\n",
    "KR_rate_sort = KR_rate_sort.reset_index(drop=True)"
   ]
  },
  {
   "cell_type": "code",
   "execution_count": 25,
   "metadata": {},
   "outputs": [
    {
     "data": {
      "text/html": [
       "<div>\n",
       "<style scoped>\n",
       "    .dataframe tbody tr th:only-of-type {\n",
       "        vertical-align: middle;\n",
       "    }\n",
       "\n",
       "    .dataframe tbody tr th {\n",
       "        vertical-align: top;\n",
       "    }\n",
       "\n",
       "    .dataframe thead th {\n",
       "        text-align: right;\n",
       "    }\n",
       "</style>\n",
       "<table border=\"1\" class=\"dataframe\">\n",
       "  <thead>\n",
       "    <tr style=\"text-align: right;\">\n",
       "      <th></th>\n",
       "      <th>video_id</th>\n",
       "      <th>trending_date</th>\n",
       "      <th>title</th>\n",
       "      <th>channel_title</th>\n",
       "      <th>category_id</th>\n",
       "      <th>publish_time</th>\n",
       "      <th>tags</th>\n",
       "      <th>views</th>\n",
       "      <th>likes</th>\n",
       "      <th>dislikes</th>\n",
       "      <th>comment_count</th>\n",
       "      <th>thumbnail_link</th>\n",
       "      <th>comments_disabled</th>\n",
       "      <th>ratings_disabled</th>\n",
       "      <th>video_error_or_removed</th>\n",
       "      <th>description</th>\n",
       "      <th>country</th>\n",
       "      <th>dislikes_views_rate</th>\n",
       "    </tr>\n",
       "  </thead>\n",
       "  <tbody>\n",
       "    <tr>\n",
       "      <th>0</th>\n",
       "      <td>_4XMgqNMwJs</td>\n",
       "      <td>17.20.12</td>\n",
       "      <td>12.18] 12.19] 스크림팀 갓건배 오늘 11시 시작합니다!!!!  오버워치 ...</td>\n",
       "      <td>갓건배</td>\n",
       "      <td>20</td>\n",
       "      <td>2017-12-19T18:51:12.000Z</td>\n",
       "      <td>[none]</td>\n",
       "      <td>9056</td>\n",
       "      <td>320</td>\n",
       "      <td>387</td>\n",
       "      <td>21</td>\n",
       "      <td>https://i.ytimg.com/vi/_4XMgqNMwJs/default.jpg</td>\n",
       "      <td>False</td>\n",
       "      <td>False</td>\n",
       "      <td>False</td>\n",
       "      <td></td>\n",
       "      <td>KR</td>\n",
       "      <td>0.042734</td>\n",
       "    </tr>\n",
       "    <tr>\n",
       "      <th>1</th>\n",
       "      <td>a5jpM7biXp4</td>\n",
       "      <td>18.07.01</td>\n",
       "      <td>1.6] 슬라임 개부자 갓건배방송. 오버워치 부캐 배치봅니다. 그마갑니다. 여러분들...</td>\n",
       "      <td>갓건배</td>\n",
       "      <td>20</td>\n",
       "      <td>2018-01-07T07:39:37.000Z</td>\n",
       "      <td>[none]</td>\n",
       "      <td>22978</td>\n",
       "      <td>656</td>\n",
       "      <td>912</td>\n",
       "      <td>278</td>\n",
       "      <td>https://i.ytimg.com/vi/a5jpM7biXp4/default.jpg</td>\n",
       "      <td>False</td>\n",
       "      <td>False</td>\n",
       "      <td>False</td>\n",
       "      <td></td>\n",
       "      <td>KR</td>\n",
       "      <td>0.039690</td>\n",
       "    </tr>\n",
       "    <tr>\n",
       "      <th>2</th>\n",
       "      <td>rzUpGAmhgPc</td>\n",
       "      <td>17.28.11</td>\n",
       "      <td>Chi Pu | EM SAI RỒI ANH XIN LỖI EM ĐI (#ESRAXL...</td>\n",
       "      <td>Chi Pu Official</td>\n",
       "      <td>24</td>\n",
       "      <td>2017-11-26T13:00:40.000Z</td>\n",
       "      <td>Chi Pu|\"em sai rồi anh xin lỗi em đi\"|\"em sai ...</td>\n",
       "      <td>2354772</td>\n",
       "      <td>89525</td>\n",
       "      <td>72335</td>\n",
       "      <td>26431</td>\n",
       "      <td>https://i.ytimg.com/vi/rzUpGAmhgPc/default.jpg</td>\n",
       "      <td>False</td>\n",
       "      <td>False</td>\n",
       "      <td>False</td>\n",
       "      <td>EM SAI RỒI ANH XIN LỖI EM ĐI (#ESRAXLED) - OFF...</td>\n",
       "      <td>KR</td>\n",
       "      <td>0.030718</td>\n",
       "    </tr>\n",
       "    <tr>\n",
       "      <th>3</th>\n",
       "      <td>M_Mtb-XR4Us</td>\n",
       "      <td>18.16.01</td>\n",
       "      <td>1.14] 오버워치 부캐(남친계정대리중)참교육방송 및 11시 스크림팀!!!  오버워...</td>\n",
       "      <td>갓건배</td>\n",
       "      <td>20</td>\n",
       "      <td>2018-01-15T00:42:44.000Z</td>\n",
       "      <td>[none]</td>\n",
       "      <td>20526</td>\n",
       "      <td>555</td>\n",
       "      <td>602</td>\n",
       "      <td>103</td>\n",
       "      <td>https://i.ytimg.com/vi/M_Mtb-XR4Us/default.jpg</td>\n",
       "      <td>False</td>\n",
       "      <td>False</td>\n",
       "      <td>False</td>\n",
       "      <td></td>\n",
       "      <td>KR</td>\n",
       "      <td>0.029329</td>\n",
       "    </tr>\n",
       "    <tr>\n",
       "      <th>4</th>\n",
       "      <td>VWH6NGjrG4Q</td>\n",
       "      <td>17.21.11</td>\n",
       "      <td>[변희재의 시사폭격] 조원진과 김경혜의 대한애국당 사망선고일! 그래도 희망은 잃지 말자</td>\n",
       "      <td>미디어워치 TV</td>\n",
       "      <td>24</td>\n",
       "      <td>2017-11-20T12:32:20.000Z</td>\n",
       "      <td>#조원진|\"#김경혜\"|\"#대한애국당\"|\"#조원진 김경혜\"|\"#조원진 대표\"|\"#김경...</td>\n",
       "      <td>42283</td>\n",
       "      <td>1456</td>\n",
       "      <td>1145</td>\n",
       "      <td>1184</td>\n",
       "      <td>https://i.ytimg.com/vi/VWH6NGjrG4Q/default.jpg</td>\n",
       "      <td>False</td>\n",
       "      <td>False</td>\n",
       "      <td>False</td>\n",
       "      <td>◆시사폭격 258회◆</td>\n",
       "      <td>KR</td>\n",
       "      <td>0.027079</td>\n",
       "    </tr>\n",
       "  </tbody>\n",
       "</table>\n",
       "</div>"
      ],
      "text/plain": [
       "      video_id trending_date  \\\n",
       "0  _4XMgqNMwJs      17.20.12   \n",
       "1  a5jpM7biXp4      18.07.01   \n",
       "2  rzUpGAmhgPc      17.28.11   \n",
       "3  M_Mtb-XR4Us      18.16.01   \n",
       "4  VWH6NGjrG4Q      17.21.11   \n",
       "\n",
       "                                               title    channel_title  \\\n",
       "0  12.18] 12.19] 스크림팀 갓건배 오늘 11시 시작합니다!!!!  오버워치 ...              갓건배   \n",
       "1  1.6] 슬라임 개부자 갓건배방송. 오버워치 부캐 배치봅니다. 그마갑니다. 여러분들...              갓건배   \n",
       "2  Chi Pu | EM SAI RỒI ANH XIN LỖI EM ĐI (#ESRAXL...  Chi Pu Official   \n",
       "3  1.14] 오버워치 부캐(남친계정대리중)참교육방송 및 11시 스크림팀!!!  오버워...              갓건배   \n",
       "4   [변희재의 시사폭격] 조원진과 김경혜의 대한애국당 사망선고일! 그래도 희망은 잃지 말자         미디어워치 TV   \n",
       "\n",
       "   category_id              publish_time  \\\n",
       "0           20  2017-12-19T18:51:12.000Z   \n",
       "1           20  2018-01-07T07:39:37.000Z   \n",
       "2           24  2017-11-26T13:00:40.000Z   \n",
       "3           20  2018-01-15T00:42:44.000Z   \n",
       "4           24  2017-11-20T12:32:20.000Z   \n",
       "\n",
       "                                                tags    views  likes  \\\n",
       "0                                             [none]     9056    320   \n",
       "1                                             [none]    22978    656   \n",
       "2  Chi Pu|\"em sai rồi anh xin lỗi em đi\"|\"em sai ...  2354772  89525   \n",
       "3                                             [none]    20526    555   \n",
       "4  #조원진|\"#김경혜\"|\"#대한애국당\"|\"#조원진 김경혜\"|\"#조원진 대표\"|\"#김경...    42283   1456   \n",
       "\n",
       "   dislikes  comment_count                                  thumbnail_link  \\\n",
       "0       387             21  https://i.ytimg.com/vi/_4XMgqNMwJs/default.jpg   \n",
       "1       912            278  https://i.ytimg.com/vi/a5jpM7biXp4/default.jpg   \n",
       "2     72335          26431  https://i.ytimg.com/vi/rzUpGAmhgPc/default.jpg   \n",
       "3       602            103  https://i.ytimg.com/vi/M_Mtb-XR4Us/default.jpg   \n",
       "4      1145           1184  https://i.ytimg.com/vi/VWH6NGjrG4Q/default.jpg   \n",
       "\n",
       "   comments_disabled  ratings_disabled  video_error_or_removed  \\\n",
       "0              False             False                   False   \n",
       "1              False             False                   False   \n",
       "2              False             False                   False   \n",
       "3              False             False                   False   \n",
       "4              False             False                   False   \n",
       "\n",
       "                                         description country  \\\n",
       "0                                                         KR   \n",
       "1                                                         KR   \n",
       "2  EM SAI RỒI ANH XIN LỖI EM ĐI (#ESRAXLED) - OFF...      KR   \n",
       "3                                                         KR   \n",
       "4                                        ◆시사폭격 258회◆      KR   \n",
       "\n",
       "   dislikes_views_rate  \n",
       "0             0.042734  \n",
       "1             0.039690  \n",
       "2             0.030718  \n",
       "3             0.029329  \n",
       "4             0.027079  "
      ]
     },
     "execution_count": 25,
     "metadata": {},
     "output_type": "execute_result"
    }
   ],
   "source": [
    "#top5 추출하기\n",
    "KR_rate_top5 = KR_rate_sort.iloc[0:5, ]\n",
    "KR_rate_top5.head(5)"
   ]
  },
  {
   "cell_type": "markdown",
   "metadata": {},
   "source": [
    "<font size=3.8> * 한국에서 조회수 대비 싫어요가 많은 인기 영상은 갓건배의 영상이 많으며, 싫어요/조회수 rate은 0.03~0.04 정도이다.</font>"
   ]
  },
  {
   "cell_type": "markdown",
   "metadata": {},
   "source": [
    "단편적인 싫어요 수와 싫어요/조회수 rate의 차이를 비교하면"
   ]
  },
  {
   "cell_type": "code",
   "execution_count": 26,
   "metadata": {},
   "outputs": [
    {
     "data": {
      "text/html": [
       "<div>\n",
       "<style scoped>\n",
       "    .dataframe tbody tr th:only-of-type {\n",
       "        vertical-align: middle;\n",
       "    }\n",
       "\n",
       "    .dataframe tbody tr th {\n",
       "        vertical-align: top;\n",
       "    }\n",
       "\n",
       "    .dataframe thead th {\n",
       "        text-align: right;\n",
       "    }\n",
       "</style>\n",
       "<table border=\"1\" class=\"dataframe\">\n",
       "  <thead>\n",
       "    <tr style=\"text-align: right;\">\n",
       "      <th></th>\n",
       "      <th>video_id</th>\n",
       "      <th>trending_date</th>\n",
       "      <th>title</th>\n",
       "      <th>channel_title</th>\n",
       "      <th>category_id</th>\n",
       "      <th>publish_time</th>\n",
       "      <th>tags</th>\n",
       "      <th>views</th>\n",
       "      <th>likes</th>\n",
       "      <th>dislikes</th>\n",
       "      <th>comment_count</th>\n",
       "      <th>thumbnail_link</th>\n",
       "      <th>comments_disabled</th>\n",
       "      <th>ratings_disabled</th>\n",
       "      <th>video_error_or_removed</th>\n",
       "      <th>description</th>\n",
       "      <th>country</th>\n",
       "      <th>dislikes_views_rate</th>\n",
       "    </tr>\n",
       "  </thead>\n",
       "  <tbody>\n",
       "    <tr>\n",
       "      <th>4856</th>\n",
       "      <td>FlsCjmMhFmw</td>\n",
       "      <td>17.11.12</td>\n",
       "      <td>YouTube Rewind: The Shape of 2017 | #YouTubeRe...</td>\n",
       "      <td>YouTube Spotlight</td>\n",
       "      <td>24</td>\n",
       "      <td>2017-12-06T17:58:51.000Z</td>\n",
       "      <td>Rewind|\"Rewind 2017\"|\"youtube rewind 2017\"|\"#Y...</td>\n",
       "      <td>113876217</td>\n",
       "      <td>2811223</td>\n",
       "      <td>1470388</td>\n",
       "      <td>787174</td>\n",
       "      <td>https://i.ytimg.com/vi/FlsCjmMhFmw/default.jpg</td>\n",
       "      <td>False</td>\n",
       "      <td>False</td>\n",
       "      <td>False</td>\n",
       "      <td>YouTube Rewind 2017. Celebrating the videos, p...</td>\n",
       "      <td>KR</td>\n",
       "      <td>0.012912</td>\n",
       "    </tr>\n",
       "    <tr>\n",
       "      <th>4678</th>\n",
       "      <td>FlsCjmMhFmw</td>\n",
       "      <td>17.10.12</td>\n",
       "      <td>YouTube Rewind: The Shape of 2017 | #YouTubeRe...</td>\n",
       "      <td>YouTube Spotlight</td>\n",
       "      <td>24</td>\n",
       "      <td>2017-12-06T17:58:51.000Z</td>\n",
       "      <td>Rewind|\"Rewind 2017\"|\"youtube rewind 2017\"|\"#Y...</td>\n",
       "      <td>100911567</td>\n",
       "      <td>2656686</td>\n",
       "      <td>1353663</td>\n",
       "      <td>682890</td>\n",
       "      <td>https://i.ytimg.com/vi/FlsCjmMhFmw/default.jpg</td>\n",
       "      <td>False</td>\n",
       "      <td>False</td>\n",
       "      <td>False</td>\n",
       "      <td>YouTube Rewind 2017. Celebrating the videos, p...</td>\n",
       "      <td>KR</td>\n",
       "      <td>0.013414</td>\n",
       "    </tr>\n",
       "    <tr>\n",
       "      <th>4453</th>\n",
       "      <td>FlsCjmMhFmw</td>\n",
       "      <td>17.09.12</td>\n",
       "      <td>YouTube Rewind: The Shape of 2017 | #YouTubeRe...</td>\n",
       "      <td>YouTube Spotlight</td>\n",
       "      <td>24</td>\n",
       "      <td>2017-12-06T17:58:51.000Z</td>\n",
       "      <td>Rewind|\"Rewind 2017\"|\"youtube rewind 2017\"|\"#Y...</td>\n",
       "      <td>75969469</td>\n",
       "      <td>2251837</td>\n",
       "      <td>1127817</td>\n",
       "      <td>827771</td>\n",
       "      <td>https://i.ytimg.com/vi/FlsCjmMhFmw/default.jpg</td>\n",
       "      <td>False</td>\n",
       "      <td>False</td>\n",
       "      <td>False</td>\n",
       "      <td>YouTube Rewind 2017. Celebrating the videos, p...</td>\n",
       "      <td>KR</td>\n",
       "      <td>0.014846</td>\n",
       "    </tr>\n",
       "    <tr>\n",
       "      <th>4244</th>\n",
       "      <td>FlsCjmMhFmw</td>\n",
       "      <td>17.08.12</td>\n",
       "      <td>YouTube Rewind: The Shape of 2017 | #YouTubeRe...</td>\n",
       "      <td>YouTube Spotlight</td>\n",
       "      <td>24</td>\n",
       "      <td>2017-12-06T17:58:51.000Z</td>\n",
       "      <td>Rewind|\"Rewind 2017\"|\"youtube rewind 2017\"|\"#Y...</td>\n",
       "      <td>52611730</td>\n",
       "      <td>1891832</td>\n",
       "      <td>884965</td>\n",
       "      <td>702790</td>\n",
       "      <td>https://i.ytimg.com/vi/FlsCjmMhFmw/default.jpg</td>\n",
       "      <td>False</td>\n",
       "      <td>False</td>\n",
       "      <td>False</td>\n",
       "      <td>YouTube Rewind 2017. Celebrating the videos, p...</td>\n",
       "      <td>KR</td>\n",
       "      <td>0.016821</td>\n",
       "    </tr>\n",
       "    <tr>\n",
       "      <th>30844</th>\n",
       "      <td>7C2z4GqqS5E</td>\n",
       "      <td>18.24.05</td>\n",
       "      <td>BTS (방탄소년단) 'FAKE LOVE' Official MV</td>\n",
       "      <td>ibighit</td>\n",
       "      <td>10</td>\n",
       "      <td>2018-05-18T09:00:02.000Z</td>\n",
       "      <td>BIGHIT|\"빅히트\"|\"방탄소년단\"|\"BTS\"|\"BANGTAN\"|\"방탄\"|\"FAK...</td>\n",
       "      <td>87430865</td>\n",
       "      <td>5150839</td>\n",
       "      <td>172570</td>\n",
       "      <td>1142274</td>\n",
       "      <td>https://i.ytimg.com/vi/7C2z4GqqS5E/default.jpg</td>\n",
       "      <td>False</td>\n",
       "      <td>False</td>\n",
       "      <td>False</td>\n",
       "      <td>BTS (방탄소년단) 'FAKE LOVE' Official MVDirector : ...</td>\n",
       "      <td>KR</td>\n",
       "      <td>0.001974</td>\n",
       "    </tr>\n",
       "  </tbody>\n",
       "</table>\n",
       "</div>"
      ],
      "text/plain": [
       "          video_id trending_date  \\\n",
       "4856   FlsCjmMhFmw      17.11.12   \n",
       "4678   FlsCjmMhFmw      17.10.12   \n",
       "4453   FlsCjmMhFmw      17.09.12   \n",
       "4244   FlsCjmMhFmw      17.08.12   \n",
       "30844  7C2z4GqqS5E      18.24.05   \n",
       "\n",
       "                                                   title      channel_title  \\\n",
       "4856   YouTube Rewind: The Shape of 2017 | #YouTubeRe...  YouTube Spotlight   \n",
       "4678   YouTube Rewind: The Shape of 2017 | #YouTubeRe...  YouTube Spotlight   \n",
       "4453   YouTube Rewind: The Shape of 2017 | #YouTubeRe...  YouTube Spotlight   \n",
       "4244   YouTube Rewind: The Shape of 2017 | #YouTubeRe...  YouTube Spotlight   \n",
       "30844                BTS (방탄소년단) 'FAKE LOVE' Official MV            ibighit   \n",
       "\n",
       "       category_id              publish_time  \\\n",
       "4856            24  2017-12-06T17:58:51.000Z   \n",
       "4678            24  2017-12-06T17:58:51.000Z   \n",
       "4453            24  2017-12-06T17:58:51.000Z   \n",
       "4244            24  2017-12-06T17:58:51.000Z   \n",
       "30844           10  2018-05-18T09:00:02.000Z   \n",
       "\n",
       "                                                    tags      views    likes  \\\n",
       "4856   Rewind|\"Rewind 2017\"|\"youtube rewind 2017\"|\"#Y...  113876217  2811223   \n",
       "4678   Rewind|\"Rewind 2017\"|\"youtube rewind 2017\"|\"#Y...  100911567  2656686   \n",
       "4453   Rewind|\"Rewind 2017\"|\"youtube rewind 2017\"|\"#Y...   75969469  2251837   \n",
       "4244   Rewind|\"Rewind 2017\"|\"youtube rewind 2017\"|\"#Y...   52611730  1891832   \n",
       "30844  BIGHIT|\"빅히트\"|\"방탄소년단\"|\"BTS\"|\"BANGTAN\"|\"방탄\"|\"FAK...   87430865  5150839   \n",
       "\n",
       "       dislikes  comment_count  \\\n",
       "4856    1470388         787174   \n",
       "4678    1353663         682890   \n",
       "4453    1127817         827771   \n",
       "4244     884965         702790   \n",
       "30844    172570        1142274   \n",
       "\n",
       "                                       thumbnail_link  comments_disabled  \\\n",
       "4856   https://i.ytimg.com/vi/FlsCjmMhFmw/default.jpg              False   \n",
       "4678   https://i.ytimg.com/vi/FlsCjmMhFmw/default.jpg              False   \n",
       "4453   https://i.ytimg.com/vi/FlsCjmMhFmw/default.jpg              False   \n",
       "4244   https://i.ytimg.com/vi/FlsCjmMhFmw/default.jpg              False   \n",
       "30844  https://i.ytimg.com/vi/7C2z4GqqS5E/default.jpg              False   \n",
       "\n",
       "       ratings_disabled  video_error_or_removed  \\\n",
       "4856              False                   False   \n",
       "4678              False                   False   \n",
       "4453              False                   False   \n",
       "4244              False                   False   \n",
       "30844             False                   False   \n",
       "\n",
       "                                             description country  \\\n",
       "4856   YouTube Rewind 2017. Celebrating the videos, p...      KR   \n",
       "4678   YouTube Rewind 2017. Celebrating the videos, p...      KR   \n",
       "4453   YouTube Rewind 2017. Celebrating the videos, p...      KR   \n",
       "4244   YouTube Rewind 2017. Celebrating the videos, p...      KR   \n",
       "30844  BTS (방탄소년단) 'FAKE LOVE' Official MVDirector : ...      KR   \n",
       "\n",
       "       dislikes_views_rate  \n",
       "4856              0.012912  \n",
       "4678              0.013414  \n",
       "4453              0.014846  \n",
       "4244              0.016821  \n",
       "30844             0.001974  "
      ]
     },
     "execution_count": 26,
     "metadata": {},
     "output_type": "execute_result"
    }
   ],
   "source": [
    "#한국 싫어요수 top5 video와 rate top5 video의 비교\n",
    "dislikes_top5_KR = KR.sort_values(by='dislikes', ascending = [False])\n",
    "dislikes_top5_KR.head(5)"
   ]
  },
  {
   "cell_type": "markdown",
   "metadata": {},
   "source": [
    "<font size=3.8>* 한국의 싫어요수 top5 비디오와 dislike rate top5 비디오를 비교했을때 일치하는 것이 하나도 없다. 싫어요 수 top5의 rate는 0.001~0.01 로 dislike rate top5와 비교했을때 낮은 수준이다.</font>"
   ]
  },
  {
   "cell_type": "markdown",
   "metadata": {},
   "source": [
    "1-2. 미국"
   ]
  },
  {
   "cell_type": "code",
   "execution_count": 27,
   "metadata": {},
   "outputs": [],
   "source": [
    "# 싫어요수 / 조회수 변수 생성\n",
    "US[\"dislikes_views_rate\"] = US[\"dislikes\"] / US[\"views\"]"
   ]
  },
  {
   "cell_type": "code",
   "execution_count": 28,
   "metadata": {},
   "outputs": [],
   "source": [
    "# 싫어요/조회수 rate 내림차순으로 정렬\n",
    "US_rate_sort = US.sort_values([\"dislikes_views_rate\"], ascending=[False])\n",
    "US_rate_sort = US_rate_sort.reset_index(drop=True)"
   ]
  },
  {
   "cell_type": "code",
   "execution_count": 29,
   "metadata": {},
   "outputs": [
    {
     "data": {
      "text/html": [
       "<div>\n",
       "<style scoped>\n",
       "    .dataframe tbody tr th:only-of-type {\n",
       "        vertical-align: middle;\n",
       "    }\n",
       "\n",
       "    .dataframe tbody tr th {\n",
       "        vertical-align: top;\n",
       "    }\n",
       "\n",
       "    .dataframe thead th {\n",
       "        text-align: right;\n",
       "    }\n",
       "</style>\n",
       "<table border=\"1\" class=\"dataframe\">\n",
       "  <thead>\n",
       "    <tr style=\"text-align: right;\">\n",
       "      <th></th>\n",
       "      <th>video_id</th>\n",
       "      <th>trending_date</th>\n",
       "      <th>title</th>\n",
       "      <th>channel_title</th>\n",
       "      <th>category_id</th>\n",
       "      <th>publish_time</th>\n",
       "      <th>tags</th>\n",
       "      <th>views</th>\n",
       "      <th>likes</th>\n",
       "      <th>dislikes</th>\n",
       "      <th>comment_count</th>\n",
       "      <th>thumbnail_link</th>\n",
       "      <th>comments_disabled</th>\n",
       "      <th>ratings_disabled</th>\n",
       "      <th>video_error_or_removed</th>\n",
       "      <th>description</th>\n",
       "      <th>country</th>\n",
       "      <th>dislikes_views_rate</th>\n",
       "    </tr>\n",
       "  </thead>\n",
       "  <tbody>\n",
       "    <tr>\n",
       "      <th>0</th>\n",
       "      <td>LFhT6H6pRWg</td>\n",
       "      <td>17.19.12</td>\n",
       "      <td>PSA from Chairman of the FCC Ajit Pai</td>\n",
       "      <td>Daily Caller</td>\n",
       "      <td>22</td>\n",
       "      <td>2017-12-13T22:52:57.000Z</td>\n",
       "      <td>thedc|\"dc\"|\"washington dc\"|\"washington\"|\"the d...</td>\n",
       "      <td>1142585</td>\n",
       "      <td>9100</td>\n",
       "      <td>218841</td>\n",
       "      <td>28013</td>\n",
       "      <td>https://i.ytimg.com/vi/LFhT6H6pRWg/default.jpg</td>\n",
       "      <td>False</td>\n",
       "      <td>False</td>\n",
       "      <td>False</td>\n",
       "      <td>Ajit Pai has been at the heart of the net neut...</td>\n",
       "      <td>US</td>\n",
       "      <td>0.191531</td>\n",
       "    </tr>\n",
       "    <tr>\n",
       "      <th>1</th>\n",
       "      <td>LFhT6H6pRWg</td>\n",
       "      <td>17.20.12</td>\n",
       "      <td>PSA from Chairman of the FCC Ajit Pai</td>\n",
       "      <td>Daily Caller</td>\n",
       "      <td>22</td>\n",
       "      <td>2017-12-13T22:52:57.000Z</td>\n",
       "      <td>thedc|\"dc\"|\"washington dc\"|\"washington\"|\"the d...</td>\n",
       "      <td>1179072</td>\n",
       "      <td>9368</td>\n",
       "      <td>224152</td>\n",
       "      <td>29063</td>\n",
       "      <td>https://i.ytimg.com/vi/LFhT6H6pRWg/default.jpg</td>\n",
       "      <td>False</td>\n",
       "      <td>False</td>\n",
       "      <td>False</td>\n",
       "      <td>Ajit Pai has been at the heart of the net neut...</td>\n",
       "      <td>US</td>\n",
       "      <td>0.190109</td>\n",
       "    </tr>\n",
       "    <tr>\n",
       "      <th>2</th>\n",
       "      <td>LFhT6H6pRWg</td>\n",
       "      <td>17.21.12</td>\n",
       "      <td>PSA from Chairman of the FCC Ajit Pai</td>\n",
       "      <td>Daily Caller</td>\n",
       "      <td>22</td>\n",
       "      <td>2017-12-13T22:52:57.000Z</td>\n",
       "      <td>thedc|\"dc\"|\"washington dc\"|\"washington\"|\"the d...</td>\n",
       "      <td>1205682</td>\n",
       "      <td>9572</td>\n",
       "      <td>228426</td>\n",
       "      <td>29634</td>\n",
       "      <td>https://i.ytimg.com/vi/LFhT6H6pRWg/default.jpg</td>\n",
       "      <td>False</td>\n",
       "      <td>False</td>\n",
       "      <td>False</td>\n",
       "      <td>Ajit Pai has been at the heart of the net neut...</td>\n",
       "      <td>US</td>\n",
       "      <td>0.189458</td>\n",
       "    </tr>\n",
       "    <tr>\n",
       "      <th>3</th>\n",
       "      <td>GnGPAYvve1A</td>\n",
       "      <td>18.08.06</td>\n",
       "      <td>#ProudToCreate: Pride 2018</td>\n",
       "      <td>YouTube Spotlight</td>\n",
       "      <td>24</td>\n",
       "      <td>2018-06-07T19:08:51.000Z</td>\n",
       "      <td>#Pride|\"#ProudToCreate\"|\"#ProudToBe\"|\"#ProudTo...</td>\n",
       "      <td>597669</td>\n",
       "      <td>29781</td>\n",
       "      <td>71617</td>\n",
       "      <td>55110</td>\n",
       "      <td>https://i.ytimg.com/vi/GnGPAYvve1A/default.jpg</td>\n",
       "      <td>False</td>\n",
       "      <td>False</td>\n",
       "      <td>False</td>\n",
       "      <td>You don't just imagine a better future – you c...</td>\n",
       "      <td>US</td>\n",
       "      <td>0.119827</td>\n",
       "    </tr>\n",
       "    <tr>\n",
       "      <th>4</th>\n",
       "      <td>8d_202l55LU</td>\n",
       "      <td>17.15.12</td>\n",
       "      <td>The FCC repeals its net neutrality rules</td>\n",
       "      <td>Washington Post</td>\n",
       "      <td>25</td>\n",
       "      <td>2017-12-14T18:49:06.000Z</td>\n",
       "      <td>fcc net neutrality|\"breaking news video\"|\"vide...</td>\n",
       "      <td>985179</td>\n",
       "      <td>4870</td>\n",
       "      <td>110707</td>\n",
       "      <td>19843</td>\n",
       "      <td>https://i.ytimg.com/vi/8d_202l55LU/default.jpg</td>\n",
       "      <td>False</td>\n",
       "      <td>False</td>\n",
       "      <td>False</td>\n",
       "      <td>Federal regulators vote to allow Internet prov...</td>\n",
       "      <td>US</td>\n",
       "      <td>0.112372</td>\n",
       "    </tr>\n",
       "  </tbody>\n",
       "</table>\n",
       "</div>"
      ],
      "text/plain": [
       "      video_id trending_date                                     title  \\\n",
       "0  LFhT6H6pRWg      17.19.12     PSA from Chairman of the FCC Ajit Pai   \n",
       "1  LFhT6H6pRWg      17.20.12     PSA from Chairman of the FCC Ajit Pai   \n",
       "2  LFhT6H6pRWg      17.21.12     PSA from Chairman of the FCC Ajit Pai   \n",
       "3  GnGPAYvve1A      18.08.06                #ProudToCreate: Pride 2018   \n",
       "4  8d_202l55LU      17.15.12  The FCC repeals its net neutrality rules   \n",
       "\n",
       "       channel_title  category_id              publish_time  \\\n",
       "0       Daily Caller           22  2017-12-13T22:52:57.000Z   \n",
       "1       Daily Caller           22  2017-12-13T22:52:57.000Z   \n",
       "2       Daily Caller           22  2017-12-13T22:52:57.000Z   \n",
       "3  YouTube Spotlight           24  2018-06-07T19:08:51.000Z   \n",
       "4    Washington Post           25  2017-12-14T18:49:06.000Z   \n",
       "\n",
       "                                                tags    views  likes  \\\n",
       "0  thedc|\"dc\"|\"washington dc\"|\"washington\"|\"the d...  1142585   9100   \n",
       "1  thedc|\"dc\"|\"washington dc\"|\"washington\"|\"the d...  1179072   9368   \n",
       "2  thedc|\"dc\"|\"washington dc\"|\"washington\"|\"the d...  1205682   9572   \n",
       "3  #Pride|\"#ProudToCreate\"|\"#ProudToBe\"|\"#ProudTo...   597669  29781   \n",
       "4  fcc net neutrality|\"breaking news video\"|\"vide...   985179   4870   \n",
       "\n",
       "   dislikes  comment_count                                  thumbnail_link  \\\n",
       "0    218841          28013  https://i.ytimg.com/vi/LFhT6H6pRWg/default.jpg   \n",
       "1    224152          29063  https://i.ytimg.com/vi/LFhT6H6pRWg/default.jpg   \n",
       "2    228426          29634  https://i.ytimg.com/vi/LFhT6H6pRWg/default.jpg   \n",
       "3     71617          55110  https://i.ytimg.com/vi/GnGPAYvve1A/default.jpg   \n",
       "4    110707          19843  https://i.ytimg.com/vi/8d_202l55LU/default.jpg   \n",
       "\n",
       "   comments_disabled  ratings_disabled  video_error_or_removed  \\\n",
       "0              False             False                   False   \n",
       "1              False             False                   False   \n",
       "2              False             False                   False   \n",
       "3              False             False                   False   \n",
       "4              False             False                   False   \n",
       "\n",
       "                                         description country  \\\n",
       "0  Ajit Pai has been at the heart of the net neut...      US   \n",
       "1  Ajit Pai has been at the heart of the net neut...      US   \n",
       "2  Ajit Pai has been at the heart of the net neut...      US   \n",
       "3  You don't just imagine a better future – you c...      US   \n",
       "4  Federal regulators vote to allow Internet prov...      US   \n",
       "\n",
       "   dislikes_views_rate  \n",
       "0             0.191531  \n",
       "1             0.190109  \n",
       "2             0.189458  \n",
       "3             0.119827  \n",
       "4             0.112372  "
      ]
     },
     "execution_count": 29,
     "metadata": {},
     "output_type": "execute_result"
    }
   ],
   "source": [
    "#top5 추출하기\n",
    "US_rate_top5 = US_rate_sort.iloc[0:5, ]\n",
    "US_rate_top5.head(5)"
   ]
  },
  {
   "cell_type": "markdown",
   "metadata": {},
   "source": [
    "<font size=3.8> * 미국의 경우 Daily Caller 채널의 동영상이 많다. 확인해보니 우익의 뉴스를 전하는 채널이다. 싫어요/조회수 rate은 0.1 ~ 0.2 정도로 상당히 높은 수준이다. </font>"
   ]
  },
  {
   "cell_type": "code",
   "execution_count": 30,
   "metadata": {},
   "outputs": [
    {
     "data": {
      "text/html": [
       "<div>\n",
       "<style scoped>\n",
       "    .dataframe tbody tr th:only-of-type {\n",
       "        vertical-align: middle;\n",
       "    }\n",
       "\n",
       "    .dataframe tbody tr th {\n",
       "        vertical-align: top;\n",
       "    }\n",
       "\n",
       "    .dataframe thead th {\n",
       "        text-align: right;\n",
       "    }\n",
       "</style>\n",
       "<table border=\"1\" class=\"dataframe\">\n",
       "  <thead>\n",
       "    <tr style=\"text-align: right;\">\n",
       "      <th></th>\n",
       "      <th>video_id</th>\n",
       "      <th>trending_date</th>\n",
       "      <th>title</th>\n",
       "      <th>channel_title</th>\n",
       "      <th>category_id</th>\n",
       "      <th>publish_time</th>\n",
       "      <th>tags</th>\n",
       "      <th>views</th>\n",
       "      <th>likes</th>\n",
       "      <th>dislikes</th>\n",
       "      <th>comment_count</th>\n",
       "      <th>thumbnail_link</th>\n",
       "      <th>comments_disabled</th>\n",
       "      <th>ratings_disabled</th>\n",
       "      <th>video_error_or_removed</th>\n",
       "      <th>description</th>\n",
       "      <th>country</th>\n",
       "      <th>dislikes_views_rate</th>\n",
       "    </tr>\n",
       "  </thead>\n",
       "  <tbody>\n",
       "    <tr>\n",
       "      <th>11323</th>\n",
       "      <td>QwZT7T-TXT0</td>\n",
       "      <td>18.09.01</td>\n",
       "      <td>So Sorry.</td>\n",
       "      <td>Logan Paul Vlogs</td>\n",
       "      <td>24</td>\n",
       "      <td>2018-01-02T16:42:21.000Z</td>\n",
       "      <td>logan paul vlog|\"logan paul\"|\"logan\"|\"paul\"|\"o...</td>\n",
       "      <td>37539570</td>\n",
       "      <td>1402578</td>\n",
       "      <td>1674420</td>\n",
       "      <td>1361580</td>\n",
       "      <td>https://i.ytimg.com/vi/QwZT7T-TXT0/default.jpg</td>\n",
       "      <td>False</td>\n",
       "      <td>False</td>\n",
       "      <td>False</td>\n",
       "      <td></td>\n",
       "      <td>US</td>\n",
       "      <td>0.044604</td>\n",
       "    </tr>\n",
       "    <tr>\n",
       "      <th>6181</th>\n",
       "      <td>FlsCjmMhFmw</td>\n",
       "      <td>17.14.12</td>\n",
       "      <td>YouTube Rewind: The Shape of 2017 | #YouTubeRe...</td>\n",
       "      <td>YouTube Spotlight</td>\n",
       "      <td>24</td>\n",
       "      <td>2017-12-06T17:58:51.000Z</td>\n",
       "      <td>Rewind|\"Rewind 2017\"|\"youtube rewind 2017\"|\"#Y...</td>\n",
       "      <td>149376127</td>\n",
       "      <td>3093544</td>\n",
       "      <td>1643059</td>\n",
       "      <td>810698</td>\n",
       "      <td>https://i.ytimg.com/vi/FlsCjmMhFmw/default.jpg</td>\n",
       "      <td>False</td>\n",
       "      <td>False</td>\n",
       "      <td>False</td>\n",
       "      <td>YouTube Rewind 2017. Celebrating the videos, p...</td>\n",
       "      <td>US</td>\n",
       "      <td>0.010999</td>\n",
       "    </tr>\n",
       "    <tr>\n",
       "      <th>11096</th>\n",
       "      <td>QwZT7T-TXT0</td>\n",
       "      <td>18.08.01</td>\n",
       "      <td>So Sorry.</td>\n",
       "      <td>Logan Paul Vlogs</td>\n",
       "      <td>24</td>\n",
       "      <td>2018-01-02T16:42:21.000Z</td>\n",
       "      <td>logan paul vlog|\"logan paul\"|\"logan\"|\"paul\"|\"o...</td>\n",
       "      <td>35983135</td>\n",
       "      <td>1370845</td>\n",
       "      <td>1611043</td>\n",
       "      <td>1321281</td>\n",
       "      <td>https://i.ytimg.com/vi/QwZT7T-TXT0/default.jpg</td>\n",
       "      <td>False</td>\n",
       "      <td>False</td>\n",
       "      <td>False</td>\n",
       "      <td></td>\n",
       "      <td>US</td>\n",
       "      <td>0.044772</td>\n",
       "    </tr>\n",
       "    <tr>\n",
       "      <th>5935</th>\n",
       "      <td>FlsCjmMhFmw</td>\n",
       "      <td>17.13.12</td>\n",
       "      <td>YouTube Rewind: The Shape of 2017 | #YouTubeRe...</td>\n",
       "      <td>YouTube Spotlight</td>\n",
       "      <td>24</td>\n",
       "      <td>2017-12-06T17:58:51.000Z</td>\n",
       "      <td>Rewind|\"Rewind 2017\"|\"youtube rewind 2017\"|\"#Y...</td>\n",
       "      <td>137843120</td>\n",
       "      <td>3014471</td>\n",
       "      <td>1602383</td>\n",
       "      <td>817582</td>\n",
       "      <td>https://i.ytimg.com/vi/FlsCjmMhFmw/default.jpg</td>\n",
       "      <td>False</td>\n",
       "      <td>False</td>\n",
       "      <td>False</td>\n",
       "      <td>YouTube Rewind 2017. Celebrating the videos, p...</td>\n",
       "      <td>US</td>\n",
       "      <td>0.011625</td>\n",
       "    </tr>\n",
       "    <tr>\n",
       "      <th>5699</th>\n",
       "      <td>FlsCjmMhFmw</td>\n",
       "      <td>17.12.12</td>\n",
       "      <td>YouTube Rewind: The Shape of 2017 | #YouTubeRe...</td>\n",
       "      <td>YouTube Spotlight</td>\n",
       "      <td>24</td>\n",
       "      <td>2017-12-06T17:58:51.000Z</td>\n",
       "      <td>Rewind|\"Rewind 2017\"|\"youtube rewind 2017\"|\"#Y...</td>\n",
       "      <td>125432237</td>\n",
       "      <td>2912702</td>\n",
       "      <td>1545015</td>\n",
       "      <td>807558</td>\n",
       "      <td>https://i.ytimg.com/vi/FlsCjmMhFmw/default.jpg</td>\n",
       "      <td>False</td>\n",
       "      <td>False</td>\n",
       "      <td>False</td>\n",
       "      <td>YouTube Rewind 2017. Celebrating the videos, p...</td>\n",
       "      <td>US</td>\n",
       "      <td>0.012318</td>\n",
       "    </tr>\n",
       "  </tbody>\n",
       "</table>\n",
       "</div>"
      ],
      "text/plain": [
       "          video_id trending_date  \\\n",
       "11323  QwZT7T-TXT0      18.09.01   \n",
       "6181   FlsCjmMhFmw      17.14.12   \n",
       "11096  QwZT7T-TXT0      18.08.01   \n",
       "5935   FlsCjmMhFmw      17.13.12   \n",
       "5699   FlsCjmMhFmw      17.12.12   \n",
       "\n",
       "                                                   title      channel_title  \\\n",
       "11323                                          So Sorry.   Logan Paul Vlogs   \n",
       "6181   YouTube Rewind: The Shape of 2017 | #YouTubeRe...  YouTube Spotlight   \n",
       "11096                                          So Sorry.   Logan Paul Vlogs   \n",
       "5935   YouTube Rewind: The Shape of 2017 | #YouTubeRe...  YouTube Spotlight   \n",
       "5699   YouTube Rewind: The Shape of 2017 | #YouTubeRe...  YouTube Spotlight   \n",
       "\n",
       "       category_id              publish_time  \\\n",
       "11323           24  2018-01-02T16:42:21.000Z   \n",
       "6181            24  2017-12-06T17:58:51.000Z   \n",
       "11096           24  2018-01-02T16:42:21.000Z   \n",
       "5935            24  2017-12-06T17:58:51.000Z   \n",
       "5699            24  2017-12-06T17:58:51.000Z   \n",
       "\n",
       "                                                    tags      views    likes  \\\n",
       "11323  logan paul vlog|\"logan paul\"|\"logan\"|\"paul\"|\"o...   37539570  1402578   \n",
       "6181   Rewind|\"Rewind 2017\"|\"youtube rewind 2017\"|\"#Y...  149376127  3093544   \n",
       "11096  logan paul vlog|\"logan paul\"|\"logan\"|\"paul\"|\"o...   35983135  1370845   \n",
       "5935   Rewind|\"Rewind 2017\"|\"youtube rewind 2017\"|\"#Y...  137843120  3014471   \n",
       "5699   Rewind|\"Rewind 2017\"|\"youtube rewind 2017\"|\"#Y...  125432237  2912702   \n",
       "\n",
       "       dislikes  comment_count  \\\n",
       "11323   1674420        1361580   \n",
       "6181    1643059         810698   \n",
       "11096   1611043        1321281   \n",
       "5935    1602383         817582   \n",
       "5699    1545015         807558   \n",
       "\n",
       "                                       thumbnail_link  comments_disabled  \\\n",
       "11323  https://i.ytimg.com/vi/QwZT7T-TXT0/default.jpg              False   \n",
       "6181   https://i.ytimg.com/vi/FlsCjmMhFmw/default.jpg              False   \n",
       "11096  https://i.ytimg.com/vi/QwZT7T-TXT0/default.jpg              False   \n",
       "5935   https://i.ytimg.com/vi/FlsCjmMhFmw/default.jpg              False   \n",
       "5699   https://i.ytimg.com/vi/FlsCjmMhFmw/default.jpg              False   \n",
       "\n",
       "       ratings_disabled  video_error_or_removed  \\\n",
       "11323             False                   False   \n",
       "6181              False                   False   \n",
       "11096             False                   False   \n",
       "5935              False                   False   \n",
       "5699              False                   False   \n",
       "\n",
       "                                             description country  \\\n",
       "11323                                                         US   \n",
       "6181   YouTube Rewind 2017. Celebrating the videos, p...      US   \n",
       "11096                                                         US   \n",
       "5935   YouTube Rewind 2017. Celebrating the videos, p...      US   \n",
       "5699   YouTube Rewind 2017. Celebrating the videos, p...      US   \n",
       "\n",
       "       dislikes_views_rate  \n",
       "11323             0.044604  \n",
       "6181              0.010999  \n",
       "11096             0.044772  \n",
       "5935              0.011625  \n",
       "5699              0.012318  "
      ]
     },
     "execution_count": 30,
     "metadata": {},
     "output_type": "execute_result"
    }
   ],
   "source": [
    "#미국 싫어요수 top5 video와 rate top5 video의 비교\n",
    "dislikes_top5_US = US.sort_values(by='dislikes', ascending = [False])\n",
    "dislikes_top5_US.head(5)"
   ]
  },
  {
   "cell_type": "markdown",
   "metadata": {},
   "source": [
    "<font size=3.8> * 미국 역시 싫어요수 top5 비디오와 rate top5 비디오를 비교했을때 일치하는 것이 하나도 없었다. 싫어요수 top5의 rate는 0.01~0.04 수준이다. </font>"
   ]
  },
  {
   "cell_type": "markdown",
   "metadata": {},
   "source": [
    "<b> <font size=3.5> (2) 한국, 미국의 인기 채널 top10 </font> </b>"
   ]
  },
  {
   "cell_type": "markdown",
   "metadata": {},
   "source": [
    "2-1. 조회수 기준"
   ]
  },
  {
   "cell_type": "code",
   "execution_count": 31,
   "metadata": {},
   "outputs": [
    {
     "data": {
      "text/plain": [
       "channel_title\n",
       "YouTube Spotlight              113876217\n",
       "Marvel Entertainment            87450245\n",
       "ibighit                         87430865\n",
       "ChildishGambinoVEVO             73432600\n",
       "Sony Pictures Entertainment     49185287\n",
       "jypentertainment                42267579\n",
       "Bruno Mars                      37728802\n",
       "Kylie Jenner                    35832484\n",
       "TaylorSwiftVEVO                 35218973\n",
       "ArianaGrandeVevo                32331284\n",
       "Name: views, dtype: int64"
      ]
     },
     "execution_count": 31,
     "metadata": {},
     "output_type": "execute_result"
    }
   ],
   "source": [
    "# 한국\n",
    "KR_top_views = KR.groupby('channel_title')['views'].max().sort_values(ascending=False)\n",
    "KR_top10_views = KR_top_views.head(10)\n",
    "KR_top10_views"
   ]
  },
  {
   "cell_type": "code",
   "execution_count": 32,
   "metadata": {},
   "outputs": [
    {
     "data": {
      "text/plain": [
       "<matplotlib.axes._subplots.AxesSubplot at 0x15f6db88c08>"
      ]
     },
     "execution_count": 32,
     "metadata": {},
     "output_type": "execute_result"
    },
    {
     "data": {
      "image/png": "[encoded data removed]",
      "text/plain": [
       "<Figure size 1440x360 with 1 Axes>"
      ]
     },
     "metadata": {
      "needs_background": "light"
     },
     "output_type": "display_data"
    }
   ],
   "source": [
    "plt.rcParams['figure.figsize'] = [20, 5]\n",
    "KR_top10_views.plot(kind=\"bar\", color=\"red\", alpha=0.5)"
   ]
  },
  {
   "cell_type": "code",
   "execution_count": 34,
   "metadata": {},
   "outputs": [
    {
     "data": {
      "text/plain": [
       "channel_title\n",
       "ChildishGambinoVEVO     225211923\n",
       "YouTube Spotlight       149376127\n",
       "ArianaGrandeVevo        148689896\n",
       "BeckyGVEVO              139334502\n",
       "ibighit                 123010920\n",
       "TheWeekndVEVO           122544931\n",
       "LuisFonsiVEVO           102012605\n",
       "Cardi B                  94254507\n",
       "Marvel Entertainment     91933007\n",
       "MalumaVEVO               87264467\n",
       "Name: views, dtype: int64"
      ]
     },
     "execution_count": 34,
     "metadata": {},
     "output_type": "execute_result"
    }
   ],
   "source": [
    "# 미국\n",
    "US_top_views = US.groupby('channel_title')['views'].max().sort_values(ascending=False)\n",
    "US_top10_views = US_top_views.head(10)\n",
    "US_top10_views"
   ]
  },
  {
   "cell_type": "code",
   "execution_count": 35,
   "metadata": {},
   "outputs": [
    {
     "data": {
      "text/plain": [
       "<matplotlib.axes._subplots.AxesSubplot at 0x15f6e56a4c8>"
      ]
     },
     "execution_count": 35,
     "metadata": {},
     "output_type": "execute_result"
    },
    {
     "data": {
      "image/png": "[encoded data removed]",
      "text/plain": [
       "<Figure size 1440x360 with 1 Axes>"
      ]
     },
     "metadata": {
      "needs_background": "light"
     },
     "output_type": "display_data"
    }
   ],
   "source": [
    "US_top10_views.plot(kind=\"bar\", color=\"blue\", alpha=0.5)"
   ]
  },
  {
   "cell_type": "markdown",
   "metadata": {},
   "source": [
    "<font size=3.8> * 한국에서는 YouTube Spotlight, 미국에서는 ChildishGambinoVEVO 채널이 조회수 1위이다. 한국과 미국 모두 공통적으로 YouTube Spotlight, ibighit, Marvel Entertainment, ArianaGrandeVevo 가 조회순 인기채널 TOP10 내에 존재하고 있다. </font>"
   ]
  },
  {
   "cell_type": "markdown",
   "metadata": {},
   "source": [
    "2-2. 좋아요 기준"
   ]
  },
  {
   "cell_type": "code",
   "execution_count": 36,
   "metadata": {},
   "outputs": [
    {
     "data": {
      "text/plain": [
       "channel_title\n",
       "ibighit                        5150839\n",
       "YouTube Spotlight              2811223\n",
       "Marvel Entertainment           2584675\n",
       "ChildishGambinoVEVO            2478908\n",
       "ArianaGrandeVevo               1890564\n",
       "TaylorSwiftVEVO                1681449\n",
       "Bruno Mars                     1629948\n",
       "Maroon5VEVO                    1547857\n",
       "DrakeVEVO                      1431554\n",
       "Sony Pictures Entertainment    1204868\n",
       "Name: likes, dtype: int64"
      ]
     },
     "execution_count": 36,
     "metadata": {},
     "output_type": "execute_result"
    }
   ],
   "source": [
    "# 한국\n",
    "KR_top_likes = KR.groupby('channel_title')['likes'].max().sort_values(ascending=False)\n",
    "KR_top10_likes = KR_top_likes.head(10)\n",
    "KR_top10_likes"
   ]
  },
  {
   "cell_type": "code",
   "execution_count": 37,
   "metadata": {},
   "outputs": [
    {
     "data": {
      "text/plain": [
       "<matplotlib.axes._subplots.AxesSubplot at 0x15f6fef8a08>"
      ]
     },
     "execution_count": 37,
     "metadata": {},
     "output_type": "execute_result"
    },
    {
     "data": {
      "image/png": "[encoded data removed]",
      "text/plain": [
       "<Figure size 1440x360 with 1 Axes>"
      ]
     },
     "metadata": {
      "needs_background": "light"
     },
     "output_type": "display_data"
    }
   ],
   "source": [
    "KR_top10_likes.plot(kind=\"bar\", color=\"red\", alpha=0.5)"
   ]
  },
  {
   "cell_type": "code",
   "execution_count": 38,
   "metadata": {},
   "outputs": [
    {
     "data": {
      "text/plain": [
       "channel_title\n",
       "ibighit                 5613827\n",
       "ChildishGambinoVEVO     5023450\n",
       "ArianaGrandeVevo        3094021\n",
       "YouTube Spotlight       3093544\n",
       "Marvel Entertainment    2625661\n",
       "Maroon5VEVO             2488565\n",
       "LuisFonsiVEVO           2376636\n",
       "David Dobrik            2032463\n",
       "Logan Paul Vlogs        1988746\n",
       "TaylorSwiftVEVO         1928392\n",
       "Name: likes, dtype: int64"
      ]
     },
     "execution_count": 38,
     "metadata": {},
     "output_type": "execute_result"
    }
   ],
   "source": [
    "# 미국\n",
    "US_top_likes = US.groupby('channel_title')['likes'].max().sort_values(ascending=False)\n",
    "US_top10_likes = US_top_likes.head(10)\n",
    "US_top10_likes"
   ]
  },
  {
   "cell_type": "code",
   "execution_count": 39,
   "metadata": {},
   "outputs": [
    {
     "data": {
      "text/plain": [
       "<matplotlib.axes._subplots.AxesSubplot at 0x15f72b6e908>"
      ]
     },
     "execution_count": 39,
     "metadata": {},
     "output_type": "execute_result"
    },
    {
     "data": {
      "image/png": "[encoded data removed]",
      "text/plain": [
       "<Figure size 1440x360 with 1 Axes>"
      ]
     },
     "metadata": {
      "needs_background": "light"
     },
     "output_type": "display_data"
    }
   ],
   "source": [
    "US_top10_likes.plot(kind=\"bar\", color=\"blue\", alpha=0.5)"
   ]
  },
  {
   "cell_type": "markdown",
   "metadata": {},
   "source": [
    "<font size=3.8> ** 한국과 미국의 좋아요 1위 채널은 공통적으로 ibighit 라는 사실을 알 수 있다. 그 외에도 YouTube Spotlight, Marvel Entertainment, ArianaGrandeVevo, ChildishGambinoVEVO, TaylorSwiftVEVO 등이 한국과 미국의 좋아요순 인기채널 TOP10에 존재하고 있다.\n",
    "\n",
    "** 앞서 본 조회수순 인기채널 TOP10과 좋아요순 인기채널 TOP10 을 통하여 알 수 있는 사실은, 나라가 다름에도 불구하고 인기가 많은 채널은 공통적으로 공유되고 있다는 점이다. 또한, 한국에서 미국 팝가수 채널들을 포함한 미국 채널들이 꽤 큰 관심을 받고 있다는 사실 또한 발견할 수 있었다.</font>"
   ]
  },
  {
   "cell_type": "markdown",
   "metadata": {},
   "source": [
    "2-3. 인기 영상에 가장 많이 진입한 채널"
   ]
  },
  {
   "cell_type": "code",
   "execution_count": 40,
   "metadata": {},
   "outputs": [
    {
     "data": {
      "text/html": [
       "<div>\n",
       "<style scoped>\n",
       "    .dataframe tbody tr th:only-of-type {\n",
       "        vertical-align: middle;\n",
       "    }\n",
       "\n",
       "    .dataframe tbody tr th {\n",
       "        vertical-align: top;\n",
       "    }\n",
       "\n",
       "    .dataframe thead th {\n",
       "        text-align: right;\n",
       "    }\n",
       "</style>\n",
       "<table border=\"1\" class=\"dataframe\">\n",
       "  <thead>\n",
       "    <tr style=\"text-align: right;\">\n",
       "      <th></th>\n",
       "      <th>count</th>\n",
       "    </tr>\n",
       "    <tr>\n",
       "      <th>channel_title</th>\n",
       "      <th></th>\n",
       "    </tr>\n",
       "  </thead>\n",
       "  <tbody>\n",
       "    <tr>\n",
       "      <th>신의한수</th>\n",
       "      <td>222</td>\n",
       "    </tr>\n",
       "    <tr>\n",
       "      <th>정규재TV</th>\n",
       "      <td>219</td>\n",
       "    </tr>\n",
       "    <tr>\n",
       "      <th>도봉박홍기</th>\n",
       "      <td>218</td>\n",
       "    </tr>\n",
       "    <tr>\n",
       "      <th>보겸 TV</th>\n",
       "      <td>195</td>\n",
       "    </tr>\n",
       "    <tr>\n",
       "      <th>JTBC News</th>\n",
       "      <td>182</td>\n",
       "    </tr>\n",
       "    <tr>\n",
       "      <th>윤창중칼럼세상 TV</th>\n",
       "      <td>178</td>\n",
       "    </tr>\n",
       "    <tr>\n",
       "      <th>철구형 (CHULTUBE)</th>\n",
       "      <td>167</td>\n",
       "    </tr>\n",
       "    <tr>\n",
       "      <th>영국남자 Korean Englishman</th>\n",
       "      <td>163</td>\n",
       "    </tr>\n",
       "    <tr>\n",
       "      <th>밴쯔</th>\n",
       "      <td>162</td>\n",
       "    </tr>\n",
       "    <tr>\n",
       "      <th>1등 미디어</th>\n",
       "      <td>161</td>\n",
       "    </tr>\n",
       "  </tbody>\n",
       "</table>\n",
       "</div>"
      ],
      "text/plain": [
       "                        count\n",
       "channel_title                \n",
       "신의한수                      222\n",
       "정규재TV                     219\n",
       "도봉박홍기                     218\n",
       "보겸 TV                     195\n",
       "JTBC News                 182\n",
       "윤창중칼럼세상 TV                178\n",
       "철구형 (CHULTUBE)            167\n",
       "영국남자 Korean Englishman    163\n",
       "밴쯔                        162\n",
       "1등 미디어                    161"
      ]
     },
     "execution_count": 40,
     "metadata": {},
     "output_type": "execute_result"
    }
   ],
   "source": [
    "# 한국 \n",
    "# 채널이름을 그룹화 하여 count 적용\n",
    "KR_popular_channel = KR.groupby('channel_title').count()\n",
    "\n",
    "# 현재 채널마다 모든 열에 대해 유투브 인기 영상에 진입한 횟수가 기입되었기 때문에 임의의 열을 가져와 'count'라는 이름의 열로 재생성\n",
    "KR_popular_channel['count'] = KR_popular_channel['trending_date']\n",
    "\n",
    "# 생성한 count 열만 채널이름과 함께 가져오기\n",
    "KR_popular_channel = KR_popular_channel.loc[:,['count']]\n",
    "\n",
    "# 내림차순 정렬 (인기영상에 진입한 횟수 많은 순으로)\n",
    "KR_popular_channel = KR_popular_channel.sort_values('count', ascending=False)\n",
    "\n",
    "# top 10\n",
    "KR_popular_channel_top10 = KR_popular_channel.iloc[:10]\n",
    "KR_popular_channel_top10"
   ]
  },
  {
   "cell_type": "code",
   "execution_count": 41,
   "metadata": {},
   "outputs": [
    {
     "data": {
      "image/png": "[encoded data removed]",
      "text/plain": [
       "<Figure size 1440x360 with 1 Axes>"
      ]
     },
     "metadata": {
      "needs_background": "light"
     },
     "output_type": "display_data"
    }
   ],
   "source": [
    "path = 'C:/WINDOWS/FONTS/NANUMBARUNGOTHIC.ttf'\n",
    "plt.rcParams['axes.unicode_minus'] = False\n",
    "plt.rcParams['figure.figsize'] = [20, 5]\n",
    "fontprop = fm.FontProperties(fname=path)\n",
    "plt.xticks(rotation=60, fontproperties=fontprop)\n",
    "plt.bar(KR_popular_channel_top10.index, KR_popular_channel_top10['count'], color='red', alpha=0.5)\n",
    "plt.show()"
   ]
  },
  {
   "cell_type": "code",
   "execution_count": 42,
   "metadata": {},
   "outputs": [
    {
     "data": {
      "text/html": [
       "<div>\n",
       "<style scoped>\n",
       "    .dataframe tbody tr th:only-of-type {\n",
       "        vertical-align: middle;\n",
       "    }\n",
       "\n",
       "    .dataframe tbody tr th {\n",
       "        vertical-align: top;\n",
       "    }\n",
       "\n",
       "    .dataframe thead th {\n",
       "        text-align: right;\n",
       "    }\n",
       "</style>\n",
       "<table border=\"1\" class=\"dataframe\">\n",
       "  <thead>\n",
       "    <tr style=\"text-align: right;\">\n",
       "      <th></th>\n",
       "      <th>count</th>\n",
       "    </tr>\n",
       "    <tr>\n",
       "      <th>channel_title</th>\n",
       "      <th></th>\n",
       "    </tr>\n",
       "  </thead>\n",
       "  <tbody>\n",
       "    <tr>\n",
       "      <th>ESPN</th>\n",
       "      <td>203</td>\n",
       "    </tr>\n",
       "    <tr>\n",
       "      <th>The Tonight Show Starring Jimmy Fallon</th>\n",
       "      <td>197</td>\n",
       "    </tr>\n",
       "    <tr>\n",
       "      <th>Vox</th>\n",
       "      <td>193</td>\n",
       "    </tr>\n",
       "    <tr>\n",
       "      <th>Netflix</th>\n",
       "      <td>193</td>\n",
       "    </tr>\n",
       "    <tr>\n",
       "      <th>TheEllenShow</th>\n",
       "      <td>193</td>\n",
       "    </tr>\n",
       "    <tr>\n",
       "      <th>The Late Show with Stephen Colbert</th>\n",
       "      <td>187</td>\n",
       "    </tr>\n",
       "    <tr>\n",
       "      <th>Jimmy Kimmel Live</th>\n",
       "      <td>186</td>\n",
       "    </tr>\n",
       "    <tr>\n",
       "      <th>Late Night with Seth Meyers</th>\n",
       "      <td>183</td>\n",
       "    </tr>\n",
       "    <tr>\n",
       "      <th>Screen Junkies</th>\n",
       "      <td>182</td>\n",
       "    </tr>\n",
       "    <tr>\n",
       "      <th>NBA</th>\n",
       "      <td>181</td>\n",
       "    </tr>\n",
       "  </tbody>\n",
       "</table>\n",
       "</div>"
      ],
      "text/plain": [
       "                                        count\n",
       "channel_title                                \n",
       "ESPN                                      203\n",
       "The Tonight Show Starring Jimmy Fallon    197\n",
       "Vox                                       193\n",
       "Netflix                                   193\n",
       "TheEllenShow                              193\n",
       "The Late Show with Stephen Colbert        187\n",
       "Jimmy Kimmel Live                         186\n",
       "Late Night with Seth Meyers               183\n",
       "Screen Junkies                            182\n",
       "NBA                                       181"
      ]
     },
     "execution_count": 42,
     "metadata": {},
     "output_type": "execute_result"
    }
   ],
   "source": [
    "# 미국\n",
    "US_popular_channel = US.groupby('channel_title').count().sort_values('trending_date', ascending=False)\n",
    "US_popular_channel['count'] = US_popular_channel['trending_date']\n",
    "US_popular_channel = US_popular_channel.loc[:,['count']]\n",
    "US_popular_channel = US_popular_channel.sort_values('count', ascending=False)\n",
    "\n",
    "# top 10\n",
    "US_popular_channel_top10 = US_popular_channel.iloc[:10]\n",
    "US_popular_channel_top10"
   ]
  },
  {
   "cell_type": "code",
   "execution_count": 43,
   "metadata": {},
   "outputs": [
    {
     "data": {
      "image/png": "[encoded data removed]",
      "text/plain": [
       "<Figure size 1440x360 with 1 Axes>"
      ]
     },
     "metadata": {
      "needs_background": "light"
     },
     "output_type": "display_data"
    }
   ],
   "source": [
    "plt.rcParams['figure.figsize'] = [20, 5]\n",
    "plt.xticks(rotation=60)\n",
    "plt.bar(US_popular_channel_top10.index, US_popular_channel_top10['count'], color='blue', alpha=0.5)\n",
    "plt.show()"
   ]
  },
  {
   "cell_type": "markdown",
   "metadata": {},
   "source": [
    "<b> <font size=3.5> (3) 한국, 미국의 인기 카테고리 </font> </b>"
   ]
  },
  {
   "cell_type": "markdown",
   "metadata": {},
   "source": [
    "3-1. 카테고리별 조회수,좋아요수,댓글수 비교"
   ]
  },
  {
   "cell_type": "code",
   "execution_count": 44,
   "metadata": {},
   "outputs": [],
   "source": [
    "category_id_name={2 : 'Autos & Vehicles',\n",
    "1 : 'Film & Animation',\n",
    "10 : 'Music',\n",
    "15 : 'Pets & Animals',\n",
    "17 : 'Sports',\n",
    "18 : 'Short Movies',\n",
    "19 : 'Travel & Events',\n",
    "20 : 'Gaming',\n",
    "21 : 'Videoblogging',\n",
    "22 : 'People & Blogs',\n",
    "23 : 'Comedy',\n",
    "24 : 'Entertainment',\n",
    "25 : 'News & Politics',\n",
    "26 : 'Howto & Style',\n",
    "27 : 'Education',\n",
    "28 : 'Science & Technology',\n",
    "29 : 'Nonprofits & Activism',\n",
    "30 : 'Movies',\n",
    "31 : 'Anime/Animation',\n",
    "32 : 'Action/Adventure',\n",
    "33 : 'Classics',\n",
    "34 : 'Comedy',\n",
    "35 : 'Documentary',\n",
    "36 : 'Drama',\n",
    "37 : 'Family',\n",
    "38 : 'Foreign',\n",
    "39 : 'Horror',\n",
    "40 : 'Sci-Fi/Fantasy',\n",
    "41 : 'Thriller',\n",
    "42 : 'Shorts',\n",
    "43 : 'Shows',\n",
    "44 : 'Trailers'} #카테고리명을 가져옴"
   ]
  },
  {
   "cell_type": "code",
   "execution_count": 45,
   "metadata": {},
   "outputs": [
    {
     "name": "stdout",
     "output_type": "stream",
     "text": [
      "    category_id          category_name\n",
      "0             2       Autos & Vehicles\n",
      "1             1       Film & Animation\n",
      "2            10                  Music\n",
      "3            15         Pets & Animals\n",
      "4            17                 Sports\n",
      "5            18           Short Movies\n",
      "6            19        Travel & Events\n",
      "7            20                 Gaming\n",
      "8            21          Videoblogging\n",
      "9            22         People & Blogs\n",
      "10           23                 Comedy\n",
      "11           24          Entertainment\n",
      "12           25        News & Politics\n",
      "13           26          Howto & Style\n",
      "14           27              Education\n",
      "15           28   Science & Technology\n",
      "16           29  Nonprofits & Activism\n",
      "17           30                 Movies\n",
      "18           31        Anime/Animation\n",
      "19           32       Action/Adventure\n",
      "20           33               Classics\n",
      "21           34                 Comedy\n",
      "22           35            Documentary\n",
      "23           36                  Drama\n",
      "24           37                 Family\n",
      "25           38                Foreign\n",
      "26           39                 Horror\n",
      "27           40         Sci-Fi/Fantasy\n",
      "28           41               Thriller\n",
      "29           42                 Shorts\n",
      "30           43                  Shows\n",
      "31           44               Trailers\n"
     ]
    }
   ],
   "source": [
    "#카테고리명을 리스트화함\n",
    "category_id_list = pd.DataFrame(list(category_id_name.items()), columns=['category_id', 'category_name'])\n",
    "print(category_id_list)"
   ]
  },
  {
   "cell_type": "code",
   "execution_count": 46,
   "metadata": {},
   "outputs": [],
   "source": [
    "#실제 데이터와 카테고리명을 연결한 데이터를 생성\n",
    "KR_with_cat_name = pd.merge(KR,category_id_list)\n",
    "US_with_cat_name = pd.merge(US,category_id_list)"
   ]
  },
  {
   "cell_type": "code",
   "execution_count": 47,
   "metadata": {},
   "outputs": [
    {
     "data": {
      "text/plain": [
       "category_name\n",
       "Autos & Vehicles          120\n",
       "Comedy                   2056\n",
       "Education                 486\n",
       "Entertainment            8955\n",
       "Film & Animation         2200\n",
       "Gaming                   1392\n",
       "Howto & Style             558\n",
       "Music                    1825\n",
       "News & Politics          7582\n",
       "Nonprofits & Activism     288\n",
       "People & Blogs           7056\n",
       "Pets & Animals            735\n",
       "Science & Technology      115\n",
       "Shows                     165\n",
       "Sports                    936\n",
       "Trailers                    2\n",
       "Travel & Events            96\n",
       "dtype: int64"
      ]
     },
     "execution_count": 47,
     "metadata": {},
     "output_type": "execute_result"
    }
   ],
   "source": [
    "#카테고리별로 그룹화한뒤 count 해보기\n",
    "KR_cat_group = KR_with_cat_name.groupby(\"category_name\")\n",
    "KR_cat_group.size()"
   ]
  },
  {
   "cell_type": "markdown",
   "metadata": {},
   "source": [
    "* Entertainment > News&Politics > People&Blogs 가 가장 많은 것으로 나타났다. Trailers가 가장 적은 것으로 나타났다."
   ]
  },
  {
   "cell_type": "code",
   "execution_count": 48,
   "metadata": {},
   "outputs": [
    {
     "name": "stdout",
     "output_type": "stream",
     "text": [
      "                       min      max           mean\n",
      "category_name                                     \n",
      "Trailers                 3        3       3.000000\n",
      "Shows                   21     2617     435.151515\n",
      "Nonprofits & Activism    0     7133     924.333333\n",
      "Autos & Vehicles        12    11905    1267.125000\n",
      "News & Politics          0    46626    1834.867449\n",
      "Travel & Events          0    21698    1850.531250\n",
      "Education                0    21276    2299.668724\n",
      "People & Blogs           0   348162    3022.985402\n",
      "Pets & Animals          36    19418    4414.374150\n",
      "Sports                   0   784294    4481.721154\n",
      "Comedy                   0   317509    6376.857004\n",
      "Howto & Style            0   151277    6476.512545\n",
      "Gaming                   0   258720    7030.969109\n",
      "Film & Animation         0   526577    7496.784545\n",
      "Entertainment            0  2811223    9853.064768\n",
      "Science & Technology     0   393116   46109.139130\n",
      "Music                    0  5150839  131638.056986\n"
     ]
    }
   ],
   "source": [
    "#카테고리별 좋아요수 평균 분포\n",
    "KR_cat_likes = KR_with_cat_name.groupby(\"category_name\").likes.agg([min,max,np.mean])\n",
    "print(KR_cat_likes.sort_values([\"mean\"]))"
   ]
  },
  {
   "cell_type": "markdown",
   "metadata": {},
   "source": [
    "* Trailers 카테고리의 좋아요수 평균이 가장 작았고, Music 카테고리의 좋아요수 평균이 가장 컸다."
   ]
  },
  {
   "cell_type": "code",
   "execution_count": 49,
   "metadata": {},
   "outputs": [
    {
     "data": {
      "text/plain": [
       "<matplotlib.axes._subplots.AxesSubplot at 0x15f73fb4a88>"
      ]
     },
     "execution_count": 49,
     "metadata": {},
     "output_type": "execute_result"
    },
    {
     "data": {
      "image/png": "[encoded data removed]",
      "text/plain": [
       "<Figure size 1440x360 with 1 Axes>"
      ]
     },
     "metadata": {
      "needs_background": "light"
     },
     "output_type": "display_data"
    }
   ],
   "source": [
    "#그래프\n",
    "KR_cat_mean1= pd.DataFrame(KR_cat_likes['mean'])\n",
    "KR_cat_mean1.plot.bar()"
   ]
  },
  {
   "cell_type": "markdown",
   "metadata": {},
   "source": [
    "* Music과 Science&Technology가 평균적으로 가장 좋아요수가 많았다."
   ]
  },
  {
   "cell_type": "code",
   "execution_count": 50,
   "metadata": {},
   "outputs": [
    {
     "name": "stdout",
     "output_type": "stream",
     "text": [
      "                         min        max          mean\n",
      "category_name                                        \n",
      "Trailers               13454      19845  1.664950e+04\n",
      "Nonprofits & Activism   4302    2510664  6.316461e+04\n",
      "Shows                   8842    1017890  1.062983e+05\n",
      "Autos & Vehicles        6009     889086  1.198672e+05\n",
      "Education               7745    1604579  1.511617e+05\n",
      "News & Politics         3124    5354566  1.546775e+05\n",
      "Pets & Animals          7126    1873207  2.022284e+05\n",
      "People & Blogs          2050   35832484  2.098027e+05\n",
      "Travel & Events         6829    2831980  2.405090e+05\n",
      "Gaming                  3954   13418844  2.814424e+05\n",
      "Howto & Style           5847   13432309  3.146176e+05\n",
      "Comedy                  6587    6893446  3.598452e+05\n",
      "Entertainment           2919  113876217  5.103813e+05\n",
      "Film & Animation        4820   26670001  5.440154e+05\n",
      "Sports                  6340   17228602  5.987503e+05\n",
      "Music                   4460   87430865  2.080543e+06\n",
      "Science & Technology    8169   23789688  2.685160e+06\n"
     ]
    }
   ],
   "source": [
    "#카테고리별 조회수 평균 분포\n",
    "KR_cat_views = KR_with_cat_name.groupby(\"category_name\").views.agg([min,max,np.mean])\n",
    "print(KR_cat_views.sort_values([\"mean\"]))"
   ]
  },
  {
   "cell_type": "code",
   "execution_count": 51,
   "metadata": {},
   "outputs": [
    {
     "data": {
      "text/plain": [
       "<matplotlib.axes._subplots.AxesSubplot at 0x15f73efe9c8>"
      ]
     },
     "execution_count": 51,
     "metadata": {},
     "output_type": "execute_result"
    },
    {
     "data": {
      "image/png": "[encoded data removed]",
      "text/plain": [
       "<Figure size 1440x360 with 1 Axes>"
      ]
     },
     "metadata": {
      "needs_background": "light"
     },
     "output_type": "display_data"
    }
   ],
   "source": [
    "#그래프\n",
    "KR_cat_mean2 = pd.DataFrame(KR_cat_views['mean'])\n",
    "KR_cat_mean2.plot.bar()"
   ]
  },
  {
   "cell_type": "markdown",
   "metadata": {},
   "source": [
    "* Science&Technology와 Music의 동영상이 평균적으로 가장 조회수가 높았다."
   ]
  },
  {
   "cell_type": "code",
   "execution_count": 52,
   "metadata": {},
   "outputs": [
    {
     "name": "stdout",
     "output_type": "stream",
     "text": [
      "                       min      max          mean\n",
      "category_name                                    \n",
      "Trailers                 1        1      1.000000\n",
      "Shows                    2     1385    258.206061\n",
      "Nonprofits & Activism    0     6489    303.746528\n",
      "Autos & Vehicles         0     3897    337.691667\n",
      "News & Politics          0    35917    549.022422\n",
      "Travel & Events          6     6270    555.906250\n",
      "Education                0    11455    579.380658\n",
      "People & Blogs           0    69274    598.848498\n",
      "Howto & Style            0    11154    677.182796\n",
      "Pets & Animals           1     3017    731.824490\n",
      "Sports                   0    47234    973.810897\n",
      "Film & Animation         0    46761   1244.287727\n",
      "Comedy                   0    48776   1472.893969\n",
      "Entertainment            0   827771   1934.583920\n",
      "Gaming                   0   297747   3433.247845\n",
      "Science & Technology     0   122349   7574.260870\n",
      "Music                    0  1142274  16739.951233\n"
     ]
    }
   ],
   "source": [
    "#카테고리별 댓글수 평균 분포\n",
    "KR_cat_comment = KR_with_cat_name.groupby(\"category_name\").comment_count.agg([min,max,np.mean])\n",
    "print(KR_cat_comment.sort_values([\"mean\"]))"
   ]
  },
  {
   "cell_type": "code",
   "execution_count": 53,
   "metadata": {},
   "outputs": [
    {
     "data": {
      "text/plain": [
       "<matplotlib.axes._subplots.AxesSubplot at 0x15f7405c048>"
      ]
     },
     "execution_count": 53,
     "metadata": {},
     "output_type": "execute_result"
    },
    {
     "data": {
      "image/png": "[encoded data removed]",
      "text/plain": [
       "<Figure size 1440x360 with 1 Axes>"
      ]
     },
     "metadata": {
      "needs_background": "light"
     },
     "output_type": "display_data"
    }
   ],
   "source": [
    "#그래프\n",
    "KR_cat_mean3 = pd.DataFrame(KR_cat_comment['mean'])\n",
    "KR_cat_mean3.plot.bar()"
   ]
  },
  {
   "cell_type": "markdown",
   "metadata": {},
   "source": [
    "* Music과 Science&Technology의 동영상들이 평균 댓글수가 가장 높은것으로 드러났다."
   ]
  },
  {
   "cell_type": "markdown",
   "metadata": {},
   "source": [
    "미국"
   ]
  },
  {
   "cell_type": "code",
   "execution_count": 54,
   "metadata": {},
   "outputs": [
    {
     "data": {
      "text/plain": [
       "category_name\n",
       "Autos & Vehicles          384\n",
       "Comedy                   3457\n",
       "Education                1656\n",
       "Entertainment            9964\n",
       "Film & Animation         2345\n",
       "Gaming                    817\n",
       "Howto & Style            4146\n",
       "Music                    6472\n",
       "News & Politics          2487\n",
       "Nonprofits & Activism      57\n",
       "People & Blogs           3210\n",
       "Pets & Animals            920\n",
       "Science & Technology     2401\n",
       "Shows                      57\n",
       "Sports                   2174\n",
       "Travel & Events           402\n",
       "dtype: int64"
      ]
     },
     "execution_count": 54,
     "metadata": {},
     "output_type": "execute_result"
    }
   ],
   "source": [
    "#카테고리별로 그룹화한뒤 count 해보기\n",
    "US_cat_group = US_with_cat_name.groupby(\"category_name\")\n",
    "US_cat_group.size()"
   ]
  },
  {
   "cell_type": "markdown",
   "metadata": {},
   "source": [
    "* Entertainment > Music이 가장 많고, Nonprofits&Activism=Shows가 가장 작은 것으로 나타났다."
   ]
  },
  {
   "cell_type": "code",
   "execution_count": 55,
   "metadata": {},
   "outputs": [
    {
     "name": "stdout",
     "output_type": "stream",
     "text": [
      "                       min      max           mean\n",
      "category_name                                     \n",
      "News & Politics          0   163338    7298.364696\n",
      "Autos & Vehicles         0    97030   11056.395833\n",
      "Travel & Events          3    42447   12030.462687\n",
      "Shows                  810    33261   18993.666667\n",
      "Pets & Animals           6   178243   21055.110870\n",
      "Education                0   240989   29745.031401\n",
      "Science & Technology     0   564804   34374.276551\n",
      "Howto & Style            0   605954   39286.076942\n",
      "Sports                   0  1121217   45363.942502\n",
      "Entertainment            0  3093544   53243.325070\n",
      "People & Blogs           0  2032463   58135.825234\n",
      "Comedy                   6   865679   62582.223315\n",
      "Film & Animation         0   922355   70787.836247\n",
      "Gaming                   2   444203   84502.183599\n",
      "Music                    0  5613827  218918.199011\n",
      "Nonprofits & Activism    0  1988746  259923.614035\n"
     ]
    }
   ],
   "source": [
    "#카테고리별 좋아요수 평균 분포\n",
    "US_cat_likes = US_with_cat_name.groupby(\"category_name\").likes.agg([min,max,np.mean])\n",
    "print(US_cat_likes.sort_values([\"mean\"]))"
   ]
  },
  {
   "cell_type": "code",
   "execution_count": 56,
   "metadata": {},
   "outputs": [
    {
     "data": {
      "text/plain": [
       "<matplotlib.axes._subplots.AxesSubplot at 0x15f74746208>"
      ]
     },
     "execution_count": 56,
     "metadata": {},
     "output_type": "execute_result"
    },
    {
     "data": {
      "image/png": "[encoded data removed]",
      "text/plain": [
       "<Figure size 1440x360 with 1 Axes>"
      ]
     },
     "metadata": {
      "needs_background": "light"
     },
     "output_type": "display_data"
    }
   ],
   "source": [
    "#그래프\n",
    "US_cat_mean1= pd.DataFrame(US_cat_likes['mean'])\n",
    "US_cat_mean1.plot.bar()"
   ]
  },
  {
   "cell_type": "markdown",
   "metadata": {},
   "source": [
    "* Nonprofits&Activism과 Music 동영상의 좋아요수가 가장 높은것을 확인할 수 있다."
   ]
  },
  {
   "cell_type": "code",
   "execution_count": 57,
   "metadata": {},
   "outputs": [
    {
     "name": "stdout",
     "output_type": "stream",
     "text": [
      "                         min        max          mean\n",
      "category_name                                        \n",
      "News & Politics          549   10277358  5.925877e+05\n",
      "Education                773    7349435  7.129408e+05\n",
      "Pets & Animals          3393    6187457  8.311435e+05\n",
      "Travel & Events          789   23932421  8.546196e+05\n",
      "Shows                  36609    1445949  9.035273e+05\n",
      "Howto & Style           1107   54155921  9.837301e+05\n",
      "Autos & Vehicles        2860   25244097  1.355965e+06\n",
      "Science & Technology     983   42799458  1.452627e+06\n",
      "Comedy                  1807   29178096  1.480308e+06\n",
      "People & Blogs           884   56111957  1.531835e+06\n",
      "Sports                   658   29090799  2.025969e+06\n",
      "Entertainment            798  149376127  2.067883e+06\n",
      "Gaming                  1237   16935442  2.620831e+06\n",
      "Nonprofits & Activism   1456   24286474  2.963884e+06\n",
      "Film & Animation         943   54863912  3.106250e+06\n",
      "Music                   1591  225211923  6.201003e+06\n"
     ]
    }
   ],
   "source": [
    "#카테고리별 조회수 평균 분포\n",
    "US_cat_views = US_with_cat_name.groupby(\"category_name\").views.agg([min,max,np.mean])\n",
    "print(US_cat_views.sort_values([\"mean\"]))"
   ]
  },
  {
   "cell_type": "code",
   "execution_count": 58,
   "metadata": {},
   "outputs": [
    {
     "data": {
      "text/plain": [
       "<matplotlib.axes._subplots.AxesSubplot at 0x15f747f9048>"
      ]
     },
     "execution_count": 58,
     "metadata": {},
     "output_type": "execute_result"
    },
    {
     "data": {
      "image/png": "[encoded data removed]",
      "text/plain": [
       "<Figure size 1440x360 with 1 Axes>"
      ]
     },
     "metadata": {
      "needs_background": "light"
     },
     "output_type": "display_data"
    }
   ],
   "source": [
    "#그래프\n",
    "US_cat_mean2 = pd.DataFrame(US_cat_views['mean'])\n",
    "US_cat_mean2.plot.bar()"
   ]
  },
  {
   "cell_type": "markdown",
   "metadata": {},
   "source": [
    "* Music 영상들의 평균조회수가 가장 높은것을 알 수 있다."
   ]
  },
  {
   "cell_type": "code",
   "execution_count": 59,
   "metadata": {},
   "outputs": [
    {
     "name": "stdout",
     "output_type": "stream",
     "text": [
      "                       min      max          mean\n",
      "category_name                                    \n",
      "Shows                  220     2181   1668.719298\n",
      "Autos & Vehicles         0    10591   2042.830729\n",
      "Travel & Events          0    13631   2267.440299\n",
      "News & Politics          0    38936   2428.400885\n",
      "Pets & Animals           0    44063   2892.070652\n",
      "Education                0    28835   3286.378019\n",
      "Science & Technology     0   180913   4993.721783\n",
      "Sports                   0    83660   5148.185373\n",
      "Howto & Style            0   203884   5583.586589\n",
      "Comedy                   0    81051   6521.718831\n",
      "Entertainment            0  1361580   7383.229426\n",
      "Film & Animation         0   108849   7627.744136\n",
      "People & Blogs           0   383762   7719.013084\n",
      "Gaming                   0   144795  18042.488372\n",
      "Music                    0  1228655  19359.764524\n",
      "Nonprofits & Activism    0   658130  84364.859649\n"
     ]
    }
   ],
   "source": [
    "#카테고리별 댓글수 평균 분포\n",
    "US_cat_comment = US_with_cat_name.groupby(\"category_name\").comment_count.agg([min,max,np.mean])\n",
    "print(US_cat_comment.sort_values([\"mean\"]))"
   ]
  },
  {
   "cell_type": "code",
   "execution_count": 60,
   "metadata": {},
   "outputs": [
    {
     "data": {
      "text/plain": [
       "<matplotlib.axes._subplots.AxesSubplot at 0x15f7528a848>"
      ]
     },
     "execution_count": 60,
     "metadata": {},
     "output_type": "execute_result"
    },
    {
     "data": {
      "image/png": "[encoded data removed]",
      "text/plain": [
       "<Figure size 1440x360 with 1 Axes>"
      ]
     },
     "metadata": {
      "needs_background": "light"
     },
     "output_type": "display_data"
    }
   ],
   "source": [
    "#그래프\n",
    "US_cat_mean3 = pd.DataFrame(US_cat_comment['mean'])\n",
    "US_cat_mean3.plot.bar()"
   ]
  },
  {
   "cell_type": "markdown",
   "metadata": {},
   "source": [
    "* Nonprofits&Activism의 평균 댓글수가 가장 많은것을 알 수 있다."
   ]
  },
  {
   "cell_type": "markdown",
   "metadata": {},
   "source": [
    "3-2. 인기 영상에 가장 많이 진입한 카테고리"
   ]
  },
  {
   "cell_type": "code",
   "execution_count": 61,
   "metadata": {},
   "outputs": [
    {
     "data": {
      "text/html": [
       "<div>\n",
       "<style scoped>\n",
       "    .dataframe tbody tr th:only-of-type {\n",
       "        vertical-align: middle;\n",
       "    }\n",
       "\n",
       "    .dataframe tbody tr th {\n",
       "        vertical-align: top;\n",
       "    }\n",
       "\n",
       "    .dataframe thead th {\n",
       "        text-align: right;\n",
       "    }\n",
       "</style>\n",
       "<table border=\"1\" class=\"dataframe\">\n",
       "  <thead>\n",
       "    <tr style=\"text-align: right;\">\n",
       "      <th></th>\n",
       "      <th>count</th>\n",
       "    </tr>\n",
       "    <tr>\n",
       "      <th>category_id</th>\n",
       "      <th></th>\n",
       "    </tr>\n",
       "  </thead>\n",
       "  <tbody>\n",
       "    <tr>\n",
       "      <th>24</th>\n",
       "      <td>8955</td>\n",
       "    </tr>\n",
       "    <tr>\n",
       "      <th>25</th>\n",
       "      <td>7582</td>\n",
       "    </tr>\n",
       "    <tr>\n",
       "      <th>22</th>\n",
       "      <td>7056</td>\n",
       "    </tr>\n",
       "    <tr>\n",
       "      <th>1</th>\n",
       "      <td>2200</td>\n",
       "    </tr>\n",
       "    <tr>\n",
       "      <th>23</th>\n",
       "      <td>2056</td>\n",
       "    </tr>\n",
       "  </tbody>\n",
       "</table>\n",
       "</div>"
      ],
      "text/plain": [
       "             count\n",
       "category_id       \n",
       "24            8955\n",
       "25            7582\n",
       "22            7056\n",
       "1             2200\n",
       "23            2056"
      ]
     },
     "execution_count": 61,
     "metadata": {},
     "output_type": "execute_result"
    }
   ],
   "source": [
    "# 한국\n",
    "KR_popular_cat = KR.groupby('category_id').count().sort_values('trending_date', ascending=False)\n",
    "KR_popular_cat['count'] = KR_popular_cat['trending_date']\n",
    "KR_popular_cat = KR_popular_cat.loc[:,['count']]\n",
    "KR_popular_cat = KR_popular_cat.sort_values('count', ascending=False)\n",
    "\n",
    "# top 10\n",
    "KR_popular_cat_top5 = KR_popular_cat.iloc[:5]\n",
    "KR_popular_cat_top5"
   ]
  },
  {
   "cell_type": "code",
   "execution_count": 62,
   "metadata": {},
   "outputs": [],
   "source": [
    "import json\n",
    "\n",
    "with open('./youtube-new/KR_category_id.json') as KR:\n",
    "    KR_category = json.load(KR)"
   ]
  },
  {
   "cell_type": "markdown",
   "metadata": {},
   "source": [
    "<font size=3.8> * 24 - 'Entertainment', 25 - 'News & Politics', 22 - 'People & Blogs', 1 - 'Film & Animation', 23 - 'Comedy' 따라서, 한국의 인기 카테고리 순위는 Entertainment, News & Politics, People & Blogs, Film & Animation, Comedy 순인 것을 알 수 있다.</font>"
   ]
  },
  {
   "cell_type": "code",
   "execution_count": 63,
   "metadata": {},
   "outputs": [
    {
     "data": {
      "text/html": [
       "<div>\n",
       "<style scoped>\n",
       "    .dataframe tbody tr th:only-of-type {\n",
       "        vertical-align: middle;\n",
       "    }\n",
       "\n",
       "    .dataframe tbody tr th {\n",
       "        vertical-align: top;\n",
       "    }\n",
       "\n",
       "    .dataframe thead th {\n",
       "        text-align: right;\n",
       "    }\n",
       "</style>\n",
       "<table border=\"1\" class=\"dataframe\">\n",
       "  <thead>\n",
       "    <tr style=\"text-align: right;\">\n",
       "      <th></th>\n",
       "      <th>count</th>\n",
       "    </tr>\n",
       "    <tr>\n",
       "      <th>category_id</th>\n",
       "      <th></th>\n",
       "    </tr>\n",
       "  </thead>\n",
       "  <tbody>\n",
       "    <tr>\n",
       "      <th>24</th>\n",
       "      <td>9964</td>\n",
       "    </tr>\n",
       "    <tr>\n",
       "      <th>10</th>\n",
       "      <td>6472</td>\n",
       "    </tr>\n",
       "    <tr>\n",
       "      <th>26</th>\n",
       "      <td>4146</td>\n",
       "    </tr>\n",
       "    <tr>\n",
       "      <th>23</th>\n",
       "      <td>3457</td>\n",
       "    </tr>\n",
       "    <tr>\n",
       "      <th>22</th>\n",
       "      <td>3210</td>\n",
       "    </tr>\n",
       "  </tbody>\n",
       "</table>\n",
       "</div>"
      ],
      "text/plain": [
       "             count\n",
       "category_id       \n",
       "24            9964\n",
       "10            6472\n",
       "26            4146\n",
       "23            3457\n",
       "22            3210"
      ]
     },
     "execution_count": 63,
     "metadata": {},
     "output_type": "execute_result"
    }
   ],
   "source": [
    "# 미국\n",
    "US_popular_cat = US.groupby('category_id').count().sort_values('trending_date', ascending=False)\n",
    "US_popular_cat['count'] = US_popular_cat['trending_date']\n",
    "US_popular_cat = US_popular_cat.loc[:,['count']]\n",
    "US_popular_cat = US_popular_cat.sort_values('count', ascending=False)\n",
    "\n",
    "# top 10\n",
    "US_popular_cat_top5 = US_popular_cat.iloc[:5]\n",
    "US_popular_cat_top5"
   ]
  },
  {
   "cell_type": "code",
   "execution_count": 64,
   "metadata": {},
   "outputs": [],
   "source": [
    "import json\n",
    "\n",
    "with open('./youtube-new/US_category_id.json') as US:\n",
    "    US_category = json.load(US)"
   ]
  },
  {
   "cell_type": "markdown",
   "metadata": {},
   "source": [
    "<font size=3.8> * 24 - 'Entertainment', 10 - 'Music', 26 - 'Howto & Style', 23 - 'Comedy', 22 - 'People & Blogs' 따라서, 미국의 인기 카테고리 순위는 Entertainment, Music, Howto & Style, Comedy, People & Blogs 순인 것을 알 수 있음.</font>"
   ]
  }
 ],
 "metadata": {
  "kernelspec": {
   "display_name": "Python 3",
   "language": "python",
   "name": "python3"
  },
  "language_info": {
   "codemirror_mode": {
    "name": "ipython",
    "version": 3
   },
   "file_extension": ".py",
   "mimetype": "text/x-python",
   "name": "python",
   "nbconvert_exporter": "python",
   "pygments_lexer": "ipython3",
   "version": "3.7.6"
  }
 },
 "nbformat": 4,
 "nbformat_minor": 4
}
