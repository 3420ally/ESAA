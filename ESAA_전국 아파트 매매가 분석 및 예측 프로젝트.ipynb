{
 "cells": [
  {
   "cell_type": "markdown",
   "metadata": {},
   "source": [
    "# 종강조라조 : 전국 아파트 매매가 분석 및 예측 프로젝트 "
   ]
  },
  {
   "cell_type": "code",
   "execution_count": 83,
   "metadata": {},
   "outputs": [
    {
     "data": {
      "text/plain": [
       "'C:\\\\Users\\\\이현주\\\\Desktop\\\\대학교\\\\ESAA'"
      ]
     },
     "execution_count": 83,
     "metadata": {},
     "output_type": "execute_result"
    }
   ],
   "source": [
    "import os\n",
    "cwd = os.getcwd()\n",
    "cwd"
   ]
  },
  {
   "cell_type": "code",
   "execution_count": 2,
   "metadata": {},
   "outputs": [],
   "source": [
    "import pandas as pd\n",
    "import numpy as np\n",
    "import matplotlib.pyplot as plt\n",
    "import csv"
   ]
  },
  {
   "cell_type": "code",
   "execution_count": 10,
   "metadata": {},
   "outputs": [],
   "source": [
    "# 데이터 불러오기\n",
    "apt2017_1 = pd.read_csv('C:/Users/이현주/Desktop/대학교/ESAA/2020-1 부동산 가격예측 프로젝트/TeamProject/2017-1_apt.csv', thousands = ',') # thousands = ',' : 천 단위 자리 구분 기호 없애고 가져오기\n",
    "apt2017_2 = pd.read_csv('C:/Users/이현주/Desktop/대학교/ESAA/2020-1 부동산 가격예측 프로젝트/TeamProject/2017-2_apt.csv', thousands = ',')\n",
    "apt2017_3 = pd.read_csv('C:/Users/이현주/Desktop/대학교/ESAA/2020-1 부동산 가격예측 프로젝트/TeamProject/2017-3_apt.csv', thousands = ',')\n",
    "apt2017_4 = pd.read_csv('C:/Users/이현주/Desktop/대학교/ESAA/2020-1 부동산 가격예측 프로젝트/TeamProject/2017-4_apt.csv', thousands = ',')\n",
    "apt2017_5 = pd.read_csv('C:/Users/이현주/Desktop/대학교/ESAA/2020-1 부동산 가격예측 프로젝트/TeamProject/2017-5_apt.csv', thousands = ',')\n",
    "apt2017_6 = pd.read_csv('C:/Users/이현주/Desktop/대학교/ESAA/2020-1 부동산 가격예측 프로젝트/TeamProject/2017-6_apt.csv', thousands = ',')\n",
    "apt2017_7 = pd.read_csv('C:/Users/이현주/Desktop/대학교/ESAA/2020-1 부동산 가격예측 프로젝트/TeamProject/2017-7_apt.csv', thousands = ',')\n",
    "apt2017_8 = pd.read_csv('C:/Users/이현주/Desktop/대학교/ESAA/2020-1 부동산 가격예측 프로젝트/TeamProject/2017-8_apt.csv', thousands = ',')\n",
    "apt2017_9 = pd.read_csv('C:/Users/이현주/Desktop/대학교/ESAA/2020-1 부동산 가격예측 프로젝트/TeamProject/2017-9_apt.csv', thousands = ',')\n",
    "apt2017_10 = pd.read_csv('C:/Users/이현주/Desktop/대학교/ESAA/2020-1 부동산 가격예측 프로젝트/TeamProject/2017-10_apt.csv', thousands = ',')\n",
    "apt2017_11 = pd.read_csv('C:/Users/이현주/Desktop/대학교/ESAA/2020-1 부동산 가격예측 프로젝트/TeamProject/2017-11_apt.csv', thousands = ',')\n",
    "apt2017_12 = pd.read_csv('C:/Users/이현주/Desktop/대학교/ESAA/2020-1 부동산 가격예측 프로젝트/TeamProject/2017-12_apt.csv', thousands = ',')\n",
    "\n",
    "apt2018_1 = pd.read_csv('C:/Users/이현주/Desktop/대학교/ESAA/2020-1 부동산 가격예측 프로젝트/TeamProject/2018-1_apt.csv', thousands = ',')\n",
    "apt2018_2 = pd.read_csv('C:/Users/이현주/Desktop/대학교/ESAA/2020-1 부동산 가격예측 프로젝트/TeamProject/2018-2_apt.csv', thousands = ',')\n",
    "apt2018_3 = pd.read_csv('C:/Users/이현주/Desktop/대학교/ESAA/2020-1 부동산 가격예측 프로젝트/TeamProject/2018-3_apt.csv', thousands = ',')\n",
    "apt2018_4 = pd.read_csv('C:/Users/이현주/Desktop/대학교/ESAA/2020-1 부동산 가격예측 프로젝트/TeamProject/2018-4_apt.csv', thousands = ',')\n",
    "apt2018_5 = pd.read_csv('C:/Users/이현주/Desktop/대학교/ESAA/2020-1 부동산 가격예측 프로젝트/TeamProject/2018-5_apt.csv', thousands = ',')\n",
    "apt2018_6 = pd.read_csv('C:/Users/이현주/Desktop/대학교/ESAA/2020-1 부동산 가격예측 프로젝트/TeamProject/2018-6_apt.csv', thousands = ',')\n",
    "apt2018_7 = pd.read_csv('C:/Users/이현주/Desktop/대학교/ESAA/2020-1 부동산 가격예측 프로젝트/TeamProject/2018-7_apt.csv', thousands = ',')\n",
    "apt2018_8 = pd.read_csv('C:/Users/이현주/Desktop/대학교/ESAA/2020-1 부동산 가격예측 프로젝트/TeamProject/2018-8_apt.csv', thousands = ',')\n",
    "apt2018_9 = pd.read_csv('C:/Users/이현주/Desktop/대학교/ESAA/2020-1 부동산 가격예측 프로젝트/TeamProject/2018-9_apt.csv', thousands = ',')\n",
    "apt2018_10 = pd.read_csv('C:/Users/이현주/Desktop/대학교/ESAA/2020-1 부동산 가격예측 프로젝트/TeamProject/2018-10_apt.csv', thousands = ',')\n",
    "apt2018_11 = pd.read_csv('C:/Users/이현주/Desktop/대학교/ESAA/2020-1 부동산 가격예측 프로젝트/TeamProject/2018-11_apt.csv', thousands = ',')\n",
    "apt2018_12 = pd.read_csv('C:/Users/이현주/Desktop/대학교/ESAA/2020-1 부동산 가격예측 프로젝트/TeamProject/2018-12_apt.csv', thousands = ',')\n",
    "\n",
    "apt2019_1 = pd.read_csv('C:/Users/이현주/Desktop/대학교/ESAA/2020-1 부동산 가격예측 프로젝트/TeamProject/2019-1_apt.csv', thousands = ',')\n",
    "apt2019_2 = pd.read_csv('C:/Users/이현주/Desktop/대학교/ESAA/2020-1 부동산 가격예측 프로젝트/TeamProject/2019-2_apt.csv', thousands = ',')\n",
    "apt2019_3 = pd.read_csv('C:/Users/이현주/Desktop/대학교/ESAA/2020-1 부동산 가격예측 프로젝트/TeamProject/2019-3_apt.csv', thousands = ',')\n",
    "apt2019_4 = pd.read_csv('C:/Users/이현주/Desktop/대학교/ESAA/2020-1 부동산 가격예측 프로젝트/TeamProject/2019-4_apt.csv', thousands = ',')\n",
    "apt2019_5 = pd.read_csv('C:/Users/이현주/Desktop/대학교/ESAA/2020-1 부동산 가격예측 프로젝트/TeamProject/2019-5_apt.csv', thousands = ',')\n",
    "apt2019_6 = pd.read_csv('C:/Users/이현주/Desktop/대학교/ESAA/2020-1 부동산 가격예측 프로젝트/TeamProject/2019-6_apt.csv', thousands = ',')\n",
    "apt2019_7 = pd.read_csv('C:/Users/이현주/Desktop/대학교/ESAA/2020-1 부동산 가격예측 프로젝트/TeamProject/2019-7_apt.csv', thousands = ',')\n",
    "apt2019_8 = pd.read_csv('C:/Users/이현주/Desktop/대학교/ESAA/2020-1 부동산 가격예측 프로젝트/TeamProject/2019-8_apt.csv', thousands = ',')\n",
    "apt2019_9 = pd.read_csv('C:/Users/이현주/Desktop/대학교/ESAA/2020-1 부동산 가격예측 프로젝트/TeamProject/2019-9_apt.csv', thousands = ',')\n",
    "apt2019_10 = pd.read_csv('C:/Users/이현주/Desktop/대학교/ESAA/2020-1 부동산 가격예측 프로젝트/TeamProject/2019-10_apt.csv', thousands = ',')\n",
    "apt2019_11 = pd.read_csv('C:/Users/이현주/Desktop/대학교/ESAA/2020-1 부동산 가격예측 프로젝트/TeamProject/2019-11_apt.csv', thousands = ',')\n",
    "apt2019_12 = pd.read_csv('C:/Users/이현주/Desktop/대학교/ESAA/2020-1 부동산 가격예측 프로젝트/TeamProject/2019-12_apt.csv', thousands = ',')"
   ]
  },
  {
   "cell_type": "code",
   "execution_count": 15,
   "metadata": {},
   "outputs": [],
   "source": [
    "# 연도별로 데이터 합치기\n",
    "apt2017 = pd.concat([apt2017_1, apt2017_2, apt2017_3, apt2017_4, apt2017_5, apt2017_6, apt2017_7, apt2017_8, apt2017_9, apt2017_10, apt2017_11, apt2017_12])\n",
    "apt2018 = pd.concat([apt2018_1, apt2018_2, apt2018_3, apt2018_4, apt2018_5, apt2018_6, apt2018_7, apt2018_8, apt2018_9, apt2018_10, apt2018_11, apt2018_12])\n",
    "apt2019 = pd.concat([apt2019_1, apt2019_2, apt2019_3, apt2019_4, apt2019_5, apt2019_6, apt2019_7, apt2019_8, apt2019_9, apt2019_10, apt2019_11, apt2019_12])\n",
    "apt171819 = pd.concat([apt2017, apt2018, apt2019]) "
   ]
  },
  {
   "cell_type": "markdown",
   "metadata": {},
   "source": [
    "<수연>\n",
    "구별 1평거래금액의 평균\n",
    "층별 거래량\n",
    "건축년도별 평당가격평균\n",
    "거래량(월별, 구별)\n",
    "전용면적별 거래량(어떤 면적의 거래량이 많은지)\n",
    "2000년 전/후 건축된 아파트들의 거래금액 비교"
   ]
  },
  {
   "cell_type": "markdown",
   "metadata": {},
   "source": [
    "# 전처리"
   ]
  },
  {
   "cell_type": "markdown",
   "metadata": {},
   "source": [
    "시군구 변수를 시-군-구로 분리"
   ]
  },
  {
   "cell_type": "code",
   "execution_count": 47,
   "metadata": {},
   "outputs": [
    {
     "data": {
      "text/plain": [
       "0        견소동\n",
       "1        견소동\n",
       "2        견소동\n",
       "3        견소동\n",
       "4         교동\n",
       "        ... \n",
       "70396    호암동\n",
       "70397    호암동\n",
       "70398    호암동\n",
       "70399    호암동\n",
       "70400    호암동\n",
       "Name: 동, Length: 1610485, dtype: object"
      ]
     },
     "execution_count": 47,
     "metadata": {},
     "output_type": "execute_result"
    }
   ],
   "source": [
    "apt171819['도'] = apt171819['시군구'].str.split(' ').str[0]\n",
    "apt171819['시/구'] = apt171819['시군구'].str.split(' ').str[1]\n",
    "apt171819['동'] = apt171819['시군구'].str.split(' ').str[2]\n",
    "apt171819['동']"
   ]
  },
  {
   "cell_type": "markdown",
   "metadata": {},
   "source": [
    "계약년월을 계약연도-계약월로 분리"
   ]
  },
  {
   "cell_type": "code",
   "execution_count": 69,
   "metadata": {},
   "outputs": [
    {
     "data": {
      "text/plain": [
       "0        01\n",
       "1        01\n",
       "2        01\n",
       "3        01\n",
       "4        01\n",
       "         ..\n",
       "70396    12\n",
       "70397    12\n",
       "70398    12\n",
       "70399    12\n",
       "70400    12\n",
       "Name: 계약월, Length: 1610485, dtype: object"
      ]
     },
     "execution_count": 69,
     "metadata": {},
     "output_type": "execute_result"
    }
   ],
   "source": [
    "apt171819['계약년월1'] = apt171819['계약년월'].astype(str)\n",
    "apt171819['계약연도'] = apt171819['계약년월1'].str[0:4]\n",
    "apt171819['계약월'] = apt171819['계약년월1'].str[4:]\n",
    "apt171819['계약월']"
   ]
  },
  {
   "cell_type": "markdown",
   "metadata": {},
   "source": [
    "# 데이터 살펴보기"
   ]
  },
  {
   "cell_type": "markdown",
   "metadata": {},
   "source": [
    "1. 구별 제곱미터당 거래가격의 평균"
   ]
  },
  {
   "cell_type": "code",
   "execution_count": 50,
   "metadata": {},
   "outputs": [
    {
     "data": {
      "text/plain": [
       "시/구\n",
       "강남구    1697.554869\n",
       "서초구    1441.527451\n",
       "과천시    1298.422019\n",
       "송파구    1201.463354\n",
       "용산구    1187.955672\n",
       "          ...     \n",
       "전동면     117.321498\n",
       "소정면     106.142852\n",
       "영암군      98.813040\n",
       "장군면      93.154013\n",
       "신안군      28.540849\n",
       "Name: 전용면적당가격, Length: 248, dtype: float64"
      ]
     },
     "execution_count": 50,
     "metadata": {},
     "output_type": "execute_result"
    }
   ],
   "source": [
    "apt171819['전용면적당가격'] = apt171819['거래금액(만원)'] / apt171819['전용면적(㎡)']\n",
    "mean_price_per_square = apt171819.groupby(['시/구'])['전용면적당가격'].mean().sort_values(ascending=False)\n",
    "mean_price_per_square"
   ]
  },
  {
   "cell_type": "markdown",
   "metadata": {},
   "source": [
    "2. 층별 거래량"
   ]
  },
  {
   "cell_type": "code",
   "execution_count": 60,
   "metadata": {},
   "outputs": [
    {
     "data": {
      "text/plain": [
       "층\n",
       " 5     117730\n",
       " 4     116449\n",
       " 3     114232\n",
       " 2     108988\n",
       " 1      97946\n",
       "        ...  \n",
       " 75         4\n",
       " 74         3\n",
       " 76         2\n",
       "-3          2\n",
       " 0          1\n",
       "Name: 거래금액(만원), Length: 81, dtype: int64"
      ]
     },
     "execution_count": 60,
     "metadata": {},
     "output_type": "execute_result"
    }
   ],
   "source": [
    "volume_by_floor = apt171819.groupby(['층'])['거래금액(만원)'].count().sort_values(ascending=False)\n",
    "volume_by_floor"
   ]
  },
  {
   "cell_type": "markdown",
   "metadata": {},
   "source": [
    "3. 건축년도별 거래가격 평균"
   ]
  },
  {
   "cell_type": "code",
   "execution_count": 53,
   "metadata": {},
   "outputs": [
    {
     "data": {
      "text/plain": [
       "건축년도\n",
       "1973    219004.012048\n",
       "1978     77464.982501\n",
       "1976     76372.339638\n",
       "1971     74474.652997\n",
       "1974     69250.007092\n",
       "1977     65545.783113\n",
       "1979     59048.420227\n",
       "1975     58195.606982\n",
       "1982     51282.298896\n",
       "1970     48535.199074\n",
       "2011     48479.786195\n",
       "2009     47463.187139\n",
       "2008     45783.664447\n",
       "2010     45079.414855\n",
       "1983     44971.517627\n",
       "1965     44500.000000\n",
       "2012     42464.817207\n",
       "2015     40381.400517\n",
       "2016     40046.015813\n",
       "2007     39151.242336\n",
       "2006     37449.801310\n",
       "2014     37199.125473\n",
       "1972     36617.797927\n",
       "2013     36574.045145\n",
       "1980     36026.622145\n",
       "2003     35796.260101\n",
       "2004     35592.086092\n",
       "2005     34706.468655\n",
       "2017     34365.773386\n",
       "1986     33754.113249\n",
       "1984     33437.940873\n",
       "1988     32669.083290\n",
       "2019     31982.270962\n",
       "2002     31723.435272\n",
       "2018     31381.191929\n",
       "2001     30477.676329\n",
       "1985     29817.555147\n",
       "1987     29036.454810\n",
       "1981     28706.788992\n",
       "1966     28393.750000\n",
       "1999     28046.733040\n",
       "2000     28039.524148\n",
       "1993     27645.101476\n",
       "1994     26927.777018\n",
       "1992     26878.058249\n",
       "1968     26139.090909\n",
       "2020     25693.833333\n",
       "1995     24189.275715\n",
       "1997     23863.549980\n",
       "1998     22879.330441\n",
       "1996     21659.458043\n",
       "1991     20340.864681\n",
       "1989     19959.915287\n",
       "1990     19539.165358\n",
       "1961     15956.250000\n",
       "1969     13370.646688\n",
       "1967      8087.500000\n",
       "1962      3177.093596\n",
       "Name: 거래금액(만원), dtype: float64"
      ]
     },
     "execution_count": 53,
     "metadata": {},
     "output_type": "execute_result"
    }
   ],
   "source": [
    "mean_price_per_cnstr_year = apt171819.groupby(['건축년도'])['거래금액(만원)'].mean().sort_values(ascending=False)\n",
    "mean_price_per_cnstr_year"
   ]
  },
  {
   "cell_type": "markdown",
   "metadata": {},
   "source": [
    "4. 월별 거래량"
   ]
  },
  {
   "cell_type": "code",
   "execution_count": 70,
   "metadata": {},
   "outputs": [
    {
     "data": {
      "text/plain": [
       "계약월\n",
       "11    148971\n",
       "10    148299\n",
       "08    143473\n",
       "07    143435\n",
       "09    142119\n",
       "03    139852\n",
       "06    139782\n",
       "12    137454\n",
       "05    130748\n",
       "04    115659\n",
       "02    111487\n",
       "01    109206\n",
       "Name: 거래금액(만원), dtype: int64"
      ]
     },
     "execution_count": 70,
     "metadata": {},
     "output_type": "execute_result"
    }
   ],
   "source": [
    "volume_by_month = apt171819.groupby(['계약월'])['거래금액(만원)'].count().sort_values(ascending=False)\n",
    "volume_by_month"
   ]
  },
  {
   "cell_type": "markdown",
   "metadata": {},
   "source": [
    "5. 구별 거래량"
   ]
  },
  {
   "cell_type": "code",
   "execution_count": 73,
   "metadata": {},
   "outputs": [
    {
     "data": {
      "text/plain": [
       "시/구\n",
       "서구     63027\n",
       "북구     55463\n",
       "동구     31474\n",
       "남구     31414\n",
       "부천시    27047\n",
       "       ...  \n",
       "영양군       36\n",
       "소정면       23\n",
       "전동면       15\n",
       "울릉군        9\n",
       "신안군        1\n",
       "Name: 거래금액(만원), Length: 248, dtype: int64"
      ]
     },
     "execution_count": 73,
     "metadata": {},
     "output_type": "execute_result"
    }
   ],
   "source": [
    "volume_by_sigu = apt171819.groupby(['시/구'])['거래금액(만원)'].count().sort_values(ascending=False)\n",
    "volume_by_sigu #전국 각도에 동서남북구 있어서 정확하게 알수없음"
   ]
  },
  {
   "cell_type": "markdown",
   "metadata": {},
   "source": [
    "6. 전용면적별 거래량 (어떤 평수가 거래량이 많은지)"
   ]
  },
  {
   "cell_type": "code",
   "execution_count": 74,
   "metadata": {},
   "outputs": [
    {
     "data": {
      "text/plain": [
       "전용면적(㎡)\n",
       "84.9900     25438\n",
       "84.9800     20405\n",
       "84.9600     20336\n",
       "59.9900     19545\n",
       "84.9700     17139\n",
       "            ...  \n",
       "84.4154         1\n",
       "84.4130         1\n",
       "84.4121         1\n",
       "42.7000         1\n",
       "395.0600        1\n",
       "Name: 거래금액(만원), Length: 34634, dtype: int64"
      ]
     },
     "execution_count": 74,
     "metadata": {},
     "output_type": "execute_result"
    }
   ],
   "source": [
    "volume_by_total_surface = apt171819.groupby(['전용면적(㎡)'])['거래금액(만원)'].count().sort_values(ascending=False)\n",
    "volume_by_total_surface #전국 각도에 동서남북구 있어서 정확하게 알수없음\n",
    "# 85㎡ - 약 25~6평 정도가 거래량이 가장 많음"
   ]
  },
  {
   "cell_type": "markdown",
   "metadata": {},
   "source": [
    "# 2000년 전/후 건축된 아파트들의 거래금액 비교 \n",
    "(전용면적, 최대층 과도 비교해보기)"
   ]
  },
  {
   "cell_type": "code",
   "execution_count": 77,
   "metadata": {},
   "outputs": [
    {
     "data": {
      "text/plain": [
       "건축년도\n",
       "True     37584.821324\n",
       "False    26935.610612\n",
       "Name: 거래금액(만원), dtype: float64"
      ]
     },
     "execution_count": 77,
     "metadata": {},
     "output_type": "execute_result"
    }
   ],
   "source": [
    "before_2000 = apt171819['건축년도'] < 2000\n",
    "after_2000 = apt171819['건축년도'] >= 2000\n",
    "meanprice_before_2000 = apt171819.groupby(after_2000)['거래금액(만원)'].mean().sort_values(ascending=False)\n",
    "meanprice_before_2000 #다시해보기. 2000년대 이후 지어진 아파트들이 평균 거래가격이 높음"
   ]
  }
 ],
 "metadata": {
  "kernelspec": {
   "display_name": "Python 3",
   "language": "python",
   "name": "python3"
  },
  "language_info": {
   "codemirror_mode": {
    "name": "ipython",
    "version": 3
   },
   "file_extension": ".py",
   "mimetype": "text/x-python",
   "name": "python",
   "nbconvert_exporter": "python",
   "pygments_lexer": "ipython3",
   "version": "3.7.6"
  }
 },
 "nbformat": 4,
 "nbformat_minor": 4
}
