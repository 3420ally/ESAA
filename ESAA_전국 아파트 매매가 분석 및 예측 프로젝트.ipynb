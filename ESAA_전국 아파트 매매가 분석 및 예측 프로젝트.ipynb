{
 "cells": [
  {
   "cell_type": "markdown",
   "metadata": {},
   "source": [
    "# 전국 아파트 매매가 분석 및 예측 프로젝트 "
   ]
  },
  {
   "cell_type": "markdown",
   "metadata": {},
   "source": [
    "# 1. 개요"
   ]
  },
  {
   "cell_type": "markdown",
   "metadata": {},
   "source": [
    "본 데이터는 한국감정원 아파트 거래현황 자료의 2017.10.01 ~ 2019.12.31 데이터입니다. \n",
    "전반적인 데이터를 전처리 및 시각화 한 후\n",
    "Random Forest 모델을 적용해 지역별(구 기준), ?별 제곱미터당 거래가격을 예측해보는 회귀모델을 생성 해보았습니다. "
   ]
  },
  {
   "cell_type": "markdown",
   "metadata": {},
   "source": [
    "검색조건 계약일자 : 20170101 ~ 20191231 \n",
    "실거래구분 : 아파트(매매) \n",
    "주소구분 : 지번주소 \n",
    "시도 : 전체\n",
    "시군구 : 전체 \n",
    "읍면동 : 전체 \n",
    "면적 : 전체 \n",
    "금액선택 : 전체"
   ]
  },
  {
   "cell_type": "code",
   "execution_count": 144,
   "metadata": {},
   "outputs": [],
   "source": [
    "import pandas as pd\n",
    "import numpy as np\n",
    "import matplotlib.pyplot as plt\n",
    "import seaborn as sns\n",
    "import csv\n",
    "import matplotlib.font_manager as fm\n",
    "from sklearn.ensemble import RandomForestRegressor\n",
    "import sklearn as sk\n",
    "import sklearn.datasets as skd\n",
    "import sklearn.ensemble as ske\n",
    "from sklearn.model_selection import train_test_split\n",
    "%matplotlib inline"
   ]
  },
  {
   "cell_type": "code",
   "execution_count": 3,
   "metadata": {},
   "outputs": [
    {
     "name": "stderr",
     "output_type": "stream",
     "text": [
      "C:\\ProgramData\\Anaconda3\\lib\\site-packages\\IPython\\core\\interactiveshell.py:3063: DtypeWarning: Columns (2) have mixed types.Specify dtype option on import or set low_memory=False.\n",
      "  interactivity=interactivity, compiler=compiler, result=result)\n"
     ]
    }
   ],
   "source": [
    "# 데이터 불러오기\n",
    "apt2017_1 = pd.read_csv('C:/Users/이현주/Desktop/대학교/ESAA/2020-1 부동산 가격예측 프로젝트/TeamProject/2017-1_apt.csv', thousands = ',') # thousands = ',' : 천 단위 자리 구분 기호 없애고 가져오기\n",
    "apt2017_2 = pd.read_csv('C:/Users/이현주/Desktop/대학교/ESAA/2020-1 부동산 가격예측 프로젝트/TeamProject/2017-2_apt.csv', thousands = ',')\n",
    "apt2017_3 = pd.read_csv('C:/Users/이현주/Desktop/대학교/ESAA/2020-1 부동산 가격예측 프로젝트/TeamProject/2017-3_apt.csv', thousands = ',')\n",
    "apt2017_4 = pd.read_csv('C:/Users/이현주/Desktop/대학교/ESAA/2020-1 부동산 가격예측 프로젝트/TeamProject/2017-4_apt.csv', thousands = ',')\n",
    "apt2017_5 = pd.read_csv('C:/Users/이현주/Desktop/대학교/ESAA/2020-1 부동산 가격예측 프로젝트/TeamProject/2017-5_apt.csv', thousands = ',')\n",
    "apt2017_6 = pd.read_csv('C:/Users/이현주/Desktop/대학교/ESAA/2020-1 부동산 가격예측 프로젝트/TeamProject/2017-6_apt.csv', thousands = ',')\n",
    "apt2017_7 = pd.read_csv('C:/Users/이현주/Desktop/대학교/ESAA/2020-1 부동산 가격예측 프로젝트/TeamProject/2017-7_apt.csv', thousands = ',')\n",
    "apt2017_8 = pd.read_csv('C:/Users/이현주/Desktop/대학교/ESAA/2020-1 부동산 가격예측 프로젝트/TeamProject/2017-8_apt.csv', thousands = ',')\n",
    "apt2017_9 = pd.read_csv('C:/Users/이현주/Desktop/대학교/ESAA/2020-1 부동산 가격예측 프로젝트/TeamProject/2017-9_apt.csv', thousands = ',')\n",
    "apt2017_10 = pd.read_csv('C:/Users/이현주/Desktop/대학교/ESAA/2020-1 부동산 가격예측 프로젝트/TeamProject/2017-10_apt.csv', thousands = ',')\n",
    "apt2017_11 = pd.read_csv('C:/Users/이현주/Desktop/대학교/ESAA/2020-1 부동산 가격예측 프로젝트/TeamProject/2017-11_apt.csv', thousands = ',')\n",
    "apt2017_12 = pd.read_csv('C:/Users/이현주/Desktop/대학교/ESAA/2020-1 부동산 가격예측 프로젝트/TeamProject/2017-12_apt.csv', thousands = ',')\n",
    "\n",
    "apt2018_1 = pd.read_csv('C:/Users/이현주/Desktop/대학교/ESAA/2020-1 부동산 가격예측 프로젝트/TeamProject/2018-1_apt.csv', thousands = ',')\n",
    "apt2018_2 = pd.read_csv('C:/Users/이현주/Desktop/대학교/ESAA/2020-1 부동산 가격예측 프로젝트/TeamProject/2018-2_apt.csv', thousands = ',')\n",
    "apt2018_3 = pd.read_csv('C:/Users/이현주/Desktop/대학교/ESAA/2020-1 부동산 가격예측 프로젝트/TeamProject/2018-3_apt.csv', thousands = ',')\n",
    "apt2018_4 = pd.read_csv('C:/Users/이현주/Desktop/대학교/ESAA/2020-1 부동산 가격예측 프로젝트/TeamProject/2018-4_apt.csv', thousands = ',')\n",
    "apt2018_5 = pd.read_csv('C:/Users/이현주/Desktop/대학교/ESAA/2020-1 부동산 가격예측 프로젝트/TeamProject/2018-5_apt.csv', thousands = ',')\n",
    "apt2018_6 = pd.read_csv('C:/Users/이현주/Desktop/대학교/ESAA/2020-1 부동산 가격예측 프로젝트/TeamProject/2018-6_apt.csv', thousands = ',')\n",
    "apt2018_7 = pd.read_csv('C:/Users/이현주/Desktop/대학교/ESAA/2020-1 부동산 가격예측 프로젝트/TeamProject/2018-7_apt.csv', thousands = ',')\n",
    "apt2018_8 = pd.read_csv('C:/Users/이현주/Desktop/대학교/ESAA/2020-1 부동산 가격예측 프로젝트/TeamProject/2018-8_apt.csv', thousands = ',')\n",
    "apt2018_9 = pd.read_csv('C:/Users/이현주/Desktop/대학교/ESAA/2020-1 부동산 가격예측 프로젝트/TeamProject/2018-9_apt.csv', thousands = ',')\n",
    "apt2018_10 = pd.read_csv('C:/Users/이현주/Desktop/대학교/ESAA/2020-1 부동산 가격예측 프로젝트/TeamProject/2018-10_apt.csv', thousands = ',')\n",
    "apt2018_11 = pd.read_csv('C:/Users/이현주/Desktop/대학교/ESAA/2020-1 부동산 가격예측 프로젝트/TeamProject/2018-11_apt.csv', thousands = ',')\n",
    "apt2018_12 = pd.read_csv('C:/Users/이현주/Desktop/대학교/ESAA/2020-1 부동산 가격예측 프로젝트/TeamProject/2018-12_apt.csv', thousands = ',')\n",
    "\n",
    "apt2019_1 = pd.read_csv('C:/Users/이현주/Desktop/대학교/ESAA/2020-1 부동산 가격예측 프로젝트/TeamProject/2019-1_apt.csv', thousands = ',')\n",
    "apt2019_2 = pd.read_csv('C:/Users/이현주/Desktop/대학교/ESAA/2020-1 부동산 가격예측 프로젝트/TeamProject/2019-2_apt.csv', thousands = ',')\n",
    "apt2019_3 = pd.read_csv('C:/Users/이현주/Desktop/대학교/ESAA/2020-1 부동산 가격예측 프로젝트/TeamProject/2019-3_apt.csv', thousands = ',')\n",
    "apt2019_4 = pd.read_csv('C:/Users/이현주/Desktop/대학교/ESAA/2020-1 부동산 가격예측 프로젝트/TeamProject/2019-4_apt.csv', thousands = ',')\n",
    "apt2019_5 = pd.read_csv('C:/Users/이현주/Desktop/대학교/ESAA/2020-1 부동산 가격예측 프로젝트/TeamProject/2019-5_apt.csv', thousands = ',')\n",
    "apt2019_6 = pd.read_csv('C:/Users/이현주/Desktop/대학교/ESAA/2020-1 부동산 가격예측 프로젝트/TeamProject/2019-6_apt.csv', thousands = ',')\n",
    "apt2019_7 = pd.read_csv('C:/Users/이현주/Desktop/대학교/ESAA/2020-1 부동산 가격예측 프로젝트/TeamProject/2019-7_apt.csv', thousands = ',')\n",
    "apt2019_8 = pd.read_csv('C:/Users/이현주/Desktop/대학교/ESAA/2020-1 부동산 가격예측 프로젝트/TeamProject/2019-8_apt.csv', thousands = ',')\n",
    "apt2019_9 = pd.read_csv('C:/Users/이현주/Desktop/대학교/ESAA/2020-1 부동산 가격예측 프로젝트/TeamProject/2019-9_apt.csv', thousands = ',')\n",
    "apt2019_10 = pd.read_csv('C:/Users/이현주/Desktop/대학교/ESAA/2020-1 부동산 가격예측 프로젝트/TeamProject/2019-10_apt.csv', thousands = ',')\n",
    "apt2019_11 = pd.read_csv('C:/Users/이현주/Desktop/대학교/ESAA/2020-1 부동산 가격예측 프로젝트/TeamProject/2019-11_apt.csv', thousands = ',')\n",
    "apt2019_12 = pd.read_csv('C:/Users/이현주/Desktop/대학교/ESAA/2020-1 부동산 가격예측 프로젝트/TeamProject/2019-12_apt.csv', thousands = ',')"
   ]
  },
  {
   "cell_type": "code",
   "execution_count": 4,
   "metadata": {},
   "outputs": [],
   "source": [
    "# 연도별로 데이터 합치기\n",
    "apt2017 = pd.concat([apt2017_1, apt2017_2, apt2017_3, apt2017_4, apt2017_5, apt2017_6, apt2017_7, apt2017_8, apt2017_9, apt2017_10, apt2017_11, apt2017_12])\n",
    "apt2018 = pd.concat([apt2018_1, apt2018_2, apt2018_3, apt2018_4, apt2018_5, apt2018_6, apt2018_7, apt2018_8, apt2018_9, apt2018_10, apt2018_11, apt2018_12])\n",
    "apt2019 = pd.concat([apt2019_1, apt2019_2, apt2019_3, apt2019_4, apt2019_5, apt2019_6, apt2019_7, apt2019_8, apt2019_9, apt2019_10, apt2019_11, apt2019_12])\n",
    "apt171819 = pd.concat([apt2017, apt2018, apt2019]) "
   ]
  },
  {
   "cell_type": "code",
   "execution_count": 106,
   "metadata": {},
   "outputs": [
    {
     "data": {
      "text/html": [
       "<div>\n",
       "<style scoped>\n",
       "    .dataframe tbody tr th:only-of-type {\n",
       "        vertical-align: middle;\n",
       "    }\n",
       "\n",
       "    .dataframe tbody tr th {\n",
       "        vertical-align: top;\n",
       "    }\n",
       "\n",
       "    .dataframe thead th {\n",
       "        text-align: right;\n",
       "    }\n",
       "</style>\n",
       "<table border=\"1\" class=\"dataframe\">\n",
       "  <thead>\n",
       "    <tr style=\"text-align: right;\">\n",
       "      <th></th>\n",
       "      <th>부번</th>\n",
       "      <th>전용면적(㎡)</th>\n",
       "      <th>계약년월</th>\n",
       "      <th>계약일</th>\n",
       "      <th>거래금액(만원)</th>\n",
       "      <th>층</th>\n",
       "      <th>건축년도</th>\n",
       "      <th>전용면적당가격</th>\n",
       "    </tr>\n",
       "  </thead>\n",
       "  <tbody>\n",
       "    <tr>\n",
       "      <th>count</th>\n",
       "      <td>1.610485e+06</td>\n",
       "      <td>1.610485e+06</td>\n",
       "      <td>1.610485e+06</td>\n",
       "      <td>1.610485e+06</td>\n",
       "      <td>1.610485e+06</td>\n",
       "      <td>1.610485e+06</td>\n",
       "      <td>1.610485e+06</td>\n",
       "      <td>1.610485e+06</td>\n",
       "    </tr>\n",
       "    <tr>\n",
       "      <th>mean</th>\n",
       "      <td>4.648252e+00</td>\n",
       "      <td>7.615636e+01</td>\n",
       "      <td>2.018045e+05</td>\n",
       "      <td>1.584940e+01</td>\n",
       "      <td>3.281571e+04</td>\n",
       "      <td>9.177554e+00</td>\n",
       "      <td>2.001262e+03</td>\n",
       "      <td>4.199926e+02</td>\n",
       "    </tr>\n",
       "    <tr>\n",
       "      <th>std</th>\n",
       "      <td>3.727847e+01</td>\n",
       "      <td>2.665928e+01</td>\n",
       "      <td>8.331016e+01</td>\n",
       "      <td>8.763556e+00</td>\n",
       "      <td>3.003593e+04</td>\n",
       "      <td>6.288807e+00</td>\n",
       "      <td>9.383382e+00</td>\n",
       "      <td>3.125531e+02</td>\n",
       "    </tr>\n",
       "    <tr>\n",
       "      <th>min</th>\n",
       "      <td>0.000000e+00</td>\n",
       "      <td>9.260000e+00</td>\n",
       "      <td>2.017010e+05</td>\n",
       "      <td>1.000000e+00</td>\n",
       "      <td>5.000000e+02</td>\n",
       "      <td>-3.000000e+00</td>\n",
       "      <td>1.961000e+03</td>\n",
       "      <td>1.000500e+01</td>\n",
       "    </tr>\n",
       "    <tr>\n",
       "      <th>25%</th>\n",
       "      <td>0.000000e+00</td>\n",
       "      <td>5.974800e+01</td>\n",
       "      <td>2.017090e+05</td>\n",
       "      <td>8.000000e+00</td>\n",
       "      <td>1.550000e+04</td>\n",
       "      <td>4.000000e+00</td>\n",
       "      <td>1.994000e+03</td>\n",
       "      <td>2.323426e+02</td>\n",
       "    </tr>\n",
       "    <tr>\n",
       "      <th>50%</th>\n",
       "      <td>0.000000e+00</td>\n",
       "      <td>7.980000e+01</td>\n",
       "      <td>2.018060e+05</td>\n",
       "      <td>1.600000e+01</td>\n",
       "      <td>2.520000e+04</td>\n",
       "      <td>8.000000e+00</td>\n",
       "      <td>2.001000e+03</td>\n",
       "      <td>3.362152e+02</td>\n",
       "    </tr>\n",
       "    <tr>\n",
       "      <th>75%</th>\n",
       "      <td>1.000000e+00</td>\n",
       "      <td>8.496140e+01</td>\n",
       "      <td>2.019050e+05</td>\n",
       "      <td>2.300000e+01</td>\n",
       "      <td>4.000000e+04</td>\n",
       "      <td>1.300000e+01</td>\n",
       "      <td>2.009000e+03</td>\n",
       "      <td>5.014990e+02</td>\n",
       "    </tr>\n",
       "    <tr>\n",
       "      <th>max</th>\n",
       "      <td>2.837000e+03</td>\n",
       "      <td>3.950600e+02</td>\n",
       "      <td>2.019120e+05</td>\n",
       "      <td>3.100000e+01</td>\n",
       "      <td>8.400000e+05</td>\n",
       "      <td>7.700000e+01</td>\n",
       "      <td>2.020000e+03</td>\n",
       "      <td>6.969612e+03</td>\n",
       "    </tr>\n",
       "  </tbody>\n",
       "</table>\n",
       "</div>"
      ],
      "text/plain": [
       "                 부번       전용면적(㎡)          계약년월           계약일      거래금액(만원)  \\\n",
       "count  1.610485e+06  1.610485e+06  1.610485e+06  1.610485e+06  1.610485e+06   \n",
       "mean   4.648252e+00  7.615636e+01  2.018045e+05  1.584940e+01  3.281571e+04   \n",
       "std    3.727847e+01  2.665928e+01  8.331016e+01  8.763556e+00  3.003593e+04   \n",
       "min    0.000000e+00  9.260000e+00  2.017010e+05  1.000000e+00  5.000000e+02   \n",
       "25%    0.000000e+00  5.974800e+01  2.017090e+05  8.000000e+00  1.550000e+04   \n",
       "50%    0.000000e+00  7.980000e+01  2.018060e+05  1.600000e+01  2.520000e+04   \n",
       "75%    1.000000e+00  8.496140e+01  2.019050e+05  2.300000e+01  4.000000e+04   \n",
       "max    2.837000e+03  3.950600e+02  2.019120e+05  3.100000e+01  8.400000e+05   \n",
       "\n",
       "                  층          건축년도       전용면적당가격  \n",
       "count  1.610485e+06  1.610485e+06  1.610485e+06  \n",
       "mean   9.177554e+00  2.001262e+03  4.199926e+02  \n",
       "std    6.288807e+00  9.383382e+00  3.125531e+02  \n",
       "min   -3.000000e+00  1.961000e+03  1.000500e+01  \n",
       "25%    4.000000e+00  1.994000e+03  2.323426e+02  \n",
       "50%    8.000000e+00  2.001000e+03  3.362152e+02  \n",
       "75%    1.300000e+01  2.009000e+03  5.014990e+02  \n",
       "max    7.700000e+01  2.020000e+03  6.969612e+03  "
      ]
     },
     "execution_count": 106,
     "metadata": {},
     "output_type": "execute_result"
    }
   ],
   "source": [
    "apt171819.describe()"
   ]
  },
  {
   "cell_type": "markdown",
   "metadata": {},
   "source": [
    "# 2. 탐색적 자료분석 (EDA)"
   ]
  },
  {
   "cell_type": "markdown",
   "metadata": {},
   "source": [
    "구별 1평거래금액의 평균\n",
    "층별 거래량\n",
    "건축년도별 평당가격평균\n",
    "거래량(월별, 구별)\n",
    "전용면적별 거래량(어떤 면적의 거래량이 많은지)\n",
    "2000년 전/후 건축된 아파트들의 거래금액 비교"
   ]
  },
  {
   "cell_type": "markdown",
   "metadata": {},
   "source": [
    "# 전처리"
   ]
  },
  {
   "cell_type": "markdown",
   "metadata": {},
   "source": [
    "1. 시군구 변수를 시-군-구로 분리"
   ]
  },
  {
   "cell_type": "code",
   "execution_count": 5,
   "metadata": {},
   "outputs": [
    {
     "data": {
      "text/plain": [
       "0        견소동\n",
       "1        견소동\n",
       "2        견소동\n",
       "3        견소동\n",
       "4         교동\n",
       "        ... \n",
       "70396    호암동\n",
       "70397    호암동\n",
       "70398    호암동\n",
       "70399    호암동\n",
       "70400    호암동\n",
       "Name: 동, Length: 1610485, dtype: object"
      ]
     },
     "execution_count": 5,
     "metadata": {},
     "output_type": "execute_result"
    }
   ],
   "source": [
    "apt171819['도'] = apt171819['시군구'].str.split(' ').str[0]\n",
    "apt171819['시/구'] = apt171819['시군구'].str.split(' ').str[1]\n",
    "apt171819['동'] = apt171819['시군구'].str.split(' ').str[2]\n",
    "apt171819['동']"
   ]
  },
  {
   "cell_type": "markdown",
   "metadata": {},
   "source": [
    "2. 계약년월을 계약연도-계약월로 분리"
   ]
  },
  {
   "cell_type": "code",
   "execution_count": 6,
   "metadata": {},
   "outputs": [
    {
     "data": {
      "text/plain": [
       "0        01\n",
       "1        01\n",
       "2        01\n",
       "3        01\n",
       "4        01\n",
       "         ..\n",
       "70396    12\n",
       "70397    12\n",
       "70398    12\n",
       "70399    12\n",
       "70400    12\n",
       "Name: 계약월, Length: 1610485, dtype: object"
      ]
     },
     "execution_count": 6,
     "metadata": {},
     "output_type": "execute_result"
    }
   ],
   "source": [
    "apt171819['계약년월1'] = apt171819['계약년월'].astype(str)\n",
    "apt171819['계약연도'] = apt171819['계약년월1'].str[0:4]\n",
    "apt171819['계약월'] = apt171819['계약년월1'].str[4:]\n",
    "apt171819['계약월']"
   ]
  },
  {
   "cell_type": "markdown",
   "metadata": {},
   "source": [
    "# 데이터 살펴보기"
   ]
  },
  {
   "cell_type": "markdown",
   "metadata": {},
   "source": [
    "1. 구별 제곱미터당 거래가격의 평균"
   ]
  },
  {
   "cell_type": "code",
   "execution_count": 111,
   "metadata": {},
   "outputs": [
    {
     "data": {
      "text/html": [
       "<div>\n",
       "<style scoped>\n",
       "    .dataframe tbody tr th:only-of-type {\n",
       "        vertical-align: middle;\n",
       "    }\n",
       "\n",
       "    .dataframe tbody tr th {\n",
       "        vertical-align: top;\n",
       "    }\n",
       "\n",
       "    .dataframe thead th {\n",
       "        text-align: right;\n",
       "    }\n",
       "</style>\n",
       "<table border=\"1\" class=\"dataframe\">\n",
       "  <thead>\n",
       "    <tr style=\"text-align: right;\">\n",
       "      <th></th>\n",
       "      <th>전용면적당 평균거래가</th>\n",
       "    </tr>\n",
       "    <tr>\n",
       "      <th>시/구</th>\n",
       "      <th></th>\n",
       "    </tr>\n",
       "  </thead>\n",
       "  <tbody>\n",
       "    <tr>\n",
       "      <th>강남구</th>\n",
       "      <td>149015.261770</td>\n",
       "    </tr>\n",
       "    <tr>\n",
       "      <th>서초구</th>\n",
       "      <td>140132.769003</td>\n",
       "    </tr>\n",
       "    <tr>\n",
       "      <th>용산구</th>\n",
       "      <td>127033.021816</td>\n",
       "    </tr>\n",
       "    <tr>\n",
       "      <th>송파구</th>\n",
       "      <td>99544.650690</td>\n",
       "    </tr>\n",
       "    <tr>\n",
       "      <th>과천시</th>\n",
       "      <td>97342.745044</td>\n",
       "    </tr>\n",
       "    <tr>\n",
       "      <th>성동구</th>\n",
       "      <td>80254.320578</td>\n",
       "    </tr>\n",
       "    <tr>\n",
       "      <th>광진구</th>\n",
       "      <td>78193.929780</td>\n",
       "    </tr>\n",
       "    <tr>\n",
       "      <th>마포구</th>\n",
       "      <td>77013.779386</td>\n",
       "    </tr>\n",
       "    <tr>\n",
       "      <th>성남분당구</th>\n",
       "      <td>74552.339188</td>\n",
       "    </tr>\n",
       "    <tr>\n",
       "      <th>동작구</th>\n",
       "      <td>71100.504862</td>\n",
       "    </tr>\n",
       "  </tbody>\n",
       "</table>\n",
       "</div>"
      ],
      "text/plain": [
       "         전용면적당 평균거래가\n",
       "시/구                 \n",
       "강남구    149015.261770\n",
       "서초구    140132.769003\n",
       "용산구    127033.021816\n",
       "송파구     99544.650690\n",
       "과천시     97342.745044\n",
       "성동구     80254.320578\n",
       "광진구     78193.929780\n",
       "마포구     77013.779386\n",
       "성남분당구   74552.339188\n",
       "동작구     71100.504862"
      ]
     },
     "execution_count": 111,
     "metadata": {},
     "output_type": "execute_result"
    }
   ],
   "source": [
    "mean_price_per_square = apt171819.groupby('시/구').mean()\n",
    "mean_price_per_square['전용면적당 평균거래가'] = mean_price_per_square['거래금액(만원)']\n",
    "mean_price_per_square = mean_price_per_square.loc[:,['전용면적당 평균거래가']]\n",
    "mean_price_per_square = mean_price_per_square.sort_values('전용면적당 평균거래가', ascending=False)\n",
    "\n",
    "# top 10\n",
    "mean_price_per_square_top10 = mean_price_per_square.iloc[:10]\n",
    "mean_price_per_square_top10"
   ]
  },
  {
   "cell_type": "markdown",
   "metadata": {},
   "source": [
    "2. 층별 거래량"
   ]
  },
  {
   "cell_type": "code",
   "execution_count": 38,
   "metadata": {},
   "outputs": [
    {
     "data": {
      "text/html": [
       "<div>\n",
       "<style scoped>\n",
       "    .dataframe tbody tr th:only-of-type {\n",
       "        vertical-align: middle;\n",
       "    }\n",
       "\n",
       "    .dataframe tbody tr th {\n",
       "        vertical-align: top;\n",
       "    }\n",
       "\n",
       "    .dataframe thead th {\n",
       "        text-align: right;\n",
       "    }\n",
       "</style>\n",
       "<table border=\"1\" class=\"dataframe\">\n",
       "  <thead>\n",
       "    <tr style=\"text-align: right;\">\n",
       "      <th></th>\n",
       "      <th>층별거래량</th>\n",
       "    </tr>\n",
       "    <tr>\n",
       "      <th>층</th>\n",
       "      <th></th>\n",
       "    </tr>\n",
       "  </thead>\n",
       "  <tbody>\n",
       "    <tr>\n",
       "      <th>5</th>\n",
       "      <td>117730</td>\n",
       "    </tr>\n",
       "    <tr>\n",
       "      <th>4</th>\n",
       "      <td>116449</td>\n",
       "    </tr>\n",
       "    <tr>\n",
       "      <th>3</th>\n",
       "      <td>114232</td>\n",
       "    </tr>\n",
       "    <tr>\n",
       "      <th>2</th>\n",
       "      <td>108988</td>\n",
       "    </tr>\n",
       "    <tr>\n",
       "      <th>1</th>\n",
       "      <td>97946</td>\n",
       "    </tr>\n",
       "    <tr>\n",
       "      <th>6</th>\n",
       "      <td>96017</td>\n",
       "    </tr>\n",
       "    <tr>\n",
       "      <th>7</th>\n",
       "      <td>91673</td>\n",
       "    </tr>\n",
       "    <tr>\n",
       "      <th>8</th>\n",
       "      <td>90466</td>\n",
       "    </tr>\n",
       "    <tr>\n",
       "      <th>9</th>\n",
       "      <td>88826</td>\n",
       "    </tr>\n",
       "    <tr>\n",
       "      <th>10</th>\n",
       "      <td>87031</td>\n",
       "    </tr>\n",
       "  </tbody>\n",
       "</table>\n",
       "</div>"
      ],
      "text/plain": [
       "     층별거래량\n",
       "층         \n",
       "5   117730\n",
       "4   116449\n",
       "3   114232\n",
       "2   108988\n",
       "1    97946\n",
       "6    96017\n",
       "7    91673\n",
       "8    90466\n",
       "9    88826\n",
       "10   87031"
      ]
     },
     "execution_count": 38,
     "metadata": {},
     "output_type": "execute_result"
    }
   ],
   "source": [
    "#volume_by_floor = apt171819.groupby(['층'])['거래금액(만원)'].count().sort_values(ascending=False)\n",
    "#volume_by_floor\n",
    "# 층을 그룹화 하여 count 적용\n",
    "volume_by_floor = apt171819.groupby('층').count()\n",
    "\n",
    "# 현재 층마다 모든 열에 대해 거래량이 기입되었기 때문에 임의의 열을 가져와 '층별거래량'라는 이름의 열로 재생성\n",
    "volume_by_floor['층별거래량'] = volume_by_floor['시군구']\n",
    "\n",
    "# 생성한 count 열만 채널이름과 함께 가져오기\n",
    "volume_by_floor = volume_by_floor.loc[:,['층별거래량']]\n",
    "\n",
    "# 내림차순 정렬 (인기영상에 진입한 횟수 많은 순으로)\n",
    "volume_by_floor = volume_by_floor.sort_values('층별거래량', ascending=False)\n",
    "\n",
    "# top 10\n",
    "volume_by_floor_top10 = volume_by_floor.iloc[:10]\n",
    "volume_by_floor_top10"
   ]
  },
  {
   "cell_type": "markdown",
   "metadata": {},
   "source": [
    "3. 건축년도별 거래가격 평균"
   ]
  },
  {
   "cell_type": "code",
   "execution_count": 39,
   "metadata": {},
   "outputs": [
    {
     "data": {
      "text/html": [
       "<div>\n",
       "<style scoped>\n",
       "    .dataframe tbody tr th:only-of-type {\n",
       "        vertical-align: middle;\n",
       "    }\n",
       "\n",
       "    .dataframe tbody tr th {\n",
       "        vertical-align: top;\n",
       "    }\n",
       "\n",
       "    .dataframe thead th {\n",
       "        text-align: right;\n",
       "    }\n",
       "</style>\n",
       "<table border=\"1\" class=\"dataframe\">\n",
       "  <thead>\n",
       "    <tr style=\"text-align: right;\">\n",
       "      <th></th>\n",
       "      <th>건축년도별 거래가격 평균</th>\n",
       "    </tr>\n",
       "    <tr>\n",
       "      <th>건축년도</th>\n",
       "      <th></th>\n",
       "    </tr>\n",
       "  </thead>\n",
       "  <tbody>\n",
       "    <tr>\n",
       "      <th>1973</th>\n",
       "      <td>219004.012048</td>\n",
       "    </tr>\n",
       "    <tr>\n",
       "      <th>1978</th>\n",
       "      <td>77464.982501</td>\n",
       "    </tr>\n",
       "    <tr>\n",
       "      <th>1976</th>\n",
       "      <td>76372.339638</td>\n",
       "    </tr>\n",
       "    <tr>\n",
       "      <th>1971</th>\n",
       "      <td>74474.652997</td>\n",
       "    </tr>\n",
       "    <tr>\n",
       "      <th>1974</th>\n",
       "      <td>69250.007092</td>\n",
       "    </tr>\n",
       "    <tr>\n",
       "      <th>1977</th>\n",
       "      <td>65545.783113</td>\n",
       "    </tr>\n",
       "    <tr>\n",
       "      <th>1979</th>\n",
       "      <td>59048.420227</td>\n",
       "    </tr>\n",
       "    <tr>\n",
       "      <th>1975</th>\n",
       "      <td>58195.606982</td>\n",
       "    </tr>\n",
       "    <tr>\n",
       "      <th>1982</th>\n",
       "      <td>51282.298896</td>\n",
       "    </tr>\n",
       "    <tr>\n",
       "      <th>1970</th>\n",
       "      <td>48535.199074</td>\n",
       "    </tr>\n",
       "  </tbody>\n",
       "</table>\n",
       "</div>"
      ],
      "text/plain": [
       "      건축년도별 거래가격 평균\n",
       "건축년도               \n",
       "1973  219004.012048\n",
       "1978   77464.982501\n",
       "1976   76372.339638\n",
       "1971   74474.652997\n",
       "1974   69250.007092\n",
       "1977   65545.783113\n",
       "1979   59048.420227\n",
       "1975   58195.606982\n",
       "1982   51282.298896\n",
       "1970   48535.199074"
      ]
     },
     "execution_count": 39,
     "metadata": {},
     "output_type": "execute_result"
    }
   ],
   "source": [
    "mean_price_per_cnstr_year = apt171819.groupby('건축년도').mean()\n",
    "mean_price_per_cnstr_year['건축년도별 거래가격 평균'] = mean_price_per_cnstr_year['거래금액(만원)']\n",
    "mean_price_per_cnstr_year = mean_price_per_cnstr_year.loc[:,['건축년도별 거래가격 평균']]\n",
    "mean_price_per_cnstr_year = mean_price_per_cnstr_year.sort_values('건축년도별 거래가격 평균', ascending=False)\n",
    "\n",
    "# top 10\n",
    "mean_price_per_cnstr_year_top10 = mean_price_per_cnstr_year.iloc[:10]\n",
    "mean_price_per_cnstr_year_top10"
   ]
  },
  {
   "cell_type": "markdown",
   "metadata": {},
   "source": [
    "4. 월별 거래량"
   ]
  },
  {
   "cell_type": "code",
   "execution_count": 132,
   "metadata": {},
   "outputs": [
    {
     "data": {
      "text/html": [
       "<div>\n",
       "<style scoped>\n",
       "    .dataframe tbody tr th:only-of-type {\n",
       "        vertical-align: middle;\n",
       "    }\n",
       "\n",
       "    .dataframe tbody tr th {\n",
       "        vertical-align: top;\n",
       "    }\n",
       "\n",
       "    .dataframe thead th {\n",
       "        text-align: right;\n",
       "    }\n",
       "</style>\n",
       "<table border=\"1\" class=\"dataframe\">\n",
       "  <thead>\n",
       "    <tr style=\"text-align: right;\">\n",
       "      <th></th>\n",
       "      <th>당월 계약수</th>\n",
       "    </tr>\n",
       "    <tr>\n",
       "      <th>계약월</th>\n",
       "      <th></th>\n",
       "    </tr>\n",
       "  </thead>\n",
       "  <tbody>\n",
       "    <tr>\n",
       "      <th>11</th>\n",
       "      <td>148971</td>\n",
       "    </tr>\n",
       "    <tr>\n",
       "      <th>10</th>\n",
       "      <td>148299</td>\n",
       "    </tr>\n",
       "    <tr>\n",
       "      <th>08</th>\n",
       "      <td>143473</td>\n",
       "    </tr>\n",
       "    <tr>\n",
       "      <th>07</th>\n",
       "      <td>143435</td>\n",
       "    </tr>\n",
       "    <tr>\n",
       "      <th>09</th>\n",
       "      <td>142119</td>\n",
       "    </tr>\n",
       "    <tr>\n",
       "      <th>03</th>\n",
       "      <td>139852</td>\n",
       "    </tr>\n",
       "    <tr>\n",
       "      <th>06</th>\n",
       "      <td>139782</td>\n",
       "    </tr>\n",
       "    <tr>\n",
       "      <th>12</th>\n",
       "      <td>137454</td>\n",
       "    </tr>\n",
       "    <tr>\n",
       "      <th>05</th>\n",
       "      <td>130748</td>\n",
       "    </tr>\n",
       "    <tr>\n",
       "      <th>04</th>\n",
       "      <td>115659</td>\n",
       "    </tr>\n",
       "    <tr>\n",
       "      <th>02</th>\n",
       "      <td>111487</td>\n",
       "    </tr>\n",
       "    <tr>\n",
       "      <th>01</th>\n",
       "      <td>109206</td>\n",
       "    </tr>\n",
       "  </tbody>\n",
       "</table>\n",
       "</div>"
      ],
      "text/plain": [
       "     당월 계약수\n",
       "계약월        \n",
       "11   148971\n",
       "10   148299\n",
       "08   143473\n",
       "07   143435\n",
       "09   142119\n",
       "03   139852\n",
       "06   139782\n",
       "12   137454\n",
       "05   130748\n",
       "04   115659\n",
       "02   111487\n",
       "01   109206"
      ]
     },
     "execution_count": 132,
     "metadata": {},
     "output_type": "execute_result"
    }
   ],
   "source": [
    "volume_by_month = apt171819.groupby('계약월').count()\n",
    "volume_by_month['당월 계약수'] = volume_by_month['거래금액(만원)']\n",
    "volume_by_month = volume_by_month.loc[:,['당월 계약수']]\n",
    "volume_by_month = volume_by_month.sort_values('당월 계약수', ascending=False)\n",
    "volume_by_month"
   ]
  },
  {
   "cell_type": "code",
   "execution_count": 139,
   "metadata": {},
   "outputs": [
    {
     "data": {
      "image/png": "[encoded data removed]",
      "text/plain": [
       "<Figure size 432x288 with 1 Axes>"
      ]
     },
     "metadata": {},
     "output_type": "display_data"
    }
   ],
   "source": [
    "plt.rc('font', family='Malgun Gothic')\n",
    "plt.title(\"월별 총계약수\")\n",
    "plt.barh(volume_by_month.index, volume_by_month['당월 계약수'], color='green')\n",
    "plt.show()"
   ]
  },
  {
   "cell_type": "markdown",
   "metadata": {},
   "source": [
    "5. 구별 거래량"
   ]
  },
  {
   "cell_type": "code",
   "execution_count": 11,
   "metadata": {},
   "outputs": [
    {
     "data": {
      "text/plain": [
       "시/구\n",
       "서구     63027\n",
       "북구     55463\n",
       "동구     31474\n",
       "남구     31414\n",
       "부천시    27047\n",
       "       ...  \n",
       "영양군       36\n",
       "소정면       23\n",
       "전동면       15\n",
       "울릉군        9\n",
       "신안군        1\n",
       "Name: 거래금액(만원), Length: 248, dtype: int64"
      ]
     },
     "execution_count": 11,
     "metadata": {},
     "output_type": "execute_result"
    }
   ],
   "source": [
    "volume_by_sigu = apt171819.groupby(['시/구'])['거래금액(만원)'].count().sort_values(ascending=False)\n",
    "volume_by_sigu #전국 각도에 동서남북구 있어서 정확하게 알수없음"
   ]
  },
  {
   "cell_type": "markdown",
   "metadata": {},
   "source": [
    "6. 전용면적별 거래량 (어떤 평수가 거래량이 많은지)"
   ]
  },
  {
   "cell_type": "code",
   "execution_count": 137,
   "metadata": {},
   "outputs": [
    {
     "data": {
      "text/html": [
       "<div>\n",
       "<style scoped>\n",
       "    .dataframe tbody tr th:only-of-type {\n",
       "        vertical-align: middle;\n",
       "    }\n",
       "\n",
       "    .dataframe tbody tr th {\n",
       "        vertical-align: top;\n",
       "    }\n",
       "\n",
       "    .dataframe thead th {\n",
       "        text-align: right;\n",
       "    }\n",
       "</style>\n",
       "<table border=\"1\" class=\"dataframe\">\n",
       "  <thead>\n",
       "    <tr style=\"text-align: right;\">\n",
       "      <th></th>\n",
       "      <th>전용면적별 거래량</th>\n",
       "    </tr>\n",
       "    <tr>\n",
       "      <th>전용면적 반올림</th>\n",
       "      <th></th>\n",
       "    </tr>\n",
       "  </thead>\n",
       "  <tbody>\n",
       "    <tr>\n",
       "      <th>85.0</th>\n",
       "      <td>483387</td>\n",
       "    </tr>\n",
       "    <tr>\n",
       "      <th>60.0</th>\n",
       "      <td>297215</td>\n",
       "    </tr>\n",
       "    <tr>\n",
       "      <th>50.0</th>\n",
       "      <td>53641</td>\n",
       "    </tr>\n",
       "    <tr>\n",
       "      <th>59.0</th>\n",
       "      <td>53315</td>\n",
       "    </tr>\n",
       "    <tr>\n",
       "      <th>84.0</th>\n",
       "      <td>50629</td>\n",
       "    </tr>\n",
       "    <tr>\n",
       "      <th>...</th>\n",
       "      <td>...</td>\n",
       "    </tr>\n",
       "    <tr>\n",
       "      <th>253.0</th>\n",
       "      <td>1</td>\n",
       "    </tr>\n",
       "    <tr>\n",
       "      <th>258.0</th>\n",
       "      <td>1</td>\n",
       "    </tr>\n",
       "    <tr>\n",
       "      <th>266.0</th>\n",
       "      <td>1</td>\n",
       "    </tr>\n",
       "    <tr>\n",
       "      <th>264.0</th>\n",
       "      <td>1</td>\n",
       "    </tr>\n",
       "    <tr>\n",
       "      <th>395.0</th>\n",
       "      <td>1</td>\n",
       "    </tr>\n",
       "  </tbody>\n",
       "</table>\n",
       "<p>267 rows × 1 columns</p>\n",
       "</div>"
      ],
      "text/plain": [
       "          전용면적별 거래량\n",
       "전용면적 반올림           \n",
       "85.0         483387\n",
       "60.0         297215\n",
       "50.0          53641\n",
       "59.0          53315\n",
       "84.0          50629\n",
       "...             ...\n",
       "253.0             1\n",
       "258.0             1\n",
       "266.0             1\n",
       "264.0             1\n",
       "395.0             1\n",
       "\n",
       "[267 rows x 1 columns]"
      ]
     },
     "execution_count": 137,
     "metadata": {},
     "output_type": "execute_result"
    }
   ],
   "source": [
    "apt171819['전용면적 올림'] = round(apt171819['전용면적(㎡)'])\n",
    "volume_by_total_surface = apt171819.groupby('전용면적 반올림').count()\n",
    "volume_by_total_surface['전용면적별 거래량'] = volume_by_total_surface['거래금액(만원)']\n",
    "volume_by_total_surface = volume_by_total_surface.loc[:,['전용면적별 거래량']]\n",
    "volume_by_total_surface = volume_by_total_surface.sort_values('전용면적별 거래량', ascending=False)\n",
    "volume_by_total_surface  # 85㎡ - 약 25~6평/ 60㎡ - 약 18평 정도 거래량이 월등히 많음"
   ]
  },
  {
   "cell_type": "code",
   "execution_count": 143,
   "metadata": {},
   "outputs": [
    {
     "data": {
      "image/png": "[encoded data removed]",
      "text/plain": [
       "<Figure size 432x288 with 1 Axes>"
      ]
     },
     "metadata": {},
     "output_type": "display_data"
    }
   ],
   "source": [
    "volume_by_total_surface_top50 = volume_by_total_surface.iloc[:50]\n",
    "volume_by_total_surface_top50\n",
    "plt.rc('font', family='Malgun Gothic')\n",
    "plt.title(\"전용면적별 거래량\")\n",
    "plt.barh(volume_by_total_surface_top50.index, volume_by_total_surface_top50['전용면적별 거래량'], color='orange', alpha = 0.5)\n",
    "plt.show() # 주로 40㎡(12평) ~ 90㎡ (27평) 사이의 아파트가 많이 거래됨"
   ]
  },
  {
   "cell_type": "markdown",
   "metadata": {},
   "source": [
    "# 2000년 전/후 건축된 아파트들의 거래금액 비교 \n",
    "(전용면적, 최대층 과도 비교해보기)"
   ]
  },
  {
   "cell_type": "code",
   "execution_count": 148,
   "metadata": {},
   "outputs": [
    {
     "data": {
      "text/html": [
       "<div>\n",
       "<style scoped>\n",
       "    .dataframe tbody tr th:only-of-type {\n",
       "        vertical-align: middle;\n",
       "    }\n",
       "\n",
       "    .dataframe tbody tr th {\n",
       "        vertical-align: top;\n",
       "    }\n",
       "\n",
       "    .dataframe thead th {\n",
       "        text-align: right;\n",
       "    }\n",
       "</style>\n",
       "<table border=\"1\" class=\"dataframe\">\n",
       "  <thead>\n",
       "    <tr style=\"text-align: right;\">\n",
       "      <th></th>\n",
       "      <th>평균 가격</th>\n",
       "    </tr>\n",
       "    <tr>\n",
       "      <th>건축연도</th>\n",
       "      <th></th>\n",
       "    </tr>\n",
       "  </thead>\n",
       "  <tbody>\n",
       "    <tr>\n",
       "      <th>2000년 이전 건축</th>\n",
       "      <td>26935.610612</td>\n",
       "    </tr>\n",
       "    <tr>\n",
       "      <th>2000년 이후 건축</th>\n",
       "      <td>37584.821324</td>\n",
       "    </tr>\n",
       "  </tbody>\n",
       "</table>\n",
       "</div>"
      ],
      "text/plain": [
       "                    평균 가격\n",
       "건축연도                     \n",
       "2000년 이전 건축  26935.610612\n",
       "2000년 이후 건축  37584.821324"
      ]
     },
     "execution_count": 148,
     "metadata": {},
     "output_type": "execute_result"
    }
   ],
   "source": [
    "apt171819['건축연도']=0\n",
    "apt171819.loc[(apt171819['건축년도'] < 2000), '건축연도'] = '2000년 이전 건축'\n",
    "apt171819.loc[(apt171819['건축년도'] >= 2000), '건축연도'] = '2000년 이후 건축'\n",
    "\n",
    "meanprice_2000_contrast = apt171819.groupby('건축연도').mean()\n",
    "meanprice_2000_contrast['평균 가격'] = meanprice_2000_contrast['거래금액(만원)']\n",
    "meanprice_2000_contrast = meanprice_2000_contrast.loc[:,['평균 가격']]\n",
    "meanprice_2000_contrast"
   ]
  },
  {
   "cell_type": "code",
   "execution_count": 149,
   "metadata": {},
   "outputs": [
    {
     "data": {
      "text/plain": [
       "<function matplotlib.pyplot.show(*args, **kw)>"
      ]
     },
     "execution_count": 149,
     "metadata": {},
     "output_type": "execute_result"
    },
    {
     "data": {
      "image/png": "[encoded data removed]",
      "text/plain": [
       "<Figure size 432x288 with 1 Axes>"
      ]
     },
     "metadata": {
      "needs_background": "light"
     },
     "output_type": "display_data"
    }
   ],
   "source": [
    "# 2000년 전후 건축된 아파트들의 거래금액 비교\n",
    "sns.barplot(x=\"건축연도\", y=\"거래금액(만원)\", data=apt171819)\n",
    "plt.title(\"2000년 전후 건축된 아파트들의 거래금액 비교\")\n",
    "plt.xlabel('건축연도')\n",
    "plt.ylabel('거래금액(만원)')\n",
    "plt.show"
   ]
  },
  {
   "cell_type": "markdown",
   "metadata": {},
   "source": [
    "# 랜덤 포레스트"
   ]
  },
  {
   "cell_type": "code",
   "execution_count": 150,
   "metadata": {},
   "outputs": [],
   "source": [
    "selection = np.random.binomial(1,0.7,size=len(apt171819)).astype(bool)\n",
    "training = apt171819[selection]\n",
    "testing = apt171819[~selection]"
   ]
  },
  {
   "cell_type": "code",
   "execution_count": 89,
   "metadata": {},
   "outputs": [
    {
     "ename": "NameError",
     "evalue": "name 'matplotlib' is not defined",
     "output_type": "error",
     "traceback": [
      "\u001b[1;31m---------------------------------------------------------------------------\u001b[0m",
      "\u001b[1;31mNameError\u001b[0m                                 Traceback (most recent call last)",
      "\u001b[1;32m<ipython-input-89-12f9e5f85edf>\u001b[0m in \u001b[0;36m<module>\u001b[1;34m\u001b[0m\n\u001b[0;32m      4\u001b[0m \u001b[0mfeature\u001b[0m \u001b[1;33m=\u001b[0m \u001b[1;34m\"거래금액(만원)\"\u001b[0m\u001b[1;33m\u001b[0m\u001b[1;33m\u001b[0m\u001b[0m\n\u001b[0;32m      5\u001b[0m \u001b[0mrfr\u001b[0m\u001b[1;33m.\u001b[0m\u001b[0mfit\u001b[0m\u001b[1;33m(\u001b[0m\u001b[0mpredictors_tra\u001b[0m\u001b[1;33m,\u001b[0m \u001b[0mtraining\u001b[0m\u001b[1;33m[\u001b[0m\u001b[0mfeature\u001b[0m\u001b[1;33m]\u001b[0m\u001b[1;33m)\u001b[0m\u001b[1;33m\u001b[0m\u001b[1;33m\u001b[0m\u001b[0m\n\u001b[1;32m----> 6\u001b[1;33m \u001b[0mmatplotlib\u001b[0m\u001b[1;33m.\u001b[0m\u001b[0mstyle\u001b[0m\u001b[1;33m.\u001b[0m\u001b[0muse\u001b[0m\u001b[1;33m(\u001b[0m\u001b[1;34m\"ggplot\"\u001b[0m\u001b[1;33m)\u001b[0m\u001b[1;33m\u001b[0m\u001b[1;33m\u001b[0m\u001b[0m\n\u001b[0m\u001b[0;32m      7\u001b[0m \u001b[0mplt\u001b[0m\u001b[1;33m.\u001b[0m\u001b[0mscatter\u001b[0m\u001b[1;33m(\u001b[0m\u001b[0mtraining\u001b[0m\u001b[1;33m[\u001b[0m\u001b[0mfeature\u001b[0m\u001b[1;33m]\u001b[0m\u001b[1;33m,\u001b[0m \u001b[0mrfr\u001b[0m\u001b[1;33m.\u001b[0m\u001b[0mpredict\u001b[0m\u001b[1;33m(\u001b[0m\u001b[0mpredictors_tra\u001b[0m\u001b[1;33m)\u001b[0m\u001b[1;33m,\u001b[0m \u001b[0mc\u001b[0m \u001b[1;33m=\u001b[0m \u001b[1;34m\"green\"\u001b[0m\u001b[1;33m,\u001b[0m \u001b[0ms\u001b[0m \u001b[1;33m=\u001b[0m \u001b[1;36m50\u001b[0m\u001b[1;33m)\u001b[0m\u001b[1;33m\u001b[0m\u001b[1;33m\u001b[0m\u001b[0m\n\u001b[0;32m      8\u001b[0m \u001b[0mplt\u001b[0m\u001b[1;33m.\u001b[0m\u001b[0mscatter\u001b[0m\u001b[1;33m(\u001b[0m\u001b[0mtesting\u001b[0m\u001b[1;33m[\u001b[0m\u001b[0mfeature\u001b[0m\u001b[1;33m]\u001b[0m\u001b[1;33m,\u001b[0m \u001b[0mrfr\u001b[0m\u001b[1;33m.\u001b[0m\u001b[0mpredict\u001b[0m\u001b[1;33m(\u001b[0m\u001b[0mpredictors_tst\u001b[0m\u001b[1;33m)\u001b[0m\u001b[1;33m,\u001b[0m \u001b[0mc\u001b[0m \u001b[1;33m=\u001b[0m \u001b[1;34m\"red\"\u001b[0m\u001b[1;33m)\u001b[0m\u001b[1;33m\u001b[0m\u001b[1;33m\u001b[0m\u001b[0m\n",
      "\u001b[1;31mNameError\u001b[0m: name 'matplotlib' is not defined"
     ]
    }
   ],
   "source": [
    "rfr = RandomForestRegressor()\n",
    "predictors_tra = training.loc[:, \"전용면적(㎡)\" :\"건축년도\"]\n",
    "predictors_tst = testing.loc[:, \"전용면적(㎡)\":\"건축년도\"]\n",
    "feature = \"거래금액(만원)\"\n",
    "rfr.fit(predictors_tra, training[feature])\n",
    "plt.style.use(\"ggplot\")\n",
    "plt.scatter(training[feature], rfr.predict(predictors_tra), c = \"green\", s = 50)\n",
    "plt.scatter(testing[feature], rfr.predict(predictors_tst), c = \"red\")\n",
    "plt.legend([\"Training data\", \"Testing data\"], loc = \"upper left\")\n",
    "plt.plot(training[feature], training[feature], c = \"blue\")\n",
    "plt.xlabel(\"Actual value\")\n",
    "plt.ylabel(\"Predicted value\")"
   ]
  },
  {
   "cell_type": "code",
   "execution_count": 87,
   "metadata": {},
   "outputs": [
    {
     "ename": "KeyError",
     "evalue": "'feature_names'",
     "output_type": "error",
     "traceback": [
      "\u001b[1;31m---------------------------------------------------------------------------\u001b[0m",
      "\u001b[1;31mKeyError\u001b[0m                                  Traceback (most recent call last)",
      "\u001b[1;32mC:\\ProgramData\\Anaconda3\\lib\\site-packages\\pandas\\core\\indexes\\base.py\u001b[0m in \u001b[0;36mget_loc\u001b[1;34m(self, key, method, tolerance)\u001b[0m\n\u001b[0;32m   2645\u001b[0m             \u001b[1;32mtry\u001b[0m\u001b[1;33m:\u001b[0m\u001b[1;33m\u001b[0m\u001b[1;33m\u001b[0m\u001b[0m\n\u001b[1;32m-> 2646\u001b[1;33m                 \u001b[1;32mreturn\u001b[0m \u001b[0mself\u001b[0m\u001b[1;33m.\u001b[0m\u001b[0m_engine\u001b[0m\u001b[1;33m.\u001b[0m\u001b[0mget_loc\u001b[0m\u001b[1;33m(\u001b[0m\u001b[0mkey\u001b[0m\u001b[1;33m)\u001b[0m\u001b[1;33m\u001b[0m\u001b[1;33m\u001b[0m\u001b[0m\n\u001b[0m\u001b[0;32m   2647\u001b[0m             \u001b[1;32mexcept\u001b[0m \u001b[0mKeyError\u001b[0m\u001b[1;33m:\u001b[0m\u001b[1;33m\u001b[0m\u001b[1;33m\u001b[0m\u001b[0m\n",
      "\u001b[1;32mpandas\\_libs\\index.pyx\u001b[0m in \u001b[0;36mpandas._libs.index.IndexEngine.get_loc\u001b[1;34m()\u001b[0m\n",
      "\u001b[1;32mpandas\\_libs\\index.pyx\u001b[0m in \u001b[0;36mpandas._libs.index.IndexEngine.get_loc\u001b[1;34m()\u001b[0m\n",
      "\u001b[1;32mpandas\\_libs\\hashtable_class_helper.pxi\u001b[0m in \u001b[0;36mpandas._libs.hashtable.PyObjectHashTable.get_item\u001b[1;34m()\u001b[0m\n",
      "\u001b[1;32mpandas\\_libs\\hashtable_class_helper.pxi\u001b[0m in \u001b[0;36mpandas._libs.hashtable.PyObjectHashTable.get_item\u001b[1;34m()\u001b[0m\n",
      "\u001b[1;31mKeyError\u001b[0m: 'feature_names'",
      "\nDuring handling of the above exception, another exception occurred:\n",
      "\u001b[1;31mKeyError\u001b[0m                                  Traceback (most recent call last)",
      "\u001b[1;32m<ipython-input-87-810e014f4815>\u001b[0m in \u001b[0;36m<module>\u001b[1;34m\u001b[0m\n\u001b[0;32m      7\u001b[0m \u001b[0mfet_ind\u001b[0m\u001b[1;33m\u001b[0m\u001b[1;33m\u001b[0m\u001b[0m\n\u001b[0;32m      8\u001b[0m \u001b[0mfig\u001b[0m\u001b[1;33m,\u001b[0m \u001b[0max\u001b[0m \u001b[1;33m=\u001b[0m \u001b[0mplt\u001b[0m\u001b[1;33m.\u001b[0m\u001b[0msubplots\u001b[0m\u001b[1;33m(\u001b[0m\u001b[1;36m1\u001b[0m\u001b[1;33m,\u001b[0m \u001b[1;36m1\u001b[0m\u001b[1;33m,\u001b[0m \u001b[0mfigsize\u001b[0m\u001b[1;33m=\u001b[0m\u001b[1;33m(\u001b[0m\u001b[1;36m8\u001b[0m\u001b[1;33m,\u001b[0m \u001b[1;36m3\u001b[0m\u001b[1;33m)\u001b[0m\u001b[1;33m)\u001b[0m\u001b[1;33m\u001b[0m\u001b[1;33m\u001b[0m\u001b[0m\n\u001b[1;32m----> 9\u001b[1;33m \u001b[0mlabels\u001b[0m \u001b[1;33m=\u001b[0m \u001b[0mapt171819\u001b[0m\u001b[1;33m[\u001b[0m\u001b[1;34m'feature_names'\u001b[0m\u001b[1;33m]\u001b[0m\u001b[1;33m[\u001b[0m\u001b[0mfet_ind\u001b[0m\u001b[1;33m]\u001b[0m\u001b[1;33m\u001b[0m\u001b[1;33m\u001b[0m\u001b[0m\n\u001b[0m\u001b[0;32m     10\u001b[0m \u001b[0mpd\u001b[0m\u001b[1;33m.\u001b[0m\u001b[0mSeries\u001b[0m\u001b[1;33m(\u001b[0m\u001b[0mfet_imp\u001b[0m\u001b[1;33m,\u001b[0m \u001b[0mindex\u001b[0m\u001b[1;33m=\u001b[0m\u001b[0mlabels\u001b[0m\u001b[1;33m)\u001b[0m\u001b[1;33m.\u001b[0m\u001b[0mplot\u001b[0m\u001b[1;33m(\u001b[0m\u001b[1;34m'bar'\u001b[0m\u001b[1;33m,\u001b[0m \u001b[0max\u001b[0m\u001b[1;33m=\u001b[0m\u001b[0max\u001b[0m\u001b[1;33m)\u001b[0m\u001b[1;33m\u001b[0m\u001b[1;33m\u001b[0m\u001b[0m\n\u001b[0;32m     11\u001b[0m \u001b[0max\u001b[0m\u001b[1;33m.\u001b[0m\u001b[0mset_title\u001b[0m\u001b[1;33m(\u001b[0m\u001b[1;34m'Features importance'\u001b[0m\u001b[1;33m)\u001b[0m\u001b[1;33m\u001b[0m\u001b[1;33m\u001b[0m\u001b[0m\n",
      "\u001b[1;32mC:\\ProgramData\\Anaconda3\\lib\\site-packages\\pandas\\core\\frame.py\u001b[0m in \u001b[0;36m__getitem__\u001b[1;34m(self, key)\u001b[0m\n\u001b[0;32m   2798\u001b[0m             \u001b[1;32mif\u001b[0m \u001b[0mself\u001b[0m\u001b[1;33m.\u001b[0m\u001b[0mcolumns\u001b[0m\u001b[1;33m.\u001b[0m\u001b[0mnlevels\u001b[0m \u001b[1;33m>\u001b[0m \u001b[1;36m1\u001b[0m\u001b[1;33m:\u001b[0m\u001b[1;33m\u001b[0m\u001b[1;33m\u001b[0m\u001b[0m\n\u001b[0;32m   2799\u001b[0m                 \u001b[1;32mreturn\u001b[0m \u001b[0mself\u001b[0m\u001b[1;33m.\u001b[0m\u001b[0m_getitem_multilevel\u001b[0m\u001b[1;33m(\u001b[0m\u001b[0mkey\u001b[0m\u001b[1;33m)\u001b[0m\u001b[1;33m\u001b[0m\u001b[1;33m\u001b[0m\u001b[0m\n\u001b[1;32m-> 2800\u001b[1;33m             \u001b[0mindexer\u001b[0m \u001b[1;33m=\u001b[0m \u001b[0mself\u001b[0m\u001b[1;33m.\u001b[0m\u001b[0mcolumns\u001b[0m\u001b[1;33m.\u001b[0m\u001b[0mget_loc\u001b[0m\u001b[1;33m(\u001b[0m\u001b[0mkey\u001b[0m\u001b[1;33m)\u001b[0m\u001b[1;33m\u001b[0m\u001b[1;33m\u001b[0m\u001b[0m\n\u001b[0m\u001b[0;32m   2801\u001b[0m             \u001b[1;32mif\u001b[0m \u001b[0mis_integer\u001b[0m\u001b[1;33m(\u001b[0m\u001b[0mindexer\u001b[0m\u001b[1;33m)\u001b[0m\u001b[1;33m:\u001b[0m\u001b[1;33m\u001b[0m\u001b[1;33m\u001b[0m\u001b[0m\n\u001b[0;32m   2802\u001b[0m                 \u001b[0mindexer\u001b[0m \u001b[1;33m=\u001b[0m \u001b[1;33m[\u001b[0m\u001b[0mindexer\u001b[0m\u001b[1;33m]\u001b[0m\u001b[1;33m\u001b[0m\u001b[1;33m\u001b[0m\u001b[0m\n",
      "\u001b[1;32mC:\\ProgramData\\Anaconda3\\lib\\site-packages\\pandas\\core\\indexes\\base.py\u001b[0m in \u001b[0;36mget_loc\u001b[1;34m(self, key, method, tolerance)\u001b[0m\n\u001b[0;32m   2646\u001b[0m                 \u001b[1;32mreturn\u001b[0m \u001b[0mself\u001b[0m\u001b[1;33m.\u001b[0m\u001b[0m_engine\u001b[0m\u001b[1;33m.\u001b[0m\u001b[0mget_loc\u001b[0m\u001b[1;33m(\u001b[0m\u001b[0mkey\u001b[0m\u001b[1;33m)\u001b[0m\u001b[1;33m\u001b[0m\u001b[1;33m\u001b[0m\u001b[0m\n\u001b[0;32m   2647\u001b[0m             \u001b[1;32mexcept\u001b[0m \u001b[0mKeyError\u001b[0m\u001b[1;33m:\u001b[0m\u001b[1;33m\u001b[0m\u001b[1;33m\u001b[0m\u001b[0m\n\u001b[1;32m-> 2648\u001b[1;33m                 \u001b[1;32mreturn\u001b[0m \u001b[0mself\u001b[0m\u001b[1;33m.\u001b[0m\u001b[0m_engine\u001b[0m\u001b[1;33m.\u001b[0m\u001b[0mget_loc\u001b[0m\u001b[1;33m(\u001b[0m\u001b[0mself\u001b[0m\u001b[1;33m.\u001b[0m\u001b[0m_maybe_cast_indexer\u001b[0m\u001b[1;33m(\u001b[0m\u001b[0mkey\u001b[0m\u001b[1;33m)\u001b[0m\u001b[1;33m)\u001b[0m\u001b[1;33m\u001b[0m\u001b[1;33m\u001b[0m\u001b[0m\n\u001b[0m\u001b[0;32m   2649\u001b[0m         \u001b[0mindexer\u001b[0m \u001b[1;33m=\u001b[0m \u001b[0mself\u001b[0m\u001b[1;33m.\u001b[0m\u001b[0mget_indexer\u001b[0m\u001b[1;33m(\u001b[0m\u001b[1;33m[\u001b[0m\u001b[0mkey\u001b[0m\u001b[1;33m]\u001b[0m\u001b[1;33m,\u001b[0m \u001b[0mmethod\u001b[0m\u001b[1;33m=\u001b[0m\u001b[0mmethod\u001b[0m\u001b[1;33m,\u001b[0m \u001b[0mtolerance\u001b[0m\u001b[1;33m=\u001b[0m\u001b[0mtolerance\u001b[0m\u001b[1;33m)\u001b[0m\u001b[1;33m\u001b[0m\u001b[1;33m\u001b[0m\u001b[0m\n\u001b[0;32m   2650\u001b[0m         \u001b[1;32mif\u001b[0m \u001b[0mindexer\u001b[0m\u001b[1;33m.\u001b[0m\u001b[0mndim\u001b[0m \u001b[1;33m>\u001b[0m \u001b[1;36m1\u001b[0m \u001b[1;32mor\u001b[0m \u001b[0mindexer\u001b[0m\u001b[1;33m.\u001b[0m\u001b[0msize\u001b[0m \u001b[1;33m>\u001b[0m \u001b[1;36m1\u001b[0m\u001b[1;33m:\u001b[0m\u001b[1;33m\u001b[0m\u001b[1;33m\u001b[0m\u001b[0m\n",
      "\u001b[1;32mpandas\\_libs\\index.pyx\u001b[0m in \u001b[0;36mpandas._libs.index.IndexEngine.get_loc\u001b[1;34m()\u001b[0m\n",
      "\u001b[1;32mpandas\\_libs\\index.pyx\u001b[0m in \u001b[0;36mpandas._libs.index.IndexEngine.get_loc\u001b[1;34m()\u001b[0m\n",
      "\u001b[1;32mpandas\\_libs\\hashtable_class_helper.pxi\u001b[0m in \u001b[0;36mpandas._libs.hashtable.PyObjectHashTable.get_item\u001b[1;34m()\u001b[0m\n",
      "\u001b[1;32mpandas\\_libs\\hashtable_class_helper.pxi\u001b[0m in \u001b[0;36mpandas._libs.hashtable.PyObjectHashTable.get_item\u001b[1;34m()\u001b[0m\n",
      "\u001b[1;31mKeyError\u001b[0m: 'feature_names'"
     ]
    },
    {
     "data": {
      "image/png": "[encoded data removed]",
      "text/plain": [
       "<Figure size 576x216 with 1 Axes>"
      ]
     },
     "metadata": {
      "needs_background": "light"
     },
     "output_type": "display_data"
    }
   ],
   "source": [
    "reg = ske.RandomForestRegressor()\n",
    "X = training['전용면적당가격']\n",
    "y = testing['전용면적당가격']\n",
    "reg.fit([X], [y])\n",
    "fet_ind = np.argsort(reg.feature_importances_)[::-1]\n",
    "fet_imp = reg.feature_importances_[fet_ind]b\n",
    "fig, ax = plt.subplots(1, 1, figsize=(8, 3))\n",
    "labels = apt171819['feature_names'][fet_ind]\n",
    "pd.Series(fet_imp, index=labels).plot('bar', ax=ax)\n",
    "ax.set_title('Features importance')"
   ]
  },
  {
   "cell_type": "code",
   "execution_count": null,
   "metadata": {},
   "outputs": [],
   "source": [
    "# 훈련/테스트 세트로 나누기\n",
    "X_train, X_test, y_train, y_test = train_test_split(cancer.data,cancer.target, random_state=0)\n",
    "forest = RandomForestClassifier(n_estimators=100,random_state=0)\n",
    "forest.fit(X_train,y_train)\n",
    "\n",
    "print(\"훈련 세트 정확도 : {:.3f}\".format(forest.score(X_train,y_train)))\n",
    "print(\"테스트 세트 정확도 : {:.3f}\".format(forest.score(X_test,y_test)))\n",
    "\n",
    "# 특성 중요도\n",
    "print(\"특성 중요도 : \\n{}\".format(forest.feature_importances_))\n",
    "\n",
    "# 특성 중요도 시각화 하기\n",
    "def plot_feature_importances_cancer(model):\n",
    "\n",
    "    n_features = cancer.data.shape[1]\n",
    "    plt.barh(range(n_features), model.feature_importances_, align='center')\n",
    "    plt.yticks(np.arange(n_features), cancer.feature_names)\n",
    "    plt.xlabel(\"attr importances\")\n",
    "    plt.ylabel(\"attr\")\n",
    "    plt.ylim(-1, n_features)\n",
    "    \n",
    "plt.show()\n",
    "\n",
    "plot_feature_importances_cancer(forest)"
   ]
  },
  {
   "cell_type": "code",
   "execution_count": 97,
   "metadata": {},
   "outputs": [
    {
     "name": "stdout",
     "output_type": "stream",
     "text": [
      "1127339\n",
      "483146\n",
      "1127339\n",
      "483146\n"
     ]
    }
   ],
   "source": [
    "from sklearn.model_selection import train_test_split\n",
    "x = apt171819[['계약년월', '층', '건축년도']]\n",
    "y = apt171819['전용면적당가격']\n",
    "\n",
    "# 테스트 데이터 30%\n",
    "x_train, x_test, y_train, y_test = train_test_split(x, y, test_size=0.3)\n",
    "print(len(x_train))\n",
    "print(len(x_test))\n",
    "print(len(y_train))\n",
    "print(len(y_test))"
   ]
  },
  {
   "cell_type": "code",
   "execution_count": 101,
   "metadata": {},
   "outputs": [
    {
     "ename": "ValueError",
     "evalue": "Unknown label type: 'continuous'",
     "output_type": "error",
     "traceback": [
      "\u001b[1;31m---------------------------------------------------------------------------\u001b[0m",
      "\u001b[1;31mValueError\u001b[0m                                Traceback (most recent call last)",
      "\u001b[1;32m<ipython-input-101-476d61b9b3eb>\u001b[0m in \u001b[0;36m<module>\u001b[1;34m\u001b[0m\n\u001b[0;32m      5\u001b[0m \u001b[1;31m# 학습 진행\u001b[0m\u001b[1;33m\u001b[0m\u001b[1;33m\u001b[0m\u001b[1;33m\u001b[0m\u001b[0m\n\u001b[0;32m      6\u001b[0m \u001b[0mforest\u001b[0m \u001b[1;33m=\u001b[0m \u001b[0mRandomForestClassifier\u001b[0m\u001b[1;33m(\u001b[0m\u001b[0mn_estimators\u001b[0m\u001b[1;33m=\u001b[0m\u001b[1;36m5\u001b[0m\u001b[1;33m)\u001b[0m\u001b[1;33m\u001b[0m\u001b[1;33m\u001b[0m\u001b[0m\n\u001b[1;32m----> 7\u001b[1;33m \u001b[0mforest\u001b[0m\u001b[1;33m.\u001b[0m\u001b[0mfit\u001b[0m\u001b[1;33m(\u001b[0m\u001b[0mx_train\u001b[0m\u001b[1;33m,\u001b[0m \u001b[0my_train\u001b[0m\u001b[1;33m)\u001b[0m\u001b[1;33m\u001b[0m\u001b[1;33m\u001b[0m\u001b[0m\n\u001b[0m\u001b[0;32m      8\u001b[0m \u001b[1;33m\u001b[0m\u001b[0m\n\u001b[0;32m      9\u001b[0m \u001b[1;31m# 예측\u001b[0m\u001b[1;33m\u001b[0m\u001b[1;33m\u001b[0m\u001b[1;33m\u001b[0m\u001b[0m\n",
      "\u001b[1;32mC:\\ProgramData\\Anaconda3\\lib\\site-packages\\sklearn\\ensemble\\_forest.py\u001b[0m in \u001b[0;36mfit\u001b[1;34m(self, X, y, sample_weight)\u001b[0m\n\u001b[0;32m    319\u001b[0m         \u001b[0mself\u001b[0m\u001b[1;33m.\u001b[0m\u001b[0mn_outputs_\u001b[0m \u001b[1;33m=\u001b[0m \u001b[0my\u001b[0m\u001b[1;33m.\u001b[0m\u001b[0mshape\u001b[0m\u001b[1;33m[\u001b[0m\u001b[1;36m1\u001b[0m\u001b[1;33m]\u001b[0m\u001b[1;33m\u001b[0m\u001b[1;33m\u001b[0m\u001b[0m\n\u001b[0;32m    320\u001b[0m \u001b[1;33m\u001b[0m\u001b[0m\n\u001b[1;32m--> 321\u001b[1;33m         \u001b[0my\u001b[0m\u001b[1;33m,\u001b[0m \u001b[0mexpanded_class_weight\u001b[0m \u001b[1;33m=\u001b[0m \u001b[0mself\u001b[0m\u001b[1;33m.\u001b[0m\u001b[0m_validate_y_class_weight\u001b[0m\u001b[1;33m(\u001b[0m\u001b[0my\u001b[0m\u001b[1;33m)\u001b[0m\u001b[1;33m\u001b[0m\u001b[1;33m\u001b[0m\u001b[0m\n\u001b[0m\u001b[0;32m    322\u001b[0m \u001b[1;33m\u001b[0m\u001b[0m\n\u001b[0;32m    323\u001b[0m         \u001b[1;32mif\u001b[0m \u001b[0mgetattr\u001b[0m\u001b[1;33m(\u001b[0m\u001b[0my\u001b[0m\u001b[1;33m,\u001b[0m \u001b[1;34m\"dtype\"\u001b[0m\u001b[1;33m,\u001b[0m \u001b[1;32mNone\u001b[0m\u001b[1;33m)\u001b[0m \u001b[1;33m!=\u001b[0m \u001b[0mDOUBLE\u001b[0m \u001b[1;32mor\u001b[0m \u001b[1;32mnot\u001b[0m \u001b[0my\u001b[0m\u001b[1;33m.\u001b[0m\u001b[0mflags\u001b[0m\u001b[1;33m.\u001b[0m\u001b[0mcontiguous\u001b[0m\u001b[1;33m:\u001b[0m\u001b[1;33m\u001b[0m\u001b[1;33m\u001b[0m\u001b[0m\n",
      "\u001b[1;32mC:\\ProgramData\\Anaconda3\\lib\\site-packages\\sklearn\\ensemble\\_forest.py\u001b[0m in \u001b[0;36m_validate_y_class_weight\u001b[1;34m(self, y)\u001b[0m\n\u001b[0;32m    539\u001b[0m \u001b[1;33m\u001b[0m\u001b[0m\n\u001b[0;32m    540\u001b[0m     \u001b[1;32mdef\u001b[0m \u001b[0m_validate_y_class_weight\u001b[0m\u001b[1;33m(\u001b[0m\u001b[0mself\u001b[0m\u001b[1;33m,\u001b[0m \u001b[0my\u001b[0m\u001b[1;33m)\u001b[0m\u001b[1;33m:\u001b[0m\u001b[1;33m\u001b[0m\u001b[1;33m\u001b[0m\u001b[0m\n\u001b[1;32m--> 541\u001b[1;33m         \u001b[0mcheck_classification_targets\u001b[0m\u001b[1;33m(\u001b[0m\u001b[0my\u001b[0m\u001b[1;33m)\u001b[0m\u001b[1;33m\u001b[0m\u001b[1;33m\u001b[0m\u001b[0m\n\u001b[0m\u001b[0;32m    542\u001b[0m \u001b[1;33m\u001b[0m\u001b[0m\n\u001b[0;32m    543\u001b[0m         \u001b[0my\u001b[0m \u001b[1;33m=\u001b[0m \u001b[0mnp\u001b[0m\u001b[1;33m.\u001b[0m\u001b[0mcopy\u001b[0m\u001b[1;33m(\u001b[0m\u001b[0my\u001b[0m\u001b[1;33m)\u001b[0m\u001b[1;33m\u001b[0m\u001b[1;33m\u001b[0m\u001b[0m\n",
      "\u001b[1;32mC:\\ProgramData\\Anaconda3\\lib\\site-packages\\sklearn\\utils\\multiclass.py\u001b[0m in \u001b[0;36mcheck_classification_targets\u001b[1;34m(y)\u001b[0m\n\u001b[0;32m    167\u001b[0m     if y_type not in ['binary', 'multiclass', 'multiclass-multioutput',\n\u001b[0;32m    168\u001b[0m                       'multilabel-indicator', 'multilabel-sequences']:\n\u001b[1;32m--> 169\u001b[1;33m         \u001b[1;32mraise\u001b[0m \u001b[0mValueError\u001b[0m\u001b[1;33m(\u001b[0m\u001b[1;34m\"Unknown label type: %r\"\u001b[0m \u001b[1;33m%\u001b[0m \u001b[0my_type\u001b[0m\u001b[1;33m)\u001b[0m\u001b[1;33m\u001b[0m\u001b[1;33m\u001b[0m\u001b[0m\n\u001b[0m\u001b[0;32m    170\u001b[0m \u001b[1;33m\u001b[0m\u001b[0m\n\u001b[0;32m    171\u001b[0m \u001b[1;33m\u001b[0m\u001b[0m\n",
      "\u001b[1;31mValueError\u001b[0m: Unknown label type: 'continuous'"
     ]
    }
   ],
   "source": [
    "# 데이터 학습 & 예측 정확도 확인\n",
    "# 70%의 학습데이터를 랜덤포레스트를 이용해서 학습 시킨 후, 30%의 예측데이터를 예측 분류하여 실제 데이터와 비교하여 정확도를 확인한다.\n",
    "from sklearn.ensemble import RandomForestClassifier\n",
    "from sklearn import metrics  \n",
    "# 학습 진행\n",
    "forest = RandomForestClassifier(n_estimators=100)\n",
    "forest.fit(x_train, y_train)\n",
    " \n",
    "# 예측\n",
    "y_pred = forest.predict(x_test)\n",
    "print(y_pred)\n",
    "print(list(y_test))\n",
    " \n",
    "# 정확도 확인\n",
    "#print('정확도 :', metrics.accuracy_score(y_test, y_pred))"
   ]
  },
  {
   "cell_type": "code",
   "execution_count": 104,
   "metadata": {},
   "outputs": [
    {
     "name": "stdout",
     "output_type": "stream",
     "text": [
      "아이리스 종류 : ['setosa' 'versicolor' 'virginica']\n",
      "target : [0:setosa, 1:versicolor, 2:virginica]\n",
      "데이터 수 : 150\n",
      "데이터 열 이름 : ['sepal length (cm)', 'sepal width (cm)', 'petal length (cm)', 'petal width (cm)']\n",
      "   sepal length  sepal width  petal length  petal width  species\n",
      "0           5.1          3.5           1.4          0.2        0\n",
      "1           4.9          3.0           1.4          0.2        0\n",
      "2           4.7          3.2           1.3          0.2        0\n",
      "3           4.6          3.1           1.5          0.2        0\n",
      "4           5.0          3.6           1.4          0.2        0\n"
     ]
    }
   ],
   "source": [
    "from sklearn import datasets\n",
    "if __name__ == '__main__':\n",
    "    iris = datasets.load_iris()\n",
    "    print('아이리스 종류 :', iris.target_names)\n",
    "    print('target : [0:setosa, 1:versicolor, 2:virginica]')\n",
    "    print('데이터 수 :', len(iris.data))\n",
    "    print('데이터 열 이름 :', iris.feature_names)\n",
    " \n",
    "    # iris data Dataframe으로\n",
    "    data = pd.DataFrame(\n",
    "        {\n",
    "            'sepal length': iris.data[:, 0],\n",
    "            'sepal width': iris.data[:, 1],\n",
    "            'petal length': iris.data[:, 2],\n",
    "            'petal width': iris.data[:, 3],\n",
    "            'species': iris.target\n",
    "        }\n",
    "    )\n",
    "    print(data.head())"
   ]
  }
 ],
 "metadata": {
  "kernelspec": {
   "display_name": "Python 3",
   "language": "python",
   "name": "python3"
  },
  "language_info": {
   "codemirror_mode": {
    "name": "ipython",
    "version": 3
   },
   "file_extension": ".py",
   "mimetype": "text/x-python",
   "name": "python",
   "nbconvert_exporter": "python",
   "pygments_lexer": "ipython3",
   "version": "3.7.6"
  }
 },
 "nbformat": 4,
 "nbformat_minor": 4
}
