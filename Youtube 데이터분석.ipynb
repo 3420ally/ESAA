{
 "cells": [
  {
   "cell_type": "markdown",
   "metadata": {},
   "source": [
    "# 데이터 불러오기"
   ]
  },
  {
   "cell_type": "code",
   "execution_count": 1,
   "metadata": {},
   "outputs": [],
   "source": [
    "import pandas as pd\n",
    "import numpy as np\n",
    "\n",
    "input_fd = open(\"C:/Users/이현주/Desktop/ESAA 수업자료/youtube-new/KRvideos.csv\",errors = 'backslashreplace',encoding='utf-8')\n",
    "KR = pd.read_csv(input_fd) \n",
    "US = pd.read_csv('C:/Users/이현주/Desktop/ESAA 수업자료/youtube-new/USvideos.csv')"
   ]
  },
  {
   "cell_type": "markdown",
   "metadata": {},
   "source": [
    "# 데이터 살펴보기"
   ]
  },
  {
   "cell_type": "code",
   "execution_count": 2,
   "metadata": {},
   "outputs": [
    {
     "name": "stdout",
     "output_type": "stream",
     "text": [
      "(34567, 16)\n",
      "(40949, 16)\n"
     ]
    }
   ],
   "source": [
    "print(KR.shape)\n",
    "print(US.shape)"
   ]
  },
  {
   "cell_type": "code",
   "execution_count": 7,
   "metadata": {},
   "outputs": [
    {
     "name": "stdout",
     "output_type": "stream",
     "text": [
      "<bound method NDFrame.head of           video_id trending_date  \\\n",
      "0      RxGQe4EeEpA      17.14.11   \n",
      "1      hH7wVE8OlQ0      17.14.11   \n",
      "2      9V8bnWUmE9U      17.14.11   \n",
      "3      0_8py-t5R80      17.14.11   \n",
      "4      bk55RbxiQdI      17.14.11   \n",
      "...            ...           ...   \n",
      "40944  BZt0qjTWNhw      18.14.06   \n",
      "40945  1h7KV2sjUWY      18.14.06   \n",
      "40946  D6Oy4LfoqsU      18.14.06   \n",
      "40947  oV0zkMe1K8s      18.14.06   \n",
      "40948  ooyjaVdt-jA      18.14.06   \n",
      "\n",
      "                                                   title  \\\n",
      "0                                     좋아 by 민서_윤종신_좋니 답가   \n",
      "1                                       JSA 귀순 북한군 총격 부상   \n",
      "2                             나몰라패밀리 운동화 영상 2탄 (빼빼로데이버젼)   \n",
      "3                             이명박 출국 현장, 놓치면 안되는 장면   \n",
      "4                                김장겸은 물러갔다 MBC 노조 환호와 눈물   \n",
      "...                                                  ...   \n",
      "40944                       The Cat Who Caught the Laser   \n",
      "40945                         True Facts : Ant Mutualism   \n",
      "40946  I GAVE SAFIYA NYGAARD A PERFECT HAIR MAKEOVER ...   \n",
      "40947                How Black Panther Should Have Ended   \n",
      "40948  Official Call of Duty®: Black Ops 4 — Multipla...   \n",
      "\n",
      "                  channel_title  category_id              publish_time  \\\n",
      "0                        라푸마코리아           22  2017-11-13T07:07:36.000Z   \n",
      "1                        Edward           25  2017-11-13T10:59:16.000Z   \n",
      "2                     나몰라패밀리 핫쇼           22  2017-11-11T07:16:08.000Z   \n",
      "3                         미디어몽구           25  2017-11-12T11:19:52.000Z   \n",
      "4                        NocutV           25  2017-11-13T11:08:59.000Z   \n",
      "...                         ...          ...                       ...   \n",
      "40944             AaronsAnimals           15  2018-05-18T13:00:04.000Z   \n",
      "40945                  zefrank1           22  2018-05-18T01:00:06.000Z   \n",
      "40946                Brad Mondo           24  2018-05-18T17:34:22.000Z   \n",
      "40947  How It Should Have Ended            1  2018-05-17T17:00:04.000Z   \n",
      "40948              Call of Duty           20  2018-05-17T17:09:38.000Z   \n",
      "\n",
      "                                                    tags     views   likes  \\\n",
      "0                          라푸마|\"윤종신\"|\"좋니\"|\"좋아\"|\"샬레\"|\"민서\"    156130    1422   \n",
      "1            JSA|\"귀순\"|\"북한군\"|\"총격\"|\"부상\"|\"JSA 귀순 북한군 총격 부상\"     76533     211   \n",
      "2                    아디다스|\"빼빼로\"|\"핫쇼\"|\"나몰라패밀리\"|\"대학로\"|\"공연\"    421409    5112   \n",
      "3      이명박|\"이명박 출국금지\"|\"이명박 출국현장\"|\"이명박 바레인\"|\"이명박 대통령\"|...    222850    2093   \n",
      "4              nocutV|\"노컷V\"|\"CBS\"|\"mbc\"|\"김장겸\"|\"해임\"|\"허일후\"     84466    1094   \n",
      "...                                                  ...       ...     ...   \n",
      "40944  aarons animals|\"aarons\"|\"animals\"|\"cat\"|\"cats\"...   1685609   38160   \n",
      "40945                                             [none]   1064798   60008   \n",
      "40946  I gave safiya nygaard a perfect hair makeover ...   1066451   48068   \n",
      "40947  Black Panther|\"HISHE\"|\"Marvel\"|\"Infinity War\"|...   5660813  192957   \n",
      "40948      call of duty|\"cod\"|\"activision\"|\"Black Ops 4\"  10306119  357079   \n",
      "\n",
      "       dislikes  comment_count  \\\n",
      "0            40            272   \n",
      "1            28            113   \n",
      "2           166            459   \n",
      "3           173           1219   \n",
      "4           109            450   \n",
      "...         ...            ...   \n",
      "40944      1385           2657   \n",
      "40945       382           3936   \n",
      "40946      1032           3992   \n",
      "40947      2846          13088   \n",
      "40948    212976         144795   \n",
      "\n",
      "                                       thumbnail_link  comments_disabled  \\\n",
      "0      https://i.ytimg.com/vi/RxGQe4EeEpA/default.jpg              False   \n",
      "1      https://i.ytimg.com/vi/hH7wVE8OlQ0/default.jpg              False   \n",
      "2      https://i.ytimg.com/vi/9V8bnWUmE9U/default.jpg              False   \n",
      "3      https://i.ytimg.com/vi/0_8py-t5R80/default.jpg              False   \n",
      "4      https://i.ytimg.com/vi/bk55RbxiQdI/default.jpg              False   \n",
      "...                                               ...                ...   \n",
      "40944  https://i.ytimg.com/vi/BZt0qjTWNhw/default.jpg              False   \n",
      "40945  https://i.ytimg.com/vi/1h7KV2sjUWY/default.jpg              False   \n",
      "40946  https://i.ytimg.com/vi/D6Oy4LfoqsU/default.jpg              False   \n",
      "40947  https://i.ytimg.com/vi/oV0zkMe1K8s/default.jpg              False   \n",
      "40948  https://i.ytimg.com/vi/ooyjaVdt-jA/default.jpg              False   \n",
      "\n",
      "       ratings_disabled  video_error_or_removed  \\\n",
      "0                 False                   False   \n",
      "1                 False                   False   \n",
      "2                 False                   False   \n",
      "3                 False                   False   \n",
      "4                 False                   False   \n",
      "...                 ...                     ...   \n",
      "40944             False                   False   \n",
      "40945             False                   False   \n",
      "40946             False                   False   \n",
      "40947             False                   False   \n",
      "40948             False                   False   \n",
      "\n",
      "                                             description  \n",
      "0      윤종신 '좋니'의 답가 '좋아' 최초 공개!\\n그 여자의 이야기를 지금 만나보세요....  \n",
      "1      [채널A단독]北 병사 현재 '의식불명'… 혈압 떨어지는 중 \\n[채널A단독]우리측 ...  \n",
      "2                                        퍼가실때 꼭 출처 부탁드려요  \n",
      "3                                    다스는 누구겁니까 듣고 난 후 표정  \n",
      "4      김장겸 MBC 사장이 결국 해임됐다.\\n\\nMBC 대주주인 방송문화진흥회는 13일 ...  \n",
      "...                                                  ...  \n",
      "40944     The Cat Who Caught the Laser - Aaron's Animals  \n",
      "40945                                                NaN  \n",
      "40946  I had so much fun transforming Safiyas hair in...  \n",
      "40947  How Black Panther Should Have EndedWatch More ...  \n",
      "40948  Call of Duty: Black Ops 4 Multiplayer raises t...  \n",
      "\n",
      "[75516 rows x 16 columns]>\n"
     ]
    }
   ],
   "source": [
    "KRUS = pd.concat([KR, US])\n",
    "print(KRUS.head)"
   ]
  },
  {
   "cell_type": "code",
   "execution_count": 14,
   "metadata": {},
   "outputs": [
    {
     "name": "stdout",
     "output_type": "stream",
     "text": [
      "(75516, 16)\n"
     ]
    }
   ],
   "source": [
    "print(KRUS.shape)"
   ]
  },
  {
   "cell_type": "code",
   "execution_count": 18,
   "metadata": {},
   "outputs": [
    {
     "name": "stdout",
     "output_type": "stream",
     "text": [
      "(3733, 16)\n"
     ]
    }
   ],
   "source": [
    "missing = KRUS[KRUS.isna().any(axis=1)] #missing data는 몇 개인가\n",
    "print(missing.shape)"
   ]
  },
  {
   "cell_type": "code",
   "execution_count": 8,
   "metadata": {},
   "outputs": [
    {
     "name": "stdout",
     "output_type": "stream",
     "text": [
      "Index(['video_id', 'trending_date', 'title', 'channel_title', 'category_id',\n",
      "       'publish_time', 'tags', 'views', 'likes', 'dislikes', 'comment_count',\n",
      "       'thumbnail_link', 'comments_disabled', 'ratings_disabled',\n",
      "       'video_error_or_removed', 'description'],\n",
      "      dtype='object')\n"
     ]
    }
   ],
   "source": [
    "print(KRUS.columns)"
   ]
  },
  {
   "cell_type": "code",
   "execution_count": 9,
   "metadata": {},
   "outputs": [
    {
     "name": "stdout",
     "output_type": "stream",
     "text": [
      "video_id                  object\n",
      "trending_date             object\n",
      "title                     object\n",
      "channel_title             object\n",
      "category_id                int64\n",
      "publish_time              object\n",
      "tags                      object\n",
      "views                      int64\n",
      "likes                      int64\n",
      "dislikes                   int64\n",
      "comment_count              int64\n",
      "thumbnail_link            object\n",
      "comments_disabled           bool\n",
      "ratings_disabled            bool\n",
      "video_error_or_removed      bool\n",
      "description               object\n",
      "dtype: object\n"
     ]
    }
   ],
   "source": [
    "print(KRUS.dtypes)"
   ]
  },
  {
   "cell_type": "markdown",
   "metadata": {},
   "source": [
    "인기영상의 vies, likes 통계값"
   ]
  },
  {
   "cell_type": "code",
   "execution_count": 91,
   "metadata": {},
   "outputs": [],
   "source": [
    "def summary_numeric(col):  \n",
    "    print(col)\n",
    "    print(\"평균 {:>15}\".format(format(df[col].mean(), \",.2f\")))\n",
    "    print(\"최소 {:>15}\".format(format(df[col].min(), \",.2f\")))\n",
    "    print(\"중앙 {:>15}\".format(format(df[col].median(), \",.2f\")))\n",
    "    print(\"최대 {:>15}\".format(format(df[col].max(), \",.2f\")))"
   ]
  },
  {
   "cell_type": "code",
   "execution_count": 92,
   "metadata": {},
   "outputs": [
    {
     "name": "stdout",
     "output_type": "stream",
     "text": [
      "views\n",
      "평균      374,157.77\n",
      "최소        2,050.00\n",
      "중앙       93,969.50\n",
      "최대  113,876,217.00\n",
      "likes\n",
      "평균        9,500.48\n",
      "최소            0.00\n",
      "중앙        1,262.00\n",
      "최대    5,150,839.00\n"
     ]
    }
   ],
   "source": [
    "summary_numeric(\"views\") #인기영상의 views, likes 통계값\n",
    "summary_numeric(\"likes\")"
   ]
  },
  {
   "cell_type": "code",
   "execution_count": 148,
   "metadata": {},
   "outputs": [
    {
     "data": {
      "text/html": [
       "<div>\n",
       "<style scoped>\n",
       "    .dataframe tbody tr th:only-of-type {\n",
       "        vertical-align: middle;\n",
       "    }\n",
       "\n",
       "    .dataframe tbody tr th {\n",
       "        vertical-align: top;\n",
       "    }\n",
       "\n",
       "    .dataframe thead th {\n",
       "        text-align: right;\n",
       "    }\n",
       "</style>\n",
       "<table border=\"1\" class=\"dataframe\">\n",
       "  <thead>\n",
       "    <tr style=\"text-align: right;\">\n",
       "      <th></th>\n",
       "      <th>video_id</th>\n",
       "      <th>trending_date</th>\n",
       "      <th>title</th>\n",
       "      <th>channel_title</th>\n",
       "      <th>category_id</th>\n",
       "      <th>publish_time</th>\n",
       "      <th>tags</th>\n",
       "      <th>views</th>\n",
       "      <th>likes</th>\n",
       "      <th>dislikes</th>\n",
       "      <th>comment_count</th>\n",
       "      <th>thumbnail_link</th>\n",
       "      <th>comments_disabled</th>\n",
       "      <th>ratings_disabled</th>\n",
       "      <th>video_error_or_removed</th>\n",
       "      <th>description</th>\n",
       "      <th>trending-publish</th>\n",
       "      <th>publish_year</th>\n",
       "      <th>publish_month</th>\n",
       "    </tr>\n",
       "  </thead>\n",
       "  <tbody>\n",
       "    <tr>\n",
       "      <th>38547</th>\n",
       "      <td>VYOjWnS4cMY</td>\n",
       "      <td>2018-06-02</td>\n",
       "      <td>Childish Gambino - This Is America (Official V...</td>\n",
       "      <td>ChildishGambinoVEVO</td>\n",
       "      <td>10</td>\n",
       "      <td>2018-05-06</td>\n",
       "      <td>Childish Gambino|\"Rap\"|\"This Is America\"|\"mcDJ...</td>\n",
       "      <td>225211923</td>\n",
       "      <td>5023450</td>\n",
       "      <td>343541</td>\n",
       "      <td>517232</td>\n",
       "      <td>https://i.ytimg.com/vi/VYOjWnS4cMY/default.jpg</td>\n",
       "      <td>False</td>\n",
       "      <td>False</td>\n",
       "      <td>False</td>\n",
       "      <td>“This is America” by Childish Gambino http://s...</td>\n",
       "      <td>27 days</td>\n",
       "      <td>2018</td>\n",
       "      <td>5</td>\n",
       "    </tr>\n",
       "    <tr>\n",
       "      <th>6181</th>\n",
       "      <td>FlsCjmMhFmw</td>\n",
       "      <td>2017-12-14</td>\n",
       "      <td>YouTube Rewind: The Shape of 2017 | #YouTubeRe...</td>\n",
       "      <td>YouTube Spotlight</td>\n",
       "      <td>24</td>\n",
       "      <td>2017-12-06</td>\n",
       "      <td>Rewind|\"Rewind 2017\"|\"youtube rewind 2017\"|\"#Y...</td>\n",
       "      <td>149376127</td>\n",
       "      <td>3093544</td>\n",
       "      <td>1643059</td>\n",
       "      <td>810698</td>\n",
       "      <td>https://i.ytimg.com/vi/FlsCjmMhFmw/default.jpg</td>\n",
       "      <td>False</td>\n",
       "      <td>False</td>\n",
       "      <td>False</td>\n",
       "      <td>YouTube Rewind 2017. Celebrating the videos, p...</td>\n",
       "      <td>8 days</td>\n",
       "      <td>2017</td>\n",
       "      <td>12</td>\n",
       "    </tr>\n",
       "    <tr>\n",
       "      <th>34708</th>\n",
       "      <td>ffxKSjUwKdU</td>\n",
       "      <td>2018-05-14</td>\n",
       "      <td>Ariana Grande - No Tears Left To Cry</td>\n",
       "      <td>ArianaGrandeVevo</td>\n",
       "      <td>10</td>\n",
       "      <td>2018-04-20</td>\n",
       "      <td>Ariana|\"Grande\"|\"No\"|\"Tears\"|\"Left\"|\"To\"|\"Cry\"...</td>\n",
       "      <td>148689896</td>\n",
       "      <td>3094021</td>\n",
       "      <td>129502</td>\n",
       "      <td>242039</td>\n",
       "      <td>https://i.ytimg.com/vi/ffxKSjUwKdU/default.jpg</td>\n",
       "      <td>False</td>\n",
       "      <td>False</td>\n",
       "      <td>False</td>\n",
       "      <td>No Tears Left To Cry (Official Video)Song Avai...</td>\n",
       "      <td>24 days</td>\n",
       "      <td>2018</td>\n",
       "      <td>4</td>\n",
       "    </tr>\n",
       "    <tr>\n",
       "      <th>34888</th>\n",
       "      <td>zEf423kYfqk</td>\n",
       "      <td>2018-05-15</td>\n",
       "      <td>Becky G, Natti Natasha - Sin Pijama (Official ...</td>\n",
       "      <td>BeckyGVEVO</td>\n",
       "      <td>10</td>\n",
       "      <td>2018-04-20</td>\n",
       "      <td>Becky G|\"Natti Natasha\"|\"Natti Natasha Music\"|...</td>\n",
       "      <td>139334502</td>\n",
       "      <td>1425496</td>\n",
       "      <td>119798</td>\n",
       "      <td>83941</td>\n",
       "      <td>https://i.ytimg.com/vi/zEf423kYfqk/default.jpg</td>\n",
       "      <td>False</td>\n",
       "      <td>False</td>\n",
       "      <td>False</td>\n",
       "      <td>Becky G &amp; Natti Natasha – “Sin Pijama”NUEVO SE...</td>\n",
       "      <td>25 days</td>\n",
       "      <td>2018</td>\n",
       "      <td>4</td>\n",
       "    </tr>\n",
       "    <tr>\n",
       "      <th>38273</th>\n",
       "      <td>7C2z4GqqS5E</td>\n",
       "      <td>2018-06-01</td>\n",
       "      <td>BTS (방탄소년단) 'FAKE LOVE' Official MV</td>\n",
       "      <td>ibighit</td>\n",
       "      <td>10</td>\n",
       "      <td>2018-05-18</td>\n",
       "      <td>BIGHIT|\"빅히트\"|\"방탄소년단\"|\"BTS\"|\"BANGTAN\"|\"방탄\"|\"FAK...</td>\n",
       "      <td>123010920</td>\n",
       "      <td>5613827</td>\n",
       "      <td>206892</td>\n",
       "      <td>1228655</td>\n",
       "      <td>https://i.ytimg.com/vi/7C2z4GqqS5E/default.jpg</td>\n",
       "      <td>False</td>\n",
       "      <td>False</td>\n",
       "      <td>False</td>\n",
       "      <td>BTS (방탄소년단) 'FAKE LOVE' Official MVDirector : ...</td>\n",
       "      <td>14 days</td>\n",
       "      <td>2018</td>\n",
       "      <td>5</td>\n",
       "    </tr>\n",
       "    <tr>\n",
       "      <th>...</th>\n",
       "      <td>...</td>\n",
       "      <td>...</td>\n",
       "      <td>...</td>\n",
       "      <td>...</td>\n",
       "      <td>...</td>\n",
       "      <td>...</td>\n",
       "      <td>...</td>\n",
       "      <td>...</td>\n",
       "      <td>...</td>\n",
       "      <td>...</td>\n",
       "      <td>...</td>\n",
       "      <td>...</td>\n",
       "      <td>...</td>\n",
       "      <td>...</td>\n",
       "      <td>...</td>\n",
       "      <td>...</td>\n",
       "      <td>...</td>\n",
       "      <td>...</td>\n",
       "      <td>...</td>\n",
       "    </tr>\n",
       "    <tr>\n",
       "      <th>160</th>\n",
       "      <td>qg0GdM60syI</td>\n",
       "      <td>2017-11-14</td>\n",
       "      <td>Huffy Metaloid Bicycle Commercial 1997</td>\n",
       "      <td>90s Commercials</td>\n",
       "      <td>27</td>\n",
       "      <td>2017-03-31</td>\n",
       "      <td>90s commercials|\"Huffy\"</td>\n",
       "      <td>773</td>\n",
       "      <td>2</td>\n",
       "      <td>0</td>\n",
       "      <td>0</td>\n",
       "      <td>https://i.ytimg.com/vi/qg0GdM60syI/default.jpg</td>\n",
       "      <td>False</td>\n",
       "      <td>False</td>\n",
       "      <td>False</td>\n",
       "      <td>Anyone have one of those?</td>\n",
       "      <td>228 days</td>\n",
       "      <td>2017</td>\n",
       "      <td>3</td>\n",
       "    </tr>\n",
       "    <tr>\n",
       "      <th>12716</th>\n",
       "      <td>zeQaJGkFyqQ</td>\n",
       "      <td>2018-01-18</td>\n",
       "      <td>Raw: 3 South Carolina Deputies, 1 Officer Shot</td>\n",
       "      <td>Associated Press</td>\n",
       "      <td>25</td>\n",
       "      <td>2018-01-16</td>\n",
       "      <td>news|\"associated press\"|\"ap\"|\"ap online\"|\"asso...</td>\n",
       "      <td>748</td>\n",
       "      <td>9</td>\n",
       "      <td>0</td>\n",
       "      <td>0</td>\n",
       "      <td>https://i.ytimg.com/vi/zeQaJGkFyqQ/default.jpg</td>\n",
       "      <td>True</td>\n",
       "      <td>False</td>\n",
       "      <td>False</td>\n",
       "      <td>Three deputies and one police officer were sho...</td>\n",
       "      <td>2 days</td>\n",
       "      <td>2018</td>\n",
       "      <td>1</td>\n",
       "    </tr>\n",
       "    <tr>\n",
       "      <th>14984</th>\n",
       "      <td>dQMZLXaa1L8</td>\n",
       "      <td>2018-01-29</td>\n",
       "      <td>Artwork Forge</td>\n",
       "      <td>Palo Alto Online</td>\n",
       "      <td>17</td>\n",
       "      <td>2018-01-10</td>\n",
       "      <td>[none]</td>\n",
       "      <td>745</td>\n",
       "      <td>1</td>\n",
       "      <td>0</td>\n",
       "      <td>0</td>\n",
       "      <td>https://i.ytimg.com/vi/dQMZLXaa1L8/default.jpg</td>\n",
       "      <td>False</td>\n",
       "      <td>False</td>\n",
       "      <td>False</td>\n",
       "      <td>Artwork Forge II - an art installation created...</td>\n",
       "      <td>19 days</td>\n",
       "      <td>2018</td>\n",
       "      <td>1</td>\n",
       "    </tr>\n",
       "    <tr>\n",
       "      <th>777</th>\n",
       "      <td>-JVITToppE0</td>\n",
       "      <td>2017-11-17</td>\n",
       "      <td>Coach Taggart Monday Presser Ahead of Arizona</td>\n",
       "      <td>GoDucksdotcom</td>\n",
       "      <td>17</td>\n",
       "      <td>2017-11-13</td>\n",
       "      <td>Oregon|\"Ducks\"|\"college athletics\"|\"college fo...</td>\n",
       "      <td>704</td>\n",
       "      <td>10</td>\n",
       "      <td>2</td>\n",
       "      <td>5</td>\n",
       "      <td>https://i.ytimg.com/vi/-JVITToppE0/default.jpg</td>\n",
       "      <td>False</td>\n",
       "      <td>False</td>\n",
       "      <td>False</td>\n",
       "      <td>Coach Taggart addresses the media ahead of the...</td>\n",
       "      <td>4 days</td>\n",
       "      <td>2017</td>\n",
       "      <td>11</td>\n",
       "    </tr>\n",
       "    <tr>\n",
       "      <th>14782</th>\n",
       "      <td>y6KYFcta4SE</td>\n",
       "      <td>2018-01-28</td>\n",
       "      <td>1 dead, others injured after Ky. school shooting</td>\n",
       "      <td>Newsy</td>\n",
       "      <td>25</td>\n",
       "      <td>2018-01-23</td>\n",
       "      <td>shooting|\"kentucky\"|\"breaking news\"|\"u.s. news...</td>\n",
       "      <td>559</td>\n",
       "      <td>9</td>\n",
       "      <td>0</td>\n",
       "      <td>4</td>\n",
       "      <td>https://i.ytimg.com/vi/y6KYFcta4SE/default.jpg</td>\n",
       "      <td>False</td>\n",
       "      <td>False</td>\n",
       "      <td>False</td>\n",
       "      <td>Kentucky Gov. Matt Bevin confirmed there was a...</td>\n",
       "      <td>5 days</td>\n",
       "      <td>2018</td>\n",
       "      <td>1</td>\n",
       "    </tr>\n",
       "  </tbody>\n",
       "</table>\n",
       "<p>22078 rows × 19 columns</p>\n",
       "</div>"
      ],
      "text/plain": [
       "          video_id trending_date  \\\n",
       "38547  VYOjWnS4cMY    2018-06-02   \n",
       "6181   FlsCjmMhFmw    2017-12-14   \n",
       "34708  ffxKSjUwKdU    2018-05-14   \n",
       "34888  zEf423kYfqk    2018-05-15   \n",
       "38273  7C2z4GqqS5E    2018-06-01   \n",
       "...            ...           ...   \n",
       "160    qg0GdM60syI    2017-11-14   \n",
       "12716  zeQaJGkFyqQ    2018-01-18   \n",
       "14984  dQMZLXaa1L8    2018-01-29   \n",
       "777    -JVITToppE0    2017-11-17   \n",
       "14782  y6KYFcta4SE    2018-01-28   \n",
       "\n",
       "                                                   title        channel_title  \\\n",
       "38547  Childish Gambino - This Is America (Official V...  ChildishGambinoVEVO   \n",
       "6181   YouTube Rewind: The Shape of 2017 | #YouTubeRe...    YouTube Spotlight   \n",
       "34708               Ariana Grande - No Tears Left To Cry     ArianaGrandeVevo   \n",
       "34888  Becky G, Natti Natasha - Sin Pijama (Official ...           BeckyGVEVO   \n",
       "38273                BTS (방탄소년단) 'FAKE LOVE' Official MV              ibighit   \n",
       "...                                                  ...                  ...   \n",
       "160               Huffy Metaloid Bicycle Commercial 1997      90s Commercials   \n",
       "12716     Raw: 3 South Carolina Deputies, 1 Officer Shot     Associated Press   \n",
       "14984                                      Artwork Forge     Palo Alto Online   \n",
       "777        Coach Taggart Monday Presser Ahead of Arizona        GoDucksdotcom   \n",
       "14782   1 dead, others injured after Ky. school shooting                Newsy   \n",
       "\n",
       "       category_id publish_time  \\\n",
       "38547           10   2018-05-06   \n",
       "6181            24   2017-12-06   \n",
       "34708           10   2018-04-20   \n",
       "34888           10   2018-04-20   \n",
       "38273           10   2018-05-18   \n",
       "...            ...          ...   \n",
       "160             27   2017-03-31   \n",
       "12716           25   2018-01-16   \n",
       "14984           17   2018-01-10   \n",
       "777             17   2017-11-13   \n",
       "14782           25   2018-01-23   \n",
       "\n",
       "                                                    tags      views    likes  \\\n",
       "38547  Childish Gambino|\"Rap\"|\"This Is America\"|\"mcDJ...  225211923  5023450   \n",
       "6181   Rewind|\"Rewind 2017\"|\"youtube rewind 2017\"|\"#Y...  149376127  3093544   \n",
       "34708  Ariana|\"Grande\"|\"No\"|\"Tears\"|\"Left\"|\"To\"|\"Cry\"...  148689896  3094021   \n",
       "34888  Becky G|\"Natti Natasha\"|\"Natti Natasha Music\"|...  139334502  1425496   \n",
       "38273  BIGHIT|\"빅히트\"|\"방탄소년단\"|\"BTS\"|\"BANGTAN\"|\"방탄\"|\"FAK...  123010920  5613827   \n",
       "...                                                  ...        ...      ...   \n",
       "160                              90s commercials|\"Huffy\"        773        2   \n",
       "12716  news|\"associated press\"|\"ap\"|\"ap online\"|\"asso...        748        9   \n",
       "14984                                             [none]        745        1   \n",
       "777    Oregon|\"Ducks\"|\"college athletics\"|\"college fo...        704       10   \n",
       "14782  shooting|\"kentucky\"|\"breaking news\"|\"u.s. news...        559        9   \n",
       "\n",
       "       dislikes  comment_count  \\\n",
       "38547    343541         517232   \n",
       "6181    1643059         810698   \n",
       "34708    129502         242039   \n",
       "34888    119798          83941   \n",
       "38273    206892        1228655   \n",
       "...         ...            ...   \n",
       "160           0              0   \n",
       "12716         0              0   \n",
       "14984         0              0   \n",
       "777           2              5   \n",
       "14782         0              4   \n",
       "\n",
       "                                       thumbnail_link  comments_disabled  \\\n",
       "38547  https://i.ytimg.com/vi/VYOjWnS4cMY/default.jpg              False   \n",
       "6181   https://i.ytimg.com/vi/FlsCjmMhFmw/default.jpg              False   \n",
       "34708  https://i.ytimg.com/vi/ffxKSjUwKdU/default.jpg              False   \n",
       "34888  https://i.ytimg.com/vi/zEf423kYfqk/default.jpg              False   \n",
       "38273  https://i.ytimg.com/vi/7C2z4GqqS5E/default.jpg              False   \n",
       "...                                               ...                ...   \n",
       "160    https://i.ytimg.com/vi/qg0GdM60syI/default.jpg              False   \n",
       "12716  https://i.ytimg.com/vi/zeQaJGkFyqQ/default.jpg               True   \n",
       "14984  https://i.ytimg.com/vi/dQMZLXaa1L8/default.jpg              False   \n",
       "777    https://i.ytimg.com/vi/-JVITToppE0/default.jpg              False   \n",
       "14782  https://i.ytimg.com/vi/y6KYFcta4SE/default.jpg              False   \n",
       "\n",
       "       ratings_disabled  video_error_or_removed  \\\n",
       "38547             False                   False   \n",
       "6181              False                   False   \n",
       "34708             False                   False   \n",
       "34888             False                   False   \n",
       "38273             False                   False   \n",
       "...                 ...                     ...   \n",
       "160               False                   False   \n",
       "12716             False                   False   \n",
       "14984             False                   False   \n",
       "777               False                   False   \n",
       "14782             False                   False   \n",
       "\n",
       "                                             description trending-publish  \\\n",
       "38547  “This is America” by Childish Gambino http://s...          27 days   \n",
       "6181   YouTube Rewind 2017. Celebrating the videos, p...           8 days   \n",
       "34708  No Tears Left To Cry (Official Video)Song Avai...          24 days   \n",
       "34888  Becky G & Natti Natasha – “Sin Pijama”NUEVO SE...          25 days   \n",
       "38273  BTS (방탄소년단) 'FAKE LOVE' Official MVDirector : ...          14 days   \n",
       "...                                                  ...              ...   \n",
       "160                            Anyone have one of those?         228 days   \n",
       "12716  Three deputies and one police officer were sho...           2 days   \n",
       "14984  Artwork Forge II - an art installation created...          19 days   \n",
       "777    Coach Taggart addresses the media ahead of the...           4 days   \n",
       "14782  Kentucky Gov. Matt Bevin confirmed there was a...           5 days   \n",
       "\n",
       "       publish_year  publish_month  \n",
       "38547          2018              5  \n",
       "6181           2017             12  \n",
       "34708          2018              4  \n",
       "34888          2018              4  \n",
       "38273          2018              5  \n",
       "...             ...            ...  \n",
       "160            2017              3  \n",
       "12716          2018              1  \n",
       "14984          2018              1  \n",
       "777            2017             11  \n",
       "14782          2018              1  \n",
       "\n",
       "[22078 rows x 19 columns]"
      ]
     },
     "execution_count": 148,
     "metadata": {},
     "output_type": "execute_result"
    }
   ],
   "source": [
    "df = KRUS.drop_duplicates([\"video_id\"])[:] \n",
    "#여러 날에 걸쳐 인기동영상이 된 경우, 일자별로 데이터 생성.처음으로 인기동영상이 되었을 때의 경우만 고려\n",
    "df.sort_values(by=['views'], ascending = False)"
   ]
  },
  {
   "cell_type": "code",
   "execution_count": 149,
   "metadata": {},
   "outputs": [
    {
     "name": "stdout",
     "output_type": "stream",
     "text": [
      "225211923\n"
     ]
    }
   ],
   "source": [
    "views = KRUS['views'] \n",
    "print(views.max())"
   ]
  },
  {
   "cell_type": "code",
   "execution_count": 151,
   "metadata": {
    "scrolled": true
   },
   "outputs": [
    {
     "data": {
      "image/png": "[encoded data removed]",
      "text/plain": [
       "<Figure size 432x288 with 1 Axes>"
      ]
     },
     "metadata": {
      "needs_background": "light"
     },
     "output_type": "display_data"
    }
   ],
   "source": [
    "import matplotlib.pyplot as plt\n",
    "fig, ax = plt.subplots()\n",
    "ax.barh(range(df.head(10).shape[0]),df.head(10)['views'])\n",
    "ax.set_yticks(range(df.head(10).shape[0]))\n",
    "ax.set_yticklabels(df.head(10)['title'])\n",
    "ax.invert_yaxis()  \n",
    "ax.set_xlabel('views')\n",
    "plt.show()"
   ]
  },
  {
   "cell_type": "markdown",
   "metadata": {},
   "source": [
    "# * 동영상 게시 후 인기영상 진입에 걸린 일수"
   ]
  },
  {
   "cell_type": "code",
   "execution_count": 104,
   "metadata": {},
   "outputs": [],
   "source": [
    "import datetime"
   ]
  },
  {
   "cell_type": "markdown",
   "metadata": {},
   "source": [
    "업로드 일자 YYYY-MM-DD 형식으로 바꾸기"
   ]
  },
  {
   "cell_type": "code",
   "execution_count": 105,
   "metadata": {},
   "outputs": [
    {
     "data": {
      "text/plain": [
       "38547   2018-05-06\n",
       "38345   2018-05-06\n",
       "38146   2018-05-06\n",
       "37935   2018-05-06\n",
       "37730   2018-05-06\n",
       "           ...    \n",
       "546     2017-11-13\n",
       "14531   2018-01-10\n",
       "14782   2018-01-23\n",
       "14563   2018-01-23\n",
       "14335   2018-01-23\n",
       "Name: publish_time, Length: 75516, dtype: datetime64[ns]"
      ]
     },
     "execution_count": 105,
     "metadata": {},
     "output_type": "execute_result"
    }
   ],
   "source": [
    "KRUS['publish_time'] =  pd.to_datetime(KRUS['publish_time'])\n",
    "KRUS[\"publish_time\"] = KRUS[\"publish_time\"].apply(lambda x : x.date()) #시간은 제거하고 YYYY-MM-DD 형식으로 표시\n",
    "KRUS[\"publish_time\"] = pd.to_datetime(KRUS[\"publish_time\"])\n",
    "KRUS['publish_time']"
   ]
  },
  {
   "cell_type": "markdown",
   "metadata": {},
   "source": [
    "인기 영상 진입 일자 YYYY-MM-DD 형식으로 바꾸기"
   ]
  },
  {
   "cell_type": "code",
   "execution_count": 106,
   "metadata": {},
   "outputs": [
    {
     "data": {
      "text/plain": [
       "38547   2018-06-02\n",
       "38345   2018-06-01\n",
       "38146   2018-05-31\n",
       "37935   2018-05-30\n",
       "37730   2018-05-29\n",
       "           ...    \n",
       "546     2017-11-16\n",
       "14531   2018-01-27\n",
       "14782   2018-01-28\n",
       "14563   2018-01-27\n",
       "14335   2018-01-26\n",
       "Name: trending_date, Length: 75516, dtype: datetime64[ns]"
      ]
     },
     "execution_count": 106,
     "metadata": {},
     "output_type": "execute_result"
    }
   ],
   "source": [
    "KRUS[\"trending_date\"] = pd.to_datetime(KRUS[\"trending_date\"], format = \"%y.%d.%m\")\n",
    "df[\"trending_date\"] = pd.to_datetime(df[\"trending_date\"], format = \"%y.%d.%m\")\n",
    "KRUS[\"trending_date\"]"
   ]
  },
  {
   "cell_type": "markdown",
   "metadata": {},
   "source": [
    "동영상 게시 후 인기영상이 되는 데까지 걸리는 기간 구하기"
   ]
  },
  {
   "cell_type": "code",
   "execution_count": 108,
   "metadata": {},
   "outputs": [
    {
     "data": {
      "text/plain": [
       "38547   27 days\n",
       "38345   26 days\n",
       "38146   25 days\n",
       "37935   24 days\n",
       "37730   23 days\n",
       "37531   22 days\n",
       "37333   21 days\n",
       "37123   20 days\n",
       "36913   19 days\n",
       "36710   18 days\n",
       "Name: trending-publish, dtype: timedelta64[ns]"
      ]
     },
     "execution_count": 108,
     "metadata": {},
     "output_type": "execute_result"
    }
   ],
   "source": [
    "KRUS[\"trending-publish\"] = KRUS[\"trending_date\"] - KRUS[\"publish_time\"]\n",
    "KRUS[\"trending-publish\"].head(10)"
   ]
  },
  {
   "cell_type": "code",
   "execution_count": 109,
   "metadata": {},
   "outputs": [
    {
     "data": {
      "text/plain": [
       "count                       75516\n",
       "mean      10 days 07:52:21.204512\n",
       "std      109 days 07:26:40.495109\n",
       "min               0 days 00:00:00\n",
       "25%               2 days 00:00:00\n",
       "50%               3 days 00:00:00\n",
       "75%               6 days 00:00:00\n",
       "max            4215 days 00:00:00\n",
       "Name: trending-publish, dtype: object"
      ]
     },
     "execution_count": 109,
     "metadata": {},
     "output_type": "execute_result"
    }
   ],
   "source": [
    "KRUS[\"trending-publish\"].describe()"
   ]
  },
  {
   "cell_type": "markdown",
   "metadata": {},
   "source": [
    "** 역주행하는 영상 등 일부 이상치를 제외하면 인기 영상이 되는 결정적인 기간은 2일에서 6일이라고 볼 수 있다. \n",
    "2~6일 안에 필사적으로 마케팅을 해야한다."
   ]
  },
  {
   "cell_type": "markdown",
   "metadata": {},
   "source": [
    "# * 동영상 게시일 Year, Month별 조회수, 좋아요 수"
   ]
  },
  {
   "cell_type": "markdown",
   "metadata": {},
   "source": [
    "publish_time에서 year만 추출하기"
   ]
  },
  {
   "cell_type": "code",
   "execution_count": 121,
   "metadata": {},
   "outputs": [
    {
     "data": {
      "text/plain": [
       "38547    2018\n",
       "38345    2018\n",
       "38146    2018\n",
       "37935    2018\n",
       "37730    2018\n",
       "         ... \n",
       "546      2017\n",
       "14531    2018\n",
       "14782    2018\n",
       "14563    2018\n",
       "14335    2018\n",
       "Name: publish_year, Length: 75516, dtype: int64"
      ]
     },
     "execution_count": 121,
     "metadata": {},
     "output_type": "execute_result"
    }
   ],
   "source": [
    "KRUS['publish_year'] = KRUS['publish_time'].dt.year\n",
    "KRUS['publish_year']"
   ]
  },
  {
   "cell_type": "code",
   "execution_count": 134,
   "metadata": {},
   "outputs": [
    {
     "data": {
      "text/plain": [
       "publish_year\n",
       "2006         258506\n",
       "2008         627600\n",
       "2009         342566\n",
       "2010        1006586\n",
       "2011        1385668\n",
       "2012        1630184\n",
       "2013        1198995\n",
       "2014        2814324\n",
       "2015        3344903\n",
       "2016        5330334\n",
       "2017    17666324052\n",
       "2018    93676658747\n",
       "Name: views, dtype: int64"
      ]
     },
     "execution_count": 134,
     "metadata": {},
     "output_type": "execute_result"
    }
   ],
   "source": [
    "year_viewsum = KRUS.groupby(['publish_year']).views.sum()\n",
    "year_viewsum"
   ]
  },
  {
   "cell_type": "markdown",
   "metadata": {},
   "source": [
    "** 2006년부터 2018년까지 데이터가 있으며 시간이 갈수록 조회수가 증가하는 추세를 보임. 특히 2017년부터 조회수가 폭증함. \n",
    "하지만 오래 전일수록 missing data가 많다는 점도 고려해야함."
   ]
  },
  {
   "cell_type": "markdown",
   "metadata": {},
   "source": [
    "publish_time에서 month만 추출하기"
   ]
  },
  {
   "cell_type": "code",
   "execution_count": 122,
   "metadata": {},
   "outputs": [
    {
     "data": {
      "text/plain": [
       "38547     5\n",
       "38345     5\n",
       "38146     5\n",
       "37935     5\n",
       "37730     5\n",
       "         ..\n",
       "546      11\n",
       "14531     1\n",
       "14782     1\n",
       "14563     1\n",
       "14335     1\n",
       "Name: publish_month, Length: 75516, dtype: int64"
      ]
     },
     "execution_count": 122,
     "metadata": {},
     "output_type": "execute_result"
    }
   ],
   "source": [
    "KRUS['publish_month'] = KRUS['publish_time'].dt.month\n",
    "KRUS['publish_month']"
   ]
  },
  {
   "cell_type": "markdown",
   "metadata": {},
   "source": [
    "월별 평균 조회수"
   ]
  },
  {
   "cell_type": "code",
   "execution_count": 137,
   "metadata": {},
   "outputs": [
    {
     "name": "stdout",
     "output_type": "stream",
     "text": [
      "publish_year  publish_month\n",
      "2006          7                2.585060e+05\n",
      "2008          4                5.006425e+04\n",
      "              6                8.683025e+04\n",
      "              8                2.667400e+04\n",
      "2009          3                1.542900e+04\n",
      "                                   ...     \n",
      "2018          2                1.001543e+06\n",
      "              3                1.297452e+06\n",
      "              4                2.380266e+06\n",
      "              5                2.966923e+06\n",
      "              6                1.119022e+06\n",
      "Name: views, Length: 67, dtype: float64\n"
     ]
    }
   ],
   "source": [
    "meanview_of_yearmonth=KRUS.groupby(['publish_year','publish_month']).views.mean()\n",
    "print(meanview_of_yearmonth)"
   ]
  },
  {
   "cell_type": "code",
   "execution_count": 140,
   "metadata": {},
   "outputs": [
    {
     "data": {
      "text/plain": [
       "publish_year  publish_month\n",
       "2018          5                2.966923e+06\n",
       "              4                2.380266e+06\n",
       "              3                1.297452e+06\n",
       "              6                1.119022e+06\n",
       "              2                1.001543e+06\n",
       "2017          11               9.753666e+05\n",
       "              12               9.109745e+05\n",
       "2016          2                8.092263e+05\n",
       "2018          1                7.818322e+05\n",
       "2017          9                5.565971e+05\n",
       "Name: views, dtype: float64"
      ]
     },
     "execution_count": 140,
     "metadata": {},
     "output_type": "execute_result"
    }
   ],
   "source": [
    "meanview_of_yearmonth.nlargest(10)"
   ]
  },
  {
   "cell_type": "markdown",
   "metadata": {},
   "source": [
    "** 평균 조회수가 가장 많은 달은 2018년 1..6월, 2017년 9..12월, 2016년 2월"
   ]
  },
  {
   "cell_type": "markdown",
   "metadata": {},
   "source": [
    "월별 평균 좋아요수"
   ]
  },
  {
   "cell_type": "code",
   "execution_count": 128,
   "metadata": {},
   "outputs": [
    {
     "name": "stdout",
     "output_type": "stream",
     "text": [
      "publish_year  publish_month\n",
      "2006          7                  459.000000\n",
      "2008          4                   46.000000\n",
      "              6                  469.000000\n",
      "              8                   78.333333\n",
      "2009          3                   33.500000\n",
      "                                   ...     \n",
      "2018          2                27014.854184\n",
      "              3                42494.448515\n",
      "              4                65989.207551\n",
      "              5                89349.594710\n",
      "              6                44864.217781\n",
      "Name: likes, Length: 67, dtype: float64\n"
     ]
    }
   ],
   "source": [
    "meanlike_of_yearmonth=KRUS.groupby(['publish_year','publish_month']).likes.mean()\n",
    "print(meanlike_of_yearmonth)"
   ]
  },
  {
   "cell_type": "code",
   "execution_count": 141,
   "metadata": {},
   "outputs": [
    {
     "data": {
      "text/plain": [
       "publish_year  publish_month\n",
       "2018          5                89349.594710\n",
       "              4                65989.207551\n",
       "              6                44864.217781\n",
       "              3                42494.448515\n",
       "2017          11               34798.215432\n",
       "              12               30242.630983\n",
       "2018          1                28416.924627\n",
       "              2                27014.854184\n",
       "2017          9                14371.533333\n",
       "2015          10                6857.625000\n",
       "Name: likes, dtype: float64"
      ]
     },
     "execution_count": 141,
     "metadata": {},
     "output_type": "execute_result"
    }
   ],
   "source": [
    "meanlike_of_yearmonth.nlargest(10)"
   ]
  },
  {
   "cell_type": "markdown",
   "metadata": {},
   "source": [
    "** 평균 좋아요 수가 가장 많은 달은 2018년 1..6월, 2017년 9..12월, 2015년 10월"
   ]
  },
  {
   "cell_type": "code",
   "execution_count": null,
   "metadata": {},
   "outputs": [],
   "source": []
  }
 ],
 "metadata": {
  "kernelspec": {
   "display_name": "Python 3",
   "language": "python",
   "name": "python3"
  },
  "language_info": {
   "codemirror_mode": {
    "name": "ipython",
    "version": 3
   },
   "file_extension": ".py",
   "mimetype": "text/x-python",
   "name": "python",
   "nbconvert_exporter": "python",
   "pygments_lexer": "ipython3",
   "version": "3.7.6"
  }
 },
 "nbformat": 4,
 "nbformat_minor": 4
}
