{
 "cells": [
  {
   "cell_type": "markdown",
   "metadata": {},
   "source": [
    "# 20-1 ESAA 프로젝트: 2017~2019 3개년 전국 아파트 실거래가 분석"
   ]
  },
  {
   "cell_type": "markdown",
   "metadata": {},
   "source": [
    "# 1. 개요"
   ]
  },
  {
   "cell_type": "code",
   "execution_count": 1,
   "metadata": {},
   "outputs": [
    {
     "data": {
      "text/plain": [
       "'\\n본 데이터는 한국감정원 아파트 거래현황 자료의 2017.10.01 ~ 2019.12.31 데이터입니다. \\n전반적인 데이터를 전처리 및 시각화 한 후\\nRandom Forest 모델을 적용해 지역별(구 기준), ?별 제곱미터당 거래가격을 예측해보는 회귀모델을 생성 해보았습니다.\\n'"
      ]
     },
     "execution_count": 1,
     "metadata": {},
     "output_type": "execute_result"
    }
   ],
   "source": [
    "'''\n",
    "본 데이터는 한국감정원 아파트 거래현황 자료의 2017.10.01 ~ 2019.12.31 데이터입니다. \n",
    "전반적인 데이터를 전처리 및 시각화 한 후\n",
    "Random Forest 모델을 적용해 지역별(구 기준), ?별 제곱미터당 거래가격을 예측해보는 회귀모델을 생성 해보았습니다.\n",
    "'''"
   ]
  },
  {
   "cell_type": "code",
   "execution_count": 2,
   "metadata": {},
   "outputs": [
    {
     "data": {
      "text/plain": [
       "'\\n검색조건 계약일자 : 20170101 ~ 20191231 \\n실거래구분 : 아파트(매매) \\n주소구분 : 지번주소 \\n시도 : 전체\\n시군구 : 전체 \\n읍면동 : 전체 \\n면적 : 전체 \\n금액선택 : 전체\\n'"
      ]
     },
     "execution_count": 2,
     "metadata": {},
     "output_type": "execute_result"
    }
   ],
   "source": [
    "'''\n",
    "검색조건 계약일자 : 20170101 ~ 20191231 \n",
    "실거래구분 : 아파트(매매) \n",
    "주소구분 : 지번주소 \n",
    "시도 : 전체\n",
    "시군구 : 전체 \n",
    "읍면동 : 전체 \n",
    "면적 : 전체 \n",
    "금액선택 : 전체\n",
    "'''"
   ]
  },
  {
   "cell_type": "markdown",
   "metadata": {},
   "source": [
    "# 2. 탐색적 자료분석 (EDA)"
   ]
  },
  {
   "cell_type": "markdown",
   "metadata": {},
   "source": [
    "## 1. 필요한 패키지"
   ]
  },
  {
   "cell_type": "code",
   "execution_count": 3,
   "metadata": {},
   "outputs": [],
   "source": [
    "import pandas as pd\n",
    "import numpy as np\n",
    "import matplotlib.pyplot as plt\n",
    "import seaborn as sns\n",
    "import csv\n",
    "import matplotlib.font_manager as fm\n",
    "from sklearn.ensemble import RandomForestRegressor\n",
    "import sklearn as sk\n",
    "import sklearn.datasets as skd\n",
    "import sklearn.ensemble as ske\n",
    "from sklearn.model_selection import train_test_split\n",
    "%matplotlib inline\n",
    "\n",
    "from matplotlib import font_manager, rc\n",
    "import platform\n",
    "if platform.system() == 'Windows':\n",
    "# 윈도우인 경우\n",
    "    font_name = font_manager.FontProperties(fname=\"c:/Windows/Fonts/malgun.ttf\").get_name()\n",
    "    rc('font', family=font_name)\n",
    "else:      \n",
    "# Mac 인 경우\n",
    "    rc('font', family='AppleGothic')"
   ]
  },
  {
   "cell_type": "markdown",
   "metadata": {},
   "source": [
    "## 2. 데이터 불러오기 및 데이터 파악"
   ]
  },
  {
   "cell_type": "code",
   "execution_count": 4,
   "metadata": {},
   "outputs": [
    {
     "name": "stderr",
     "output_type": "stream",
     "text": [
      "C:\\ProgramData\\Anaconda3\\lib\\site-packages\\IPython\\core\\interactiveshell.py:3063: DtypeWarning: Columns (2) have mixed types.Specify dtype option on import or set low_memory=False.\n",
      "  interactivity=interactivity, compiler=compiler, result=result)\n"
     ]
    }
   ],
   "source": [
    "# 데이터 불러오기\n",
    "apt2017_1 = pd.read_csv('C:/Users/이현주/Desktop/대학교/ESAA/2020-1 부동산 가격예측 프로젝트/TeamProject/2017-1_apt.csv', thousands = ',') # thousands = ',' : 천 단위 자리 구분 기호 없애고 가져오기\n",
    "apt2017_2 = pd.read_csv('C:/Users/이현주/Desktop/대학교/ESAA/2020-1 부동산 가격예측 프로젝트/TeamProject/2017-2_apt.csv', thousands = ',')\n",
    "apt2017_3 = pd.read_csv('C:/Users/이현주/Desktop/대학교/ESAA/2020-1 부동산 가격예측 프로젝트/TeamProject/2017-3_apt.csv', thousands = ',')\n",
    "apt2017_4 = pd.read_csv('C:/Users/이현주/Desktop/대학교/ESAA/2020-1 부동산 가격예측 프로젝트/TeamProject/2017-4_apt.csv', thousands = ',')\n",
    "apt2017_5 = pd.read_csv('C:/Users/이현주/Desktop/대학교/ESAA/2020-1 부동산 가격예측 프로젝트/TeamProject/2017-5_apt.csv', thousands = ',')\n",
    "apt2017_6 = pd.read_csv('C:/Users/이현주/Desktop/대학교/ESAA/2020-1 부동산 가격예측 프로젝트/TeamProject/2017-6_apt.csv', thousands = ',')\n",
    "apt2017_7 = pd.read_csv('C:/Users/이현주/Desktop/대학교/ESAA/2020-1 부동산 가격예측 프로젝트/TeamProject/2017-7_apt.csv', thousands = ',')\n",
    "apt2017_8 = pd.read_csv('C:/Users/이현주/Desktop/대학교/ESAA/2020-1 부동산 가격예측 프로젝트/TeamProject/2017-8_apt.csv', thousands = ',')\n",
    "apt2017_9 = pd.read_csv('C:/Users/이현주/Desktop/대학교/ESAA/2020-1 부동산 가격예측 프로젝트/TeamProject/2017-9_apt.csv', thousands = ',')\n",
    "apt2017_10 = pd.read_csv('C:/Users/이현주/Desktop/대학교/ESAA/2020-1 부동산 가격예측 프로젝트/TeamProject/2017-10_apt.csv', thousands = ',')\n",
    "apt2017_11 = pd.read_csv('C:/Users/이현주/Desktop/대학교/ESAA/2020-1 부동산 가격예측 프로젝트/TeamProject/2017-11_apt.csv', thousands = ',')\n",
    "apt2017_12 = pd.read_csv('C:/Users/이현주/Desktop/대학교/ESAA/2020-1 부동산 가격예측 프로젝트/TeamProject/2017-12_apt.csv', thousands = ',')\n",
    "\n",
    "apt2018_1 = pd.read_csv('C:/Users/이현주/Desktop/대학교/ESAA/2020-1 부동산 가격예측 프로젝트/TeamProject/2018-1_apt.csv', thousands = ',')\n",
    "apt2018_2 = pd.read_csv('C:/Users/이현주/Desktop/대학교/ESAA/2020-1 부동산 가격예측 프로젝트/TeamProject/2018-2_apt.csv', thousands = ',')\n",
    "apt2018_3 = pd.read_csv('C:/Users/이현주/Desktop/대학교/ESAA/2020-1 부동산 가격예측 프로젝트/TeamProject/2018-3_apt.csv', thousands = ',')\n",
    "apt2018_4 = pd.read_csv('C:/Users/이현주/Desktop/대학교/ESAA/2020-1 부동산 가격예측 프로젝트/TeamProject/2018-4_apt.csv', thousands = ',')\n",
    "apt2018_5 = pd.read_csv('C:/Users/이현주/Desktop/대학교/ESAA/2020-1 부동산 가격예측 프로젝트/TeamProject/2018-5_apt.csv', thousands = ',')\n",
    "apt2018_6 = pd.read_csv('C:/Users/이현주/Desktop/대학교/ESAA/2020-1 부동산 가격예측 프로젝트/TeamProject/2018-6_apt.csv', thousands = ',')\n",
    "apt2018_7 = pd.read_csv('C:/Users/이현주/Desktop/대학교/ESAA/2020-1 부동산 가격예측 프로젝트/TeamProject/2018-7_apt.csv', thousands = ',')\n",
    "apt2018_8 = pd.read_csv('C:/Users/이현주/Desktop/대학교/ESAA/2020-1 부동산 가격예측 프로젝트/TeamProject/2018-8_apt.csv', thousands = ',')\n",
    "apt2018_9 = pd.read_csv('C:/Users/이현주/Desktop/대학교/ESAA/2020-1 부동산 가격예측 프로젝트/TeamProject/2018-9_apt.csv', thousands = ',')\n",
    "apt2018_10 = pd.read_csv('C:/Users/이현주/Desktop/대학교/ESAA/2020-1 부동산 가격예측 프로젝트/TeamProject/2018-10_apt.csv', thousands = ',')\n",
    "apt2018_11 = pd.read_csv('C:/Users/이현주/Desktop/대학교/ESAA/2020-1 부동산 가격예측 프로젝트/TeamProject/2018-11_apt.csv', thousands = ',')\n",
    "apt2018_12 = pd.read_csv('C:/Users/이현주/Desktop/대학교/ESAA/2020-1 부동산 가격예측 프로젝트/TeamProject/2018-12_apt.csv', thousands = ',')\n",
    "\n",
    "apt2019_1 = pd.read_csv('C:/Users/이현주/Desktop/대학교/ESAA/2020-1 부동산 가격예측 프로젝트/TeamProject/2019-1_apt.csv', thousands = ',')\n",
    "apt2019_2 = pd.read_csv('C:/Users/이현주/Desktop/대학교/ESAA/2020-1 부동산 가격예측 프로젝트/TeamProject/2019-2_apt.csv', thousands = ',')\n",
    "apt2019_3 = pd.read_csv('C:/Users/이현주/Desktop/대학교/ESAA/2020-1 부동산 가격예측 프로젝트/TeamProject/2019-3_apt.csv', thousands = ',')\n",
    "apt2019_4 = pd.read_csv('C:/Users/이현주/Desktop/대학교/ESAA/2020-1 부동산 가격예측 프로젝트/TeamProject/2019-4_apt.csv', thousands = ',')\n",
    "apt2019_5 = pd.read_csv('C:/Users/이현주/Desktop/대학교/ESAA/2020-1 부동산 가격예측 프로젝트/TeamProject/2019-5_apt.csv', thousands = ',')\n",
    "apt2019_6 = pd.read_csv('C:/Users/이현주/Desktop/대학교/ESAA/2020-1 부동산 가격예측 프로젝트/TeamProject/2019-6_apt.csv', thousands = ',')\n",
    "apt2019_7 = pd.read_csv('C:/Users/이현주/Desktop/대학교/ESAA/2020-1 부동산 가격예측 프로젝트/TeamProject/2019-7_apt.csv', thousands = ',')\n",
    "apt2019_8 = pd.read_csv('C:/Users/이현주/Desktop/대학교/ESAA/2020-1 부동산 가격예측 프로젝트/TeamProject/2019-8_apt.csv', thousands = ',')\n",
    "apt2019_9 = pd.read_csv('C:/Users/이현주/Desktop/대학교/ESAA/2020-1 부동산 가격예측 프로젝트/TeamProject/2019-9_apt.csv', thousands = ',')\n",
    "apt2019_10 = pd.read_csv('C:/Users/이현주/Desktop/대학교/ESAA/2020-1 부동산 가격예측 프로젝트/TeamProject/2019-10_apt.csv', thousands = ',')\n",
    "apt2019_11 = pd.read_csv('C:/Users/이현주/Desktop/대학교/ESAA/2020-1 부동산 가격예측 프로젝트/TeamProject/2019-11_apt.csv', thousands = ',')\n",
    "apt2019_12 = pd.read_csv('C:/Users/이현주/Desktop/대학교/ESAA/2020-1 부동산 가격예측 프로젝트/TeamProject/2019-12_apt.csv', thousands = ',')"
   ]
  },
  {
   "cell_type": "code",
   "execution_count": 5,
   "metadata": {},
   "outputs": [],
   "source": [
    "# 연도별로 데이터 합치기\n",
    "apt2017 = pd.concat([apt2017_1, apt2017_2, apt2017_3, apt2017_4, apt2017_5, apt2017_6, apt2017_7, apt2017_8, apt2017_9, apt2017_10, apt2017_11, apt2017_12])\n",
    "apt2018 = pd.concat([apt2018_1, apt2018_2, apt2018_3, apt2018_4, apt2018_5, apt2018_6, apt2018_7, apt2018_8, apt2018_9, apt2018_10, apt2018_11, apt2018_12])\n",
    "apt2019 = pd.concat([apt2019_1, apt2019_2, apt2019_3, apt2019_4, apt2019_5, apt2019_6, apt2019_7, apt2019_8, apt2019_9, apt2019_10, apt2019_11, apt2019_12])"
   ]
  },
  {
   "cell_type": "code",
   "execution_count": 6,
   "metadata": {},
   "outputs": [
    {
     "data": {
      "text/html": [
       "<div>\n",
       "<style scoped>\n",
       "    .dataframe tbody tr th:only-of-type {\n",
       "        vertical-align: middle;\n",
       "    }\n",
       "\n",
       "    .dataframe tbody tr th {\n",
       "        vertical-align: top;\n",
       "    }\n",
       "\n",
       "    .dataframe thead th {\n",
       "        text-align: right;\n",
       "    }\n",
       "</style>\n",
       "<table border=\"1\" class=\"dataframe\">\n",
       "  <thead>\n",
       "    <tr style=\"text-align: right;\">\n",
       "      <th></th>\n",
       "      <th>시군구</th>\n",
       "      <th>번지</th>\n",
       "      <th>본번</th>\n",
       "      <th>부번</th>\n",
       "      <th>단지명</th>\n",
       "      <th>전용면적(㎡)</th>\n",
       "      <th>계약년월</th>\n",
       "      <th>계약일</th>\n",
       "      <th>거래금액(만원)</th>\n",
       "      <th>층</th>\n",
       "      <th>건축년도</th>\n",
       "      <th>도로명</th>\n",
       "    </tr>\n",
       "  </thead>\n",
       "  <tbody>\n",
       "    <tr>\n",
       "      <th>0</th>\n",
       "      <td>강원도 강릉시 견소동</td>\n",
       "      <td>202</td>\n",
       "      <td>202</td>\n",
       "      <td>0</td>\n",
       "      <td>송정한신</td>\n",
       "      <td>59.8000</td>\n",
       "      <td>201701</td>\n",
       "      <td>10</td>\n",
       "      <td>12400</td>\n",
       "      <td>8</td>\n",
       "      <td>1997</td>\n",
       "      <td>경강로2539번길 8</td>\n",
       "    </tr>\n",
       "    <tr>\n",
       "      <th>1</th>\n",
       "      <td>강원도 강릉시 견소동</td>\n",
       "      <td>289</td>\n",
       "      <td>289</td>\n",
       "      <td>0</td>\n",
       "      <td>송정해변신도브래뉴아파트</td>\n",
       "      <td>84.9900</td>\n",
       "      <td>201701</td>\n",
       "      <td>3</td>\n",
       "      <td>23000</td>\n",
       "      <td>13</td>\n",
       "      <td>2005</td>\n",
       "      <td>경강로2539번길 22</td>\n",
       "    </tr>\n",
       "    <tr>\n",
       "      <th>2</th>\n",
       "      <td>강원도 강릉시 견소동</td>\n",
       "      <td>289</td>\n",
       "      <td>289</td>\n",
       "      <td>0</td>\n",
       "      <td>송정해변신도브래뉴아파트</td>\n",
       "      <td>59.9900</td>\n",
       "      <td>201701</td>\n",
       "      <td>4</td>\n",
       "      <td>15800</td>\n",
       "      <td>9</td>\n",
       "      <td>2005</td>\n",
       "      <td>경강로2539번길 22</td>\n",
       "    </tr>\n",
       "    <tr>\n",
       "      <th>3</th>\n",
       "      <td>강원도 강릉시 견소동</td>\n",
       "      <td>289</td>\n",
       "      <td>289</td>\n",
       "      <td>0</td>\n",
       "      <td>송정해변신도브래뉴아파트</td>\n",
       "      <td>59.9900</td>\n",
       "      <td>201701</td>\n",
       "      <td>21</td>\n",
       "      <td>14000</td>\n",
       "      <td>1</td>\n",
       "      <td>2005</td>\n",
       "      <td>경강로2539번길 22</td>\n",
       "    </tr>\n",
       "    <tr>\n",
       "      <th>4</th>\n",
       "      <td>강원도 강릉시 교동</td>\n",
       "      <td>1983</td>\n",
       "      <td>1983</td>\n",
       "      <td>0</td>\n",
       "      <td>강릉교동롯데캐슬2단지</td>\n",
       "      <td>84.9855</td>\n",
       "      <td>201701</td>\n",
       "      <td>5</td>\n",
       "      <td>27250</td>\n",
       "      <td>11</td>\n",
       "      <td>2009</td>\n",
       "      <td>화부산로111번길 24</td>\n",
       "    </tr>\n",
       "  </tbody>\n",
       "</table>\n",
       "</div>"
      ],
      "text/plain": [
       "           시군구    번지    본번  부번           단지명  전용면적(㎡)    계약년월  계약일  거래금액(만원)  \\\n",
       "0  강원도 강릉시 견소동   202   202   0          송정한신  59.8000  201701   10     12400   \n",
       "1  강원도 강릉시 견소동   289   289   0  송정해변신도브래뉴아파트  84.9900  201701    3     23000   \n",
       "2  강원도 강릉시 견소동   289   289   0  송정해변신도브래뉴아파트  59.9900  201701    4     15800   \n",
       "3  강원도 강릉시 견소동   289   289   0  송정해변신도브래뉴아파트  59.9900  201701   21     14000   \n",
       "4   강원도 강릉시 교동  1983  1983   0   강릉교동롯데캐슬2단지  84.9855  201701    5     27250   \n",
       "\n",
       "    층  건축년도           도로명  \n",
       "0   8  1997   경강로2539번길 8  \n",
       "1  13  2005  경강로2539번길 22  \n",
       "2   9  2005  경강로2539번길 22  \n",
       "3   1  2005  경강로2539번길 22  \n",
       "4  11  2009  화부산로111번길 24  "
      ]
     },
     "execution_count": 6,
     "metadata": {},
     "output_type": "execute_result"
    }
   ],
   "source": [
    "apt2017.head()"
   ]
  },
  {
   "cell_type": "code",
   "execution_count": 7,
   "metadata": {},
   "outputs": [
    {
     "name": "stdout",
     "output_type": "stream",
     "text": [
      "<class 'pandas.core.frame.DataFrame'>\n",
      "Int64Index: 570324 entries, 0 to 40192\n",
      "Data columns (total 12 columns):\n",
      " #   Column    Non-Null Count   Dtype  \n",
      "---  ------    --------------   -----  \n",
      " 0   시군구       570324 non-null  object \n",
      " 1   번지        570232 non-null  object \n",
      " 2   본번        570324 non-null  object \n",
      " 3   부번        570324 non-null  int64  \n",
      " 4   단지명       570324 non-null  object \n",
      " 5   전용면적(㎡)   570324 non-null  float64\n",
      " 6   계약년월      570324 non-null  int64  \n",
      " 7   계약일       570324 non-null  int64  \n",
      " 8   거래금액(만원)  570324 non-null  int64  \n",
      " 9   층         570324 non-null  int64  \n",
      " 10  건축년도      570324 non-null  int64  \n",
      " 11  도로명       570324 non-null  object \n",
      "dtypes: float64(1), int64(6), object(5)\n",
      "memory usage: 56.6+ MB\n"
     ]
    }
   ],
   "source": [
    "apt2017.info()"
   ]
  },
  {
   "cell_type": "code",
   "execution_count": 8,
   "metadata": {},
   "outputs": [
    {
     "data": {
      "text/plain": [
       "시군구          0\n",
       "번지          92\n",
       "본번           0\n",
       "부번           0\n",
       "단지명          0\n",
       "전용면적(㎡)      0\n",
       "계약년월         0\n",
       "계약일          0\n",
       "거래금액(만원)     0\n",
       "층            0\n",
       "건축년도         0\n",
       "도로명          0\n",
       "dtype: int64"
      ]
     },
     "execution_count": 8,
     "metadata": {},
     "output_type": "execute_result"
    }
   ],
   "source": [
    "# 2017년도 데이터 결측치 개수 확인\n",
    "apt2017.isnull().sum()"
   ]
  },
  {
   "cell_type": "code",
   "execution_count": 9,
   "metadata": {},
   "outputs": [
    {
     "data": {
      "text/plain": [
       "시군구          0\n",
       "번지          43\n",
       "본번           0\n",
       "부번           0\n",
       "단지명          0\n",
       "전용면적(㎡)      0\n",
       "계약년월         0\n",
       "계약일          0\n",
       "거래금액(만원)     0\n",
       "층            0\n",
       "건축년도         0\n",
       "도로명          0\n",
       "dtype: int64"
      ]
     },
     "execution_count": 9,
     "metadata": {},
     "output_type": "execute_result"
    }
   ],
   "source": [
    "# 2018년도 데이터 결측치 개수 확인\n",
    "apt2018.isnull().sum()"
   ]
  },
  {
   "cell_type": "code",
   "execution_count": 10,
   "metadata": {},
   "outputs": [
    {
     "data": {
      "text/plain": [
       "시군구          0\n",
       "번지          52\n",
       "본번           0\n",
       "부번           0\n",
       "단지명          0\n",
       "전용면적(㎡)      0\n",
       "계약년월         0\n",
       "계약일          0\n",
       "거래금액(만원)     0\n",
       "층            0\n",
       "건축년도         0\n",
       "도로명          0\n",
       "dtype: int64"
      ]
     },
     "execution_count": 10,
     "metadata": {},
     "output_type": "execute_result"
    }
   ],
   "source": [
    "# 2019년도 데이터 결측치 개수 확인\n",
    "apt2019.isnull().sum()"
   ]
  },
  {
   "cell_type": "markdown",
   "metadata": {},
   "source": [
    "## 3. 데이터 처리"
   ]
  },
  {
   "cell_type": "markdown",
   "metadata": {},
   "source": [
    "(1) 3개년 데이터 합치기"
   ]
  },
  {
   "cell_type": "code",
   "execution_count": 11,
   "metadata": {},
   "outputs": [],
   "source": [
    "apt171819 = pd.concat([apt2017, apt2018, apt2019]) "
   ]
  },
  {
   "cell_type": "markdown",
   "metadata": {},
   "source": [
    "(2) 시군구 변수를 시-군-구로 분리"
   ]
  },
  {
   "cell_type": "code",
   "execution_count": 12,
   "metadata": {},
   "outputs": [
    {
     "data": {
      "text/plain": [
       "0        견소동\n",
       "1        견소동\n",
       "2        견소동\n",
       "3        견소동\n",
       "4         교동\n",
       "        ... \n",
       "70396    호암동\n",
       "70397    호암동\n",
       "70398    호암동\n",
       "70399    호암동\n",
       "70400    호암동\n",
       "Name: 동, Length: 1610485, dtype: object"
      ]
     },
     "execution_count": 12,
     "metadata": {},
     "output_type": "execute_result"
    }
   ],
   "source": [
    "apt171819['도'] = apt171819['시군구'].str.split(' ').str[0]\n",
    "apt2017['도'] = apt2017['시군구'].str.split(' ').str[0]\n",
    "apt2018['도'] = apt2018['시군구'].str.split(' ').str[0]\n",
    "apt2019['도'] = apt2019['시군구'].str.split(' ').str[0]\n",
    "apt171819['시/구'] = apt171819['시군구'].str.split(' ').str[1]\n",
    "apt2017['시/구'] = apt2017['시군구'].str.split(' ').str[1]\n",
    "apt2018['시/구'] = apt2018['시군구'].str.split(' ').str[1]\n",
    "apt2019['시/구'] = apt2019['시군구'].str.split(' ').str[1]\n",
    "apt171819['동'] = apt171819['시군구'].str.split(' ').str[2]\n",
    "apt2017['동'] = apt2017['시군구'].str.split(' ').str[2]\n",
    "apt2018['동'] = apt2018['시군구'].str.split(' ').str[2]\n",
    "apt2019['동'] = apt2019['시군구'].str.split(' ').str[2]\n",
    "apt171819['동']"
   ]
  },
  {
   "cell_type": "markdown",
   "metadata": {},
   "source": [
    "(3) 계약년월을 계약연도-계약월로 분리"
   ]
  },
  {
   "cell_type": "code",
   "execution_count": 13,
   "metadata": {},
   "outputs": [
    {
     "data": {
      "text/plain": [
       "0        01\n",
       "1        01\n",
       "2        01\n",
       "3        01\n",
       "4        01\n",
       "         ..\n",
       "70396    12\n",
       "70397    12\n",
       "70398    12\n",
       "70399    12\n",
       "70400    12\n",
       "Name: 계약월, Length: 1610485, dtype: object"
      ]
     },
     "execution_count": 13,
     "metadata": {},
     "output_type": "execute_result"
    }
   ],
   "source": [
    "apt171819['계약년월1'] = apt171819['계약년월'].astype(str)\n",
    "apt2017['계약년월1'] = apt2017['계약년월'].astype(str)\n",
    "apt2018['계약년월1'] = apt2018['계약년월'].astype(str)\n",
    "apt2019['계약년월1'] = apt2019['계약년월'].astype(str)\n",
    "apt171819['계약연도'] = apt171819['계약년월1'].str[0:4]\n",
    "apt2017['계약연도'] = apt2017['계약년월1'].str[0:4]\n",
    "apt2018['계약연도'] = apt2018['계약년월1'].str[0:4]\n",
    "apt2019['계약연도'] = apt2019['계약년월1'].str[0:4]\n",
    "apt171819['계약월'] = apt171819['계약년월1'].str[4:]\n",
    "apt2017['계약월'] = apt2017['계약년월1'].str[4:]\n",
    "apt2018['계약월'] = apt2018['계약년월1'].str[4:]\n",
    "apt2019['계약월'] = apt2019['계약년월1'].str[4:]\n",
    "apt171819['계약월']"
   ]
  },
  {
   "cell_type": "markdown",
   "metadata": {},
   "source": [
    "## 4. 데이터 시각화"
   ]
  },
  {
   "cell_type": "markdown",
   "metadata": {},
   "source": [
    "데이터 시각화에서는 다음과 같이 데이터를 시각화 해보았습니다.\n",
    "\n",
    "- 연도별 거래금액의 평균 / 연도별 거래량 많은 시,도\n",
    "- 월별 거래량 \n",
    "- 구별 거래량 / 평균 거래금액 / ㎡당 금액\n",
    "- 건축연도별 거래량 / 평균 거래금액 / ㎡당 금액\n",
    "- 층별 거래량 / 평균 거래금액\n",
    "- 전용면적별(평수별) 거래량"
   ]
  },
  {
   "cell_type": "markdown",
   "metadata": {},
   "source": [
    "- 수도권 / 비수도권 간 전반적 비교\n",
    "- 서울 / 경기 지역 간 비교\n",
    "- 건축연도 2000년 전후로 거래금액 비교"
   ]
  },
  {
   "cell_type": "markdown",
   "metadata": {},
   "source": [
    "### (1) 연도별 거래량 / 거래금액 평균 / 연도별 거래량 많은 시,도"
   ]
  },
  {
   "cell_type": "code",
   "execution_count": 14,
   "metadata": {},
   "outputs": [
    {
     "data": {
      "text/plain": [
       "31351.560281524187"
      ]
     },
     "execution_count": 14,
     "metadata": {},
     "output_type": "execute_result"
    }
   ],
   "source": [
    "apt2017[\"거래금액(만원)\"].mean() # 2017년 => 약 3억1천만원"
   ]
  },
  {
   "cell_type": "code",
   "execution_count": 15,
   "metadata": {},
   "outputs": [
    {
     "data": {
      "text/plain": [
       "570324"
      ]
     },
     "execution_count": 15,
     "metadata": {},
     "output_type": "execute_result"
    }
   ],
   "source": [
    "apt2017[\"거래금액(만원)\"].count() # 2017년 => 약 57만건"
   ]
  },
  {
   "cell_type": "code",
   "execution_count": 16,
   "metadata": {},
   "outputs": [
    {
     "data": {
      "text/plain": [
       "32423.816074368813"
      ]
     },
     "execution_count": 16,
     "metadata": {},
     "output_type": "execute_result"
    }
   ],
   "source": [
    "apt2018[\"거래금액(만원)\"].mean() # 2018년 => 약 3억2천만원"
   ]
  },
  {
   "cell_type": "code",
   "execution_count": 17,
   "metadata": {},
   "outputs": [
    {
     "data": {
      "text/plain": [
       "505911"
      ]
     },
     "execution_count": 17,
     "metadata": {},
     "output_type": "execute_result"
    }
   ],
   "source": [
    "apt2018[\"거래금액(만원)\"].count() # 2018년 => 약 50.5만건"
   ]
  },
  {
   "cell_type": "code",
   "execution_count": 18,
   "metadata": {},
   "outputs": [
    {
     "data": {
      "text/plain": [
       "34749.826863827795"
      ]
     },
     "execution_count": 18,
     "metadata": {},
     "output_type": "execute_result"
    }
   ],
   "source": [
    "apt2019[\"거래금액(만원)\"].mean() # 2019년 => 약 3억4천만원"
   ]
  },
  {
   "cell_type": "code",
   "execution_count": 19,
   "metadata": {},
   "outputs": [
    {
     "data": {
      "text/plain": [
       "534250"
      ]
     },
     "execution_count": 19,
     "metadata": {},
     "output_type": "execute_result"
    }
   ],
   "source": [
    "apt2019[\"거래금액(만원)\"].count() # 2019년 => 약 53만건"
   ]
  },
  {
   "cell_type": "code",
   "execution_count": 20,
   "metadata": {},
   "outputs": [
    {
     "data": {
      "image/png": "[encoded data removed]",
      "text/plain": [
       "<Figure size 432x288 with 1 Axes>"
      ]
     },
     "metadata": {
      "needs_background": "light"
     },
     "output_type": "display_data"
    }
   ],
   "source": [
    "sns.distplot(apt2017[\"거래금액(만원)\"], color=\"blue\", label=\"2017년\")\n",
    "sns.distplot(apt2018[\"거래금액(만원)\"], color=\"red\", label=\"2018년\")\n",
    "sns.distplot(apt2019[\"거래금액(만원)\"], color=\"green\", label=\"2019년\")\n",
    "\n",
    "plt.xlim(0,100000)\n",
    "plt.legend(title=\"년도\")\n",
    "plt.show()"
   ]
  },
  {
   "cell_type": "markdown",
   "metadata": {},
   "source": [
    "2017, 2018, 2019년도의 거래금액 분포 자체는 비슷함. 그런데 자세히 보면 2017, 2018년도에는 약 6억 정도까지의 금액으로 거래된 아파트들이 2019년보다 비교적 많음. 2019년은 2017, 2018년보다 높은 가격대에 거래된 아파트의 수가 많음."
   ]
  },
  {
   "cell_type": "markdown",
   "metadata": {},
   "source": [
    "시간이 지날수록 거래금액 평균이 조금씩 증가하며, 연간 50 ~ 60만건 정도 거래됨."
   ]
  },
  {
   "cell_type": "code",
   "execution_count": 21,
   "metadata": {},
   "outputs": [],
   "source": [
    "#시,도별 거래량 변수 생성\n",
    "apt2017['시도별거래량'] = apt2017.groupby(['도']).도.transform('count')\n",
    "apt2018['시도별거래량'] = apt2018.groupby(['도']).도.transform('count')\n",
    "apt2019['시도별거래량'] = apt2019.groupby(['도']).도.transform('count')"
   ]
  },
  {
   "cell_type": "code",
   "execution_count": 22,
   "metadata": {},
   "outputs": [
    {
     "data": {
      "image/png": "[encoded data removed]",
      "text/plain": [
       "<Figure size 432x288 with 1 Axes>"
      ]
     },
     "metadata": {
      "needs_background": "light"
     },
     "output_type": "display_data"
    }
   ],
   "source": [
    "#2017년 그래프 그리기\n",
    "sns.countplot(\"도\",data=apt2017)\n",
    "plt.title(\"2017년 시,도별 거래량\")\n",
    "plt.xticks(rotation = -90)\n",
    "plt.show()"
   ]
  },
  {
   "cell_type": "code",
   "execution_count": 23,
   "metadata": {},
   "outputs": [
    {
     "data": {
      "image/png": "[encoded data removed]",
      "text/plain": [
       "<Figure size 432x288 with 1 Axes>"
      ]
     },
     "metadata": {
      "needs_background": "light"
     },
     "output_type": "display_data"
    }
   ],
   "source": [
    "#2018년 그래프 그리기\n",
    "sns.countplot(x=\"도\", data=apt2018)\n",
    "plt.title(\"2018년 시,도별 거래량\")\n",
    "plt.xticks(rotation = -90)\n",
    "plt.show()"
   ]
  },
  {
   "cell_type": "code",
   "execution_count": 24,
   "metadata": {},
   "outputs": [
    {
     "data": {
      "image/png": "[encoded data removed]",
      "text/plain": [
       "<Figure size 432x288 with 1 Axes>"
      ]
     },
     "metadata": {
      "needs_background": "light"
     },
     "output_type": "display_data"
    }
   ],
   "source": [
    "#2019년 그래프 그리기\n",
    "sns.countplot(x=\"도\", data=apt2019)\n",
    "plt.title(\"2019년 시,도별 거래량\")\n",
    "plt.xticks(rotation = -90)\n",
    "plt.show()"
   ]
  },
  {
   "cell_type": "markdown",
   "metadata": {},
   "source": [
    "3개년 모두 경기도와서울특별시의 거래량이 가장 많았으며, 세종특별자치시와 제주특별자치도의 거래량이 가장 적었음."
   ]
  },
  {
   "cell_type": "markdown",
   "metadata": {},
   "source": [
    "### (2) 월별 거래량"
   ]
  },
  {
   "cell_type": "code",
   "execution_count": 25,
   "metadata": {},
   "outputs": [
    {
     "data": {
      "text/html": [
       "<div>\n",
       "<style scoped>\n",
       "    .dataframe tbody tr th:only-of-type {\n",
       "        vertical-align: middle;\n",
       "    }\n",
       "\n",
       "    .dataframe tbody tr th {\n",
       "        vertical-align: top;\n",
       "    }\n",
       "\n",
       "    .dataframe thead th {\n",
       "        text-align: right;\n",
       "    }\n",
       "</style>\n",
       "<table border=\"1\" class=\"dataframe\">\n",
       "  <thead>\n",
       "    <tr style=\"text-align: right;\">\n",
       "      <th></th>\n",
       "      <th>당월 계약수</th>\n",
       "    </tr>\n",
       "    <tr>\n",
       "      <th>계약월</th>\n",
       "      <th></th>\n",
       "    </tr>\n",
       "  </thead>\n",
       "  <tbody>\n",
       "    <tr>\n",
       "      <th>11</th>\n",
       "      <td>148971</td>\n",
       "    </tr>\n",
       "    <tr>\n",
       "      <th>10</th>\n",
       "      <td>148299</td>\n",
       "    </tr>\n",
       "    <tr>\n",
       "      <th>08</th>\n",
       "      <td>143473</td>\n",
       "    </tr>\n",
       "    <tr>\n",
       "      <th>07</th>\n",
       "      <td>143435</td>\n",
       "    </tr>\n",
       "    <tr>\n",
       "      <th>09</th>\n",
       "      <td>142119</td>\n",
       "    </tr>\n",
       "    <tr>\n",
       "      <th>03</th>\n",
       "      <td>139852</td>\n",
       "    </tr>\n",
       "    <tr>\n",
       "      <th>06</th>\n",
       "      <td>139782</td>\n",
       "    </tr>\n",
       "    <tr>\n",
       "      <th>12</th>\n",
       "      <td>137454</td>\n",
       "    </tr>\n",
       "    <tr>\n",
       "      <th>05</th>\n",
       "      <td>130748</td>\n",
       "    </tr>\n",
       "    <tr>\n",
       "      <th>04</th>\n",
       "      <td>115659</td>\n",
       "    </tr>\n",
       "    <tr>\n",
       "      <th>02</th>\n",
       "      <td>111487</td>\n",
       "    </tr>\n",
       "    <tr>\n",
       "      <th>01</th>\n",
       "      <td>109206</td>\n",
       "    </tr>\n",
       "  </tbody>\n",
       "</table>\n",
       "</div>"
      ],
      "text/plain": [
       "     당월 계약수\n",
       "계약월        \n",
       "11   148971\n",
       "10   148299\n",
       "08   143473\n",
       "07   143435\n",
       "09   142119\n",
       "03   139852\n",
       "06   139782\n",
       "12   137454\n",
       "05   130748\n",
       "04   115659\n",
       "02   111487\n",
       "01   109206"
      ]
     },
     "execution_count": 25,
     "metadata": {},
     "output_type": "execute_result"
    }
   ],
   "source": [
    "volume_by_month = apt171819.groupby('계약월').count()\n",
    "volume_by_month['당월 계약수'] = volume_by_month['거래금액(만원)']\n",
    "volume_by_month = volume_by_month.loc[:,['당월 계약수']]\n",
    "volume_by_month = volume_by_month.sort_values('당월 계약수', ascending=False)\n",
    "volume_by_month"
   ]
  },
  {
   "cell_type": "code",
   "execution_count": 26,
   "metadata": {},
   "outputs": [
    {
     "data": {
      "image/png": "[encoded data removed]",
      "text/plain": [
       "<Figure size 432x288 with 1 Axes>"
      ]
     },
     "metadata": {
      "needs_background": "light"
     },
     "output_type": "display_data"
    }
   ],
   "source": [
    "plt.title(\"월별 총계약수\")\n",
    "plt.barh(volume_by_month.index, volume_by_month['당월 계약수'], color='green')\n",
    "plt.show()"
   ]
  },
  {
   "cell_type": "code",
   "execution_count": 27,
   "metadata": {},
   "outputs": [
    {
     "data": {
      "text/plain": [
       "계약월\n",
       "06    62632\n",
       "07    61709\n",
       "05    58837\n",
       "03    51242\n",
       "04    47688\n",
       "09    47247\n",
       "08    45227\n",
       "11    43933\n",
       "02    41852\n",
       "12    40193\n",
       "10    39636\n",
       "01    30128\n",
       "Name: 계약년월, dtype: int64"
      ]
     },
     "execution_count": 27,
     "metadata": {},
     "output_type": "execute_result"
    }
   ],
   "source": [
    "apt2017.groupby(apt2017['계약월'])['계약년월'].count().sort_values(ascending=False)"
   ]
  },
  {
   "cell_type": "code",
   "execution_count": 28,
   "metadata": {},
   "outputs": [
    {
     "data": {
      "text/plain": [
       "계약월\n",
       "08    56304\n",
       "03    55215\n",
       "09    50857\n",
       "01    50677\n",
       "10    43986\n",
       "02    43503\n",
       "06    38781\n",
       "05    36816\n",
       "07    36513\n",
       "04    35665\n",
       "11    30734\n",
       "12    26860\n",
       "Name: 계약년월, dtype: int64"
      ]
     },
     "execution_count": 28,
     "metadata": {},
     "output_type": "execute_result"
    }
   ],
   "source": [
    "apt2018.groupby(apt2018['계약월'])['계약년월'].count().sort_values(ascending=False)"
   ]
  },
  {
   "cell_type": "code",
   "execution_count": 29,
   "metadata": {},
   "outputs": [
    {
     "data": {
      "text/plain": [
       "계약월\n",
       "11    74304\n",
       "12    70401\n",
       "10    64677\n",
       "07    45213\n",
       "09    44015\n",
       "08    41942\n",
       "06    38369\n",
       "05    35095\n",
       "03    33395\n",
       "04    32306\n",
       "01    28401\n",
       "02    26132\n",
       "Name: 계약년월, dtype: int64"
      ]
     },
     "execution_count": 29,
     "metadata": {},
     "output_type": "execute_result"
    }
   ],
   "source": [
    "apt2019.groupby(apt2019['계약월'])['계약년월'].count().sort_values(ascending=False)"
   ]
  },
  {
   "cell_type": "markdown",
   "metadata": {},
   "source": [
    "11, 10, 8, 7월의 거래량이 가장 많으나, 연도별로 순서가 다른 것으로 보아 계약 월이 거래량에 큰 영향을 미치는 것은 아닌 것으로 보임. "
   ]
  },
  {
   "cell_type": "markdown",
   "metadata": {},
   "source": [
    "### (3) 구별 거래량 / 평균 거래금액 / ㎡당 금액"
   ]
  },
  {
   "cell_type": "code",
   "execution_count": 30,
   "metadata": {},
   "outputs": [
    {
     "data": {
      "text/plain": [
       "시/구\n",
       "서구     63027\n",
       "북구     55463\n",
       "동구     31474\n",
       "남구     31414\n",
       "부천시    27047\n",
       "       ...  \n",
       "영양군       36\n",
       "소정면       23\n",
       "전동면       15\n",
       "울릉군        9\n",
       "신안군        1\n",
       "Name: 거래금액(만원), Length: 248, dtype: int64"
      ]
     },
     "execution_count": 30,
     "metadata": {},
     "output_type": "execute_result"
    }
   ],
   "source": [
    "volume_by_sigu = apt171819.groupby(['시/구'])['거래금액(만원)'].count().sort_values(ascending=False)\n",
    "volume_by_sigu "
   ]
  },
  {
   "cell_type": "markdown",
   "metadata": {},
   "source": [
    "전국 각도에 동서남북구가 있기 때문에 거래량은 많으나 구분할 수 없음"
   ]
  },
  {
   "cell_type": "code",
   "execution_count": 31,
   "metadata": {},
   "outputs": [
    {
     "data": {
      "text/html": [
       "<div>\n",
       "<style scoped>\n",
       "    .dataframe tbody tr th:only-of-type {\n",
       "        vertical-align: middle;\n",
       "    }\n",
       "\n",
       "    .dataframe tbody tr th {\n",
       "        vertical-align: top;\n",
       "    }\n",
       "\n",
       "    .dataframe thead th {\n",
       "        text-align: right;\n",
       "    }\n",
       "</style>\n",
       "<table border=\"1\" class=\"dataframe\">\n",
       "  <thead>\n",
       "    <tr style=\"text-align: right;\">\n",
       "      <th></th>\n",
       "      <th>구별 평균거래가</th>\n",
       "    </tr>\n",
       "    <tr>\n",
       "      <th>시/구</th>\n",
       "      <th></th>\n",
       "    </tr>\n",
       "  </thead>\n",
       "  <tbody>\n",
       "    <tr>\n",
       "      <th>강남구</th>\n",
       "      <td>149015.261770</td>\n",
       "    </tr>\n",
       "    <tr>\n",
       "      <th>서초구</th>\n",
       "      <td>140132.769003</td>\n",
       "    </tr>\n",
       "    <tr>\n",
       "      <th>용산구</th>\n",
       "      <td>127033.021816</td>\n",
       "    </tr>\n",
       "    <tr>\n",
       "      <th>송파구</th>\n",
       "      <td>99544.650690</td>\n",
       "    </tr>\n",
       "    <tr>\n",
       "      <th>과천시</th>\n",
       "      <td>97342.745044</td>\n",
       "    </tr>\n",
       "    <tr>\n",
       "      <th>성동구</th>\n",
       "      <td>80254.320578</td>\n",
       "    </tr>\n",
       "    <tr>\n",
       "      <th>광진구</th>\n",
       "      <td>78193.929780</td>\n",
       "    </tr>\n",
       "    <tr>\n",
       "      <th>마포구</th>\n",
       "      <td>77013.779386</td>\n",
       "    </tr>\n",
       "    <tr>\n",
       "      <th>성남분당구</th>\n",
       "      <td>74552.339188</td>\n",
       "    </tr>\n",
       "    <tr>\n",
       "      <th>동작구</th>\n",
       "      <td>71100.504862</td>\n",
       "    </tr>\n",
       "  </tbody>\n",
       "</table>\n",
       "</div>"
      ],
      "text/plain": [
       "            구별 평균거래가\n",
       "시/구                 \n",
       "강남구    149015.261770\n",
       "서초구    140132.769003\n",
       "용산구    127033.021816\n",
       "송파구     99544.650690\n",
       "과천시     97342.745044\n",
       "성동구     80254.320578\n",
       "광진구     78193.929780\n",
       "마포구     77013.779386\n",
       "성남분당구   74552.339188\n",
       "동작구     71100.504862"
      ]
     },
     "execution_count": 31,
     "metadata": {},
     "output_type": "execute_result"
    }
   ],
   "source": [
    "mean_price_by_gu = apt171819.groupby('시/구').mean()\n",
    "mean_price_by_gu['구별 평균거래가'] = mean_price_by_gu['거래금액(만원)']\n",
    "mean_price_by_gu = mean_price_by_gu.loc[:,['구별 평균거래가']]\n",
    "mean_price_by_gu = mean_price_by_gu.sort_values('구별 평균거래가', ascending=False)\n",
    "\n",
    "# top 10\n",
    "mean_price_by_gu_top10 = mean_price_by_gu.iloc[:10]\n",
    "mean_price_by_gu_top10"
   ]
  },
  {
   "cell_type": "markdown",
   "metadata": {},
   "source": [
    "강남구 14억 9천만원, 서초구 14억, 용산구 12억 7천만원 등 (집 크기 고려 안했을때)"
   ]
  },
  {
   "cell_type": "code",
   "execution_count": 32,
   "metadata": {},
   "outputs": [
    {
     "data": {
      "text/html": [
       "<div>\n",
       "<style scoped>\n",
       "    .dataframe tbody tr th:only-of-type {\n",
       "        vertical-align: middle;\n",
       "    }\n",
       "\n",
       "    .dataframe tbody tr th {\n",
       "        vertical-align: top;\n",
       "    }\n",
       "\n",
       "    .dataframe thead th {\n",
       "        text-align: right;\n",
       "    }\n",
       "</style>\n",
       "<table border=\"1\" class=\"dataframe\">\n",
       "  <thead>\n",
       "    <tr style=\"text-align: right;\">\n",
       "      <th></th>\n",
       "      <th>전용면적(㎡)당 평균거래가</th>\n",
       "    </tr>\n",
       "    <tr>\n",
       "      <th>시/구</th>\n",
       "      <th></th>\n",
       "    </tr>\n",
       "  </thead>\n",
       "  <tbody>\n",
       "    <tr>\n",
       "      <th>강남구</th>\n",
       "      <td>1697.554869</td>\n",
       "    </tr>\n",
       "    <tr>\n",
       "      <th>서초구</th>\n",
       "      <td>1441.527451</td>\n",
       "    </tr>\n",
       "    <tr>\n",
       "      <th>과천시</th>\n",
       "      <td>1298.422019</td>\n",
       "    </tr>\n",
       "    <tr>\n",
       "      <th>송파구</th>\n",
       "      <td>1201.463354</td>\n",
       "    </tr>\n",
       "    <tr>\n",
       "      <th>용산구</th>\n",
       "      <td>1187.955672</td>\n",
       "    </tr>\n",
       "    <tr>\n",
       "      <th>성동구</th>\n",
       "      <td>1017.322081</td>\n",
       "    </tr>\n",
       "    <tr>\n",
       "      <th>마포구</th>\n",
       "      <td>995.025356</td>\n",
       "    </tr>\n",
       "    <tr>\n",
       "      <th>광진구</th>\n",
       "      <td>928.191924</td>\n",
       "    </tr>\n",
       "    <tr>\n",
       "      <th>동작구</th>\n",
       "      <td>874.165253</td>\n",
       "    </tr>\n",
       "    <tr>\n",
       "      <th>양천구</th>\n",
       "      <td>868.139449</td>\n",
       "    </tr>\n",
       "  </tbody>\n",
       "</table>\n",
       "</div>"
      ],
      "text/plain": [
       "     전용면적(㎡)당 평균거래가\n",
       "시/구                \n",
       "강남구     1697.554869\n",
       "서초구     1441.527451\n",
       "과천시     1298.422019\n",
       "송파구     1201.463354\n",
       "용산구     1187.955672\n",
       "성동구     1017.322081\n",
       "마포구      995.025356\n",
       "광진구      928.191924\n",
       "동작구      874.165253\n",
       "양천구      868.139449"
      ]
     },
     "execution_count": 32,
     "metadata": {},
     "output_type": "execute_result"
    }
   ],
   "source": [
    "apt171819[\"면적당거래금액\"] = apt171819[\"거래금액(만원)\"] / apt171819[\"전용면적(㎡)\"]\n",
    "\n",
    "mean_price_per_square = apt171819.groupby('시/구').mean()\n",
    "mean_price_per_square['전용면적(㎡)당 평균거래가'] = mean_price_per_square['면적당거래금액']\n",
    "mean_price_per_square = mean_price_per_square.loc[:,['전용면적(㎡)당 평균거래가']]\n",
    "mean_price_per_square = mean_price_per_square.sort_values('전용면적(㎡)당 평균거래가', ascending=False)\n",
    "\n",
    "# top 10\n",
    "mean_price_per_square_top10 = mean_price_per_square.iloc[:10]\n",
    "mean_price_per_square_top10"
   ]
  },
  {
   "cell_type": "markdown",
   "metadata": {},
   "source": [
    "㎡당 가격 강남구 1700만원, 서초구 1440만원, 과천시 1300만원. 평당 가격 계산하려면 ㎡당 가격에 3.3 곱해야함"
   ]
  },
  {
   "cell_type": "markdown",
   "metadata": {},
   "source": [
    "### (4) 건축연도별 거래량 / 평균 거래금액 / ㎡당 금액"
   ]
  },
  {
   "cell_type": "code",
   "execution_count": 33,
   "metadata": {},
   "outputs": [
    {
     "data": {
      "text/html": [
       "<div>\n",
       "<style scoped>\n",
       "    .dataframe tbody tr th:only-of-type {\n",
       "        vertical-align: middle;\n",
       "    }\n",
       "\n",
       "    .dataframe tbody tr th {\n",
       "        vertical-align: top;\n",
       "    }\n",
       "\n",
       "    .dataframe thead th {\n",
       "        text-align: right;\n",
       "    }\n",
       "</style>\n",
       "<table border=\"1\" class=\"dataframe\">\n",
       "  <thead>\n",
       "    <tr style=\"text-align: right;\">\n",
       "      <th></th>\n",
       "      <th>건축년도별 거래량</th>\n",
       "    </tr>\n",
       "    <tr>\n",
       "      <th>건축년도</th>\n",
       "      <th></th>\n",
       "    </tr>\n",
       "  </thead>\n",
       "  <tbody>\n",
       "    <tr>\n",
       "      <th>1997</th>\n",
       "      <td>67577</td>\n",
       "    </tr>\n",
       "    <tr>\n",
       "      <th>1994</th>\n",
       "      <td>66400</td>\n",
       "    </tr>\n",
       "    <tr>\n",
       "      <th>2004</th>\n",
       "      <td>62747</td>\n",
       "    </tr>\n",
       "    <tr>\n",
       "      <th>1998</th>\n",
       "      <td>61996</td>\n",
       "    </tr>\n",
       "    <tr>\n",
       "      <th>1995</th>\n",
       "      <td>61578</td>\n",
       "    </tr>\n",
       "    <tr>\n",
       "      <th>1996</th>\n",
       "      <td>59549</td>\n",
       "    </tr>\n",
       "    <tr>\n",
       "      <th>1999</th>\n",
       "      <td>58698</td>\n",
       "    </tr>\n",
       "    <tr>\n",
       "      <th>2000</th>\n",
       "      <td>56919</td>\n",
       "    </tr>\n",
       "    <tr>\n",
       "      <th>2003</th>\n",
       "      <td>56874</td>\n",
       "    </tr>\n",
       "    <tr>\n",
       "      <th>1993</th>\n",
       "      <td>56723</td>\n",
       "    </tr>\n",
       "  </tbody>\n",
       "</table>\n",
       "</div>"
      ],
      "text/plain": [
       "      건축년도별 거래량\n",
       "건축년도           \n",
       "1997      67577\n",
       "1994      66400\n",
       "2004      62747\n",
       "1998      61996\n",
       "1995      61578\n",
       "1996      59549\n",
       "1999      58698\n",
       "2000      56919\n",
       "2003      56874\n",
       "1993      56723"
      ]
     },
     "execution_count": 33,
     "metadata": {},
     "output_type": "execute_result"
    }
   ],
   "source": [
    "volume_by_cnstr_year = apt171819.groupby('건축년도').count()\n",
    "volume_by_cnstr_year['건축년도별 거래량'] = volume_by_cnstr_year['거래금액(만원)']\n",
    "volume_by_cnstr_year = volume_by_cnstr_year.loc[:,['건축년도별 거래량']]\n",
    "volume_by_cnstr_year = volume_by_cnstr_year.sort_values('건축년도별 거래량', ascending=False)\n",
    "\n",
    "# top 10\n",
    "volume_by_cnstr_year_top10 = volume_by_cnstr_year.iloc[:10]\n",
    "volume_by_cnstr_year_top10"
   ]
  },
  {
   "cell_type": "code",
   "execution_count": 34,
   "metadata": {},
   "outputs": [
    {
     "data": {
      "text/html": [
       "<div>\n",
       "<style scoped>\n",
       "    .dataframe tbody tr th:only-of-type {\n",
       "        vertical-align: middle;\n",
       "    }\n",
       "\n",
       "    .dataframe tbody tr th {\n",
       "        vertical-align: top;\n",
       "    }\n",
       "\n",
       "    .dataframe thead th {\n",
       "        text-align: right;\n",
       "    }\n",
       "</style>\n",
       "<table border=\"1\" class=\"dataframe\">\n",
       "  <thead>\n",
       "    <tr style=\"text-align: right;\">\n",
       "      <th></th>\n",
       "      <th>건축년도별 ㎡당 금액</th>\n",
       "    </tr>\n",
       "    <tr>\n",
       "      <th>건축년도</th>\n",
       "      <th></th>\n",
       "    </tr>\n",
       "  </thead>\n",
       "  <tbody>\n",
       "    <tr>\n",
       "      <th>1973</th>\n",
       "      <td>1915.087821</td>\n",
       "    </tr>\n",
       "    <tr>\n",
       "      <th>1966</th>\n",
       "      <td>985.894097</td>\n",
       "    </tr>\n",
       "    <tr>\n",
       "      <th>1965</th>\n",
       "      <td>968.654767</td>\n",
       "    </tr>\n",
       "    <tr>\n",
       "      <th>2020</th>\n",
       "      <td>932.221168</td>\n",
       "    </tr>\n",
       "    <tr>\n",
       "      <th>1977</th>\n",
       "      <td>887.774085</td>\n",
       "    </tr>\n",
       "    <tr>\n",
       "      <th>1982</th>\n",
       "      <td>878.285019</td>\n",
       "    </tr>\n",
       "    <tr>\n",
       "      <th>1974</th>\n",
       "      <td>843.278909</td>\n",
       "    </tr>\n",
       "    <tr>\n",
       "      <th>1978</th>\n",
       "      <td>842.108022</td>\n",
       "    </tr>\n",
       "    <tr>\n",
       "      <th>1971</th>\n",
       "      <td>830.088547</td>\n",
       "    </tr>\n",
       "    <tr>\n",
       "      <th>1970</th>\n",
       "      <td>760.568877</td>\n",
       "    </tr>\n",
       "  </tbody>\n",
       "</table>\n",
       "</div>"
      ],
      "text/plain": [
       "      건축년도별 ㎡당 금액\n",
       "건축년도             \n",
       "1973  1915.087821\n",
       "1966   985.894097\n",
       "1965   968.654767\n",
       "2020   932.221168\n",
       "1977   887.774085\n",
       "1982   878.285019\n",
       "1974   843.278909\n",
       "1978   842.108022\n",
       "1971   830.088547\n",
       "1970   760.568877"
      ]
     },
     "execution_count": 34,
     "metadata": {},
     "output_type": "execute_result"
    }
   ],
   "source": [
    "mean_price_per_square_cnstr_year = apt171819.groupby('건축년도').mean()\n",
    "mean_price_per_square_cnstr_year['건축년도별 ㎡당 금액'] = mean_price_per_square_cnstr_year['면적당거래금액']\n",
    "mean_price_per_square_cnstr_year = mean_price_per_square_cnstr_year.loc[:,['건축년도별 ㎡당 금액']]\n",
    "mean_price_per_square_cnstr_year = mean_price_per_square_cnstr_year.sort_values('건축년도별 ㎡당 금액', ascending=False)\n",
    "\n",
    "# top 10\n",
    "mean_price_per_square_cnstr_year_top10 = mean_price_per_square_cnstr_year.iloc[:10]\n",
    "mean_price_per_square_cnstr_year_top10"
   ]
  },
  {
   "cell_type": "code",
   "execution_count": 35,
   "metadata": {},
   "outputs": [
    {
     "data": {
      "text/html": [
       "<div>\n",
       "<style scoped>\n",
       "    .dataframe tbody tr th:only-of-type {\n",
       "        vertical-align: middle;\n",
       "    }\n",
       "\n",
       "    .dataframe tbody tr th {\n",
       "        vertical-align: top;\n",
       "    }\n",
       "\n",
       "    .dataframe thead th {\n",
       "        text-align: right;\n",
       "    }\n",
       "</style>\n",
       "<table border=\"1\" class=\"dataframe\">\n",
       "  <thead>\n",
       "    <tr style=\"text-align: right;\">\n",
       "      <th></th>\n",
       "      <th>건축년도별 거래가격 평균</th>\n",
       "    </tr>\n",
       "    <tr>\n",
       "      <th>건축년도</th>\n",
       "      <th></th>\n",
       "    </tr>\n",
       "  </thead>\n",
       "  <tbody>\n",
       "    <tr>\n",
       "      <th>1973</th>\n",
       "      <td>219004.012048</td>\n",
       "    </tr>\n",
       "    <tr>\n",
       "      <th>1978</th>\n",
       "      <td>77464.982501</td>\n",
       "    </tr>\n",
       "    <tr>\n",
       "      <th>1976</th>\n",
       "      <td>76372.339638</td>\n",
       "    </tr>\n",
       "    <tr>\n",
       "      <th>1971</th>\n",
       "      <td>74474.652997</td>\n",
       "    </tr>\n",
       "    <tr>\n",
       "      <th>1974</th>\n",
       "      <td>69250.007092</td>\n",
       "    </tr>\n",
       "    <tr>\n",
       "      <th>1977</th>\n",
       "      <td>65545.783113</td>\n",
       "    </tr>\n",
       "    <tr>\n",
       "      <th>1979</th>\n",
       "      <td>59048.420227</td>\n",
       "    </tr>\n",
       "    <tr>\n",
       "      <th>1975</th>\n",
       "      <td>58195.606982</td>\n",
       "    </tr>\n",
       "    <tr>\n",
       "      <th>1982</th>\n",
       "      <td>51282.298896</td>\n",
       "    </tr>\n",
       "    <tr>\n",
       "      <th>1970</th>\n",
       "      <td>48535.199074</td>\n",
       "    </tr>\n",
       "  </tbody>\n",
       "</table>\n",
       "</div>"
      ],
      "text/plain": [
       "      건축년도별 거래가격 평균\n",
       "건축년도               \n",
       "1973  219004.012048\n",
       "1978   77464.982501\n",
       "1976   76372.339638\n",
       "1971   74474.652997\n",
       "1974   69250.007092\n",
       "1977   65545.783113\n",
       "1979   59048.420227\n",
       "1975   58195.606982\n",
       "1982   51282.298896\n",
       "1970   48535.199074"
      ]
     },
     "execution_count": 35,
     "metadata": {},
     "output_type": "execute_result"
    }
   ],
   "source": [
    "mean_price_per_cnstr_year = apt171819.groupby('건축년도').mean()\n",
    "mean_price_per_cnstr_year['건축년도별 거래가격 평균'] = mean_price_per_cnstr_year['거래금액(만원)']\n",
    "mean_price_per_cnstr_year = mean_price_per_cnstr_year.loc[:,['건축년도별 거래가격 평균']]\n",
    "mean_price_per_cnstr_year = mean_price_per_cnstr_year.sort_values('건축년도별 거래가격 평균', ascending=False)\n",
    "\n",
    "# top 10\n",
    "mean_price_per_cnstr_year_top10 = mean_price_per_cnstr_year.iloc[:10]\n",
    "mean_price_per_cnstr_year_top10"
   ]
  },
  {
   "cell_type": "markdown",
   "metadata": {},
   "source": [
    "#### 건축년도 2000년 전후 비교"
   ]
  },
  {
   "cell_type": "code",
   "execution_count": 36,
   "metadata": {},
   "outputs": [
    {
     "data": {
      "text/html": [
       "<div>\n",
       "<style scoped>\n",
       "    .dataframe tbody tr th:only-of-type {\n",
       "        vertical-align: middle;\n",
       "    }\n",
       "\n",
       "    .dataframe tbody tr th {\n",
       "        vertical-align: top;\n",
       "    }\n",
       "\n",
       "    .dataframe thead th {\n",
       "        text-align: right;\n",
       "    }\n",
       "</style>\n",
       "<table border=\"1\" class=\"dataframe\">\n",
       "  <thead>\n",
       "    <tr style=\"text-align: right;\">\n",
       "      <th></th>\n",
       "      <th>평균 가격</th>\n",
       "    </tr>\n",
       "    <tr>\n",
       "      <th>건축연도</th>\n",
       "      <th></th>\n",
       "    </tr>\n",
       "  </thead>\n",
       "  <tbody>\n",
       "    <tr>\n",
       "      <th>2000년 이전 건축</th>\n",
       "      <td>26935.610612</td>\n",
       "    </tr>\n",
       "    <tr>\n",
       "      <th>2000년 이후 건축</th>\n",
       "      <td>37584.821324</td>\n",
       "    </tr>\n",
       "  </tbody>\n",
       "</table>\n",
       "</div>"
      ],
      "text/plain": [
       "                    평균 가격\n",
       "건축연도                     \n",
       "2000년 이전 건축  26935.610612\n",
       "2000년 이후 건축  37584.821324"
      ]
     },
     "execution_count": 36,
     "metadata": {},
     "output_type": "execute_result"
    }
   ],
   "source": [
    "apt171819['건축연도']=0\n",
    "apt171819.loc[(apt171819['건축년도'] < 2000), '건축연도'] = '2000년 이전 건축'\n",
    "apt171819.loc[(apt171819['건축년도'] >= 2000), '건축연도'] = '2000년 이후 건축'\n",
    "\n",
    "meanprice_2000_contrast = apt171819.groupby('건축연도').mean()\n",
    "meanprice_2000_contrast['평균 가격'] = meanprice_2000_contrast['거래금액(만원)']\n",
    "meanprice_2000_contrast = meanprice_2000_contrast.loc[:,['평균 가격']]\n",
    "meanprice_2000_contrast"
   ]
  },
  {
   "cell_type": "code",
   "execution_count": 37,
   "metadata": {},
   "outputs": [
    {
     "data": {
      "text/plain": [
       "<function matplotlib.pyplot.show(*args, **kw)>"
      ]
     },
     "execution_count": 37,
     "metadata": {},
     "output_type": "execute_result"
    },
    {
     "data": {
      "image/png": "[encoded data removed]",
      "text/plain": [
       "<Figure size 432x288 with 1 Axes>"
      ]
     },
     "metadata": {
      "needs_background": "light"
     },
     "output_type": "display_data"
    }
   ],
   "source": [
    "# 2000년 전후 건축된 아파트들의 거래금액 비교\n",
    "sns.barplot(x=\"건축연도\", y=\"거래금액(만원)\", data=apt171819)\n",
    "plt.title(\"2000년 전후 건축된 아파트들의 거래금액 비교\")\n",
    "plt.xlabel('건축연도')\n",
    "plt.ylabel('거래금액(만원)')\n",
    "plt.show"
   ]
  },
  {
   "cell_type": "markdown",
   "metadata": {},
   "source": [
    "### (5) 층별 거래량 / 평균 거래금액"
   ]
  },
  {
   "cell_type": "code",
   "execution_count": 38,
   "metadata": {},
   "outputs": [
    {
     "data": {
      "text/html": [
       "<div>\n",
       "<style scoped>\n",
       "    .dataframe tbody tr th:only-of-type {\n",
       "        vertical-align: middle;\n",
       "    }\n",
       "\n",
       "    .dataframe tbody tr th {\n",
       "        vertical-align: top;\n",
       "    }\n",
       "\n",
       "    .dataframe thead th {\n",
       "        text-align: right;\n",
       "    }\n",
       "</style>\n",
       "<table border=\"1\" class=\"dataframe\">\n",
       "  <thead>\n",
       "    <tr style=\"text-align: right;\">\n",
       "      <th></th>\n",
       "      <th>층별거래량</th>\n",
       "    </tr>\n",
       "    <tr>\n",
       "      <th>층</th>\n",
       "      <th></th>\n",
       "    </tr>\n",
       "  </thead>\n",
       "  <tbody>\n",
       "    <tr>\n",
       "      <th>5</th>\n",
       "      <td>117730</td>\n",
       "    </tr>\n",
       "    <tr>\n",
       "      <th>4</th>\n",
       "      <td>116449</td>\n",
       "    </tr>\n",
       "    <tr>\n",
       "      <th>3</th>\n",
       "      <td>114232</td>\n",
       "    </tr>\n",
       "    <tr>\n",
       "      <th>2</th>\n",
       "      <td>108988</td>\n",
       "    </tr>\n",
       "    <tr>\n",
       "      <th>1</th>\n",
       "      <td>97946</td>\n",
       "    </tr>\n",
       "    <tr>\n",
       "      <th>6</th>\n",
       "      <td>96017</td>\n",
       "    </tr>\n",
       "    <tr>\n",
       "      <th>7</th>\n",
       "      <td>91673</td>\n",
       "    </tr>\n",
       "    <tr>\n",
       "      <th>8</th>\n",
       "      <td>90466</td>\n",
       "    </tr>\n",
       "    <tr>\n",
       "      <th>9</th>\n",
       "      <td>88826</td>\n",
       "    </tr>\n",
       "    <tr>\n",
       "      <th>10</th>\n",
       "      <td>87031</td>\n",
       "    </tr>\n",
       "  </tbody>\n",
       "</table>\n",
       "</div>"
      ],
      "text/plain": [
       "     층별거래량\n",
       "층         \n",
       "5   117730\n",
       "4   116449\n",
       "3   114232\n",
       "2   108988\n",
       "1    97946\n",
       "6    96017\n",
       "7    91673\n",
       "8    90466\n",
       "9    88826\n",
       "10   87031"
      ]
     },
     "execution_count": 38,
     "metadata": {},
     "output_type": "execute_result"
    }
   ],
   "source": [
    "volume_by_floor = apt171819.groupby('층').count()\n",
    "volume_by_floor['층별거래량'] = volume_by_floor['시군구']\n",
    "volume_by_floor = volume_by_floor.loc[:,['층별거래량']]\n",
    "volume_by_floor = volume_by_floor.sort_values('층별거래량', ascending=False)\n",
    "\n",
    "# top 10\n",
    "volume_by_floor_top10 = volume_by_floor.iloc[:10]\n",
    "volume_by_floor_top10"
   ]
  },
  {
   "cell_type": "code",
   "execution_count": 39,
   "metadata": {},
   "outputs": [],
   "source": [
    "## 5층 단위로 그룹화\n",
    "\n",
    "# 2017 새로운 열을 추가함\n",
    "apt2017['floor_group'] = apt2017['층']\n",
    "\n",
    "# floor_group은 문자열로 바꿔주기\n",
    "apt2017['floor_group'] = apt2017['floor_group'].astype(str)\n",
    "\n",
    "apt2017.loc[apt2017['층'] <= 0, 'floor_group'] = \"지하\"\n",
    "apt2017.loc[(apt2017['층'] > 0) & (apt2017['층'] <= 5), 'floor_group'] = \"1~5층\"\n",
    "apt2017.loc[(apt2017['층'] > 5) & (apt2017['층'] <= 10), 'floor_group'] = \"6~10층\"\n",
    "apt2017.loc[(apt2017['층'] > 10) & (apt2017['층'] <= 15), 'floor_group'] = \"11~15층\"\n",
    "apt2017.loc[(apt2017['층'] > 15) & (apt2017['층'] <= 20), 'floor_group'] = \"16~20층\"\n",
    "apt2017.loc[(apt2017['층'] > 20) & (apt2017['층'] <= 25), 'floor_group'] = \"21~25층\"\n",
    "apt2017.loc[(apt2017['층'] > 25) & (apt2017['층'] <= 30), 'floor_group'] = \"26~30층\"\n",
    "apt2017.loc[apt2017['층'] > 30, 'floor_group'] = \"31층 이상\"\n",
    "\n",
    "# 2018 새로운 열을 추가함\n",
    "apt2018['floor_group'] = apt2018['층']\n",
    "\n",
    "# floor_group은 문자열로 바꿔주기\n",
    "apt2018['floor_group'] = apt2018['floor_group'].astype(str)\n",
    "\n",
    "apt2018.loc[apt2018['층'] <= 0, 'floor_group'] = \"지하\"\n",
    "apt2018.loc[(apt2018['층'] > 0) & (apt2018['층'] <= 5), 'floor_group'] = \"1~5층\"\n",
    "apt2018.loc[(apt2018['층'] > 5) & (apt2018['층'] <= 10), 'floor_group'] = \"6~10층\"\n",
    "apt2018.loc[(apt2018['층'] > 10) & (apt2018['층'] <= 15), 'floor_group'] = \"11~15층\"\n",
    "apt2018.loc[(apt2018['층'] > 15) & (apt2018['층'] <= 20), 'floor_group'] = \"16~20층\"\n",
    "apt2018.loc[(apt2018['층'] > 20) & (apt2018['층'] <= 25), 'floor_group'] = \"21~25층\"\n",
    "apt2018.loc[(apt2018['층'] > 25) & (apt2018['층'] <= 30), 'floor_group'] = \"26~30층\"\n",
    "apt2018.loc[apt2018['층'] > 30, 'floor_group'] = \"31층 이상\"\n",
    "\n",
    "# 2019 새로운 열을 추가함\n",
    "apt2019['floor_group'] = apt2019['층']\n",
    "\n",
    "# floor_group은 문자열로 바꿔주기\n",
    "apt2019['floor_group'] = apt2019['floor_group'].astype(str)\n",
    "\n",
    "apt2019.loc[apt2019['층'] <= 0, 'floor_group'] = \"지하\"\n",
    "apt2019.loc[(apt2019['층'] > 0) & (apt2019['층'] <= 5), 'floor_group'] = \"1~5층\"\n",
    "apt2019.loc[(apt2019['층'] > 5) & (apt2019['층'] <= 10), 'floor_group'] = \"6~10층\"\n",
    "apt2019.loc[(apt2019['층'] > 10) & (apt2019['층'] <= 15), 'floor_group'] = \"11~15층\"\n",
    "apt2019.loc[(apt2019['층'] > 15) & (apt2019['층'] <= 20), 'floor_group'] = \"16~20층\"\n",
    "apt2019.loc[(apt2019['층'] > 20) & (apt2019['층'] <= 25), 'floor_group'] = \"21~25층\"\n",
    "apt2019.loc[(apt2019['층'] > 25) & (apt2019['층'] <= 30), 'floor_group'] = \"26~30층\"\n",
    "apt2019.loc[apt2019['층'] > 30, 'floor_group'] = \"31층 이상\""
   ]
  },
  {
   "cell_type": "code",
   "execution_count": 40,
   "metadata": {},
   "outputs": [
    {
     "data": {
      "image/png": "[encoded data removed]",
      "text/plain": [
       "<Figure size 432x288 with 1 Axes>"
      ]
     },
     "metadata": {
      "needs_background": "light"
     },
     "output_type": "display_data"
    }
   ],
   "source": [
    "plt.title('2017 층별 거래량')\n",
    "sns.countplot(y='floor_group', data=apt2017, order=apt2017['floor_group'].value_counts().index)\n",
    "plt.show()"
   ]
  },
  {
   "cell_type": "code",
   "execution_count": 41,
   "metadata": {},
   "outputs": [
    {
     "data": {
      "image/png": "[encoded data removed]",
      "text/plain": [
       "<Figure size 432x288 with 1 Axes>"
      ]
     },
     "metadata": {
      "needs_background": "light"
     },
     "output_type": "display_data"
    }
   ],
   "source": [
    "plt.title('2018 층별 거래량')\n",
    "sns.countplot(y='floor_group', data=apt2018, order=apt2018['floor_group'].value_counts().index)\n",
    "plt.show()"
   ]
  },
  {
   "cell_type": "code",
   "execution_count": 42,
   "metadata": {},
   "outputs": [
    {
     "data": {
      "image/png": "[encoded data removed]",
      "text/plain": [
       "<Figure size 432x288 with 1 Axes>"
      ]
     },
     "metadata": {
      "needs_background": "light"
     },
     "output_type": "display_data"
    }
   ],
   "source": [
    "plt.title('2019 층별 거래량')\n",
    "sns.countplot(y='floor_group', data=apt2019, order=apt2019['floor_group'].value_counts().index)\n",
    "plt.show()"
   ]
  },
  {
   "cell_type": "code",
   "execution_count": 43,
   "metadata": {},
   "outputs": [
    {
     "data": {
      "text/html": [
       "<div>\n",
       "<style scoped>\n",
       "    .dataframe tbody tr th:only-of-type {\n",
       "        vertical-align: middle;\n",
       "    }\n",
       "\n",
       "    .dataframe tbody tr th {\n",
       "        vertical-align: top;\n",
       "    }\n",
       "\n",
       "    .dataframe thead th {\n",
       "        text-align: right;\n",
       "    }\n",
       "</style>\n",
       "<table border=\"1\" class=\"dataframe\">\n",
       "  <thead>\n",
       "    <tr style=\"text-align: right;\">\n",
       "      <th></th>\n",
       "      <th>거래금액(만원)</th>\n",
       "    </tr>\n",
       "    <tr>\n",
       "      <th>floor_group</th>\n",
       "      <th></th>\n",
       "    </tr>\n",
       "  </thead>\n",
       "  <tbody>\n",
       "    <tr>\n",
       "      <th>31층 이상</th>\n",
       "      <td>78134.606664</td>\n",
       "    </tr>\n",
       "    <tr>\n",
       "      <th>지하</th>\n",
       "      <td>64619.230769</td>\n",
       "    </tr>\n",
       "    <tr>\n",
       "      <th>26~30층</th>\n",
       "      <td>60333.197988</td>\n",
       "    </tr>\n",
       "    <tr>\n",
       "      <th>21~25층</th>\n",
       "      <td>44966.771159</td>\n",
       "    </tr>\n",
       "    <tr>\n",
       "      <th>16~20층</th>\n",
       "      <td>37027.245189</td>\n",
       "    </tr>\n",
       "    <tr>\n",
       "      <th>11~15층</th>\n",
       "      <td>31856.647829</td>\n",
       "    </tr>\n",
       "    <tr>\n",
       "      <th>6~10층</th>\n",
       "      <td>31249.397777</td>\n",
       "    </tr>\n",
       "    <tr>\n",
       "      <th>1~5층</th>\n",
       "      <td>27353.397956</td>\n",
       "    </tr>\n",
       "  </tbody>\n",
       "</table>\n",
       "</div>"
      ],
      "text/plain": [
       "                 거래금액(만원)\n",
       "floor_group              \n",
       "31층 이상       78134.606664\n",
       "지하           64619.230769\n",
       "26~30층       60333.197988\n",
       "21~25층       44966.771159\n",
       "16~20층       37027.245189\n",
       "11~15층       31856.647829\n",
       "6~10층        31249.397777\n",
       "1~5층         27353.397956"
      ]
     },
     "execution_count": 43,
     "metadata": {},
     "output_type": "execute_result"
    }
   ],
   "source": [
    "apt2017.groupby('floor_group')['거래금액(만원)'].mean().sort_values(ascending=False).to_frame()"
   ]
  },
  {
   "cell_type": "code",
   "execution_count": 44,
   "metadata": {},
   "outputs": [
    {
     "data": {
      "text/html": [
       "<div>\n",
       "<style scoped>\n",
       "    .dataframe tbody tr th:only-of-type {\n",
       "        vertical-align: middle;\n",
       "    }\n",
       "\n",
       "    .dataframe tbody tr th {\n",
       "        vertical-align: top;\n",
       "    }\n",
       "\n",
       "    .dataframe thead th {\n",
       "        text-align: right;\n",
       "    }\n",
       "</style>\n",
       "<table border=\"1\" class=\"dataframe\">\n",
       "  <thead>\n",
       "    <tr style=\"text-align: right;\">\n",
       "      <th></th>\n",
       "      <th>거래금액(만원)</th>\n",
       "    </tr>\n",
       "    <tr>\n",
       "      <th>층</th>\n",
       "      <th></th>\n",
       "    </tr>\n",
       "  </thead>\n",
       "  <tbody>\n",
       "    <tr>\n",
       "      <th>76</th>\n",
       "      <td>350340.000000</td>\n",
       "    </tr>\n",
       "    <tr>\n",
       "      <th>77</th>\n",
       "      <td>339690.000000</td>\n",
       "    </tr>\n",
       "    <tr>\n",
       "      <th>74</th>\n",
       "      <td>334990.000000</td>\n",
       "    </tr>\n",
       "    <tr>\n",
       "      <th>72</th>\n",
       "      <td>290506.666667</td>\n",
       "    </tr>\n",
       "    <tr>\n",
       "      <th>73</th>\n",
       "      <td>219820.000000</td>\n",
       "    </tr>\n",
       "    <tr>\n",
       "      <th>...</th>\n",
       "      <td>...</td>\n",
       "    </tr>\n",
       "    <tr>\n",
       "      <th>5</th>\n",
       "      <td>27861.612859</td>\n",
       "    </tr>\n",
       "    <tr>\n",
       "      <th>3</th>\n",
       "      <td>27731.668026</td>\n",
       "    </tr>\n",
       "    <tr>\n",
       "      <th>4</th>\n",
       "      <td>27703.237734</td>\n",
       "    </tr>\n",
       "    <tr>\n",
       "      <th>2</th>\n",
       "      <td>27216.522926</td>\n",
       "    </tr>\n",
       "    <tr>\n",
       "      <th>1</th>\n",
       "      <td>26084.263350</td>\n",
       "    </tr>\n",
       "  </tbody>\n",
       "</table>\n",
       "<p>78 rows × 1 columns</p>\n",
       "</div>"
      ],
      "text/plain": [
       "         거래금액(만원)\n",
       "층                \n",
       "76  350340.000000\n",
       "77  339690.000000\n",
       "74  334990.000000\n",
       "72  290506.666667\n",
       "73  219820.000000\n",
       "..            ...\n",
       "5    27861.612859\n",
       "3    27731.668026\n",
       "4    27703.237734\n",
       "2    27216.522926\n",
       "1    26084.263350\n",
       "\n",
       "[78 rows x 1 columns]"
      ]
     },
     "metadata": {},
     "output_type": "display_data"
    }
   ],
   "source": [
    "apt2017_floor = apt2017.groupby('층')['거래금액(만원)'].mean().sort_values(ascending=False).to_frame()\n",
    "display(apt2017_floor)"
   ]
  },
  {
   "cell_type": "code",
   "execution_count": 45,
   "metadata": {},
   "outputs": [
    {
     "data": {
      "text/plain": [
       "(array([0, 1, 2, 3, 4, 5, 6, 7]), <a list of 8 Text xticklabel objects>)"
      ]
     },
     "execution_count": 45,
     "metadata": {},
     "output_type": "execute_result"
    },
    {
     "data": {
      "image/png": "[encoded data removed]",
      "text/plain": [
       "<Figure size 432x288 with 1 Axes>"
      ]
     },
     "metadata": {
      "needs_background": "light"
     },
     "output_type": "display_data"
    }
   ],
   "source": [
    "apt2017.groupby('floor_group')['거래금액(만원)'].mean().sort_values(ascending=False).to_frame().plot.bar()\n",
    "plt.title('2017 층별 평균 거래가격', size=15)\n",
    "plt.xticks(rotation=0)"
   ]
  },
  {
   "cell_type": "code",
   "execution_count": 46,
   "metadata": {},
   "outputs": [
    {
     "data": {
      "text/html": [
       "<div>\n",
       "<style scoped>\n",
       "    .dataframe tbody tr th:only-of-type {\n",
       "        vertical-align: middle;\n",
       "    }\n",
       "\n",
       "    .dataframe tbody tr th {\n",
       "        vertical-align: top;\n",
       "    }\n",
       "\n",
       "    .dataframe thead th {\n",
       "        text-align: right;\n",
       "    }\n",
       "</style>\n",
       "<table border=\"1\" class=\"dataframe\">\n",
       "  <thead>\n",
       "    <tr style=\"text-align: right;\">\n",
       "      <th></th>\n",
       "      <th>거래금액(만원)</th>\n",
       "    </tr>\n",
       "    <tr>\n",
       "      <th>floor_group</th>\n",
       "      <th></th>\n",
       "    </tr>\n",
       "  </thead>\n",
       "  <tbody>\n",
       "    <tr>\n",
       "      <th>지하</th>\n",
       "      <td>150210.833333</td>\n",
       "    </tr>\n",
       "    <tr>\n",
       "      <th>31층 이상</th>\n",
       "      <td>78497.691822</td>\n",
       "    </tr>\n",
       "    <tr>\n",
       "      <th>26~30층</th>\n",
       "      <td>59512.325986</td>\n",
       "    </tr>\n",
       "    <tr>\n",
       "      <th>21~25층</th>\n",
       "      <td>45116.477978</td>\n",
       "    </tr>\n",
       "    <tr>\n",
       "      <th>16~20층</th>\n",
       "      <td>37887.947227</td>\n",
       "    </tr>\n",
       "    <tr>\n",
       "      <th>11~15층</th>\n",
       "      <td>32843.466605</td>\n",
       "    </tr>\n",
       "    <tr>\n",
       "      <th>6~10층</th>\n",
       "      <td>32022.757447</td>\n",
       "    </tr>\n",
       "    <tr>\n",
       "      <th>1~5층</th>\n",
       "      <td>28393.912590</td>\n",
       "    </tr>\n",
       "  </tbody>\n",
       "</table>\n",
       "</div>"
      ],
      "text/plain": [
       "                  거래금액(만원)\n",
       "floor_group               \n",
       "지하           150210.833333\n",
       "31층 이상        78497.691822\n",
       "26~30층        59512.325986\n",
       "21~25층        45116.477978\n",
       "16~20층        37887.947227\n",
       "11~15층        32843.466605\n",
       "6~10층         32022.757447\n",
       "1~5층          28393.912590"
      ]
     },
     "execution_count": 46,
     "metadata": {},
     "output_type": "execute_result"
    }
   ],
   "source": [
    "apt2018.groupby('floor_group')['거래금액(만원)'].mean().sort_values(ascending=False).to_frame()"
   ]
  },
  {
   "cell_type": "code",
   "execution_count": 47,
   "metadata": {},
   "outputs": [
    {
     "data": {
      "text/html": [
       "<div>\n",
       "<style scoped>\n",
       "    .dataframe tbody tr th:only-of-type {\n",
       "        vertical-align: middle;\n",
       "    }\n",
       "\n",
       "    .dataframe tbody tr th {\n",
       "        vertical-align: top;\n",
       "    }\n",
       "\n",
       "    .dataframe thead th {\n",
       "        text-align: right;\n",
       "    }\n",
       "</style>\n",
       "<table border=\"1\" class=\"dataframe\">\n",
       "  <thead>\n",
       "    <tr style=\"text-align: right;\">\n",
       "      <th></th>\n",
       "      <th>거래금액(만원)</th>\n",
       "    </tr>\n",
       "    <tr>\n",
       "      <th>층</th>\n",
       "      <th></th>\n",
       "    </tr>\n",
       "  </thead>\n",
       "  <tbody>\n",
       "    <tr>\n",
       "      <th>-2</th>\n",
       "      <td>339000.000000</td>\n",
       "    </tr>\n",
       "    <tr>\n",
       "      <th>74</th>\n",
       "      <td>319940.000000</td>\n",
       "    </tr>\n",
       "    <tr>\n",
       "      <th>60</th>\n",
       "      <td>200125.000000</td>\n",
       "    </tr>\n",
       "    <tr>\n",
       "      <th>62</th>\n",
       "      <td>195200.000000</td>\n",
       "    </tr>\n",
       "    <tr>\n",
       "      <th>63</th>\n",
       "      <td>189200.000000</td>\n",
       "    </tr>\n",
       "    <tr>\n",
       "      <th>...</th>\n",
       "      <td>...</td>\n",
       "    </tr>\n",
       "    <tr>\n",
       "      <th>5</th>\n",
       "      <td>28904.498939</td>\n",
       "    </tr>\n",
       "    <tr>\n",
       "      <th>3</th>\n",
       "      <td>28814.076076</td>\n",
       "    </tr>\n",
       "    <tr>\n",
       "      <th>4</th>\n",
       "      <td>28544.187591</td>\n",
       "    </tr>\n",
       "    <tr>\n",
       "      <th>2</th>\n",
       "      <td>28451.587074</td>\n",
       "    </tr>\n",
       "    <tr>\n",
       "      <th>1</th>\n",
       "      <td>27055.099613</td>\n",
       "    </tr>\n",
       "  </tbody>\n",
       "</table>\n",
       "<p>76 rows × 1 columns</p>\n",
       "</div>"
      ],
      "text/plain": [
       "          거래금액(만원)\n",
       "층                 \n",
       "-2   339000.000000\n",
       " 74  319940.000000\n",
       " 60  200125.000000\n",
       " 62  195200.000000\n",
       " 63  189200.000000\n",
       "..             ...\n",
       " 5    28904.498939\n",
       " 3    28814.076076\n",
       " 4    28544.187591\n",
       " 2    28451.587074\n",
       " 1    27055.099613\n",
       "\n",
       "[76 rows x 1 columns]"
      ]
     },
     "metadata": {},
     "output_type": "display_data"
    }
   ],
   "source": [
    "apt2018_floor = apt2018.groupby('층')['거래금액(만원)'].mean().sort_values(ascending=False).to_frame()\n",
    "display(apt2018_floor)"
   ]
  },
  {
   "cell_type": "code",
   "execution_count": 48,
   "metadata": {},
   "outputs": [
    {
     "data": {
      "text/plain": [
       "(array([0, 1, 2, 3, 4, 5, 6, 7]), <a list of 8 Text xticklabel objects>)"
      ]
     },
     "execution_count": 48,
     "metadata": {},
     "output_type": "execute_result"
    },
    {
     "data": {
      "image/png": "[encoded data removed]",
      "text/plain": [
       "<Figure size 432x288 with 1 Axes>"
      ]
     },
     "metadata": {
      "needs_background": "light"
     },
     "output_type": "display_data"
    }
   ],
   "source": [
    "apt2018.groupby('floor_group')['거래금액(만원)'].mean().sort_values(ascending=False).to_frame().plot.bar()\n",
    "plt.title('2018 층별 평균 거래가격', size=15)\n",
    "plt.xticks(rotation=0)"
   ]
  },
  {
   "cell_type": "code",
   "execution_count": 49,
   "metadata": {},
   "outputs": [
    {
     "data": {
      "text/html": [
       "<div>\n",
       "<style scoped>\n",
       "    .dataframe tbody tr th:only-of-type {\n",
       "        vertical-align: middle;\n",
       "    }\n",
       "\n",
       "    .dataframe tbody tr th {\n",
       "        vertical-align: top;\n",
       "    }\n",
       "\n",
       "    .dataframe thead th {\n",
       "        text-align: right;\n",
       "    }\n",
       "</style>\n",
       "<table border=\"1\" class=\"dataframe\">\n",
       "  <thead>\n",
       "    <tr style=\"text-align: right;\">\n",
       "      <th></th>\n",
       "      <th>거래금액(만원)</th>\n",
       "    </tr>\n",
       "    <tr>\n",
       "      <th>floor_group</th>\n",
       "      <th></th>\n",
       "    </tr>\n",
       "  </thead>\n",
       "  <tbody>\n",
       "    <tr>\n",
       "      <th>지하</th>\n",
       "      <td>95132.051282</td>\n",
       "    </tr>\n",
       "    <tr>\n",
       "      <th>31층 이상</th>\n",
       "      <td>74419.386223</td>\n",
       "    </tr>\n",
       "    <tr>\n",
       "      <th>26~30층</th>\n",
       "      <td>58876.604397</td>\n",
       "    </tr>\n",
       "    <tr>\n",
       "      <th>21~25층</th>\n",
       "      <td>47933.684624</td>\n",
       "    </tr>\n",
       "    <tr>\n",
       "      <th>16~20층</th>\n",
       "      <td>40109.719563</td>\n",
       "    </tr>\n",
       "    <tr>\n",
       "      <th>11~15층</th>\n",
       "      <td>35061.231660</td>\n",
       "    </tr>\n",
       "    <tr>\n",
       "      <th>6~10층</th>\n",
       "      <td>34297.066201</td>\n",
       "    </tr>\n",
       "    <tr>\n",
       "      <th>1~5층</th>\n",
       "      <td>30016.249233</td>\n",
       "    </tr>\n",
       "  </tbody>\n",
       "</table>\n",
       "</div>"
      ],
      "text/plain": [
       "                 거래금액(만원)\n",
       "floor_group              \n",
       "지하           95132.051282\n",
       "31층 이상       74419.386223\n",
       "26~30층       58876.604397\n",
       "21~25층       47933.684624\n",
       "16~20층       40109.719563\n",
       "11~15층       35061.231660\n",
       "6~10층        34297.066201\n",
       "1~5층         30016.249233"
      ]
     },
     "execution_count": 49,
     "metadata": {},
     "output_type": "execute_result"
    }
   ],
   "source": [
    "apt2019.groupby('floor_group')['거래금액(만원)'].mean().sort_values(ascending=False).to_frame()"
   ]
  },
  {
   "cell_type": "code",
   "execution_count": 50,
   "metadata": {},
   "outputs": [
    {
     "data": {
      "text/html": [
       "<div>\n",
       "<style scoped>\n",
       "    .dataframe tbody tr th:only-of-type {\n",
       "        vertical-align: middle;\n",
       "    }\n",
       "\n",
       "    .dataframe tbody tr th {\n",
       "        vertical-align: top;\n",
       "    }\n",
       "\n",
       "    .dataframe thead th {\n",
       "        text-align: right;\n",
       "    }\n",
       "</style>\n",
       "<table border=\"1\" class=\"dataframe\">\n",
       "  <thead>\n",
       "    <tr style=\"text-align: right;\">\n",
       "      <th></th>\n",
       "      <th>거래금액(만원)</th>\n",
       "    </tr>\n",
       "    <tr>\n",
       "      <th>층</th>\n",
       "      <th></th>\n",
       "    </tr>\n",
       "  </thead>\n",
       "  <tbody>\n",
       "    <tr>\n",
       "      <th>-2</th>\n",
       "      <td>470333.333333</td>\n",
       "    </tr>\n",
       "    <tr>\n",
       "      <th>76</th>\n",
       "      <td>350340.000000</td>\n",
       "    </tr>\n",
       "    <tr>\n",
       "      <th>77</th>\n",
       "      <td>339690.000000</td>\n",
       "    </tr>\n",
       "    <tr>\n",
       "      <th>73</th>\n",
       "      <td>330640.000000</td>\n",
       "    </tr>\n",
       "    <tr>\n",
       "      <th>70</th>\n",
       "      <td>243546.666667</td>\n",
       "    </tr>\n",
       "    <tr>\n",
       "      <th>...</th>\n",
       "      <td>...</td>\n",
       "    </tr>\n",
       "    <tr>\n",
       "      <th>5</th>\n",
       "      <td>30597.999478</td>\n",
       "    </tr>\n",
       "    <tr>\n",
       "      <th>4</th>\n",
       "      <td>30539.649467</td>\n",
       "    </tr>\n",
       "    <tr>\n",
       "      <th>3</th>\n",
       "      <td>30236.832819</td>\n",
       "    </tr>\n",
       "    <tr>\n",
       "      <th>2</th>\n",
       "      <td>29779.412758</td>\n",
       "    </tr>\n",
       "    <tr>\n",
       "      <th>1</th>\n",
       "      <td>28625.671676</td>\n",
       "    </tr>\n",
       "  </tbody>\n",
       "</table>\n",
       "<p>79 rows × 1 columns</p>\n",
       "</div>"
      ],
      "text/plain": [
       "          거래금액(만원)\n",
       "층                 \n",
       "-2   470333.333333\n",
       " 76  350340.000000\n",
       " 77  339690.000000\n",
       " 73  330640.000000\n",
       " 70  243546.666667\n",
       "..             ...\n",
       " 5    30597.999478\n",
       " 4    30539.649467\n",
       " 3    30236.832819\n",
       " 2    29779.412758\n",
       " 1    28625.671676\n",
       "\n",
       "[79 rows x 1 columns]"
      ]
     },
     "metadata": {},
     "output_type": "display_data"
    }
   ],
   "source": [
    "apt2019_floor = apt2019.groupby('층')['거래금액(만원)'].mean().sort_values(ascending=False).to_frame()\n",
    "display(apt2019_floor)"
   ]
  },
  {
   "cell_type": "code",
   "execution_count": 51,
   "metadata": {},
   "outputs": [
    {
     "data": {
      "text/plain": [
       "(array([0, 1, 2, 3, 4, 5, 6, 7]), <a list of 8 Text xticklabel objects>)"
      ]
     },
     "execution_count": 51,
     "metadata": {},
     "output_type": "execute_result"
    },
    {
     "data": {
      "image/png": "[encoded data removed]",
      "text/plain": [
       "<Figure size 432x288 with 1 Axes>"
      ]
     },
     "metadata": {
      "needs_background": "light"
     },
     "output_type": "display_data"
    }
   ],
   "source": [
    "apt2019.groupby('floor_group')['거래금액(만원)'].mean().sort_values(ascending=False).to_frame().plot.bar()\n",
    "plt.title('2019 층별 평균 거래가격', size=15)\n",
    "plt.xticks(rotation=0)"
   ]
  },
  {
   "cell_type": "markdown",
   "metadata": {},
   "source": [
    "### (6) 전용면적별(평수별) 거래량"
   ]
  },
  {
   "cell_type": "code",
   "execution_count": 52,
   "metadata": {},
   "outputs": [
    {
     "data": {
      "text/html": [
       "<div>\n",
       "<style scoped>\n",
       "    .dataframe tbody tr th:only-of-type {\n",
       "        vertical-align: middle;\n",
       "    }\n",
       "\n",
       "    .dataframe tbody tr th {\n",
       "        vertical-align: top;\n",
       "    }\n",
       "\n",
       "    .dataframe thead th {\n",
       "        text-align: right;\n",
       "    }\n",
       "</style>\n",
       "<table border=\"1\" class=\"dataframe\">\n",
       "  <thead>\n",
       "    <tr style=\"text-align: right;\">\n",
       "      <th></th>\n",
       "      <th>전용면적별 거래량</th>\n",
       "    </tr>\n",
       "    <tr>\n",
       "      <th>전용면적 반올림</th>\n",
       "      <th></th>\n",
       "    </tr>\n",
       "  </thead>\n",
       "  <tbody>\n",
       "    <tr>\n",
       "      <th>85.0</th>\n",
       "      <td>483387</td>\n",
       "    </tr>\n",
       "    <tr>\n",
       "      <th>60.0</th>\n",
       "      <td>297215</td>\n",
       "    </tr>\n",
       "    <tr>\n",
       "      <th>50.0</th>\n",
       "      <td>53641</td>\n",
       "    </tr>\n",
       "    <tr>\n",
       "      <th>59.0</th>\n",
       "      <td>53315</td>\n",
       "    </tr>\n",
       "    <tr>\n",
       "      <th>84.0</th>\n",
       "      <td>50629</td>\n",
       "    </tr>\n",
       "    <tr>\n",
       "      <th>...</th>\n",
       "      <td>...</td>\n",
       "    </tr>\n",
       "    <tr>\n",
       "      <th>253.0</th>\n",
       "      <td>1</td>\n",
       "    </tr>\n",
       "    <tr>\n",
       "      <th>258.0</th>\n",
       "      <td>1</td>\n",
       "    </tr>\n",
       "    <tr>\n",
       "      <th>266.0</th>\n",
       "      <td>1</td>\n",
       "    </tr>\n",
       "    <tr>\n",
       "      <th>264.0</th>\n",
       "      <td>1</td>\n",
       "    </tr>\n",
       "    <tr>\n",
       "      <th>395.0</th>\n",
       "      <td>1</td>\n",
       "    </tr>\n",
       "  </tbody>\n",
       "</table>\n",
       "<p>267 rows × 1 columns</p>\n",
       "</div>"
      ],
      "text/plain": [
       "          전용면적별 거래량\n",
       "전용면적 반올림           \n",
       "85.0         483387\n",
       "60.0         297215\n",
       "50.0          53641\n",
       "59.0          53315\n",
       "84.0          50629\n",
       "...             ...\n",
       "253.0             1\n",
       "258.0             1\n",
       "266.0             1\n",
       "264.0             1\n",
       "395.0             1\n",
       "\n",
       "[267 rows x 1 columns]"
      ]
     },
     "execution_count": 52,
     "metadata": {},
     "output_type": "execute_result"
    }
   ],
   "source": [
    "apt171819['전용면적 반올림'] = round(apt171819['전용면적(㎡)'])\n",
    "volume_by_total_surface = apt171819.groupby('전용면적 반올림').count()\n",
    "volume_by_total_surface['전용면적별 거래량'] = volume_by_total_surface['거래금액(만원)']\n",
    "volume_by_total_surface = volume_by_total_surface.loc[:,['전용면적별 거래량']]\n",
    "volume_by_total_surface = volume_by_total_surface.sort_values('전용면적별 거래량', ascending=False)\n",
    "volume_by_total_surface  # 85㎡ - 약 25~6평/ 60㎡ - 약 18평 정도 거래량이 월등히 많음"
   ]
  },
  {
   "cell_type": "code",
   "execution_count": 53,
   "metadata": {},
   "outputs": [
    {
     "data": {
      "image/png": "[encoded data removed]",
      "text/plain": [
       "<Figure size 432x288 with 1 Axes>"
      ]
     },
     "metadata": {
      "needs_background": "light"
     },
     "output_type": "display_data"
    }
   ],
   "source": [
    "volume_by_total_surface_top50 = volume_by_total_surface.iloc[:50]\n",
    "volume_by_total_surface_top50\n",
    "plt.rc('font', family='Malgun Gothic')\n",
    "plt.title(\"전용면적별 거래량\",size=15)\n",
    "plt.barh(volume_by_total_surface_top50.index, volume_by_total_surface_top50['전용면적별 거래량'], color='orange', alpha = 0.5)\n",
    "plt.show() # 주로 40㎡(12평) ~ 90㎡ (27평) 사이의 아파트가 많이 거래됨"
   ]
  },
  {
   "cell_type": "markdown",
   "metadata": {},
   "source": [
    "#### - 변수간 상관관계 정리"
   ]
  },
  {
   "cell_type": "code",
   "execution_count": 54,
   "metadata": {},
   "outputs": [
    {
     "data": {
      "text/html": [
       "<div>\n",
       "<style scoped>\n",
       "    .dataframe tbody tr th:only-of-type {\n",
       "        vertical-align: middle;\n",
       "    }\n",
       "\n",
       "    .dataframe tbody tr th {\n",
       "        vertical-align: top;\n",
       "    }\n",
       "\n",
       "    .dataframe thead th {\n",
       "        text-align: right;\n",
       "    }\n",
       "</style>\n",
       "<table border=\"1\" class=\"dataframe\">\n",
       "  <thead>\n",
       "    <tr style=\"text-align: right;\">\n",
       "      <th></th>\n",
       "      <th>부번</th>\n",
       "      <th>전용면적(㎡)</th>\n",
       "      <th>계약년월</th>\n",
       "      <th>계약일</th>\n",
       "      <th>거래금액(만원)</th>\n",
       "      <th>층</th>\n",
       "      <th>건축년도</th>\n",
       "      <th>시도별거래량</th>\n",
       "    </tr>\n",
       "  </thead>\n",
       "  <tbody>\n",
       "    <tr>\n",
       "      <th>부번</th>\n",
       "      <td>1.000000</td>\n",
       "      <td>-0.013196</td>\n",
       "      <td>-0.009791</td>\n",
       "      <td>-0.000737</td>\n",
       "      <td>-0.016739</td>\n",
       "      <td>-0.020545</td>\n",
       "      <td>-0.037810</td>\n",
       "      <td>-0.024697</td>\n",
       "    </tr>\n",
       "    <tr>\n",
       "      <th>전용면적(㎡)</th>\n",
       "      <td>-0.013196</td>\n",
       "      <td>1.000000</td>\n",
       "      <td>0.045462</td>\n",
       "      <td>0.009583</td>\n",
       "      <td>0.540676</td>\n",
       "      <td>0.170594</td>\n",
       "      <td>0.223751</td>\n",
       "      <td>0.102612</td>\n",
       "    </tr>\n",
       "    <tr>\n",
       "      <th>계약년월</th>\n",
       "      <td>-0.009791</td>\n",
       "      <td>0.045462</td>\n",
       "      <td>1.000000</td>\n",
       "      <td>0.043561</td>\n",
       "      <td>0.069904</td>\n",
       "      <td>0.018489</td>\n",
       "      <td>0.039897</td>\n",
       "      <td>0.008998</td>\n",
       "    </tr>\n",
       "    <tr>\n",
       "      <th>계약일</th>\n",
       "      <td>-0.000737</td>\n",
       "      <td>0.009583</td>\n",
       "      <td>0.043561</td>\n",
       "      <td>1.000000</td>\n",
       "      <td>0.025497</td>\n",
       "      <td>0.001487</td>\n",
       "      <td>0.001163</td>\n",
       "      <td>0.010510</td>\n",
       "    </tr>\n",
       "    <tr>\n",
       "      <th>거래금액(만원)</th>\n",
       "      <td>-0.016739</td>\n",
       "      <td>0.540676</td>\n",
       "      <td>0.069904</td>\n",
       "      <td>0.025497</td>\n",
       "      <td>1.000000</td>\n",
       "      <td>0.182033</td>\n",
       "      <td>0.126213</td>\n",
       "      <td>0.326521</td>\n",
       "    </tr>\n",
       "    <tr>\n",
       "      <th>층</th>\n",
       "      <td>-0.020545</td>\n",
       "      <td>0.170594</td>\n",
       "      <td>0.018489</td>\n",
       "      <td>0.001487</td>\n",
       "      <td>0.182033</td>\n",
       "      <td>1.000000</td>\n",
       "      <td>0.266306</td>\n",
       "      <td>0.043832</td>\n",
       "    </tr>\n",
       "    <tr>\n",
       "      <th>건축년도</th>\n",
       "      <td>-0.037810</td>\n",
       "      <td>0.223751</td>\n",
       "      <td>0.039897</td>\n",
       "      <td>0.001163</td>\n",
       "      <td>0.126213</td>\n",
       "      <td>0.266306</td>\n",
       "      <td>1.000000</td>\n",
       "      <td>-0.017773</td>\n",
       "    </tr>\n",
       "    <tr>\n",
       "      <th>시도별거래량</th>\n",
       "      <td>-0.024697</td>\n",
       "      <td>0.102612</td>\n",
       "      <td>0.008998</td>\n",
       "      <td>0.010510</td>\n",
       "      <td>0.326521</td>\n",
       "      <td>0.043832</td>\n",
       "      <td>-0.017773</td>\n",
       "      <td>1.000000</td>\n",
       "    </tr>\n",
       "  </tbody>\n",
       "</table>\n",
       "</div>"
      ],
      "text/plain": [
       "                부번   전용면적(㎡)      계약년월       계약일  거래금액(만원)         층  \\\n",
       "부번        1.000000 -0.013196 -0.009791 -0.000737 -0.016739 -0.020545   \n",
       "전용면적(㎡)  -0.013196  1.000000  0.045462  0.009583  0.540676  0.170594   \n",
       "계약년월     -0.009791  0.045462  1.000000  0.043561  0.069904  0.018489   \n",
       "계약일      -0.000737  0.009583  0.043561  1.000000  0.025497  0.001487   \n",
       "거래금액(만원) -0.016739  0.540676  0.069904  0.025497  1.000000  0.182033   \n",
       "층        -0.020545  0.170594  0.018489  0.001487  0.182033  1.000000   \n",
       "건축년도     -0.037810  0.223751  0.039897  0.001163  0.126213  0.266306   \n",
       "시도별거래량   -0.024697  0.102612  0.008998  0.010510  0.326521  0.043832   \n",
       "\n",
       "              건축년도    시도별거래량  \n",
       "부번       -0.037810 -0.024697  \n",
       "전용면적(㎡)   0.223751  0.102612  \n",
       "계약년월      0.039897  0.008998  \n",
       "계약일       0.001163  0.010510  \n",
       "거래금액(만원)  0.126213  0.326521  \n",
       "층         0.266306  0.043832  \n",
       "건축년도      1.000000 -0.017773  \n",
       "시도별거래량   -0.017773  1.000000  "
      ]
     },
     "execution_count": 54,
     "metadata": {},
     "output_type": "execute_result"
    }
   ],
   "source": [
    "corr2017 = apt2017.corr(method='pearson')\n",
    "corr2017"
   ]
  },
  {
   "cell_type": "markdown",
   "metadata": {},
   "source": [
    "거래금액과 전용면적이 0.54 정도의 양의 상관관계. 그 다음으로 비교적 유의미한 수치로는 거래금액과 층이 0.18 정도의 양의 상관관계를 가짐.\n",
    "층 & 건축년도 -> 0.26 정도의 양의 상관관계"
   ]
  },
  {
   "cell_type": "code",
   "execution_count": 55,
   "metadata": {},
   "outputs": [
    {
     "data": {
      "text/html": [
       "<div>\n",
       "<style scoped>\n",
       "    .dataframe tbody tr th:only-of-type {\n",
       "        vertical-align: middle;\n",
       "    }\n",
       "\n",
       "    .dataframe tbody tr th {\n",
       "        vertical-align: top;\n",
       "    }\n",
       "\n",
       "    .dataframe thead th {\n",
       "        text-align: right;\n",
       "    }\n",
       "</style>\n",
       "<table border=\"1\" class=\"dataframe\">\n",
       "  <thead>\n",
       "    <tr style=\"text-align: right;\">\n",
       "      <th></th>\n",
       "      <th>부번</th>\n",
       "      <th>전용면적(㎡)</th>\n",
       "      <th>계약년월</th>\n",
       "      <th>계약일</th>\n",
       "      <th>거래금액(만원)</th>\n",
       "      <th>층</th>\n",
       "      <th>건축년도</th>\n",
       "      <th>시도별거래량</th>\n",
       "    </tr>\n",
       "  </thead>\n",
       "  <tbody>\n",
       "    <tr>\n",
       "      <th>부번</th>\n",
       "      <td>1.000000</td>\n",
       "      <td>-0.010992</td>\n",
       "      <td>0.003070</td>\n",
       "      <td>-0.000584</td>\n",
       "      <td>-0.007157</td>\n",
       "      <td>-0.022424</td>\n",
       "      <td>-0.029309</td>\n",
       "      <td>-0.019495</td>\n",
       "    </tr>\n",
       "    <tr>\n",
       "      <th>전용면적(㎡)</th>\n",
       "      <td>-0.010992</td>\n",
       "      <td>1.000000</td>\n",
       "      <td>-0.014584</td>\n",
       "      <td>-0.002072</td>\n",
       "      <td>0.516266</td>\n",
       "      <td>0.162351</td>\n",
       "      <td>0.207289</td>\n",
       "      <td>0.110152</td>\n",
       "    </tr>\n",
       "    <tr>\n",
       "      <th>계약년월</th>\n",
       "      <td>0.003070</td>\n",
       "      <td>-0.014584</td>\n",
       "      <td>1.000000</td>\n",
       "      <td>-0.020789</td>\n",
       "      <td>-0.055325</td>\n",
       "      <td>0.003869</td>\n",
       "      <td>0.027028</td>\n",
       "      <td>-0.010007</td>\n",
       "    </tr>\n",
       "    <tr>\n",
       "      <th>계약일</th>\n",
       "      <td>-0.000584</td>\n",
       "      <td>-0.002072</td>\n",
       "      <td>-0.020789</td>\n",
       "      <td>1.000000</td>\n",
       "      <td>0.000006</td>\n",
       "      <td>-0.004645</td>\n",
       "      <td>-0.008210</td>\n",
       "      <td>-0.006155</td>\n",
       "    </tr>\n",
       "    <tr>\n",
       "      <th>거래금액(만원)</th>\n",
       "      <td>-0.007157</td>\n",
       "      <td>0.516266</td>\n",
       "      <td>-0.055325</td>\n",
       "      <td>0.000006</td>\n",
       "      <td>1.000000</td>\n",
       "      <td>0.175313</td>\n",
       "      <td>0.141065</td>\n",
       "      <td>0.260931</td>\n",
       "    </tr>\n",
       "    <tr>\n",
       "      <th>층</th>\n",
       "      <td>-0.022424</td>\n",
       "      <td>0.162351</td>\n",
       "      <td>0.003869</td>\n",
       "      <td>-0.004645</td>\n",
       "      <td>0.175313</td>\n",
       "      <td>1.000000</td>\n",
       "      <td>0.271603</td>\n",
       "      <td>0.048815</td>\n",
       "    </tr>\n",
       "    <tr>\n",
       "      <th>건축년도</th>\n",
       "      <td>-0.029309</td>\n",
       "      <td>0.207289</td>\n",
       "      <td>0.027028</td>\n",
       "      <td>-0.008210</td>\n",
       "      <td>0.141065</td>\n",
       "      <td>0.271603</td>\n",
       "      <td>1.000000</td>\n",
       "      <td>0.009213</td>\n",
       "    </tr>\n",
       "    <tr>\n",
       "      <th>시도별거래량</th>\n",
       "      <td>-0.019495</td>\n",
       "      <td>0.110152</td>\n",
       "      <td>-0.010007</td>\n",
       "      <td>-0.006155</td>\n",
       "      <td>0.260931</td>\n",
       "      <td>0.048815</td>\n",
       "      <td>0.009213</td>\n",
       "      <td>1.000000</td>\n",
       "    </tr>\n",
       "  </tbody>\n",
       "</table>\n",
       "</div>"
      ],
      "text/plain": [
       "                부번   전용면적(㎡)      계약년월       계약일  거래금액(만원)         층  \\\n",
       "부번        1.000000 -0.010992  0.003070 -0.000584 -0.007157 -0.022424   \n",
       "전용면적(㎡)  -0.010992  1.000000 -0.014584 -0.002072  0.516266  0.162351   \n",
       "계약년월      0.003070 -0.014584  1.000000 -0.020789 -0.055325  0.003869   \n",
       "계약일      -0.000584 -0.002072 -0.020789  1.000000  0.000006 -0.004645   \n",
       "거래금액(만원) -0.007157  0.516266 -0.055325  0.000006  1.000000  0.175313   \n",
       "층        -0.022424  0.162351  0.003869 -0.004645  0.175313  1.000000   \n",
       "건축년도     -0.029309  0.207289  0.027028 -0.008210  0.141065  0.271603   \n",
       "시도별거래량   -0.019495  0.110152 -0.010007 -0.006155  0.260931  0.048815   \n",
       "\n",
       "              건축년도    시도별거래량  \n",
       "부번       -0.029309 -0.019495  \n",
       "전용면적(㎡)   0.207289  0.110152  \n",
       "계약년월      0.027028 -0.010007  \n",
       "계약일      -0.008210 -0.006155  \n",
       "거래금액(만원)  0.141065  0.260931  \n",
       "층         0.271603  0.048815  \n",
       "건축년도      1.000000  0.009213  \n",
       "시도별거래량    0.009213  1.000000  "
      ]
     },
     "execution_count": 55,
     "metadata": {},
     "output_type": "execute_result"
    }
   ],
   "source": [
    "corr2018 = apt2018.corr(method='pearson')\n",
    "corr2018"
   ]
  },
  {
   "cell_type": "code",
   "execution_count": 56,
   "metadata": {},
   "outputs": [
    {
     "data": {
      "text/html": [
       "<div>\n",
       "<style scoped>\n",
       "    .dataframe tbody tr th:only-of-type {\n",
       "        vertical-align: middle;\n",
       "    }\n",
       "\n",
       "    .dataframe tbody tr th {\n",
       "        vertical-align: top;\n",
       "    }\n",
       "\n",
       "    .dataframe thead th {\n",
       "        text-align: right;\n",
       "    }\n",
       "</style>\n",
       "<table border=\"1\" class=\"dataframe\">\n",
       "  <thead>\n",
       "    <tr style=\"text-align: right;\">\n",
       "      <th></th>\n",
       "      <th>부번</th>\n",
       "      <th>전용면적(㎡)</th>\n",
       "      <th>계약년월</th>\n",
       "      <th>계약일</th>\n",
       "      <th>거래금액(만원)</th>\n",
       "      <th>층</th>\n",
       "      <th>건축년도</th>\n",
       "      <th>시도별거래량</th>\n",
       "    </tr>\n",
       "  </thead>\n",
       "  <tbody>\n",
       "    <tr>\n",
       "      <th>부번</th>\n",
       "      <td>1.000000</td>\n",
       "      <td>-0.013994</td>\n",
       "      <td>-0.002504</td>\n",
       "      <td>-0.002314</td>\n",
       "      <td>-0.008240</td>\n",
       "      <td>-0.022038</td>\n",
       "      <td>-0.024455</td>\n",
       "      <td>-0.010222</td>\n",
       "    </tr>\n",
       "    <tr>\n",
       "      <th>전용면적(㎡)</th>\n",
       "      <td>-0.013994</td>\n",
       "      <td>1.000000</td>\n",
       "      <td>0.057538</td>\n",
       "      <td>0.003085</td>\n",
       "      <td>0.456091</td>\n",
       "      <td>0.165724</td>\n",
       "      <td>0.179345</td>\n",
       "      <td>0.075043</td>\n",
       "    </tr>\n",
       "    <tr>\n",
       "      <th>계약년월</th>\n",
       "      <td>-0.002504</td>\n",
       "      <td>0.057538</td>\n",
       "      <td>1.000000</td>\n",
       "      <td>-0.019335</td>\n",
       "      <td>0.138798</td>\n",
       "      <td>0.043586</td>\n",
       "      <td>0.059220</td>\n",
       "      <td>0.074779</td>\n",
       "    </tr>\n",
       "    <tr>\n",
       "      <th>계약일</th>\n",
       "      <td>-0.002314</td>\n",
       "      <td>0.003085</td>\n",
       "      <td>-0.019335</td>\n",
       "      <td>1.000000</td>\n",
       "      <td>0.001623</td>\n",
       "      <td>0.001069</td>\n",
       "      <td>0.005171</td>\n",
       "      <td>-0.000699</td>\n",
       "    </tr>\n",
       "    <tr>\n",
       "      <th>거래금액(만원)</th>\n",
       "      <td>-0.008240</td>\n",
       "      <td>0.456091</td>\n",
       "      <td>0.138798</td>\n",
       "      <td>0.001623</td>\n",
       "      <td>1.000000</td>\n",
       "      <td>0.165782</td>\n",
       "      <td>0.113623</td>\n",
       "      <td>0.237718</td>\n",
       "    </tr>\n",
       "    <tr>\n",
       "      <th>층</th>\n",
       "      <td>-0.022038</td>\n",
       "      <td>0.165724</td>\n",
       "      <td>0.043586</td>\n",
       "      <td>0.001069</td>\n",
       "      <td>0.165782</td>\n",
       "      <td>1.000000</td>\n",
       "      <td>0.291626</td>\n",
       "      <td>0.027205</td>\n",
       "    </tr>\n",
       "    <tr>\n",
       "      <th>건축년도</th>\n",
       "      <td>-0.024455</td>\n",
       "      <td>0.179345</td>\n",
       "      <td>0.059220</td>\n",
       "      <td>0.005171</td>\n",
       "      <td>0.113623</td>\n",
       "      <td>0.291626</td>\n",
       "      <td>1.000000</td>\n",
       "      <td>-0.004981</td>\n",
       "    </tr>\n",
       "    <tr>\n",
       "      <th>시도별거래량</th>\n",
       "      <td>-0.010222</td>\n",
       "      <td>0.075043</td>\n",
       "      <td>0.074779</td>\n",
       "      <td>-0.000699</td>\n",
       "      <td>0.237718</td>\n",
       "      <td>0.027205</td>\n",
       "      <td>-0.004981</td>\n",
       "      <td>1.000000</td>\n",
       "    </tr>\n",
       "  </tbody>\n",
       "</table>\n",
       "</div>"
      ],
      "text/plain": [
       "                부번   전용면적(㎡)      계약년월       계약일  거래금액(만원)         층  \\\n",
       "부번        1.000000 -0.013994 -0.002504 -0.002314 -0.008240 -0.022038   \n",
       "전용면적(㎡)  -0.013994  1.000000  0.057538  0.003085  0.456091  0.165724   \n",
       "계약년월     -0.002504  0.057538  1.000000 -0.019335  0.138798  0.043586   \n",
       "계약일      -0.002314  0.003085 -0.019335  1.000000  0.001623  0.001069   \n",
       "거래금액(만원) -0.008240  0.456091  0.138798  0.001623  1.000000  0.165782   \n",
       "층        -0.022038  0.165724  0.043586  0.001069  0.165782  1.000000   \n",
       "건축년도     -0.024455  0.179345  0.059220  0.005171  0.113623  0.291626   \n",
       "시도별거래량   -0.010222  0.075043  0.074779 -0.000699  0.237718  0.027205   \n",
       "\n",
       "              건축년도    시도별거래량  \n",
       "부번       -0.024455 -0.010222  \n",
       "전용면적(㎡)   0.179345  0.075043  \n",
       "계약년월      0.059220  0.074779  \n",
       "계약일       0.005171 -0.000699  \n",
       "거래금액(만원)  0.113623  0.237718  \n",
       "층         0.291626  0.027205  \n",
       "건축년도      1.000000 -0.004981  \n",
       "시도별거래량   -0.004981  1.000000  "
      ]
     },
     "execution_count": 56,
     "metadata": {},
     "output_type": "execute_result"
    }
   ],
   "source": [
    "corr2019 = apt2019.corr(method='pearson')\n",
    "corr2019"
   ]
  },
  {
   "cell_type": "markdown",
   "metadata": {},
   "source": [
    "2017, 2018, 2019 년 모두 거래금액과 다른 변수와의 상관관계를 따져보았을 때, 유의미한 양의 상관관계로는 비교적 전용면적이 가장 높고 그리고 그 다음으로는 층임.\n",
    "(+) 층 & 건축년도 사이에도 양의 상관관계가 보임."
   ]
  },
  {
   "cell_type": "markdown",
   "metadata": {},
   "source": [
    "## 지역간 비교"
   ]
  },
  {
   "cell_type": "markdown",
   "metadata": {},
   "source": [
    "### (1) 수도권 / 비수도권 간 비교"
   ]
  },
  {
   "cell_type": "code",
   "execution_count": 57,
   "metadata": {},
   "outputs": [],
   "source": [
    "#수도권, 비수도권 나누기\n",
    "apt2017_cap = apt2017[(apt2017['도'] == '경기도') | (apt2017['도'] == '서울특별시') | (apt2017['도'] == '인천광역시')]\n",
    "apt2017_notcap = apt2017[(apt2017['도'] != '경기도') & (apt2017['도'] != '서울특별시') & (apt2017['도'] != '인천광역시')]\n",
    "\n",
    "apt2018_cap = apt2018[(apt2018['도'] == '경기도') | (apt2018['도'] == '서울특별시') | (apt2018['도'] == '인천광역시')]\n",
    "apt2018_notcap = apt2018[(apt2018['도'] != '경기도') & (apt2018['도'] != '서울특별시') & (apt2018['도'] != '인천광역시')]\n",
    "\n",
    "apt2019_cap = apt2019[(apt2019['도'] == '경기도') | (apt2019['도'] == '서울특별시') | (apt2019['도'] == '인천광역시')]\n",
    "apt2019_notcap = apt2019[(apt2019['도'] != '경기도') & (apt2019['도'] != '서울특별시') & (apt2019['도'] != '인천광역시')]"
   ]
  },
  {
   "cell_type": "code",
   "execution_count": 58,
   "metadata": {},
   "outputs": [],
   "source": [
    "#3개년 데이터 통합하기\n",
    "apt_3years = pd.concat([apt2017,apt2018,apt2019])\n",
    "apt_cap_3y = pd.concat([apt2017_cap,apt2018_cap,apt2019_cap])\n",
    "apt_notcap_3y = pd.concat([apt2017_notcap,apt2018_notcap,apt2019_notcap])"
   ]
  },
  {
   "cell_type": "code",
   "execution_count": 59,
   "metadata": {},
   "outputs": [],
   "source": [
    "#수도권, 비수도권 표현하는 변수 만들기\n",
    "apt_3years['is_cap']=0\n",
    "apt_3years.loc[(apt_3years['도'] == '경기도') | (apt_3years['도'] == '서울특별시') | (apt_3years['도'] == '인천광역시') , 'is_cap'] = '수도권'\n",
    "apt_3years.loc[(apt_3years['도'] != '경기도') & (apt_3years['도'] != '서울특별시') & (apt_3years['도'] != '인천광역시') , 'is_cap'] = '비수도권'"
   ]
  },
  {
   "cell_type": "code",
   "execution_count": 60,
   "metadata": {},
   "outputs": [
    {
     "data": {
      "image/png": "[encoded data removed]",
      "text/plain": [
       "<Figure size 432x288 with 1 Axes>"
      ]
     },
     "metadata": {
      "needs_background": "light"
     },
     "output_type": "display_data"
    }
   ],
   "source": [
    "#3개년 수도권/비수도권 거래량 비교\n",
    "sns.countplot(x=\"is_cap\", data=apt_3years)\n",
    "plt.title(\"수도권/비수도권 거래량 비교\")\n",
    "plt.xlabel('수도권/비수도권')\n",
    "plt.ylabel('거래량')\n",
    "plt.show()"
   ]
  },
  {
   "cell_type": "markdown",
   "metadata": {},
   "source": [
    "수도권과 비수도권의 거래량이 비슷하다. 심지어 수도권의 거래량이 조금 더 많았다. 전국에 17개의 시,도가 있고 그 중의 3개(서울특별시, 경기도, 인천광역시)만이 수도권이고, 나머지 14개의 시,도가 비수도권임을 감안하면 수도권의 평균 거래량이 월등히 높다고 볼 수 있다."
   ]
  },
  {
   "cell_type": "code",
   "execution_count": 61,
   "metadata": {},
   "outputs": [],
   "source": [
    "#수도권/비수도권 면적당 거래금액 비교\n",
    "apt_3years[\"면적당거래금액\"] = apt_3years[\"거래금액(만원)\"] / apt_3years[\"전용면적(㎡)\"] \n",
    "apt_cap_3y[\"면적당거래금액\"] = apt_cap_3y[\"거래금액(만원)\"] / apt_cap_3y[\"전용면적(㎡)\"]\n",
    "apt_notcap_3y[\"면적당거래금액\"] = apt_notcap_3y[\"거래금액(만원)\"] / apt_notcap_3y[\"전용면적(㎡)\"]"
   ]
  },
  {
   "cell_type": "code",
   "execution_count": 62,
   "metadata": {},
   "outputs": [
    {
     "data": {
      "text/plain": [
       "Text(0.5, 0, '면적당 거래금액(만원)')"
      ]
     },
     "execution_count": 62,
     "metadata": {},
     "output_type": "execute_result"
    },
    {
     "data": {
      "image/png": "[encoded data removed]",
      "text/plain": [
       "<Figure size 432x288 with 1 Axes>"
      ]
     },
     "metadata": {
      "needs_background": "light"
     },
     "output_type": "display_data"
    }
   ],
   "source": [
    "sns.distplot(apt_cap_3y[\"면적당거래금액\"],color=\"red\",label=\"수도권\")\n",
    "sns.distplot(apt_notcap_3y[\"면적당거래금액\"],color=\"green\",label=\"비수도권\")\n",
    "plt.title(\"수도권/비수도권의 면적당 거래금액 분포\")\n",
    "plt.legend()\n",
    "plt.xlabel('면적당 거래금액(만원)')"
   ]
  },
  {
   "cell_type": "code",
   "execution_count": 63,
   "metadata": {},
   "outputs": [
    {
     "data": {
      "image/png": "[encoded data removed]",
      "text/plain": [
       "<Figure size 432x288 with 1 Axes>"
      ]
     },
     "metadata": {
      "needs_background": "light"
     },
     "output_type": "display_data"
    }
   ],
   "source": [
    "#수도권/비수도권의 면적당 평균 거래금액 비교\n",
    "sns.barplot(x=\"is_cap\", y=\"면적당거래금액\", data=apt_3years)\n",
    "plt.title(\"수도권/비수도권 면적당 평균 거래금액 비교\")\n",
    "plt.xlabel('수도권/비수도권')\n",
    "plt.ylabel('면적당 거래금액(만원)')\n",
    "plt.show()"
   ]
  },
  {
   "cell_type": "markdown",
   "metadata": {},
   "source": [
    "수도권의 면적당 거래금액 평균이 비수도권보다 약 2배 이상 높다."
   ]
  },
  {
   "cell_type": "code",
   "execution_count": 64,
   "metadata": {},
   "outputs": [
    {
     "data": {
      "text/html": [
       "<div>\n",
       "<style scoped>\n",
       "    .dataframe tbody tr th:only-of-type {\n",
       "        vertical-align: middle;\n",
       "    }\n",
       "\n",
       "    .dataframe tbody tr th {\n",
       "        vertical-align: top;\n",
       "    }\n",
       "\n",
       "    .dataframe thead th {\n",
       "        text-align: right;\n",
       "    }\n",
       "</style>\n",
       "<table border=\"1\" class=\"dataframe\">\n",
       "  <thead>\n",
       "    <tr style=\"text-align: right;\">\n",
       "      <th></th>\n",
       "      <th>시군구</th>\n",
       "      <th>번지</th>\n",
       "      <th>본번</th>\n",
       "      <th>부번</th>\n",
       "      <th>단지명</th>\n",
       "      <th>전용면적(㎡)</th>\n",
       "      <th>계약년월</th>\n",
       "      <th>계약일</th>\n",
       "      <th>거래금액(만원)</th>\n",
       "      <th>층</th>\n",
       "      <th>...</th>\n",
       "      <th>도로명</th>\n",
       "      <th>도</th>\n",
       "      <th>시/구</th>\n",
       "      <th>동</th>\n",
       "      <th>계약년월1</th>\n",
       "      <th>계약연도</th>\n",
       "      <th>계약월</th>\n",
       "      <th>시도별거래량</th>\n",
       "      <th>floor_group</th>\n",
       "      <th>면적당거래금액</th>\n",
       "    </tr>\n",
       "  </thead>\n",
       "  <tbody>\n",
       "    <tr>\n",
       "      <th>42841</th>\n",
       "      <td>인천광역시 부평구 청천동</td>\n",
       "      <td>259-5</td>\n",
       "      <td>259</td>\n",
       "      <td>5</td>\n",
       "      <td>미도7</td>\n",
       "      <td>59.7000</td>\n",
       "      <td>201703</td>\n",
       "      <td>19</td>\n",
       "      <td>17000</td>\n",
       "      <td>2</td>\n",
       "      <td>...</td>\n",
       "      <td>원길로24번길 5</td>\n",
       "      <td>인천광역시</td>\n",
       "      <td>부평구</td>\n",
       "      <td>청천동</td>\n",
       "      <td>201703</td>\n",
       "      <td>2017</td>\n",
       "      <td>03</td>\n",
       "      <td>36600</td>\n",
       "      <td>1~5층</td>\n",
       "      <td>284.757119</td>\n",
       "    </tr>\n",
       "    <tr>\n",
       "      <th>42841</th>\n",
       "      <td>서울특별시 성북구 보문동6가</td>\n",
       "      <td>458</td>\n",
       "      <td>458</td>\n",
       "      <td>0</td>\n",
       "      <td>보문파크뷰자이</td>\n",
       "      <td>29.9600</td>\n",
       "      <td>201705</td>\n",
       "      <td>25</td>\n",
       "      <td>13472</td>\n",
       "      <td>8</td>\n",
       "      <td>...</td>\n",
       "      <td>보문사길 111</td>\n",
       "      <td>서울특별시</td>\n",
       "      <td>성북구</td>\n",
       "      <td>보문동6가</td>\n",
       "      <td>201705</td>\n",
       "      <td>2017</td>\n",
       "      <td>05</td>\n",
       "      <td>105076</td>\n",
       "      <td>6~10층</td>\n",
       "      <td>449.666222</td>\n",
       "    </tr>\n",
       "    <tr>\n",
       "      <th>42841</th>\n",
       "      <td>서울특별시 동대문구 전농동</td>\n",
       "      <td>690</td>\n",
       "      <td>690</td>\n",
       "      <td>0</td>\n",
       "      <td>래미안 크레시티</td>\n",
       "      <td>84.9600</td>\n",
       "      <td>201706</td>\n",
       "      <td>17</td>\n",
       "      <td>67000</td>\n",
       "      <td>12</td>\n",
       "      <td>...</td>\n",
       "      <td>사가정로 65</td>\n",
       "      <td>서울특별시</td>\n",
       "      <td>동대문구</td>\n",
       "      <td>전농동</td>\n",
       "      <td>201706</td>\n",
       "      <td>2017</td>\n",
       "      <td>06</td>\n",
       "      <td>105076</td>\n",
       "      <td>11~15층</td>\n",
       "      <td>788.606403</td>\n",
       "    </tr>\n",
       "    <tr>\n",
       "      <th>42841</th>\n",
       "      <td>서울특별시 동대문구 휘경동</td>\n",
       "      <td>109</td>\n",
       "      <td>109</td>\n",
       "      <td>0</td>\n",
       "      <td>롯데낙천대</td>\n",
       "      <td>82.8200</td>\n",
       "      <td>201707</td>\n",
       "      <td>29</td>\n",
       "      <td>39100</td>\n",
       "      <td>19</td>\n",
       "      <td>...</td>\n",
       "      <td>외대역동로1길 24</td>\n",
       "      <td>서울특별시</td>\n",
       "      <td>동대문구</td>\n",
       "      <td>휘경동</td>\n",
       "      <td>201707</td>\n",
       "      <td>2017</td>\n",
       "      <td>07</td>\n",
       "      <td>105076</td>\n",
       "      <td>16~20층</td>\n",
       "      <td>472.108186</td>\n",
       "    </tr>\n",
       "    <tr>\n",
       "      <th>42841</th>\n",
       "      <td>인천광역시 남동구 만수동</td>\n",
       "      <td>1115-1</td>\n",
       "      <td>1115</td>\n",
       "      <td>1</td>\n",
       "      <td>향촌휴먼시아</td>\n",
       "      <td>59.6800</td>\n",
       "      <td>201801</td>\n",
       "      <td>13</td>\n",
       "      <td>26400</td>\n",
       "      <td>1</td>\n",
       "      <td>...</td>\n",
       "      <td>만수서로 55</td>\n",
       "      <td>인천광역시</td>\n",
       "      <td>남동구</td>\n",
       "      <td>만수동</td>\n",
       "      <td>201801</td>\n",
       "      <td>2018</td>\n",
       "      <td>01</td>\n",
       "      <td>30384</td>\n",
       "      <td>1~5층</td>\n",
       "      <td>442.359249</td>\n",
       "    </tr>\n",
       "    <tr>\n",
       "      <th>42841</th>\n",
       "      <td>서울특별시 중랑구 신내동</td>\n",
       "      <td>397</td>\n",
       "      <td>397</td>\n",
       "      <td>0</td>\n",
       "      <td>동성1</td>\n",
       "      <td>65.5600</td>\n",
       "      <td>201803</td>\n",
       "      <td>13</td>\n",
       "      <td>30800</td>\n",
       "      <td>13</td>\n",
       "      <td>...</td>\n",
       "      <td>신내로 128</td>\n",
       "      <td>서울특별시</td>\n",
       "      <td>중랑구</td>\n",
       "      <td>신내동</td>\n",
       "      <td>201803</td>\n",
       "      <td>2018</td>\n",
       "      <td>03</td>\n",
       "      <td>81388</td>\n",
       "      <td>11~15층</td>\n",
       "      <td>469.798658</td>\n",
       "    </tr>\n",
       "    <tr>\n",
       "      <th>42841</th>\n",
       "      <td>서울특별시 성동구 금호동4가</td>\n",
       "      <td>235</td>\n",
       "      <td>235</td>\n",
       "      <td>0</td>\n",
       "      <td>서울숲푸르지오2차</td>\n",
       "      <td>59.8620</td>\n",
       "      <td>201808</td>\n",
       "      <td>15</td>\n",
       "      <td>95500</td>\n",
       "      <td>12</td>\n",
       "      <td>...</td>\n",
       "      <td>금호로 17</td>\n",
       "      <td>서울특별시</td>\n",
       "      <td>성동구</td>\n",
       "      <td>금호동4가</td>\n",
       "      <td>201808</td>\n",
       "      <td>2018</td>\n",
       "      <td>08</td>\n",
       "      <td>81388</td>\n",
       "      <td>11~15층</td>\n",
       "      <td>1595.335939</td>\n",
       "    </tr>\n",
       "    <tr>\n",
       "      <th>42841</th>\n",
       "      <td>인천광역시 남동구 구월동</td>\n",
       "      <td>23</td>\n",
       "      <td>23</td>\n",
       "      <td>0</td>\n",
       "      <td>구월힐스테이트1단지</td>\n",
       "      <td>83.7769</td>\n",
       "      <td>201809</td>\n",
       "      <td>7</td>\n",
       "      <td>35000</td>\n",
       "      <td>5</td>\n",
       "      <td>...</td>\n",
       "      <td>구월로 192</td>\n",
       "      <td>인천광역시</td>\n",
       "      <td>남동구</td>\n",
       "      <td>구월동</td>\n",
       "      <td>201809</td>\n",
       "      <td>2018</td>\n",
       "      <td>09</td>\n",
       "      <td>30384</td>\n",
       "      <td>1~5층</td>\n",
       "      <td>417.776261</td>\n",
       "    </tr>\n",
       "    <tr>\n",
       "      <th>42841</th>\n",
       "      <td>서울특별시 노원구 상계동</td>\n",
       "      <td>1276</td>\n",
       "      <td>1276</td>\n",
       "      <td>0</td>\n",
       "      <td>청암2단지</td>\n",
       "      <td>49.7700</td>\n",
       "      <td>201910</td>\n",
       "      <td>14</td>\n",
       "      <td>31500</td>\n",
       "      <td>11</td>\n",
       "      <td>...</td>\n",
       "      <td>덕릉로94가길 20</td>\n",
       "      <td>서울특별시</td>\n",
       "      <td>노원구</td>\n",
       "      <td>상계동</td>\n",
       "      <td>201910</td>\n",
       "      <td>2019</td>\n",
       "      <td>10</td>\n",
       "      <td>74903</td>\n",
       "      <td>11~15층</td>\n",
       "      <td>632.911392</td>\n",
       "    </tr>\n",
       "    <tr>\n",
       "      <th>42841</th>\n",
       "      <td>서울특별시 강남구 개포동</td>\n",
       "      <td>141</td>\n",
       "      <td>141</td>\n",
       "      <td>0</td>\n",
       "      <td>개포주공 1단지</td>\n",
       "      <td>35.8700</td>\n",
       "      <td>201912</td>\n",
       "      <td>21</td>\n",
       "      <td>250000</td>\n",
       "      <td>5</td>\n",
       "      <td>...</td>\n",
       "      <td>개포로 310</td>\n",
       "      <td>서울특별시</td>\n",
       "      <td>강남구</td>\n",
       "      <td>개포동</td>\n",
       "      <td>201912</td>\n",
       "      <td>2019</td>\n",
       "      <td>12</td>\n",
       "      <td>74903</td>\n",
       "      <td>1~5층</td>\n",
       "      <td>6969.612490</td>\n",
       "    </tr>\n",
       "  </tbody>\n",
       "</table>\n",
       "<p>10 rows × 21 columns</p>\n",
       "</div>"
      ],
      "text/plain": [
       "                   시군구      번지    본번  부번         단지명  전용면적(㎡)    계약년월  계약일  \\\n",
       "42841    인천광역시 부평구 청천동   259-5   259   5         미도7  59.7000  201703   19   \n",
       "42841  서울특별시 성북구 보문동6가     458   458   0     보문파크뷰자이  29.9600  201705   25   \n",
       "42841   서울특별시 동대문구 전농동     690   690   0    래미안 크레시티  84.9600  201706   17   \n",
       "42841   서울특별시 동대문구 휘경동     109   109   0       롯데낙천대  82.8200  201707   29   \n",
       "42841    인천광역시 남동구 만수동  1115-1  1115   1      향촌휴먼시아  59.6800  201801   13   \n",
       "42841    서울특별시 중랑구 신내동     397   397   0         동성1  65.5600  201803   13   \n",
       "42841  서울특별시 성동구 금호동4가     235   235   0   서울숲푸르지오2차  59.8620  201808   15   \n",
       "42841    인천광역시 남동구 구월동      23    23   0  구월힐스테이트1단지  83.7769  201809    7   \n",
       "42841    서울특별시 노원구 상계동    1276  1276   0       청암2단지  49.7700  201910   14   \n",
       "42841    서울특별시 강남구 개포동     141   141   0    개포주공 1단지  35.8700  201912   21   \n",
       "\n",
       "       거래금액(만원)   층  ...         도로명      도   시/구      동   계약년월1  계약연도 계약월  \\\n",
       "42841     17000   2  ...   원길로24번길 5  인천광역시   부평구    청천동  201703  2017  03   \n",
       "42841     13472   8  ...    보문사길 111  서울특별시   성북구  보문동6가  201705  2017  05   \n",
       "42841     67000  12  ...     사가정로 65  서울특별시  동대문구    전농동  201706  2017  06   \n",
       "42841     39100  19  ...  외대역동로1길 24  서울특별시  동대문구    휘경동  201707  2017  07   \n",
       "42841     26400   1  ...     만수서로 55  인천광역시   남동구    만수동  201801  2018  01   \n",
       "42841     30800  13  ...     신내로 128  서울특별시   중랑구    신내동  201803  2018  03   \n",
       "42841     95500  12  ...      금호로 17  서울특별시   성동구  금호동4가  201808  2018  08   \n",
       "42841     35000   5  ...     구월로 192  인천광역시   남동구    구월동  201809  2018  09   \n",
       "42841     31500  11  ...  덕릉로94가길 20  서울특별시   노원구    상계동  201910  2019  10   \n",
       "42841    250000   5  ...     개포로 310  서울특별시   강남구    개포동  201912  2019  12   \n",
       "\n",
       "       시도별거래량  floor_group      면적당거래금액  \n",
       "42841   36600         1~5층   284.757119  \n",
       "42841  105076        6~10층   449.666222  \n",
       "42841  105076       11~15층   788.606403  \n",
       "42841  105076       16~20층   472.108186  \n",
       "42841   30384         1~5층   442.359249  \n",
       "42841   81388       11~15층   469.798658  \n",
       "42841   81388       11~15층  1595.335939  \n",
       "42841   30384         1~5층   417.776261  \n",
       "42841   74903       11~15층   632.911392  \n",
       "42841   74903         1~5층  6969.612490  \n",
       "\n",
       "[10 rows x 21 columns]"
      ]
     },
     "execution_count": 64,
     "metadata": {},
     "output_type": "execute_result"
    }
   ],
   "source": [
    "#수도권에서 가장 면적당 거래금액이 높은 매물 찾기\n",
    "apt_cap_3y.loc[apt_cap_3y['면적당거래금액'].idxmax()]"
   ]
  },
  {
   "cell_type": "markdown",
   "metadata": {},
   "source": [
    "수도권에서 면적당 거래금액이 가장 높은 매물은 서울특별시 강남구 개포동에 위치한 개포주공 1단지였다. 약 10평에 거래금액이 25억정도로, 면적당 거래금액이 6969만원이었다."
   ]
  },
  {
   "cell_type": "code",
   "execution_count": 65,
   "metadata": {},
   "outputs": [
    {
     "data": {
      "text/html": [
       "<div>\n",
       "<style scoped>\n",
       "    .dataframe tbody tr th:only-of-type {\n",
       "        vertical-align: middle;\n",
       "    }\n",
       "\n",
       "    .dataframe tbody tr th {\n",
       "        vertical-align: top;\n",
       "    }\n",
       "\n",
       "    .dataframe thead th {\n",
       "        text-align: right;\n",
       "    }\n",
       "</style>\n",
       "<table border=\"1\" class=\"dataframe\">\n",
       "  <thead>\n",
       "    <tr style=\"text-align: right;\">\n",
       "      <th></th>\n",
       "      <th>시군구</th>\n",
       "      <th>번지</th>\n",
       "      <th>본번</th>\n",
       "      <th>부번</th>\n",
       "      <th>단지명</th>\n",
       "      <th>전용면적(㎡)</th>\n",
       "      <th>계약년월</th>\n",
       "      <th>계약일</th>\n",
       "      <th>거래금액(만원)</th>\n",
       "      <th>층</th>\n",
       "      <th>...</th>\n",
       "      <th>도로명</th>\n",
       "      <th>도</th>\n",
       "      <th>시/구</th>\n",
       "      <th>동</th>\n",
       "      <th>계약년월1</th>\n",
       "      <th>계약연도</th>\n",
       "      <th>계약월</th>\n",
       "      <th>시도별거래량</th>\n",
       "      <th>floor_group</th>\n",
       "      <th>면적당거래금액</th>\n",
       "    </tr>\n",
       "  </thead>\n",
       "  <tbody>\n",
       "    <tr>\n",
       "      <th>33300</th>\n",
       "      <td>부산광역시 동래구 온천동</td>\n",
       "      <td>1412-1</td>\n",
       "      <td>1412</td>\n",
       "      <td>1</td>\n",
       "      <td>반도보라스카이뷰</td>\n",
       "      <td>101.4053</td>\n",
       "      <td>201706</td>\n",
       "      <td>24</td>\n",
       "      <td>49800</td>\n",
       "      <td>39</td>\n",
       "      <td>...</td>\n",
       "      <td>아시아드대로 234</td>\n",
       "      <td>부산광역시</td>\n",
       "      <td>동래구</td>\n",
       "      <td>온천동</td>\n",
       "      <td>201706</td>\n",
       "      <td>2017</td>\n",
       "      <td>06</td>\n",
       "      <td>37938</td>\n",
       "      <td>31층 이상</td>\n",
       "      <td>491.098591</td>\n",
       "    </tr>\n",
       "    <tr>\n",
       "      <th>33300</th>\n",
       "      <td>부산광역시 북구 덕천동</td>\n",
       "      <td>357-1</td>\n",
       "      <td>357</td>\n",
       "      <td>1</td>\n",
       "      <td>덕천시영</td>\n",
       "      <td>40.0700</td>\n",
       "      <td>201707</td>\n",
       "      <td>18</td>\n",
       "      <td>16500</td>\n",
       "      <td>5</td>\n",
       "      <td>...</td>\n",
       "      <td>의성로95번길 105</td>\n",
       "      <td>부산광역시</td>\n",
       "      <td>북구</td>\n",
       "      <td>덕천동</td>\n",
       "      <td>201707</td>\n",
       "      <td>2017</td>\n",
       "      <td>07</td>\n",
       "      <td>37938</td>\n",
       "      <td>1~5층</td>\n",
       "      <td>411.779386</td>\n",
       "    </tr>\n",
       "    <tr>\n",
       "      <th>33300</th>\n",
       "      <td>부산광역시 해운대구 우동</td>\n",
       "      <td>1407</td>\n",
       "      <td>1407</td>\n",
       "      <td>0</td>\n",
       "      <td>해운대두산위브더제니스</td>\n",
       "      <td>222.5998</td>\n",
       "      <td>201803</td>\n",
       "      <td>12</td>\n",
       "      <td>414340</td>\n",
       "      <td>68</td>\n",
       "      <td>...</td>\n",
       "      <td>마린시티2로 33</td>\n",
       "      <td>부산광역시</td>\n",
       "      <td>해운대구</td>\n",
       "      <td>우동</td>\n",
       "      <td>201803</td>\n",
       "      <td>2018</td>\n",
       "      <td>03</td>\n",
       "      <td>25843</td>\n",
       "      <td>31층 이상</td>\n",
       "      <td>1861.367351</td>\n",
       "    </tr>\n",
       "    <tr>\n",
       "      <th>33300</th>\n",
       "      <td>충청남도 서산시 예천동</td>\n",
       "      <td>1270-1</td>\n",
       "      <td>1270</td>\n",
       "      <td>1</td>\n",
       "      <td>서산 예천 푸르지오</td>\n",
       "      <td>73.1370</td>\n",
       "      <td>201804</td>\n",
       "      <td>27</td>\n",
       "      <td>26500</td>\n",
       "      <td>19</td>\n",
       "      <td>...</td>\n",
       "      <td>호수공원11로 11</td>\n",
       "      <td>충청남도</td>\n",
       "      <td>서산시</td>\n",
       "      <td>예천동</td>\n",
       "      <td>201804</td>\n",
       "      <td>2018</td>\n",
       "      <td>04</td>\n",
       "      <td>18927</td>\n",
       "      <td>16~20층</td>\n",
       "      <td>362.333703</td>\n",
       "    </tr>\n",
       "    <tr>\n",
       "      <th>33300</th>\n",
       "      <td>전라북도 전주덕진구 인후동1가</td>\n",
       "      <td>918-1</td>\n",
       "      <td>918</td>\n",
       "      <td>1</td>\n",
       "      <td>아중마을부영(6차)</td>\n",
       "      <td>84.8246</td>\n",
       "      <td>201805</td>\n",
       "      <td>29</td>\n",
       "      <td>19000</td>\n",
       "      <td>9</td>\n",
       "      <td>...</td>\n",
       "      <td>무삼지로 10</td>\n",
       "      <td>전라북도</td>\n",
       "      <td>전주덕진구</td>\n",
       "      <td>인후동1가</td>\n",
       "      <td>201805</td>\n",
       "      <td>2018</td>\n",
       "      <td>05</td>\n",
       "      <td>17861</td>\n",
       "      <td>6~10층</td>\n",
       "      <td>223.991625</td>\n",
       "    </tr>\n",
       "    <tr>\n",
       "      <th>33300</th>\n",
       "      <td>전라남도 여수시 화장동</td>\n",
       "      <td>740</td>\n",
       "      <td>740</td>\n",
       "      <td>0</td>\n",
       "      <td>무선주공2차</td>\n",
       "      <td>58.1400</td>\n",
       "      <td>201806</td>\n",
       "      <td>24</td>\n",
       "      <td>8850</td>\n",
       "      <td>3</td>\n",
       "      <td>...</td>\n",
       "      <td>무선2길 39</td>\n",
       "      <td>전라남도</td>\n",
       "      <td>여수시</td>\n",
       "      <td>화장동</td>\n",
       "      <td>201806</td>\n",
       "      <td>2018</td>\n",
       "      <td>06</td>\n",
       "      <td>17093</td>\n",
       "      <td>1~5층</td>\n",
       "      <td>152.218782</td>\n",
       "    </tr>\n",
       "    <tr>\n",
       "      <th>33300</th>\n",
       "      <td>전라북도 전주덕진구 반월동</td>\n",
       "      <td>422-1</td>\n",
       "      <td>422</td>\n",
       "      <td>1</td>\n",
       "      <td>대창하이빌타운</td>\n",
       "      <td>28.7100</td>\n",
       "      <td>201807</td>\n",
       "      <td>17</td>\n",
       "      <td>3150</td>\n",
       "      <td>1</td>\n",
       "      <td>...</td>\n",
       "      <td>반월4길 15</td>\n",
       "      <td>전라북도</td>\n",
       "      <td>전주덕진구</td>\n",
       "      <td>반월동</td>\n",
       "      <td>201807</td>\n",
       "      <td>2018</td>\n",
       "      <td>07</td>\n",
       "      <td>17861</td>\n",
       "      <td>1~5층</td>\n",
       "      <td>109.717868</td>\n",
       "    </tr>\n",
       "    <tr>\n",
       "      <th>33300</th>\n",
       "      <td>부산광역시 북구 화명동</td>\n",
       "      <td>2324</td>\n",
       "      <td>2324</td>\n",
       "      <td>0</td>\n",
       "      <td>화명롯데캐슬카이저</td>\n",
       "      <td>131.7800</td>\n",
       "      <td>201809</td>\n",
       "      <td>10</td>\n",
       "      <td>58000</td>\n",
       "      <td>24</td>\n",
       "      <td>...</td>\n",
       "      <td>금곡대로 166</td>\n",
       "      <td>부산광역시</td>\n",
       "      <td>북구</td>\n",
       "      <td>화명동</td>\n",
       "      <td>201809</td>\n",
       "      <td>2018</td>\n",
       "      <td>09</td>\n",
       "      <td>25843</td>\n",
       "      <td>21~25층</td>\n",
       "      <td>440.127485</td>\n",
       "    </tr>\n",
       "    <tr>\n",
       "      <th>33300</th>\n",
       "      <td>울산광역시 남구 신정동</td>\n",
       "      <td>318</td>\n",
       "      <td>318</td>\n",
       "      <td>0</td>\n",
       "      <td>울산신정푸르지오</td>\n",
       "      <td>71.1160</td>\n",
       "      <td>201810</td>\n",
       "      <td>19</td>\n",
       "      <td>34000</td>\n",
       "      <td>5</td>\n",
       "      <td>...</td>\n",
       "      <td>팔등로 85</td>\n",
       "      <td>울산광역시</td>\n",
       "      <td>남구</td>\n",
       "      <td>신정동</td>\n",
       "      <td>201810</td>\n",
       "      <td>2018</td>\n",
       "      <td>10</td>\n",
       "      <td>8148</td>\n",
       "      <td>1~5층</td>\n",
       "      <td>478.092131</td>\n",
       "    </tr>\n",
       "    <tr>\n",
       "      <th>33300</th>\n",
       "      <td>충청북도 충주시 연수동</td>\n",
       "      <td>930</td>\n",
       "      <td>930</td>\n",
       "      <td>0</td>\n",
       "      <td>세원</td>\n",
       "      <td>59.5200</td>\n",
       "      <td>201903</td>\n",
       "      <td>1</td>\n",
       "      <td>5900</td>\n",
       "      <td>6</td>\n",
       "      <td>...</td>\n",
       "      <td>번영대로 120</td>\n",
       "      <td>충청북도</td>\n",
       "      <td>충주시</td>\n",
       "      <td>연수동</td>\n",
       "      <td>201903</td>\n",
       "      <td>2019</td>\n",
       "      <td>03</td>\n",
       "      <td>17151</td>\n",
       "      <td>6~10층</td>\n",
       "      <td>99.126344</td>\n",
       "    </tr>\n",
       "    <tr>\n",
       "      <th>33300</th>\n",
       "      <td>충청남도 천안동남구 청당동</td>\n",
       "      <td>458</td>\n",
       "      <td>458</td>\n",
       "      <td>0</td>\n",
       "      <td>한양수자인</td>\n",
       "      <td>84.9710</td>\n",
       "      <td>201905</td>\n",
       "      <td>4</td>\n",
       "      <td>27500</td>\n",
       "      <td>17</td>\n",
       "      <td>...</td>\n",
       "      <td>청수4로 11</td>\n",
       "      <td>충청남도</td>\n",
       "      <td>천안동남구</td>\n",
       "      <td>청당동</td>\n",
       "      <td>201905</td>\n",
       "      <td>2019</td>\n",
       "      <td>05</td>\n",
       "      <td>24940</td>\n",
       "      <td>16~20층</td>\n",
       "      <td>323.639830</td>\n",
       "    </tr>\n",
       "    <tr>\n",
       "      <th>33300</th>\n",
       "      <td>전라남도 광양시 중동</td>\n",
       "      <td>1912</td>\n",
       "      <td>1912</td>\n",
       "      <td>0</td>\n",
       "      <td>광양중마2차진아리채</td>\n",
       "      <td>84.9932</td>\n",
       "      <td>201906</td>\n",
       "      <td>28</td>\n",
       "      <td>25500</td>\n",
       "      <td>16</td>\n",
       "      <td>...</td>\n",
       "      <td>중마1길 21</td>\n",
       "      <td>전라남도</td>\n",
       "      <td>광양시</td>\n",
       "      <td>중동</td>\n",
       "      <td>201906</td>\n",
       "      <td>2019</td>\n",
       "      <td>06</td>\n",
       "      <td>16588</td>\n",
       "      <td>16~20층</td>\n",
       "      <td>300.024002</td>\n",
       "    </tr>\n",
       "    <tr>\n",
       "      <th>33300</th>\n",
       "      <td>대전광역시 유성구 관평동</td>\n",
       "      <td>666</td>\n",
       "      <td>666</td>\n",
       "      <td>0</td>\n",
       "      <td>쌍용스윗닷홈</td>\n",
       "      <td>84.9900</td>\n",
       "      <td>201910</td>\n",
       "      <td>19</td>\n",
       "      <td>33500</td>\n",
       "      <td>8</td>\n",
       "      <td>...</td>\n",
       "      <td>배울1로 35</td>\n",
       "      <td>대전광역시</td>\n",
       "      <td>유성구</td>\n",
       "      <td>관평동</td>\n",
       "      <td>201910</td>\n",
       "      <td>2019</td>\n",
       "      <td>10</td>\n",
       "      <td>27396</td>\n",
       "      <td>6~10층</td>\n",
       "      <td>394.164019</td>\n",
       "    </tr>\n",
       "    <tr>\n",
       "      <th>33300</th>\n",
       "      <td>대구광역시 동구 동호동</td>\n",
       "      <td>362</td>\n",
       "      <td>362</td>\n",
       "      <td>0</td>\n",
       "      <td>상록아파트</td>\n",
       "      <td>84.9800</td>\n",
       "      <td>201911</td>\n",
       "      <td>9</td>\n",
       "      <td>24900</td>\n",
       "      <td>9</td>\n",
       "      <td>...</td>\n",
       "      <td>동호로 47</td>\n",
       "      <td>대구광역시</td>\n",
       "      <td>동구</td>\n",
       "      <td>동호동</td>\n",
       "      <td>201911</td>\n",
       "      <td>2019</td>\n",
       "      <td>11</td>\n",
       "      <td>30140</td>\n",
       "      <td>6~10층</td>\n",
       "      <td>293.010120</td>\n",
       "    </tr>\n",
       "    <tr>\n",
       "      <th>33300</th>\n",
       "      <td>대구광역시 북구 매천동</td>\n",
       "      <td>595</td>\n",
       "      <td>595</td>\n",
       "      <td>0</td>\n",
       "      <td>청구장미마을</td>\n",
       "      <td>59.9900</td>\n",
       "      <td>201912</td>\n",
       "      <td>1</td>\n",
       "      <td>11950</td>\n",
       "      <td>14</td>\n",
       "      <td>...</td>\n",
       "      <td>칠곡중앙대로 45</td>\n",
       "      <td>대구광역시</td>\n",
       "      <td>북구</td>\n",
       "      <td>매천동</td>\n",
       "      <td>201912</td>\n",
       "      <td>2019</td>\n",
       "      <td>12</td>\n",
       "      <td>30140</td>\n",
       "      <td>11~15층</td>\n",
       "      <td>199.199867</td>\n",
       "    </tr>\n",
       "  </tbody>\n",
       "</table>\n",
       "<p>15 rows × 21 columns</p>\n",
       "</div>"
      ],
      "text/plain": [
       "                    시군구      번지    본번  부번          단지명   전용면적(㎡)    계약년월  계약일  \\\n",
       "33300     부산광역시 동래구 온천동  1412-1  1412   1     반도보라스카이뷰  101.4053  201706   24   \n",
       "33300      부산광역시 북구 덕천동   357-1   357   1         덕천시영   40.0700  201707   18   \n",
       "33300     부산광역시 해운대구 우동    1407  1407   0  해운대두산위브더제니스  222.5998  201803   12   \n",
       "33300      충청남도 서산시 예천동  1270-1  1270   1   서산 예천 푸르지오   73.1370  201804   27   \n",
       "33300  전라북도 전주덕진구 인후동1가   918-1   918   1   아중마을부영(6차)   84.8246  201805   29   \n",
       "33300      전라남도 여수시 화장동     740   740   0       무선주공2차   58.1400  201806   24   \n",
       "33300    전라북도 전주덕진구 반월동   422-1   422   1      대창하이빌타운   28.7100  201807   17   \n",
       "33300      부산광역시 북구 화명동    2324  2324   0    화명롯데캐슬카이저  131.7800  201809   10   \n",
       "33300      울산광역시 남구 신정동     318   318   0     울산신정푸르지오   71.1160  201810   19   \n",
       "33300      충청북도 충주시 연수동     930   930   0           세원   59.5200  201903    1   \n",
       "33300    충청남도 천안동남구 청당동     458   458   0        한양수자인   84.9710  201905    4   \n",
       "33300       전라남도 광양시 중동    1912  1912   0   광양중마2차진아리채   84.9932  201906   28   \n",
       "33300     대전광역시 유성구 관평동     666   666   0       쌍용스윗닷홈   84.9900  201910   19   \n",
       "33300      대구광역시 동구 동호동     362   362   0        상록아파트   84.9800  201911    9   \n",
       "33300      대구광역시 북구 매천동     595   595   0       청구장미마을   59.9900  201912    1   \n",
       "\n",
       "       거래금액(만원)   층  ...          도로명      도    시/구      동   계약년월1  계약연도 계약월  \\\n",
       "33300     49800  39  ...   아시아드대로 234  부산광역시    동래구    온천동  201706  2017  06   \n",
       "33300     16500   5  ...  의성로95번길 105  부산광역시     북구    덕천동  201707  2017  07   \n",
       "33300    414340  68  ...    마린시티2로 33  부산광역시   해운대구     우동  201803  2018  03   \n",
       "33300     26500  19  ...   호수공원11로 11   충청남도    서산시    예천동  201804  2018  04   \n",
       "33300     19000   9  ...      무삼지로 10   전라북도  전주덕진구  인후동1가  201805  2018  05   \n",
       "33300      8850   3  ...      무선2길 39   전라남도    여수시    화장동  201806  2018  06   \n",
       "33300      3150   1  ...      반월4길 15   전라북도  전주덕진구    반월동  201807  2018  07   \n",
       "33300     58000  24  ...     금곡대로 166  부산광역시     북구    화명동  201809  2018  09   \n",
       "33300     34000   5  ...       팔등로 85  울산광역시     남구    신정동  201810  2018  10   \n",
       "33300      5900   6  ...     번영대로 120   충청북도    충주시    연수동  201903  2019  03   \n",
       "33300     27500  17  ...      청수4로 11   충청남도  천안동남구    청당동  201905  2019  05   \n",
       "33300     25500  16  ...      중마1길 21   전라남도    광양시     중동  201906  2019  06   \n",
       "33300     33500   8  ...      배울1로 35  대전광역시    유성구    관평동  201910  2019  10   \n",
       "33300     24900   9  ...       동호로 47  대구광역시     동구    동호동  201911  2019  11   \n",
       "33300     11950  14  ...    칠곡중앙대로 45  대구광역시     북구    매천동  201912  2019  12   \n",
       "\n",
       "      시도별거래량  floor_group      면적당거래금액  \n",
       "33300  37938       31층 이상   491.098591  \n",
       "33300  37938         1~5층   411.779386  \n",
       "33300  25843       31층 이상  1861.367351  \n",
       "33300  18927       16~20층   362.333703  \n",
       "33300  17861        6~10층   223.991625  \n",
       "33300  17093         1~5층   152.218782  \n",
       "33300  17861         1~5층   109.717868  \n",
       "33300  25843       21~25층   440.127485  \n",
       "33300   8148         1~5층   478.092131  \n",
       "33300  17151        6~10층    99.126344  \n",
       "33300  24940       16~20층   323.639830  \n",
       "33300  16588       16~20층   300.024002  \n",
       "33300  27396        6~10층   394.164019  \n",
       "33300  30140        6~10층   293.010120  \n",
       "33300  30140       11~15층   199.199867  \n",
       "\n",
       "[15 rows x 21 columns]"
      ]
     },
     "execution_count": 65,
     "metadata": {},
     "output_type": "execute_result"
    }
   ],
   "source": [
    "#비수도권에서 가장 면적당 거래금액이 높은 매물 찾기\n",
    "apt_notcap_3y.loc[apt_notcap_3y['면적당거래금액'].idxmax()]"
   ]
  },
  {
   "cell_type": "markdown",
   "metadata": {},
   "source": [
    "비수도권에서 면적당 거래금액이 가장 높은 매물은 부산광역시 해운대구 우동에 위치한 해운대두산위브더제니스였다. 약 67평에 거래금액이 41억 4천만원정도로, 면적당 거래금액이 1861만원이었다.\n",
    "수도권에서 면적당 거래금액이 가장 높은 매물이 비수도권의 매물보다 약 3배이상 높았다."
   ]
  },
  {
   "cell_type": "markdown",
   "metadata": {},
   "source": [
    "### (2) 서울 / 경기 지역간 비교"
   ]
  },
  {
   "cell_type": "code",
   "execution_count": 66,
   "metadata": {},
   "outputs": [],
   "source": [
    "#서울/경기 지역 데이터 추출\n",
    "apt_Gyeongi_3y = apt_3years[(apt_3years['도'] == '경기도')]\n",
    "apt_Seoul_3y = apt_3years[(apt_3years['도'] == '서울특별시')]\n",
    "apt_SG_3y = apt_3years[(apt_3years['도'] == '서울특별시') | (apt_3years['도'] == '경기도')]"
   ]
  },
  {
   "cell_type": "code",
   "execution_count": 67,
   "metadata": {},
   "outputs": [
    {
     "data": {
      "image/png": "[encoded data removed]",
      "text/plain": [
       "<Figure size 432x288 with 1 Axes>"
      ]
     },
     "metadata": {
      "needs_background": "light"
     },
     "output_type": "display_data"
    }
   ],
   "source": [
    "#서울/경기 지역 거래량 비교\n",
    "sns.countplot(x=\"도\", data=apt_SG_3y)\n",
    "plt.title(\"서울/경기지역의 거래량 비교\")\n",
    "plt.xticks(rotation = 0)\n",
    "plt.show()"
   ]
  },
  {
   "cell_type": "markdown",
   "metadata": {},
   "source": [
    "경기도가 서울특별시보다 거래량이 약 1.5배가량 많았다."
   ]
  },
  {
   "cell_type": "code",
   "execution_count": 68,
   "metadata": {},
   "outputs": [
    {
     "name": "stderr",
     "output_type": "stream",
     "text": [
      "C:\\ProgramData\\Anaconda3\\lib\\site-packages\\ipykernel_launcher.py:2: SettingWithCopyWarning: \n",
      "A value is trying to be set on a copy of a slice from a DataFrame.\n",
      "Try using .loc[row_indexer,col_indexer] = value instead\n",
      "\n",
      "See the caveats in the documentation: https://pandas.pydata.org/pandas-docs/stable/user_guide/indexing.html#returning-a-view-versus-a-copy\n",
      "  \n",
      "C:\\ProgramData\\Anaconda3\\lib\\site-packages\\ipykernel_launcher.py:3: SettingWithCopyWarning: \n",
      "A value is trying to be set on a copy of a slice from a DataFrame.\n",
      "Try using .loc[row_indexer,col_indexer] = value instead\n",
      "\n",
      "See the caveats in the documentation: https://pandas.pydata.org/pandas-docs/stable/user_guide/indexing.html#returning-a-view-versus-a-copy\n",
      "  This is separate from the ipykernel package so we can avoid doing imports until\n",
      "C:\\ProgramData\\Anaconda3\\lib\\site-packages\\ipykernel_launcher.py:4: SettingWithCopyWarning: \n",
      "A value is trying to be set on a copy of a slice from a DataFrame.\n",
      "Try using .loc[row_indexer,col_indexer] = value instead\n",
      "\n",
      "See the caveats in the documentation: https://pandas.pydata.org/pandas-docs/stable/user_guide/indexing.html#returning-a-view-versus-a-copy\n",
      "  after removing the cwd from sys.path.\n"
     ]
    }
   ],
   "source": [
    "#서울/경기 지역 거래금액 분포 비교\n",
    "apt_Gyeongi_3y[\"면적당거래금액\"] = apt_Gyeongi_3y[\"거래금액(만원)\"] / apt_Gyeongi_3y[\"전용면적(㎡)\"] \n",
    "apt_Seoul_3y[\"면적당거래금액\"] = apt_Seoul_3y[\"거래금액(만원)\"] / apt_Seoul_3y[\"전용면적(㎡)\"]\n",
    "apt_SG_3y[\"면적당거래금액\"] = apt_SG_3y[\"거래금액(만원)\"] / apt_SG_3y[\"전용면적(㎡)\"]"
   ]
  },
  {
   "cell_type": "code",
   "execution_count": 69,
   "metadata": {
    "scrolled": true
   },
   "outputs": [
    {
     "data": {
      "text/plain": [
       "Text(0.5, 0, '면적당 거래금액(만원)')"
      ]
     },
     "execution_count": 69,
     "metadata": {},
     "output_type": "execute_result"
    },
    {
     "data": {
      "image/png": "[encoded data removed]",
      "text/plain": [
       "<Figure size 432x288 with 1 Axes>"
      ]
     },
     "metadata": {
      "needs_background": "light"
     },
     "output_type": "display_data"
    }
   ],
   "source": [
    "sns.distplot(apt_Gyeongi_3y[\"면적당거래금액\"],color=\"skyblue\",label=\"경기\")\n",
    "sns.distplot(apt_Seoul_3y[\"면적당거래금액\"],color=\"orange\",label=\"서울\")\n",
    "plt.title(\"서울/경기의 면적당 거래금액 분포\")\n",
    "plt.legend()\n",
    "plt.xlabel('면적당 거래금액(만원)')"
   ]
  },
  {
   "cell_type": "markdown",
   "metadata": {},
   "source": [
    "대체로 서울지역의 면적당 거래금액이 경기지역보다 더 높은것으로 나타났다. 경기지역의 면적당거래금액의 최빈값은 약 500만원이었고, 서울지역의 면적당거래금액의 최빈값은 약 800만원이었다."
   ]
  }
 ],
 "metadata": {
  "kernelspec": {
   "display_name": "Python 3",
   "language": "python",
   "name": "python3"
  },
  "language_info": {
   "codemirror_mode": {
    "name": "ipython",
    "version": 3
   },
   "file_extension": ".py",
   "mimetype": "text/x-python",
   "name": "python",
   "nbconvert_exporter": "python",
   "pygments_lexer": "ipython3",
   "version": "3.7.6"
  }
 },
 "nbformat": 4,
 "nbformat_minor": 4
}
